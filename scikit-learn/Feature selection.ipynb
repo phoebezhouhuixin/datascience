{
 "cells": [
  {
   "cell_type": "markdown",
   "metadata": {},
   "source": [
    "# Feature selection"
   ]
  },
  {
   "cell_type": "markdown",
   "metadata": {},
   "source": [
    "## Using statistical tests to select features for building a linear regression model\n",
    "\n",
    "* Statistical tests can be used to select those features that have the strongest relationship with the output variable.\n",
    "* It can be seen as a preprocessing step to an estimator. "
   ]
  },
  {
   "cell_type": "code",
   "execution_count": 3,
   "metadata": {},
   "outputs": [],
   "source": [
    "import pandas as pd\n",
    "import pylab\n",
    "import matplotlib.pyplot as plt\n",
    "\n",
    "import statsmodels.api as sm\n",
    "\n",
    "from sklearn.linear_model import LinearRegression\n",
    "\n",
    "from sklearn.model_selection import train_test_split\n",
    "from sklearn.metrics import r2_score"
   ]
  },
  {
   "cell_type": "code",
   "execution_count": 4,
   "metadata": {},
   "outputs": [
    {
     "data": {
      "text/html": [
       "<div>\n",
       "<style scoped>\n",
       "    .dataframe tbody tr th:only-of-type {\n",
       "        vertical-align: middle;\n",
       "    }\n",
       "\n",
       "    .dataframe tbody tr th {\n",
       "        vertical-align: top;\n",
       "    }\n",
       "\n",
       "    .dataframe thead th {\n",
       "        text-align: right;\n",
       "    }\n",
       "</style>\n",
       "<table border=\"1\" class=\"dataframe\">\n",
       "  <thead>\n",
       "    <tr style=\"text-align: right;\">\n",
       "      <th></th>\n",
       "      <th>price</th>\n",
       "      <th>bedrooms</th>\n",
       "      <th>bathrooms</th>\n",
       "      <th>sqft_living</th>\n",
       "      <th>sqft_lot</th>\n",
       "      <th>floors</th>\n",
       "      <th>waterfront</th>\n",
       "      <th>view</th>\n",
       "      <th>condition</th>\n",
       "      <th>grade</th>\n",
       "      <th>sqft_above</th>\n",
       "      <th>sqft_basement</th>\n",
       "      <th>lat</th>\n",
       "      <th>long</th>\n",
       "      <th>sqft_living15</th>\n",
       "      <th>sqft_lot15</th>\n",
       "      <th>age</th>\n",
       "      <th>renovated</th>\n",
       "    </tr>\n",
       "  </thead>\n",
       "  <tbody>\n",
       "    <tr>\n",
       "      <th>0</th>\n",
       "      <td>221900.0</td>\n",
       "      <td>3.0</td>\n",
       "      <td>1.00</td>\n",
       "      <td>1180.0</td>\n",
       "      <td>5650.0</td>\n",
       "      <td>1.0</td>\n",
       "      <td>0.0</td>\n",
       "      <td>0.0</td>\n",
       "      <td>3.0</td>\n",
       "      <td>7.0</td>\n",
       "      <td>1180.0</td>\n",
       "      <td>0.0</td>\n",
       "      <td>47.5112</td>\n",
       "      <td>-122.257</td>\n",
       "      <td>1340.0</td>\n",
       "      <td>5650.0</td>\n",
       "      <td>63.0</td>\n",
       "      <td>0.0</td>\n",
       "    </tr>\n",
       "    <tr>\n",
       "      <th>1</th>\n",
       "      <td>538000.0</td>\n",
       "      <td>3.0</td>\n",
       "      <td>2.25</td>\n",
       "      <td>2570.0</td>\n",
       "      <td>7242.0</td>\n",
       "      <td>2.0</td>\n",
       "      <td>0.0</td>\n",
       "      <td>0.0</td>\n",
       "      <td>3.0</td>\n",
       "      <td>7.0</td>\n",
       "      <td>2170.0</td>\n",
       "      <td>400.0</td>\n",
       "      <td>47.7210</td>\n",
       "      <td>-122.319</td>\n",
       "      <td>1690.0</td>\n",
       "      <td>7639.0</td>\n",
       "      <td>67.0</td>\n",
       "      <td>1.0</td>\n",
       "    </tr>\n",
       "    <tr>\n",
       "      <th>2</th>\n",
       "      <td>180000.0</td>\n",
       "      <td>2.0</td>\n",
       "      <td>1.00</td>\n",
       "      <td>770.0</td>\n",
       "      <td>10000.0</td>\n",
       "      <td>1.0</td>\n",
       "      <td>0.0</td>\n",
       "      <td>0.0</td>\n",
       "      <td>3.0</td>\n",
       "      <td>6.0</td>\n",
       "      <td>770.0</td>\n",
       "      <td>0.0</td>\n",
       "      <td>47.7379</td>\n",
       "      <td>-122.233</td>\n",
       "      <td>2720.0</td>\n",
       "      <td>8062.0</td>\n",
       "      <td>85.0</td>\n",
       "      <td>0.0</td>\n",
       "    </tr>\n",
       "    <tr>\n",
       "      <th>3</th>\n",
       "      <td>604000.0</td>\n",
       "      <td>4.0</td>\n",
       "      <td>3.00</td>\n",
       "      <td>1960.0</td>\n",
       "      <td>5000.0</td>\n",
       "      <td>1.0</td>\n",
       "      <td>0.0</td>\n",
       "      <td>0.0</td>\n",
       "      <td>5.0</td>\n",
       "      <td>7.0</td>\n",
       "      <td>1050.0</td>\n",
       "      <td>910.0</td>\n",
       "      <td>47.5208</td>\n",
       "      <td>-122.393</td>\n",
       "      <td>1360.0</td>\n",
       "      <td>5000.0</td>\n",
       "      <td>53.0</td>\n",
       "      <td>0.0</td>\n",
       "    </tr>\n",
       "    <tr>\n",
       "      <th>4</th>\n",
       "      <td>510000.0</td>\n",
       "      <td>3.0</td>\n",
       "      <td>2.00</td>\n",
       "      <td>1680.0</td>\n",
       "      <td>8080.0</td>\n",
       "      <td>1.0</td>\n",
       "      <td>0.0</td>\n",
       "      <td>0.0</td>\n",
       "      <td>3.0</td>\n",
       "      <td>8.0</td>\n",
       "      <td>1680.0</td>\n",
       "      <td>0.0</td>\n",
       "      <td>47.6168</td>\n",
       "      <td>-122.045</td>\n",
       "      <td>1800.0</td>\n",
       "      <td>7503.0</td>\n",
       "      <td>31.0</td>\n",
       "      <td>0.0</td>\n",
       "    </tr>\n",
       "  </tbody>\n",
       "</table>\n",
       "</div>"
      ],
      "text/plain": [
       "      price  bedrooms  bathrooms  sqft_living  sqft_lot  floors  waterfront  \\\n",
       "0  221900.0       3.0       1.00       1180.0    5650.0     1.0         0.0   \n",
       "1  538000.0       3.0       2.25       2570.0    7242.0     2.0         0.0   \n",
       "2  180000.0       2.0       1.00        770.0   10000.0     1.0         0.0   \n",
       "3  604000.0       4.0       3.00       1960.0    5000.0     1.0         0.0   \n",
       "4  510000.0       3.0       2.00       1680.0    8080.0     1.0         0.0   \n",
       "\n",
       "   view  condition  grade  sqft_above  sqft_basement      lat     long  \\\n",
       "0   0.0        3.0    7.0      1180.0            0.0  47.5112 -122.257   \n",
       "1   0.0        3.0    7.0      2170.0          400.0  47.7210 -122.319   \n",
       "2   0.0        3.0    6.0       770.0            0.0  47.7379 -122.233   \n",
       "3   0.0        5.0    7.0      1050.0          910.0  47.5208 -122.393   \n",
       "4   0.0        3.0    8.0      1680.0            0.0  47.6168 -122.045   \n",
       "\n",
       "   sqft_living15  sqft_lot15   age  renovated  \n",
       "0         1340.0      5650.0  63.0        0.0  \n",
       "1         1690.0      7639.0  67.0        1.0  \n",
       "2         2720.0      8062.0  85.0        0.0  \n",
       "3         1360.0      5000.0  53.0        0.0  \n",
       "4         1800.0      7503.0  31.0        0.0  "
      ]
     },
     "execution_count": 4,
     "metadata": {},
     "output_type": "execute_result"
    }
   ],
   "source": [
    "housesale_df = pd.read_csv('data/housesale.csv', dtype = 'float')\n",
    "housesale_df.head()"
   ]
  },
  {
   "cell_type": "code",
   "execution_count": 5,
   "metadata": {},
   "outputs": [
    {
     "data": {
      "text/plain": [
       "(21597, 17)"
      ]
     },
     "execution_count": 5,
     "metadata": {},
     "output_type": "execute_result"
    }
   ],
   "source": [
    "X = housesale_df.drop('price', axis = 1)\n",
    "y = housesale_df['price']\n",
    "X.shape"
   ]
  },
  {
   "cell_type": "markdown",
   "metadata": {},
   "source": [
    "## Feature Selection : f_regression\n",
    "\n",
    "* f_regression : Linear model for testing the individual effect of each of many regressors. Based on ANOVA.\n",
    "* SelectKBest A feature selection method from sklearn that can be used with a suite of different statistical tests to select a specific number of features. Uses f-score computed using ANOVA to select k best features.\n",
    "\n",
    "https://scikit-learn.org/stable/modules/generated/sklearn.feature_selection.f_regression.html#sklearn.feature_selection.f_regression\n",
    "https://scikit-learn.org/stable/modules/generated/sklearn.feature_selection.SelectKBest.html"
   ]
  },
  {
   "cell_type": "code",
   "execution_count": 6,
   "metadata": {},
   "outputs": [
    {
     "data": {
      "text/plain": [
       "(21597, 3)"
      ]
     },
     "execution_count": 6,
     "metadata": {},
     "output_type": "execute_result"
    }
   ],
   "source": [
    "from sklearn.feature_selection import f_regression, SelectKBest\n",
    "\n",
    "select_features = SelectKBest(f_regression, k = 3)\n",
    "X_new = select_features.fit_transform(X, y)\n",
    "X_new.shape"
   ]
  },
  {
   "cell_type": "code",
   "execution_count": 7,
   "metadata": {},
   "outputs": [
    {
     "data": {
      "text/html": [
       "<div>\n",
       "<style scoped>\n",
       "    .dataframe tbody tr th:only-of-type {\n",
       "        vertical-align: middle;\n",
       "    }\n",
       "\n",
       "    .dataframe tbody tr th {\n",
       "        vertical-align: top;\n",
       "    }\n",
       "\n",
       "    .dataframe thead th {\n",
       "        text-align: right;\n",
       "    }\n",
       "</style>\n",
       "<table border=\"1\" class=\"dataframe\">\n",
       "  <thead>\n",
       "    <tr style=\"text-align: right;\">\n",
       "      <th></th>\n",
       "      <th>0</th>\n",
       "      <th>1</th>\n",
       "      <th>2</th>\n",
       "    </tr>\n",
       "  </thead>\n",
       "  <tbody>\n",
       "    <tr>\n",
       "      <th>0</th>\n",
       "      <td>1180.0</td>\n",
       "      <td>7.0</td>\n",
       "      <td>1180.0</td>\n",
       "    </tr>\n",
       "    <tr>\n",
       "      <th>1</th>\n",
       "      <td>2570.0</td>\n",
       "      <td>7.0</td>\n",
       "      <td>2170.0</td>\n",
       "    </tr>\n",
       "    <tr>\n",
       "      <th>2</th>\n",
       "      <td>770.0</td>\n",
       "      <td>6.0</td>\n",
       "      <td>770.0</td>\n",
       "    </tr>\n",
       "    <tr>\n",
       "      <th>3</th>\n",
       "      <td>1960.0</td>\n",
       "      <td>7.0</td>\n",
       "      <td>1050.0</td>\n",
       "    </tr>\n",
       "    <tr>\n",
       "      <th>4</th>\n",
       "      <td>1680.0</td>\n",
       "      <td>8.0</td>\n",
       "      <td>1680.0</td>\n",
       "    </tr>\n",
       "  </tbody>\n",
       "</table>\n",
       "</div>"
      ],
      "text/plain": [
       "        0    1       2\n",
       "0  1180.0  7.0  1180.0\n",
       "1  2570.0  7.0  2170.0\n",
       "2   770.0  6.0   770.0\n",
       "3  1960.0  7.0  1050.0\n",
       "4  1680.0  8.0  1680.0"
      ]
     },
     "execution_count": 7,
     "metadata": {},
     "output_type": "execute_result"
    }
   ],
   "source": [
    "X_new = pd.DataFrame(X_new)\n",
    "X_new.head()"
   ]
  },
  {
   "cell_type": "code",
   "execution_count": 8,
   "metadata": {},
   "outputs": [
    {
     "data": {
      "text/plain": [
       "['sqft_living', 'grade', 'sqft_above']"
      ]
     },
     "execution_count": 8,
     "metadata": {},
     "output_type": "execute_result"
    }
   ],
   "source": [
    "selected_features = []\n",
    "\n",
    "for i in range(len(X_new.columns)):\n",
    "    for j in range(len(X.columns)):\n",
    "        if(X_new.iloc[:,i].equals( X.iloc[:,j])):\n",
    "            selected_features.append(X.columns[j])\n",
    "            \n",
    "selected_features"
   ]
  },
  {
   "cell_type": "code",
   "execution_count": 9,
   "metadata": {},
   "outputs": [
    {
     "data": {
      "text/plain": [
       "{'age',\n",
       " 'bathrooms',\n",
       " 'bedrooms',\n",
       " 'condition',\n",
       " 'floors',\n",
       " 'lat',\n",
       " 'long',\n",
       " 'renovated',\n",
       " 'sqft_basement',\n",
       " 'sqft_living15',\n",
       " 'sqft_lot',\n",
       " 'sqft_lot15',\n",
       " 'view',\n",
       " 'waterfront'}"
      ]
     },
     "execution_count": 9,
     "metadata": {},
     "output_type": "execute_result"
    }
   ],
   "source": [
    "rejected_features = set(list(X)) - set(selected_features)\n",
    "rejected_features"
   ]
  },
  {
   "cell_type": "code",
   "execution_count": 11,
   "metadata": {},
   "outputs": [
    {
     "name": "stdout",
     "output_type": "stream",
     "text": [
      "                                 OLS Regression Results                                \n",
      "=======================================================================================\n",
      "Dep. Variable:                  price   R-squared (uncentered):                   0.838\n",
      "Model:                            OLS   Adj. R-squared (uncentered):              0.838\n",
      "Method:                 Least Squares   F-statistic:                          2.978e+04\n",
      "Date:                Wed, 04 Sep 2019   Prob (F-statistic):                        0.00\n",
      "Time:                        22:26:55   Log-Likelihood:                     -2.4022e+05\n",
      "No. Observations:               17277   AIC:                                  4.804e+05\n",
      "Df Residuals:                   17274   BIC:                                  4.805e+05\n",
      "Df Model:                           3                                                  \n",
      "Covariance Type:            nonrobust                                                  \n",
      "==============================================================================\n",
      "                 coef    std err          t      P>|t|      [0.025      0.975]\n",
      "------------------------------------------------------------------------------\n",
      "0            276.5129      4.672     59.189      0.000     267.356     285.670\n",
      "1           3531.1547    860.737      4.102      0.000    1844.023    5218.286\n",
      "2            -28.2489      5.121     -5.516      0.000     -38.286     -18.211\n",
      "==============================================================================\n",
      "Omnibus:                    13569.008   Durbin-Watson:                   2.017\n",
      "Prob(Omnibus):                  0.000   Jarque-Bera (JB):           694961.394\n",
      "Skew:                           3.356   Prob(JB):                         0.00\n",
      "Kurtosis:                      33.337   Cond. No.                     1.28e+03\n",
      "==============================================================================\n",
      "\n",
      "Warnings:\n",
      "[1] Standard Errors assume that the covariance matrix of the errors is correctly specified.\n",
      "[2] The condition number is large, 1.28e+03. This might indicate that there are\n",
      "strong multicollinearity or other numerical problems.\n"
     ]
    }
   ],
   "source": [
    "x_train, x_test, y_train, y_test = train_test_split(X_new, y, test_size = 0.2)\n",
    "model = sm.OLS(y_train, x_train)\n",
    "result = model.fit()\n",
    "print(result.summary())"
   ]
  },
  {
   "cell_type": "code",
   "execution_count": 12,
   "metadata": {},
   "outputs": [
    {
     "data": {
      "image/png": "[encoded data removed]",
      "text/plain": [
       "<Figure size 864x720 with 1 Axes>"
      ]
     },
     "metadata": {
      "needs_background": "light"
     },
     "output_type": "display_data"
    }
   ],
   "source": [
    "y_pred = result.predict(x_test)\n",
    "plt.figure(figsize = (12,10))\n",
    "plt.scatter(y_test.values, y_pred)\n",
    "plt.show()"
   ]
  },
  {
   "cell_type": "markdown",
   "metadata": {},
   "source": [
    "## Hyperparameter tuning"
   ]
  },
  {
   "cell_type": "code",
   "execution_count": 15,
   "metadata": {},
   "outputs": [],
   "source": [
    "FEATURES = list(housesale_df.columns[1:18])\n",
    "\n",
    "def build_model(regression_fn,                \n",
    "                target, \n",
    "                features, \n",
    "                dataset,\n",
    "                preprocess_fn,\n",
    "                *hyperparameters):\n",
    "    \n",
    "    X = dataset[features]\n",
    "    Y = dataset[target]\n",
    "\n",
    "    X = preprocess_fn(X, Y, *hyperparameters)\n",
    "\n",
    "    x_train, x_test, y_train, y_test = train_test_split(X, Y, test_size=0.2)\n",
    "    \n",
    "    model = regression_fn(x_train, y_train)\n",
    "    \n",
    "    y_pred = model.predict(x_test)\n",
    "    \n",
    "    return {\n",
    "            'x_train' : x_train,\n",
    "            'x_test'  : x_test, \n",
    "            'y_train' : y_train,\n",
    "            'y_test'  : y_test,\n",
    "            'y_pred'  : y_pred,\n",
    "            'model'   : model\n",
    "           }     \n",
    "\n",
    "def compare_results(result_dict):\n",
    "    \n",
    "    for key in result_dict:\n",
    "        print('Test : ', key)\n",
    "        print('R-Squared', result_dict[key]['rsquared'])\n",
    "        print('Adjusted R-Squared', result_dict[key]['adj_rsquared'])\n",
    "        print()\n",
    "        \n",
    "    n_components = list(range(1, 18))\n",
    "    reg_score = [result_dict[key]['adj_rsquared'] for key in result_dict]\n",
    "\n",
    "    plt.figure(figsize = (12, 10))\n",
    "    plt.plot(n_components, reg_score)\n",
    "\n",
    "    pylab.ylim([0,1])\n",
    "    \n",
    "    plt.xlabel('n components')\n",
    "    plt.ylabel('adj_rsquared');\n",
    "    \n",
    "def get_model_scores(model_params):\n",
    "    \n",
    "    result_dict = {}\n",
    "\n",
    "    for key in model_params:\n",
    "        result_dict[key] = {\n",
    "                            'rsquared' : model_params[key]['model'].rsquared,\n",
    "                            'adj_rsquared': model_params[key]['model'].rsquared_adj\n",
    "                           }\n",
    "        \n",
    "    compare_results(result_dict)\n",
    "   \n",
    "def ols_reg(x_train, y_train):\n",
    "    \n",
    "    ols = sm.OLS(y_train, x_train)\n",
    "    \n",
    "    model = ols.fit()\n",
    "    \n",
    "    return model\n",
    "\n",
    "from sklearn.feature_selection import f_regression, SelectKBest\n",
    "\n",
    "def apply_f_regression(x, y, k, add_constant = False):\n",
    "    \n",
    "    select_features = SelectKBest(f_regression, k = k)\n",
    "    x_new = select_features.fit_transform(x, y)\n",
    "    \n",
    "    if add_constant is True:\n",
    "        x_new = sm.add_constant(x_new)\n",
    "        \n",
    "    return pd.DataFrame(x_new)\n",
    "\n",
    "model_params = {}\n",
    "\n",
    "for i in range (1, 18):\n",
    "    model_params['f_regression - k:' + str(i)] = build_model(ols_reg,\n",
    "                                                             'price',\n",
    "                                                              FEATURES,\n",
    "                                                              housesale_df,\n",
    "                                                              apply_f_regression,\n",
    "                                                              i,\n",
    "                                                              True)"
   ]
  },
  {
   "cell_type": "code",
   "execution_count": 16,
   "metadata": {},
   "outputs": [
    {
     "name": "stdout",
     "output_type": "stream",
     "text": [
      "Test :  f_regression - k:1\n",
      "R-Squared 0.4934510596925773\n",
      "Adjusted R-Squared 0.4934217370332252\n",
      "\n",
      "Test :  f_regression - k:2\n",
      "R-Squared 0.5358982944581541\n",
      "Adjusted R-Squared 0.5358445603252906\n",
      "\n",
      "Test :  f_regression - k:3\n",
      "R-Squared 0.5433139537993934\n",
      "Adjusted R-Squared 0.5432346358963887\n",
      "\n",
      "Test :  f_regression - k:4\n",
      "R-Squared 0.543748819281852\n",
      "Adjusted R-Squared 0.5436431566647334\n",
      "\n",
      "Test :  f_regression - k:5\n",
      "R-Squared 0.5463073757395734\n",
      "Adjusted R-Squared 0.5461760305296086\n",
      "\n",
      "Test :  f_regression - k:6\n",
      "R-Squared 0.5710612619882312\n",
      "Adjusted R-Squared 0.5709122386860846\n",
      "\n",
      "Test :  f_regression - k:7\n",
      "R-Squared 0.578395976841731\n",
      "Adjusted R-Squared 0.5782495017902575\n",
      "\n",
      "Test :  f_regression - k:8\n",
      "R-Squared 0.5750987548795505\n",
      "Adjusted R-Squared 0.5749265208928782\n",
      "\n",
      "Test :  f_regression - k:9\n",
      "R-Squared 0.6376385380672995\n",
      "Adjusted R-Squared 0.637470661550305\n",
      "\n",
      "Test :  f_regression - k:10\n",
      "R-Squared 0.6578718293215776\n",
      "Adjusted R-Squared 0.6576935034087898\n",
      "\n",
      "Test :  f_regression - k:11\n",
      "R-Squared 0.6595668109403503\n",
      "Adjusted R-Squared 0.6593696412490149\n",
      "\n",
      "Test :  f_regression - k:12\n",
      "R-Squared 0.6604394424760529\n",
      "Adjusted R-Squared 0.6602230992305989\n",
      "\n",
      "Test :  f_regression - k:13\n",
      "R-Squared 0.6610692410147903\n",
      "Adjusted R-Squared 0.6608336542963111\n",
      "\n",
      "Test :  f_regression - k:14\n",
      "R-Squared 0.6654057746054998\n",
      "Adjusted R-Squared 0.6651538065275221\n",
      "\n",
      "Test :  f_regression - k:15\n",
      "R-Squared 0.6852881332603163\n",
      "Adjusted R-Squared 0.685032892492482\n",
      "\n",
      "Test :  f_regression - k:16\n",
      "R-Squared 0.6869051720729755\n",
      "Adjusted R-Squared 0.686633089202985\n",
      "\n",
      "Test :  f_regression - k:17\n",
      "R-Squared 0.6969775797913903\n",
      "Adjusted R-Squared 0.6966966783589836\n",
      "\n"
     ]
    },
    {
     "data": {
      "image/png": "[encoded data removed]",
      "text/plain": [
       "<Figure size 864x720 with 1 Axes>"
      ]
     },
     "metadata": {
      "needs_background": "light"
     },
     "output_type": "display_data"
    }
   ],
   "source": [
    "get_model_scores(model_params)"
   ]
  },
  {
   "cell_type": "markdown",
   "metadata": {},
   "source": [
    "## Regression model"
   ]
  },
  {
   "cell_type": "code",
   "execution_count": 18,
   "metadata": {},
   "outputs": [
    {
     "name": "stdout",
     "output_type": "stream",
     "text": [
      "Training score:  0.6422787319600005\n",
      "Testing score:  0.6307809744716262\n"
     ]
    }
   ],
   "source": [
    "def linear_reg(x_train, y_train):    \n",
    "    model = LinearRegression().fit(x_train, y_train)    \n",
    "    return model\n",
    "\n",
    "sklearn_model = {}\n",
    "sklearn_model['f_regression'] = build_model(linear_reg,\n",
    "                                          'price',\n",
    "                                           FEATURES,\n",
    "                                           housesale_df,\n",
    "                                           apply_f_regression,\n",
    "                                           9)\n",
    "\n",
    "model   = sklearn_model['f_regression']['model']\n",
    "x_train = sklearn_model['f_regression']['x_train']\n",
    "x_test  = sklearn_model['f_regression']['x_test']\n",
    "y_train = sklearn_model['f_regression']['y_train']\n",
    "y_test  = sklearn_model['f_regression']['y_test']\n",
    "y_pred  = sklearn_model['f_regression']['y_pred']\n",
    "\n",
    "print('Training score: ', model.score(x_train, y_train))\n",
    "print('Testing score: ', r2_score(y_test, y_pred))"
   ]
  },
  {
   "cell_type": "code",
   "execution_count": 19,
   "metadata": {},
   "outputs": [
    {
     "data": {
      "image/png": "[encoded data removed]",
      "text/plain": [
       "<Figure size 864x720 with 1 Axes>"
      ]
     },
     "metadata": {
      "needs_background": "light"
     },
     "output_type": "display_data"
    }
   ],
   "source": [
    "plt.figure(figsize = (12, 10))\n",
    "plt.scatter(y_test.values, y_pred)\n",
    "plt.show()"
   ]
  },
  {
   "cell_type": "markdown",
   "metadata": {},
   "source": [
    "## Feature Selection : mutual_info_regression\n",
    "\n",
    "* mutual_info_regression : Estimate mutual information for a continuous target variable.\n",
    "* Mutual information between two random variables is a non-negative value, which measures the dependency between the variables. \n",
    "* It is equal to zero if and only if two random variables are independent, and higher values mean higher dependency.\n",
    "\n",
    "https://scikit-learn.org/stable/modules/generated/sklearn.feature_selection.mutual_info_regression.html#sklearn.feature_selection.mutual_info_regression"
   ]
  },
  {
   "cell_type": "code",
   "execution_count": 24,
   "metadata": {},
   "outputs": [],
   "source": [
    "from sklearn.feature_selection import mutual_info_regression\n",
    "\n",
    "def apply_mutual_info_regression(x, y, k, add_constant = False):\n",
    "    \n",
    "    select_features = SelectKBest(mutual_info_regression, k = k)  \n",
    "    x_new = select_features.fit_transform(x, y)\n",
    "    \n",
    "    if add_constant is True:\n",
    "        x_new = sm.add_constant(x_new)\n",
    "\n",
    "    return pd.DataFrame(x_new)\n",
    "\n",
    "model_params = {}\n",
    "\n",
    "for i in range (1, 18):\n",
    "    model_params['mutual_info_regression - k:' + str(i)] = build_model(ols_reg,\n",
    "                                                                      'price',\n",
    "                                                                       FEATURES,\n",
    "                                                                       housesale_df,\n",
    "                                                                       apply_mutual_info_regression,\n",
    "                                                                       i,\n",
    "                                                                       True)"
   ]
  },
  {
   "cell_type": "code",
   "execution_count": 25,
   "metadata": {},
   "outputs": [
    {
     "name": "stdout",
     "output_type": "stream",
     "text": [
      "Test :  mutual_info_regression - k:1\n",
      "R-Squared 0.49309510620949537\n",
      "Adjusted R-Squared 0.49306576294502125\n",
      "\n",
      "Test :  mutual_info_regression - k:2\n",
      "R-Squared 0.5310731766896923\n",
      "Adjusted R-Squared 0.5310188839001462\n",
      "\n",
      "Test :  mutual_info_regression - k:3\n",
      "R-Squared 0.595003858569791\n",
      "Adjusted R-Squared 0.5949335182453371\n",
      "\n",
      "Test :  mutual_info_regression - k:4\n",
      "R-Squared 0.596238974592979\n",
      "Adjusted R-Squared 0.5961454681026115\n",
      "\n",
      "Test :  mutual_info_regression - k:5\n",
      "R-Squared 0.5999747156953028\n",
      "Adjusted R-Squared 0.5998589073216404\n",
      "\n",
      "Test :  mutual_info_regression - k:6\n",
      "R-Squared 0.5986832144036263\n",
      "Adjusted R-Squared 0.5985437876107149\n",
      "\n",
      "Test :  mutual_info_regression - k:7\n",
      "R-Squared 0.6149305579072543\n",
      "Adjusted R-Squared 0.6147744697669653\n",
      "\n",
      "Test :  mutual_info_regression - k:8\n",
      "R-Squared 0.617265539478445\n",
      "Adjusted R-Squared 0.6170882244631466\n",
      "\n",
      "Test :  mutual_info_regression - k:9\n",
      "R-Squared 0.6231322437729145\n",
      "Adjusted R-Squared 0.6229358107037049\n",
      "\n",
      "Test :  mutual_info_regression - k:10\n",
      "R-Squared 0.6572766760633926\n",
      "Adjusted R-Squared 0.6570781799879051\n",
      "\n",
      "Test :  mutual_info_regression - k:11\n",
      "R-Squared 0.6547752997386009\n",
      "Adjusted R-Squared 0.6545753549336308\n",
      "\n",
      "Test :  mutual_info_regression - k:12\n",
      "R-Squared 0.6565825800250249\n",
      "Adjusted R-Squared 0.6563637794678443\n",
      "\n",
      "Test :  mutual_info_regression - k:13\n",
      "R-Squared 0.6567561673705766\n",
      "Adjusted R-Squared 0.6565175826861724\n",
      "\n",
      "Test :  mutual_info_regression - k:14\n",
      "R-Squared 0.6743126497017711\n",
      "Adjusted R-Squared 0.6740673889965705\n",
      "\n",
      "Test :  mutual_info_regression - k:15\n",
      "R-Squared 0.689592635970036\n",
      "Adjusted R-Squared 0.6893408862830692\n",
      "\n",
      "Test :  mutual_info_regression - k:16\n",
      "R-Squared 0.6771838836964814\n",
      "Adjusted R-Squared 0.6769033529193218\n",
      "\n",
      "Test :  mutual_info_regression - k:17\n",
      "R-Squared 0.6984468020838909\n",
      "Adjusted R-Squared 0.698167262618847\n",
      "\n"
     ]
    },
    {
     "data": {
      "image/png": "[encoded data removed]",
      "text/plain": [
       "<Figure size 864x720 with 1 Axes>"
      ]
     },
     "metadata": {
      "needs_background": "light"
     },
     "output_type": "display_data"
    }
   ],
   "source": [
    "get_model_scores(model_params)"
   ]
  },
  {
   "cell_type": "markdown",
   "metadata": {},
   "source": [
    "## Regression models"
   ]
  },
  {
   "cell_type": "code",
   "execution_count": 26,
   "metadata": {},
   "outputs": [
    {
     "name": "stdout",
     "output_type": "stream",
     "text": [
      "Training score:  0.6010426836980292\n",
      "Testing score:  0.5820973716900302\n"
     ]
    }
   ],
   "source": [
    "sklearn_model = {}\n",
    "\n",
    "sklearn_model['mutual_info_regression'] = build_model(linear_reg,\n",
    "                                                      'price',\n",
    "                                                       FEATURES,\n",
    "                                                       housesale_df,\n",
    "                                                       apply_mutual_info_regression,\n",
    "                                                       4)\n",
    "\n",
    "model   = sklearn_model['mutual_info_regression']['model']\n",
    "x_train = sklearn_model['mutual_info_regression']['x_train']\n",
    "x_test  = sklearn_model['mutual_info_regression']['x_test']\n",
    "y_train = sklearn_model['mutual_info_regression']['y_train']\n",
    "y_test  = sklearn_model['mutual_info_regression']['y_test']\n",
    "y_pred  = sklearn_model['mutual_info_regression']['y_pred']\n",
    "\n",
    "print('Training score: ', model.score(x_train, y_train))\n",
    "print('Testing score: ', r2_score(y_test, y_pred))"
   ]
  },
  {
   "cell_type": "code",
   "execution_count": 27,
   "metadata": {},
   "outputs": [
    {
     "data": {
      "image/png": "[encoded data removed]",
      "text/plain": [
       "<Figure size 864x720 with 1 Axes>"
      ]
     },
     "metadata": {
      "needs_background": "light"
     },
     "output_type": "display_data"
    }
   ],
   "source": [
    "plt.figure(figsize = (12, 10))\n",
    "plt.scatter(y_test.values, y_pred)\n",
    "plt.show()"
   ]
  },
  {
   "cell_type": "code",
   "execution_count": null,
   "metadata": {},
   "outputs": [],
   "source": []
  }
 ],
 "metadata": {
  "kernelspec": {
   "display_name": "Python 3",
   "language": "python",
   "name": "python3"
  },
  "language_info": {
   "codemirror_mode": {
    "name": "ipython",
    "version": 3
   },
   "file_extension": ".py",
   "mimetype": "text/x-python",
   "name": "python",
   "nbconvert_exporter": "python",
   "pygments_lexer": "ipython3",
   "version": "3.7.2"
  }
 },
 "nbformat": 4,
 "nbformat_minor": 2
}
