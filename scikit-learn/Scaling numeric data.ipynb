{
 "cells": [
  {
   "cell_type": "markdown",
   "metadata": {},
   "source": [
    "# Working with Numeric Data"
   ]
  },
  {
   "cell_type": "code",
   "execution_count": 1,
   "metadata": {},
   "outputs": [],
   "source": [
    "import pandas as pd"
   ]
  },
  {
   "cell_type": "markdown",
   "metadata": {},
   "source": [
    "## Sample data representing student data and exam scores"
   ]
  },
  {
   "cell_type": "code",
   "execution_count": 7,
   "metadata": {},
   "outputs": [
    {
     "output_type": "execute_result",
     "data": {
      "text/plain": "   gender race/ethnicity parental level of education         lunch  \\\n0    male        group E          associate's degree      standard   \n1  female        group C          associate's degree  free/reduced   \n2    male        group D           bachelor's degree      standard   \n3  female        group A           bachelor's degree      standard   \n4  female        group D                 high school  free/reduced   \n\n  test preparation course  math score  reading score  writing score  \n0               completed          79             75             81  \n1                    none          56             65             64  \n2                    none          86             68             74  \n3                    none          68             78             76  \n4                    none          49             68             61  ",
      "text/html": "<div>\n<style scoped>\n    .dataframe tbody tr th:only-of-type {\n        vertical-align: middle;\n    }\n\n    .dataframe tbody tr th {\n        vertical-align: top;\n    }\n\n    .dataframe thead th {\n        text-align: right;\n    }\n</style>\n<table border=\"1\" class=\"dataframe\">\n  <thead>\n    <tr style=\"text-align: right;\">\n      <th></th>\n      <th>gender</th>\n      <th>race/ethnicity</th>\n      <th>parental level of education</th>\n      <th>lunch</th>\n      <th>test preparation course</th>\n      <th>math score</th>\n      <th>reading score</th>\n      <th>writing score</th>\n    </tr>\n  </thead>\n  <tbody>\n    <tr>\n      <th>0</th>\n      <td>male</td>\n      <td>group E</td>\n      <td>associate's degree</td>\n      <td>standard</td>\n      <td>completed</td>\n      <td>79</td>\n      <td>75</td>\n      <td>81</td>\n    </tr>\n    <tr>\n      <th>1</th>\n      <td>female</td>\n      <td>group C</td>\n      <td>associate's degree</td>\n      <td>free/reduced</td>\n      <td>none</td>\n      <td>56</td>\n      <td>65</td>\n      <td>64</td>\n    </tr>\n    <tr>\n      <th>2</th>\n      <td>male</td>\n      <td>group D</td>\n      <td>bachelor's degree</td>\n      <td>standard</td>\n      <td>none</td>\n      <td>86</td>\n      <td>68</td>\n      <td>74</td>\n    </tr>\n    <tr>\n      <th>3</th>\n      <td>female</td>\n      <td>group A</td>\n      <td>bachelor's degree</td>\n      <td>standard</td>\n      <td>none</td>\n      <td>68</td>\n      <td>78</td>\n      <td>76</td>\n    </tr>\n    <tr>\n      <th>4</th>\n      <td>female</td>\n      <td>group D</td>\n      <td>high school</td>\n      <td>free/reduced</td>\n      <td>none</td>\n      <td>49</td>\n      <td>68</td>\n      <td>61</td>\n    </tr>\n  </tbody>\n</table>\n</div>"
     },
     "metadata": {},
     "execution_count": 7
    }
   ],
   "source": [
    "exam_data = pd.read_csv('data/exams.csv', quotechar='\"')\n",
    "exam_data.head()"
   ]
  },
  {
   "cell_type": "markdown",
   "metadata": {},
   "source": [
    "## Check out average score for each exam"
   ]
  },
  {
   "cell_type": "code",
   "execution_count": 3,
   "metadata": {},
   "outputs": [
    {
     "output_type": "stream",
     "name": "stdout",
     "text": "Math Avg:  65.06\nReading Avg:  67.28\nWriting Avg:  66.47\n"
    }
   ],
   "source": [
    "math_average = exam_data['math score'].mean()\n",
    "reading_average = exam_data['reading score'].mean()\n",
    "writing_average = average = exam_data['writing score'].mean()\n",
    "\n",
    "print('Math Avg: ', math_average)\n",
    "print('Reading Avg: ', reading_average)\n",
    "print('Writing Avg: ', writing_average)"
   ]
  },
  {
   "cell_type": "markdown",
   "metadata": {},
   "source": [
    "## Data Standardization:\n",
    "\n",
    "`StandardScaler()` Apply scaling on the test scores to express them in terms of <b>z-score</b>. Z-score is the expression of a value in terms of the number of standard deviations from the mean. The effect is to give a score which is relative to the the distribution of values for that column. z = (x - u) / s ~ N(0,1)\n",
    "\n",
    "`scale()` Center to the mean and component wise scale to unit variance. z = (x-u)/s ~ N(0,1)\n",
    "\n",
    "it's exactly the sameeee"
   ]
  },
  {
   "cell_type": "code",
   "execution_count": 5,
   "metadata": {},
   "outputs": [
    {
     "output_type": "execute_result",
     "data": {
      "text/plain": "   gender race/ethnicity parental level of education         lunch  \\\n0    male        group E          associate's degree      standard   \n1  female        group C          associate's degree  free/reduced   \n2    male        group D           bachelor's degree      standard   \n3  female        group A           bachelor's degree      standard   \n4  female        group D                 high school  free/reduced   \n\n  test preparation course  math score  reading score  writing score  \n0               completed    0.994557       0.574138       1.049901  \n1                    none   -0.646391      -0.169564      -0.178476  \n2                    none    1.493976       0.053547       0.544099  \n3                    none    0.209756       0.797248       0.688613  \n4                    none   -1.145810       0.053547      -0.395248  ",
      "text/html": "<div>\n<style scoped>\n    .dataframe tbody tr th:only-of-type {\n        vertical-align: middle;\n    }\n\n    .dataframe tbody tr th {\n        vertical-align: top;\n    }\n\n    .dataframe thead th {\n        text-align: right;\n    }\n</style>\n<table border=\"1\" class=\"dataframe\">\n  <thead>\n    <tr style=\"text-align: right;\">\n      <th></th>\n      <th>gender</th>\n      <th>race/ethnicity</th>\n      <th>parental level of education</th>\n      <th>lunch</th>\n      <th>test preparation course</th>\n      <th>math score</th>\n      <th>reading score</th>\n      <th>writing score</th>\n    </tr>\n  </thead>\n  <tbody>\n    <tr>\n      <th>0</th>\n      <td>male</td>\n      <td>group E</td>\n      <td>associate's degree</td>\n      <td>standard</td>\n      <td>completed</td>\n      <td>0.994557</td>\n      <td>0.574138</td>\n      <td>1.049901</td>\n    </tr>\n    <tr>\n      <th>1</th>\n      <td>female</td>\n      <td>group C</td>\n      <td>associate's degree</td>\n      <td>free/reduced</td>\n      <td>none</td>\n      <td>-0.646391</td>\n      <td>-0.169564</td>\n      <td>-0.178476</td>\n    </tr>\n    <tr>\n      <th>2</th>\n      <td>male</td>\n      <td>group D</td>\n      <td>bachelor's degree</td>\n      <td>standard</td>\n      <td>none</td>\n      <td>1.493976</td>\n      <td>0.053547</td>\n      <td>0.544099</td>\n    </tr>\n    <tr>\n      <th>3</th>\n      <td>female</td>\n      <td>group A</td>\n      <td>bachelor's degree</td>\n      <td>standard</td>\n      <td>none</td>\n      <td>0.209756</td>\n      <td>0.797248</td>\n      <td>0.688613</td>\n    </tr>\n    <tr>\n      <th>4</th>\n      <td>female</td>\n      <td>group D</td>\n      <td>high school</td>\n      <td>free/reduced</td>\n      <td>none</td>\n      <td>-1.145810</td>\n      <td>0.053547</td>\n      <td>-0.395248</td>\n    </tr>\n  </tbody>\n</table>\n</div>"
     },
     "metadata": {},
     "execution_count": 5
    }
   ],
   "source": [
    "from sklearn import preprocessing\n",
    "'''\n",
    "scaler = preprocessing.StandardScaler().fit(X_train)\n",
    "X_train_scaled = scaler.transform(X_train) \n",
    "X_test_scaled = scaler.transform(X_test) \n",
    "'''\n",
    "exam_data[['math score']] = preprocessing.scale(exam_data[['math score']])\n",
    "exam_data[['reading score']] = preprocessing.scale(exam_data[['reading score']])\n",
    "exam_data[['writing score']] = preprocessing.scale(exam_data[['writing score']])\n",
    "exam_data.head()"
   ]
  },
  {
   "cell_type": "markdown",
   "metadata": {},
   "source": [
    "## Explore averages after scaling"
   ]
  },
  {
   "cell_type": "code",
   "execution_count": 6,
   "metadata": {},
   "outputs": [
    {
     "output_type": "stream",
     "name": "stdout",
     "text": "Math Avg:  -2.1510571102112408e-18\nReading Avg:  -1.1102230246251566e-17\nWriting Avg:  -2.6645352591003756e-17\n"
    }
   ],
   "source": [
    "math_average = exam_data['math score'].mean() # mean is 0\n",
    "reading_average = exam_data['reading score'].mean()\n",
    "writing_average = average = exam_data['writing score'].mean()\n",
    "\n",
    "print('Math Avg: ', math_average)\n",
    "print('Reading Avg: ', reading_average)\n",
    "print('Writing Avg: ', writing_average)"
   ]
  },
  {
   "cell_type": "markdown",
   "metadata": {},
   "source": []
  },
  {
   "cell_type": "markdown",
   "metadata": {},
   "source": []
  }
 ],
 "metadata": {
  "kernelspec": {
   "display_name": "Python 3",
   "language": "python",
   "name": "python3"
  },
  "language_info": {
   "codemirror_mode": {
    "name": "ipython",
    "version": 3
   },
   "file_extension": ".py",
   "mimetype": "text/x-python",
   "name": "python",
   "nbconvert_exporter": "python",
   "pygments_lexer": "ipython3",
   "version": "3.8.2-final"
  }
 },
 "nbformat": 4,
 "nbformat_minor": 2
}