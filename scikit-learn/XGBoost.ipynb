{
 "cells": [
  {
   "cell_type": "markdown",
   "metadata": {},
   "source": [
    "# Introduction\n",
    "\n",
    "**Base learners** - a model that is slightly better than a coin toss. XGBoost uses decision trees as the base learner. A **decision stump** is a shallow decision tree with little branching."
   ]
  },
  {
   "cell_type": "code",
   "execution_count": 15,
   "metadata": {},
   "outputs": [],
   "source": [
    "import pandas as pd\n",
    "from sklearn.model_selection import train_test_split\n",
    "from xgboost import XGBClassifier\n",
    "from sklearn.metrics import accuracy_score"
   ]
  },
  {
   "cell_type": "code",
   "execution_count": 10,
   "metadata": {},
   "outputs": [
    {
     "data": {
      "text/html": [
       "<div>\n",
       "<style scoped>\n",
       "    .dataframe tbody tr th:only-of-type {\n",
       "        vertical-align: middle;\n",
       "    }\n",
       "\n",
       "    .dataframe tbody tr th {\n",
       "        vertical-align: top;\n",
       "    }\n",
       "\n",
       "    .dataframe thead th {\n",
       "        text-align: right;\n",
       "    }\n",
       "</style>\n",
       "<table border=\"1\" class=\"dataframe\">\n",
       "  <thead>\n",
       "    <tr style=\"text-align: right;\">\n",
       "      <th></th>\n",
       "      <th>Pclass</th>\n",
       "      <th>Sex</th>\n",
       "      <th>Age</th>\n",
       "      <th>Survived</th>\n",
       "    </tr>\n",
       "  </thead>\n",
       "  <tbody>\n",
       "    <tr>\n",
       "      <th>0</th>\n",
       "      <td>3</td>\n",
       "      <td>0</td>\n",
       "      <td>22.0</td>\n",
       "      <td>0</td>\n",
       "    </tr>\n",
       "    <tr>\n",
       "      <th>1</th>\n",
       "      <td>1</td>\n",
       "      <td>1</td>\n",
       "      <td>38.0</td>\n",
       "      <td>1</td>\n",
       "    </tr>\n",
       "    <tr>\n",
       "      <th>2</th>\n",
       "      <td>3</td>\n",
       "      <td>1</td>\n",
       "      <td>26.0</td>\n",
       "      <td>1</td>\n",
       "    </tr>\n",
       "    <tr>\n",
       "      <th>3</th>\n",
       "      <td>1</td>\n",
       "      <td>1</td>\n",
       "      <td>35.0</td>\n",
       "      <td>1</td>\n",
       "    </tr>\n",
       "    <tr>\n",
       "      <th>4</th>\n",
       "      <td>3</td>\n",
       "      <td>0</td>\n",
       "      <td>35.0</td>\n",
       "      <td>0</td>\n",
       "    </tr>\n",
       "  </tbody>\n",
       "</table>\n",
       "</div>"
      ],
      "text/plain": [
       "   Pclass  Sex   Age  Survived\n",
       "0       3    0  22.0         0\n",
       "1       1    1  38.0         1\n",
       "2       3    1  26.0         1\n",
       "3       1    1  35.0         1\n",
       "4       3    0  35.0         0"
      ]
     },
     "execution_count": 10,
     "metadata": {},
     "output_type": "execute_result"
    }
   ],
   "source": [
    "data = pd.read_csv(\"data/titanic.csv\")\n",
    "data = data[['Pclass', 'Sex', 'Age', 'Survived']]\n",
    "data['Sex'] = data['Sex'].map({'male': 0, 'female': 1})\n",
    "data = data.dropna()\n",
    "data.head()"
   ]
  },
  {
   "cell_type": "code",
   "execution_count": 11,
   "metadata": {},
   "outputs": [
    {
     "name": "stdout",
     "output_type": "stream",
     "text": [
      "Accuracy: 82.68%\n"
     ]
    }
   ],
   "source": [
    "X = data.drop('Survived', axis=1)\n",
    "y = data['Survived']\n",
    "X_train, X_test, y_train, y_test = train_test_split(X, y, random_state=1)\n",
    "model = XGBClassifier()\n",
    "model.fit(X_train, y_train)\n",
    "\n",
    "y_pred = model.predict(X_test)\n",
    "predictions = [round(value) for value in y_pred]\n",
    "accuracy = accuracy_score(y_test, predictions)\n",
    "print(\"Accuracy: %.2f%%\" % (accuracy * 100.0))"
   ]
  },
  {
   "cell_type": "markdown",
   "metadata": {},
   "source": [
    "# Scoring XGBoost models"
   ]
  },
  {
   "cell_type": "code",
   "execution_count": 20,
   "metadata": {},
   "outputs": [
    {
     "name": "stdout",
     "output_type": "stream",
     "text": [
      "Accuracy: 77.92%\n"
     ]
    }
   ],
   "source": [
    "from numpy import loadtxt\n",
    "\n",
    "dataset = loadtxt('data/pima.txt', delimiter=\",\")\n",
    "X = dataset[:,0:8] \n",
    "Y = dataset[:,8]\n",
    "\n",
    "seed = 7 \n",
    "test_size = 0.30\n",
    "X_train, X_test, y_train, y_test = train_test_split(X, Y, test_size=test_size, random_state=seed) \n",
    "\n",
    "model = XGBClassifier() \n",
    "model.fit(X_train, y_train)\n",
    "y_pred = model.predict(X_test) \n",
    "predictions = [round(value) for value in y_pred] \n",
    "\n",
    "accuracy = accuracy_score(y_test, predictions) \n",
    "print(\"Accuracy: %.2f%%\" % (accuracy * 100.0))"
   ]
  },
  {
   "cell_type": "markdown",
   "metadata": {},
   "source": [
    " Take note that the parameter has been added. The parameter is early_stopping_rounds=36"
   ]
  },
  {
   "cell_type": "code",
   "execution_count": 28,
   "metadata": {},
   "outputs": [
    {
     "name": "stdout",
     "output_type": "stream",
     "text": [
      "[0]\tvalidation_0-error:0.25974\n",
      "Will train until validation_0-error hasn't improved in 36 rounds.\n",
      "[1]\tvalidation_0-error:0.25974\n",
      "[2]\tvalidation_0-error:0.25974\n",
      "[3]\tvalidation_0-error:0.25974\n",
      "[4]\tvalidation_0-error:0.233766\n",
      "[5]\tvalidation_0-error:0.242424\n",
      "[6]\tvalidation_0-error:0.255411\n",
      "[7]\tvalidation_0-error:0.238095\n",
      "[8]\tvalidation_0-error:0.233766\n",
      "[9]\tvalidation_0-error:0.238095\n",
      "[10]\tvalidation_0-error:0.238095\n",
      "[11]\tvalidation_0-error:0.233766\n",
      "[12]\tvalidation_0-error:0.238095\n",
      "[13]\tvalidation_0-error:0.238095\n",
      "[14]\tvalidation_0-error:0.242424\n",
      "[15]\tvalidation_0-error:0.233766\n",
      "[16]\tvalidation_0-error:0.229437\n",
      "[17]\tvalidation_0-error:0.229437\n",
      "[18]\tvalidation_0-error:0.229437\n",
      "[19]\tvalidation_0-error:0.229437\n",
      "[20]\tvalidation_0-error:0.229437\n",
      "[21]\tvalidation_0-error:0.229437\n",
      "[22]\tvalidation_0-error:0.238095\n",
      "[23]\tvalidation_0-error:0.225108\n",
      "[24]\tvalidation_0-error:0.212121\n",
      "[25]\tvalidation_0-error:0.220779\n",
      "[26]\tvalidation_0-error:0.220779\n",
      "[27]\tvalidation_0-error:0.212121\n",
      "[28]\tvalidation_0-error:0.21645\n",
      "[29]\tvalidation_0-error:0.21645\n",
      "[30]\tvalidation_0-error:0.207792\n",
      "[31]\tvalidation_0-error:0.207792\n",
      "[32]\tvalidation_0-error:0.212121\n",
      "[33]\tvalidation_0-error:0.207792\n",
      "[34]\tvalidation_0-error:0.207792\n",
      "[35]\tvalidation_0-error:0.21645\n",
      "[36]\tvalidation_0-error:0.207792\n",
      "[37]\tvalidation_0-error:0.207792\n",
      "[38]\tvalidation_0-error:0.21645\n",
      "[39]\tvalidation_0-error:0.212121\n",
      "[40]\tvalidation_0-error:0.212121\n",
      "[41]\tvalidation_0-error:0.21645\n",
      "[42]\tvalidation_0-error:0.21645\n",
      "[43]\tvalidation_0-error:0.21645\n",
      "[44]\tvalidation_0-error:0.220779\n",
      "[45]\tvalidation_0-error:0.220779\n",
      "[46]\tvalidation_0-error:0.229437\n",
      "[47]\tvalidation_0-error:0.229437\n",
      "[48]\tvalidation_0-error:0.229437\n",
      "[49]\tvalidation_0-error:0.233766\n",
      "[50]\tvalidation_0-error:0.225108\n",
      "[51]\tvalidation_0-error:0.229437\n",
      "[52]\tvalidation_0-error:0.225108\n",
      "[53]\tvalidation_0-error:0.229437\n",
      "[54]\tvalidation_0-error:0.229437\n",
      "[55]\tvalidation_0-error:0.229437\n",
      "[56]\tvalidation_0-error:0.229437\n",
      "[57]\tvalidation_0-error:0.229437\n",
      "[58]\tvalidation_0-error:0.229437\n",
      "[59]\tvalidation_0-error:0.220779\n",
      "[60]\tvalidation_0-error:0.225108\n",
      "[61]\tvalidation_0-error:0.225108\n",
      "[62]\tvalidation_0-error:0.225108\n",
      "[63]\tvalidation_0-error:0.225108\n",
      "[64]\tvalidation_0-error:0.220779\n",
      "[65]\tvalidation_0-error:0.21645\n",
      "[66]\tvalidation_0-error:0.21645\n",
      "Stopping. Best iteration:\n",
      "[30]\tvalidation_0-error:0.207792\n",
      "\n",
      "Accuracy: 79.22%\n"
     ]
    }
   ],
   "source": [
    "import warnings\n",
    "warnings.filterwarnings(\"ignore\", category=DeprecationWarning) \n",
    "\n",
    "eval_set = [(X_test, y_test)] \n",
    "model.fit(X_train, y_train, eval_metric=\"error\",early_stopping_rounds=36, eval_set=eval_set, verbose=True)\n",
    "y_pred = model.predict(X_test) \n",
    "predictions = [round(value) for value in y_pred] \n",
    "\n",
    "accuracy = accuracy_score(y_test, predictions) \n",
    "print(\"Accuracy: %.2f%%\" % (accuracy * 100.0))"
   ]
  },
  {
   "cell_type": "markdown",
   "metadata": {},
   "source": [
    "# Saving the trained model"
   ]
  },
  {
   "cell_type": "code",
   "execution_count": 29,
   "metadata": {},
   "outputs": [],
   "source": [
    "import pickle \n",
    "\n",
    "pickle.dump(model, open(\"production_pima_model.dat\", \"wb\"))"
   ]
  },
  {
   "cell_type": "code",
   "execution_count": 31,
   "metadata": {},
   "outputs": [
    {
     "name": "stdout",
     "output_type": "stream",
     "text": [
      "Accuracy: 79.22%\n"
     ]
    }
   ],
   "source": [
    "loaded_model = pickle.load(open(\"production_pima_model.dat\", \"rb\")) \n",
    "y_pred = loaded_model.predict(X_test) \n",
    "predictions = [round(value) for value in y_pred]\n",
    "accuracy = accuracy_score(y_test, predictions) \n",
    "print(\"Accuracy: %.2f%%\" % (accuracy * 100.0))"
   ]
  },
  {
   "cell_type": "markdown",
   "metadata": {},
   "source": [
    "# Selecting features in gradient boosting"
   ]
  },
  {
   "cell_type": "code",
   "execution_count": 32,
   "metadata": {},
   "outputs": [
    {
     "name": "stdout",
     "output_type": "stream",
     "text": [
      "[0.1030869  0.2586743  0.07711612 0.06305027 0.09934872 0.17890204\n",
      " 0.09226437 0.1275573 ]\n"
     ]
    }
   ],
   "source": [
    "print(model.feature_importances_)"
   ]
  },
  {
   "cell_type": "code",
   "execution_count": 35,
   "metadata": {},
   "outputs": [
    {
     "data": {
      "image/png": "[encoded data removed]",
      "text/plain": [
       "<Figure size 432x288 with 1 Axes>"
      ]
     },
     "metadata": {
      "needs_background": "light"
     },
     "output_type": "display_data"
    }
   ],
   "source": [
    "from matplotlib import pyplot\n",
    "pyplot.bar(range(len(model.feature_importances_)), model.feature_importances_) \n",
    "pyplot.show()"
   ]
  },
  {
   "cell_type": "markdown",
   "metadata": {},
   "source": [
    "- 0 - Pregnancies: Number of times pregnant\n",
    "- 1 - Glucose: Plasma glucose concentration a 2 hours in an oral glucose tolerance test\n",
    "- 2 - BloodPressure: Diastolic blood pressure (mm Hg)\n",
    "- 3 - SkinThicknessTriceps: Skin fold thickness (mm)\n",
    "- 4 - Insulin: 2-Hour serum insulin (mu U/ml)\n",
    "- 5 - BMIBody: mass index (weight in kg/(height in m)^2)\n",
    "- 6 - DiabetesPedigreeFunctionDiabetes: pedigree function\n",
    "- 7 - AgeAge: (years)\n",
    "- 8 - OutcomeClass: variable (0 or 1)"
   ]
  },
  {
   "cell_type": "code",
   "execution_count": 37,
   "metadata": {},
   "outputs": [
    {
     "data": {
      "text/plain": [
       "XGBClassifier(base_score=0.5, booster='gbtree', colsample_bylevel=1,\n",
       "              colsample_bynode=1, colsample_bytree=1, gamma=0,\n",
       "              learning_rate=0.1, max_delta_step=0, max_depth=3,\n",
       "              min_child_weight=1, missing=None, n_estimators=100, n_jobs=1,\n",
       "              nthread=None, objective='multi:softprob', random_state=0,\n",
       "              reg_alpha=0, reg_lambda=1, scale_pos_weight=1, seed=None,\n",
       "              silent=None, subsample=1, verbosity=1)"
      ]
     },
     "execution_count": 37,
     "metadata": {},
     "output_type": "execute_result"
    }
   ],
   "source": [
    "from sklearn import datasets\n",
    "iris = datasets.load_iris()\n",
    "feat_labels = ['Sepal Length','Sepal Width','Petal Length','Petal Width']\n",
    "X = iris.data\n",
    "y = iris.target\n",
    "\n",
    "X_train, X_test, y_train, y_test = train_test_split(X, y, test_size=0.4, random_state=0)\n",
    "model = XGBClassifier() \n",
    "model.fit(X_train, y_train)"
   ]
  },
  {
   "cell_type": "code",
   "execution_count": 38,
   "metadata": {},
   "outputs": [
    {
     "name": "stdout",
     "output_type": "stream",
     "text": [
      "('Sepal Length', 0.016870115)\n",
      "('Sepal Width', 0.02123037)\n",
      "('Petal Length', 0.7144931)\n",
      "('Petal Width', 0.24740641)\n"
     ]
    }
   ],
   "source": [
    "# Print the name and gini importance of each feature\n",
    "for feature in zip(feat_labels, model.feature_importances_):\n",
    "    print(feature)"
   ]
  },
  {
   "cell_type": "code",
   "execution_count": 40,
   "metadata": {},
   "outputs": [],
   "source": [
    "from sklearn.feature_selection import SelectFromModel\n",
    "\n",
    "sfm = SelectFromModel(model, threshold=0.25)\n",
    "sfm.fit(X_train, y_train)\n",
    "warnings.filterwarnings(\"ignore\", category=DeprecationWarning)"
   ]
  },
  {
   "cell_type": "code",
   "execution_count": 41,
   "metadata": {},
   "outputs": [
    {
     "name": "stdout",
     "output_type": "stream",
     "text": [
      "Petal Length\n"
     ]
    }
   ],
   "source": [
    "for feature_list_index in sfm.get_support(indices=True):\n",
    "    print(feat_labels[feature_list_index])"
   ]
  },
  {
   "cell_type": "code",
   "execution_count": 42,
   "metadata": {},
   "outputs": [
    {
     "data": {
      "text/plain": [
       "XGBClassifier(base_score=0.5, booster='gbtree', colsample_bylevel=1,\n",
       "              colsample_bynode=1, colsample_bytree=1, gamma=0,\n",
       "              learning_rate=0.1, max_delta_step=0, max_depth=3,\n",
       "              min_child_weight=1, missing=None, n_estimators=100, n_jobs=1,\n",
       "              nthread=None, objective='multi:softprob', random_state=0,\n",
       "              reg_alpha=0, reg_lambda=1, scale_pos_weight=1, seed=None,\n",
       "              silent=None, subsample=1, verbosity=1)"
      ]
     },
     "execution_count": 42,
     "metadata": {},
     "output_type": "execute_result"
    }
   ],
   "source": [
    "X_important_train = sfm.transform(X_train)\n",
    "X_important_test = sfm.transform(X_test)\n",
    "\n",
    "clf_important = XGBClassifier()\n",
    "clf_important.fit(X_important_train, y_train)"
   ]
  },
  {
   "cell_type": "code",
   "execution_count": null,
   "metadata": {},
   "outputs": [],
   "source": []
  }
 ],
 "metadata": {
  "kernelspec": {
   "display_name": "Python 3",
   "language": "python",
   "name": "python3"
  },
  "language_info": {
   "codemirror_mode": {
    "name": "ipython",
    "version": 3
   },
   "file_extension": ".py",
   "mimetype": "text/x-python",
   "name": "python",
   "nbconvert_exporter": "python",
   "pygments_lexer": "ipython3",
   "version": "3.7.2"
  }
 },
 "nbformat": 4,
 "nbformat_minor": 2
}
