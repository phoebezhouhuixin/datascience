{
 "cells": [
  {
   "cell_type": "code",
   "execution_count": 8,
   "metadata": {},
   "outputs": [
    {
     "output_type": "stream",
     "name": "stdout",
     "text": "Predicted: [10.0625], Target: [11]\nPredicted: [10.28125], Target: [8.5]\nPredicted: [13.09375], Target: [15]\nPredicted: [18.14583333], Target: [18]\nPredicted: [13.3125], Target: [11]\nR-squared: 0.77\n"
    }
   ],
   "source": [
    "from sklearn.linear_model import LinearRegression\n",
    "\n",
    "X = [[6, 2], [8, 1], [10, 0], [14, 2], [18, 0]]\n",
    "y =  [[7], [9], [13], [17.5], [18]]\n",
    "\n",
    "model = LinearRegression()\n",
    "model.fit(X, y)\n",
    "\n",
    "X_test = [[8, 2], [9, 0], [11, 2], [16, 2], [12, 0]]\n",
    "y_test = [[11], [8.5], [15], [18], [11]]\n",
    "predictions = model.predict(X_test)\n",
    "\n",
    "for i, prediction in enumerate(predictions):\n",
    "    print('Predicted: %s, Target: %s' % (prediction, y_test[i]))\n",
    "\n",
    "print('R-squared: %.2f' % model.score(X_test, y_test))"
   ]
  },
  {
   "cell_type": "markdown",
   "metadata": {},
   "source": [
    "## Polynomial regression\n",
    "\n",
    "A special case of multiple linear regression that models a linear relationship between the response variable and polynomial feature terms."
   ]
  },
  {
   "cell_type": "code",
   "execution_count": 10,
   "metadata": {},
   "outputs": [
    {
     "output_type": "display_data",
     "data": {
      "text/plain": "<Figure size 432x288 with 1 Axes>",
      "image/svg+xml": "<?xml version=\"1.0\" encoding=\"utf-8\" standalone=\"no\"?>\n<!DOCTYPE svg PUBLIC \"-//W3C//DTD SVG 1.1//EN\"\n  \"http://www.w3.org/Graphics/SVG/1.1/DTD/svg11.dtd\">\n<!-- Created with matplotlib (https://matplotlib.org/) -->\n<svg height=\"248.518125pt\" version=\"1.1\" viewBox=\"0 0 377.304687 248.518125\" width=\"377.304687pt\" xmlns=\"http://www.w3.org/2000/svg\" xmlns:xlink=\"http://www.w3.org/1999/xlink\">\n <defs>\n  <style type=\"text/css\">\n*{stroke-linecap:butt;stroke-linejoin:round;}\n  </style>\n </defs>\n <g id=\"figure_1\">\n  <g id=\"patch_1\">\n   <path d=\"M 0 248.518125 \nL 377.304687 248.518125 \nL 377.304687 0 \nL 0 0 \nz\n\" style=\"fill:none;\"/>\n  </g>\n  <g id=\"axes_1\">\n   <g id=\"patch_2\">\n    <path d=\"M 35.304688 224.64 \nL 370.104688 224.64 \nL 370.104688 7.2 \nL 35.304688 7.2 \nz\n\" style=\"fill:#ffffff;\"/>\n   </g>\n   <g id=\"PathCollection_1\">\n    <defs>\n     <path d=\"M 0 3 \nC 0.795609 3 1.55874 2.683901 2.12132 2.12132 \nC 2.683901 1.55874 3 0.795609 3 0 \nC 3 -0.795609 2.683901 -1.55874 2.12132 -2.12132 \nC 1.55874 -2.683901 0.795609 -3 0 -3 \nC -0.795609 -3 -1.55874 -2.683901 -2.12132 -2.12132 \nC -2.683901 -1.55874 -3 -0.795609 -3 0 \nC -3 0.795609 -2.683901 1.55874 -2.12132 2.12132 \nC -1.55874 2.683901 -0.795609 3 0 3 \nz\n\" id=\"me9ece9da95\" style=\"stroke:#1f77b4;\"/>\n    </defs>\n    <g clip-path=\"url(#p480114f886)\">\n     <use style=\"fill:#1f77b4;stroke:#1f77b4;\" x=\"120.760632\" xlink:href=\"#me9ece9da95\" y=\"129.610364\"/>\n     <use style=\"fill:#1f77b4;stroke:#1f77b4;\" x=\"144.173219\" xlink:href=\"#me9ece9da95\" y=\"118.550758\"/>\n     <use style=\"fill:#1f77b4;stroke:#1f77b4;\" x=\"167.585806\" xlink:href=\"#me9ece9da95\" y=\"96.431545\"/>\n     <use style=\"fill:#1f77b4;stroke:#1f77b4;\" x=\"214.410981\" xlink:href=\"#me9ece9da95\" y=\"71.547431\"/>\n     <use style=\"fill:#1f77b4;stroke:#1f77b4;\" x=\"261.236156\" xlink:href=\"#me9ece9da95\" y=\"68.782529\"/>\n    </g>\n   </g>\n   <g id=\"matplotlib.axis_1\">\n    <g id=\"xtick_1\">\n     <g id=\"line2d_1\">\n      <defs>\n       <path d=\"M 0 0 \nL 0 3.5 \n\" id=\"ma38dcfe8bd\" style=\"stroke:#000000;stroke-width:0.8;\"/>\n      </defs>\n      <g>\n       <use style=\"stroke:#000000;stroke-width:0.8;\" x=\"50.522869\" xlink:href=\"#ma38dcfe8bd\" y=\"224.64\"/>\n      </g>\n     </g>\n     <g id=\"text_1\">\n      <!-- 0 -->\n      <defs>\n       <path d=\"M 31.78125 66.40625 \nQ 24.171875 66.40625 20.328125 58.90625 \nQ 16.5 51.421875 16.5 36.375 \nQ 16.5 21.390625 20.328125 13.890625 \nQ 24.171875 6.390625 31.78125 6.390625 \nQ 39.453125 6.390625 43.28125 13.890625 \nQ 47.125 21.390625 47.125 36.375 \nQ 47.125 51.421875 43.28125 58.90625 \nQ 39.453125 66.40625 31.78125 66.40625 \nz\nM 31.78125 74.21875 \nQ 44.046875 74.21875 50.515625 64.515625 \nQ 56.984375 54.828125 56.984375 36.375 \nQ 56.984375 17.96875 50.515625 8.265625 \nQ 44.046875 -1.421875 31.78125 -1.421875 \nQ 19.53125 -1.421875 13.0625 8.265625 \nQ 6.59375 17.96875 6.59375 36.375 \nQ 6.59375 54.828125 13.0625 64.515625 \nQ 19.53125 74.21875 31.78125 74.21875 \nz\n\" id=\"DejaVuSans-48\"/>\n      </defs>\n      <g transform=\"translate(47.341619 239.238437)scale(0.1 -0.1)\">\n       <use xlink:href=\"#DejaVuSans-48\"/>\n      </g>\n     </g>\n    </g>\n    <g id=\"xtick_2\">\n     <g id=\"line2d_2\">\n      <g>\n       <use style=\"stroke:#000000;stroke-width:0.8;\" x=\"109.054338\" xlink:href=\"#ma38dcfe8bd\" y=\"224.64\"/>\n      </g>\n     </g>\n     <g id=\"text_2\">\n      <!-- 5 -->\n      <defs>\n       <path d=\"M 10.796875 72.90625 \nL 49.515625 72.90625 \nL 49.515625 64.59375 \nL 19.828125 64.59375 \nL 19.828125 46.734375 \nQ 21.96875 47.46875 24.109375 47.828125 \nQ 26.265625 48.1875 28.421875 48.1875 \nQ 40.625 48.1875 47.75 41.5 \nQ 54.890625 34.8125 54.890625 23.390625 \nQ 54.890625 11.625 47.5625 5.09375 \nQ 40.234375 -1.421875 26.90625 -1.421875 \nQ 22.3125 -1.421875 17.546875 -0.640625 \nQ 12.796875 0.140625 7.71875 1.703125 \nL 7.71875 11.625 \nQ 12.109375 9.234375 16.796875 8.0625 \nQ 21.484375 6.890625 26.703125 6.890625 \nQ 35.15625 6.890625 40.078125 11.328125 \nQ 45.015625 15.765625 45.015625 23.390625 \nQ 45.015625 31 40.078125 35.4375 \nQ 35.15625 39.890625 26.703125 39.890625 \nQ 22.75 39.890625 18.8125 39.015625 \nQ 14.890625 38.140625 10.796875 36.28125 \nz\n\" id=\"DejaVuSans-53\"/>\n      </defs>\n      <g transform=\"translate(105.873088 239.238437)scale(0.1 -0.1)\">\n       <use xlink:href=\"#DejaVuSans-53\"/>\n      </g>\n     </g>\n    </g>\n    <g id=\"xtick_3\">\n     <g id=\"line2d_3\">\n      <g>\n       <use style=\"stroke:#000000;stroke-width:0.8;\" x=\"167.585806\" xlink:href=\"#ma38dcfe8bd\" y=\"224.64\"/>\n      </g>\n     </g>\n     <g id=\"text_3\">\n      <!-- 10 -->\n      <defs>\n       <path d=\"M 12.40625 8.296875 \nL 28.515625 8.296875 \nL 28.515625 63.921875 \nL 10.984375 60.40625 \nL 10.984375 69.390625 \nL 28.421875 72.90625 \nL 38.28125 72.90625 \nL 38.28125 8.296875 \nL 54.390625 8.296875 \nL 54.390625 0 \nL 12.40625 0 \nz\n\" id=\"DejaVuSans-49\"/>\n      </defs>\n      <g transform=\"translate(161.223306 239.238437)scale(0.1 -0.1)\">\n       <use xlink:href=\"#DejaVuSans-49\"/>\n       <use x=\"63.623047\" xlink:href=\"#DejaVuSans-48\"/>\n      </g>\n     </g>\n    </g>\n    <g id=\"xtick_4\">\n     <g id=\"line2d_4\">\n      <g>\n       <use style=\"stroke:#000000;stroke-width:0.8;\" x=\"226.117275\" xlink:href=\"#ma38dcfe8bd\" y=\"224.64\"/>\n      </g>\n     </g>\n     <g id=\"text_4\">\n      <!-- 15 -->\n      <g transform=\"translate(219.754775 239.238437)scale(0.1 -0.1)\">\n       <use xlink:href=\"#DejaVuSans-49\"/>\n       <use x=\"63.623047\" xlink:href=\"#DejaVuSans-53\"/>\n      </g>\n     </g>\n    </g>\n    <g id=\"xtick_5\">\n     <g id=\"line2d_5\">\n      <g>\n       <use style=\"stroke:#000000;stroke-width:0.8;\" x=\"284.648743\" xlink:href=\"#ma38dcfe8bd\" y=\"224.64\"/>\n      </g>\n     </g>\n     <g id=\"text_5\">\n      <!-- 20 -->\n      <defs>\n       <path d=\"M 19.1875 8.296875 \nL 53.609375 8.296875 \nL 53.609375 0 \nL 7.328125 0 \nL 7.328125 8.296875 \nQ 12.9375 14.109375 22.625 23.890625 \nQ 32.328125 33.6875 34.8125 36.53125 \nQ 39.546875 41.84375 41.421875 45.53125 \nQ 43.3125 49.21875 43.3125 52.78125 \nQ 43.3125 58.59375 39.234375 62.25 \nQ 35.15625 65.921875 28.609375 65.921875 \nQ 23.96875 65.921875 18.8125 64.3125 \nQ 13.671875 62.703125 7.8125 59.421875 \nL 7.8125 69.390625 \nQ 13.765625 71.78125 18.9375 73 \nQ 24.125 74.21875 28.421875 74.21875 \nQ 39.75 74.21875 46.484375 68.546875 \nQ 53.21875 62.890625 53.21875 53.421875 \nQ 53.21875 48.921875 51.53125 44.890625 \nQ 49.859375 40.875 45.40625 35.40625 \nQ 44.1875 33.984375 37.640625 27.21875 \nQ 31.109375 20.453125 19.1875 8.296875 \nz\n\" id=\"DejaVuSans-50\"/>\n      </defs>\n      <g transform=\"translate(278.286243 239.238437)scale(0.1 -0.1)\">\n       <use xlink:href=\"#DejaVuSans-50\"/>\n       <use x=\"63.623047\" xlink:href=\"#DejaVuSans-48\"/>\n      </g>\n     </g>\n    </g>\n    <g id=\"xtick_6\">\n     <g id=\"line2d_6\">\n      <g>\n       <use style=\"stroke:#000000;stroke-width:0.8;\" x=\"343.180212\" xlink:href=\"#ma38dcfe8bd\" y=\"224.64\"/>\n      </g>\n     </g>\n     <g id=\"text_6\">\n      <!-- 25 -->\n      <g transform=\"translate(336.817712 239.238437)scale(0.1 -0.1)\">\n       <use xlink:href=\"#DejaVuSans-50\"/>\n       <use x=\"63.623047\" xlink:href=\"#DejaVuSans-53\"/>\n      </g>\n     </g>\n    </g>\n   </g>\n   <g id=\"matplotlib.axis_2\">\n    <g id=\"ytick_1\">\n     <g id=\"line2d_7\">\n      <defs>\n       <path d=\"M 0 0 \nL -3.5 0 \n\" id=\"m74c5fa7970\" style=\"stroke:#000000;stroke-width:0.8;\"/>\n      </defs>\n      <g>\n       <use style=\"stroke:#000000;stroke-width:0.8;\" x=\"35.304688\" xlink:href=\"#m74c5fa7970\" y=\"223.617018\"/>\n      </g>\n     </g>\n     <g id=\"text_7\">\n      <!-- −10 -->\n      <defs>\n       <path d=\"M 10.59375 35.5 \nL 73.1875 35.5 \nL 73.1875 27.203125 \nL 10.59375 27.203125 \nz\n\" id=\"DejaVuSans-8722\"/>\n      </defs>\n      <g transform=\"translate(7.2 227.416237)scale(0.1 -0.1)\">\n       <use xlink:href=\"#DejaVuSans-8722\"/>\n       <use x=\"83.789062\" xlink:href=\"#DejaVuSans-49\"/>\n       <use x=\"147.412109\" xlink:href=\"#DejaVuSans-48\"/>\n      </g>\n     </g>\n    </g>\n    <g id=\"ytick_2\">\n     <g id=\"line2d_8\">\n      <g>\n       <use style=\"stroke:#000000;stroke-width:0.8;\" x=\"35.304688\" xlink:href=\"#m74c5fa7970\" y=\"195.968002\"/>\n      </g>\n     </g>\n     <g id=\"text_8\">\n      <!-- −5 -->\n      <g transform=\"translate(13.5625 199.767221)scale(0.1 -0.1)\">\n       <use xlink:href=\"#DejaVuSans-8722\"/>\n       <use x=\"83.789062\" xlink:href=\"#DejaVuSans-53\"/>\n      </g>\n     </g>\n    </g>\n    <g id=\"ytick_3\">\n     <g id=\"line2d_9\">\n      <g>\n       <use style=\"stroke:#000000;stroke-width:0.8;\" x=\"35.304688\" xlink:href=\"#m74c5fa7970\" y=\"168.318987\"/>\n      </g>\n     </g>\n     <g id=\"text_9\">\n      <!-- 0 -->\n      <g transform=\"translate(21.942188 172.118205)scale(0.1 -0.1)\">\n       <use xlink:href=\"#DejaVuSans-48\"/>\n      </g>\n     </g>\n    </g>\n    <g id=\"ytick_4\">\n     <g id=\"line2d_10\">\n      <g>\n       <use style=\"stroke:#000000;stroke-width:0.8;\" x=\"35.304688\" xlink:href=\"#m74c5fa7970\" y=\"140.669971\"/>\n      </g>\n     </g>\n     <g id=\"text_10\">\n      <!-- 5 -->\n      <g transform=\"translate(21.942188 144.469189)scale(0.1 -0.1)\">\n       <use xlink:href=\"#DejaVuSans-53\"/>\n      </g>\n     </g>\n    </g>\n    <g id=\"ytick_5\">\n     <g id=\"line2d_11\">\n      <g>\n       <use style=\"stroke:#000000;stroke-width:0.8;\" x=\"35.304688\" xlink:href=\"#m74c5fa7970\" y=\"113.020955\"/>\n      </g>\n     </g>\n     <g id=\"text_11\">\n      <!-- 10 -->\n      <g transform=\"translate(15.579688 116.820173)scale(0.1 -0.1)\">\n       <use xlink:href=\"#DejaVuSans-49\"/>\n       <use x=\"63.623047\" xlink:href=\"#DejaVuSans-48\"/>\n      </g>\n     </g>\n    </g>\n    <g id=\"ytick_6\">\n     <g id=\"line2d_12\">\n      <g>\n       <use style=\"stroke:#000000;stroke-width:0.8;\" x=\"35.304688\" xlink:href=\"#m74c5fa7970\" y=\"85.371939\"/>\n      </g>\n     </g>\n     <g id=\"text_12\">\n      <!-- 15 -->\n      <g transform=\"translate(15.579688 89.171157)scale(0.1 -0.1)\">\n       <use xlink:href=\"#DejaVuSans-49\"/>\n       <use x=\"63.623047\" xlink:href=\"#DejaVuSans-53\"/>\n      </g>\n     </g>\n    </g>\n    <g id=\"ytick_7\">\n     <g id=\"line2d_13\">\n      <g>\n       <use style=\"stroke:#000000;stroke-width:0.8;\" x=\"35.304688\" xlink:href=\"#m74c5fa7970\" y=\"57.722923\"/>\n      </g>\n     </g>\n     <g id=\"text_13\">\n      <!-- 20 -->\n      <g transform=\"translate(15.579688 61.522141)scale(0.1 -0.1)\">\n       <use xlink:href=\"#DejaVuSans-50\"/>\n       <use x=\"63.623047\" xlink:href=\"#DejaVuSans-48\"/>\n      </g>\n     </g>\n    </g>\n    <g id=\"ytick_8\">\n     <g id=\"line2d_14\">\n      <g>\n       <use style=\"stroke:#000000;stroke-width:0.8;\" x=\"35.304688\" xlink:href=\"#m74c5fa7970\" y=\"30.073907\"/>\n      </g>\n     </g>\n     <g id=\"text_14\">\n      <!-- 25 -->\n      <g transform=\"translate(15.579688 33.873126)scale(0.1 -0.1)\">\n       <use xlink:href=\"#DejaVuSans-50\"/>\n       <use x=\"63.623047\" xlink:href=\"#DejaVuSans-53\"/>\n      </g>\n     </g>\n    </g>\n   </g>\n   <g id=\"line2d_15\">\n    <path clip-path=\"url(#p480114f886)\" d=\"M 50.522869 157.450063 \nL 53.597249 156.03222 \nL 56.67163 154.614378 \nL 59.74601 153.196535 \nL 62.82039 151.778692 \nL 65.89477 150.36085 \nL 68.96915 148.943007 \nL 72.04353 147.525164 \nL 75.117911 146.107321 \nL 78.192291 144.689479 \nL 81.266671 143.271636 \nL 84.341051 141.853793 \nL 87.415431 140.435951 \nL 90.489811 139.018108 \nL 93.564192 137.600265 \nL 96.638572 136.182423 \nL 99.712952 134.76458 \nL 102.787332 133.346737 \nL 105.861712 131.928895 \nL 108.936092 130.511052 \nL 112.010473 129.093209 \nL 115.084853 127.675366 \nL 118.159233 126.257524 \nL 121.233613 124.839681 \nL 124.307993 123.421838 \nL 127.382373 122.003996 \nL 130.456754 120.586153 \nL 133.531134 119.16831 \nL 136.605514 117.750468 \nL 139.679894 116.332625 \nL 142.754274 114.914782 \nL 145.828654 113.49694 \nL 148.903035 112.079097 \nL 151.977415 110.661254 \nL 155.051795 109.243411 \nL 158.126175 107.825569 \nL 161.200555 106.407726 \nL 164.274935 104.989883 \nL 167.349316 103.572041 \nL 170.423696 102.154198 \nL 173.498076 100.736355 \nL 176.572456 99.318513 \nL 179.646836 97.90067 \nL 182.721216 96.482827 \nL 185.795597 95.064985 \nL 188.869977 93.647142 \nL 191.944357 92.229299 \nL 195.018737 90.811456 \nL 198.093117 89.393614 \nL 201.167497 87.975771 \nL 204.241878 86.557928 \nL 207.316258 85.140086 \nL 210.390638 83.722243 \nL 213.465018 82.3044 \nL 216.539398 80.886558 \nL 219.613778 79.468715 \nL 222.688159 78.050872 \nL 225.762539 76.633029 \nL 228.836919 75.215187 \nL 231.911299 73.797344 \nL 234.985679 72.379501 \nL 238.060059 70.961659 \nL 241.13444 69.543816 \nL 244.20882 68.125973 \nL 247.2832 66.708131 \nL 250.35758 65.290288 \nL 253.43196 63.872445 \nL 256.50634 62.454603 \nL 259.580721 61.03676 \nL 262.655101 59.618917 \nL 265.729481 58.201074 \nL 268.803861 56.783232 \nL 271.878241 55.365389 \nL 274.952621 53.947546 \nL 278.027002 52.529704 \nL 281.101382 51.111861 \nL 284.175762 49.694018 \nL 287.250142 48.276176 \nL 290.324522 46.858333 \nL 293.398902 45.44049 \nL 296.473283 44.022648 \nL 299.547663 42.604805 \nL 302.622043 41.186962 \nL 305.696423 39.769119 \nL 308.770803 38.351277 \nL 311.845183 36.933434 \nL 314.919564 35.515591 \nL 317.993944 34.097749 \nL 321.068324 32.679906 \nL 324.142704 31.262063 \nL 327.217084 29.844221 \nL 330.291464 28.426378 \nL 333.365845 27.008535 \nL 336.440225 25.590693 \nL 339.514605 24.17285 \nL 342.588985 22.755007 \nL 345.663365 21.337164 \nL 348.737745 19.919322 \nL 351.812126 18.501479 \nL 354.886506 17.083636 \n\" style=\"fill:none;stroke:#1f77b4;stroke-linecap:square;stroke-width:1.5;\"/>\n   </g>\n   <g id=\"line2d_16\">\n    <path clip-path=\"url(#p480114f886)\" d=\"M 50.522869 214.756364 \nL 53.597249 210.494505 \nL 56.67163 206.295215 \nL 59.74601 202.158492 \nL 62.82039 198.084337 \nL 65.89477 194.07275 \nL 68.96915 190.123731 \nL 72.04353 186.23728 \nL 75.117911 182.413396 \nL 78.192291 178.652081 \nL 81.266671 174.953333 \nL 84.341051 171.317153 \nL 87.415431 167.743541 \nL 90.489811 164.232497 \nL 93.564192 160.784021 \nL 96.638572 157.398112 \nL 99.712952 154.074772 \nL 102.787332 150.813999 \nL 105.861712 147.615794 \nL 108.936092 144.480157 \nL 112.010473 141.407087 \nL 115.084853 138.396586 \nL 118.159233 135.448652 \nL 121.233613 132.563287 \nL 124.307993 129.740489 \nL 127.382373 126.980259 \nL 130.456754 124.282597 \nL 133.531134 121.647502 \nL 136.605514 119.074976 \nL 139.679894 116.565017 \nL 142.754274 114.117626 \nL 145.828654 111.732803 \nL 148.903035 109.410548 \nL 151.977415 107.150861 \nL 155.051795 104.953741 \nL 158.126175 102.81919 \nL 161.200555 100.747206 \nL 164.274935 98.73779 \nL 167.349316 96.790942 \nL 170.423696 94.906662 \nL 173.498076 93.08495 \nL 176.572456 91.325805 \nL 179.646836 89.629229 \nL 182.721216 87.99522 \nL 185.795597 86.423779 \nL 188.869977 84.914906 \nL 191.944357 83.468601 \nL 195.018737 82.084863 \nL 198.093117 80.763694 \nL 201.167497 79.505092 \nL 204.241878 78.309058 \nL 207.316258 77.175592 \nL 210.390638 76.104694 \nL 213.465018 75.096363 \nL 216.539398 74.150601 \nL 219.613778 73.267406 \nL 222.688159 72.44678 \nL 225.762539 71.688721 \nL 228.836919 70.99323 \nL 231.911299 70.360306 \nL 234.985679 69.789951 \nL 238.060059 69.282163 \nL 241.13444 68.836944 \nL 244.20882 68.454292 \nL 247.2832 68.134208 \nL 250.35758 67.876692 \nL 253.43196 67.681743 \nL 256.50634 67.549363 \nL 259.580721 67.47955 \nL 262.655101 67.472305 \nL 265.729481 67.527628 \nL 268.803861 67.645519 \nL 271.878241 67.825978 \nL 274.952621 68.069005 \nL 278.027002 68.374599 \nL 281.101382 68.742761 \nL 284.175762 69.173492 \nL 287.250142 69.66679 \nL 290.324522 70.222655 \nL 293.398902 70.841089 \nL 296.473283 71.522091 \nL 299.547663 72.26566 \nL 302.622043 73.071797 \nL 305.696423 73.940502 \nL 308.770803 74.871775 \nL 311.845183 75.865616 \nL 314.919564 76.922025 \nL 317.993944 78.041001 \nL 321.068324 79.222545 \nL 324.142704 80.466658 \nL 327.217084 81.773338 \nL 330.291464 83.142585 \nL 333.365845 84.574401 \nL 336.440225 86.068785 \nL 339.514605 87.625736 \nL 342.588985 89.245255 \nL 345.663365 90.927342 \nL 348.737745 92.671997 \nL 351.812126 94.47922 \nL 354.886506 96.349011 \n\" style=\"fill:none;stroke:#ff0000;stroke-linecap:square;stroke-width:1.5;\"/>\n   </g>\n   <g id=\"patch_3\">\n    <path d=\"M 35.304688 224.64 \nL 35.304688 7.2 \n\" style=\"fill:none;stroke:#000000;stroke-linecap:square;stroke-linejoin:miter;stroke-width:0.8;\"/>\n   </g>\n   <g id=\"patch_4\">\n    <path d=\"M 370.104688 224.64 \nL 370.104688 7.2 \n\" style=\"fill:none;stroke:#000000;stroke-linecap:square;stroke-linejoin:miter;stroke-width:0.8;\"/>\n   </g>\n   <g id=\"patch_5\">\n    <path d=\"M 35.304688 224.64 \nL 370.104688 224.64 \n\" style=\"fill:none;stroke:#000000;stroke-linecap:square;stroke-linejoin:miter;stroke-width:0.8;\"/>\n   </g>\n   <g id=\"patch_6\">\n    <path d=\"M 35.304688 7.2 \nL 370.104688 7.2 \n\" style=\"fill:none;stroke:#000000;stroke-linecap:square;stroke-linejoin:miter;stroke-width:0.8;\"/>\n   </g>\n  </g>\n </g>\n <defs>\n  <clipPath id=\"p480114f886\">\n   <rect height=\"217.44\" width=\"334.8\" x=\"35.304688\" y=\"7.2\"/>\n  </clipPath>\n </defs>\n</svg>\n",
      "image/png": "[encoded data removed]"
     },
     "metadata": {
      "needs_background": "light"
     }
    }
   ],
   "source": [
    "# TRAINING\n",
    "import numpy as np\n",
    "import matplotlib.pyplot as plt\n",
    "from sklearn.linear_model import LinearRegression\n",
    "from sklearn.preprocessing import PolynomialFeatures\n",
    "\n",
    "X_train = [[6], [8], [10], [14], [18]]\n",
    "y_train = [[7], [9], [13], [17.5], [18]]\n",
    "\n",
    "regressor = LinearRegression()\n",
    "regressor.fit(X_train, y_train)\n",
    "\n",
    "# Plot the predictions for every possible x\n",
    "xx = np.linspace(0, 26, 100)\n",
    "yy = regressor.predict(xx.reshape(xx.shape[0], 1))\n",
    "plt.plot(xx, yy) # blue line = linear model\n",
    "\n",
    "quadratic_featurizer = PolynomialFeatures(degree=2) \n",
    "# For example, if an input sample is two dimensional and of the form [a, b], the degree-2 polynomial features are [1, a, b, a^2, ab, b^2].\n",
    "X_train_quadratic = quadratic_featurizer.fit_transform(X=X_train) # Fits the featurizer to X AND transforms X, returning the transformed version of X.\n",
    "\n",
    "regressor_quadratic = LinearRegression() # still uses linear regression model!\n",
    "regressor_quadratic.fit(X_train_quadratic, y_train) # fit the model to the quadratic X\n",
    "\n",
    "# Plot the predictions for every possible x\n",
    "# but first, \"every possible x\" must be transofmred to the polynomial version first\n",
    "xx_quadratic = quadratic_featurizer.transform(xx.reshape(xx.shape[0], 1))\n",
    "yy_quadratic = regressor_quadratic.predict(xx_quadratic)\n",
    "plt.plot(xx, yy_quadratic, c='r', linestyle='-') # red line = polynomial model\n",
    "\n",
    "\n",
    "plt.scatter(X_train, y_train) # blue dots = true data\n",
    "plt.show() # compare whether the linear model or polynomial model is a better fit to the true dataa"
   ]
  },
  {
   "cell_type": "code",
   "execution_count": 7,
   "metadata": {},
   "outputs": [
    {
     "output_type": "stream",
     "name": "stdout",
     "text": "(100,)\n(100, 1)\n"
    }
   ],
   "source": [
    "print(xx.shape)\n",
    "print(xx.reshape(xx.shape[0], 1).shape)"
   ]
  },
  {
   "cell_type": "code",
   "execution_count": null,
   "metadata": {},
   "outputs": [],
   "source": [
    "# TESTING\n",
    "X_test = [[6], [8], [11], [16]]\n",
    "y_test = [[8], [12], [15], [18]]\n",
    "\n",
    "X_test_quadratic = quadratic_featurizer.transform(X_test) # Applies the same transformation to the test set\n",
    "# We only want to fit to the training set! Do not fit to the test set (or else information will be leaked!)"
   ]
  },
  {
   "cell_type": "markdown",
   "metadata": {},
   "source": [
    "## Gradient descent"
   ]
  },
  {
   "cell_type": "code",
   "execution_count": 17,
   "metadata": {},
   "outputs": [
    {
     "name": "stdout",
     "output_type": "stream",
     "text": [
      "Cross validation r-squared scores: [0.5912239  0.69113418 0.78706505 0.82947908 0.74979934]\n"
     ]
    },
    {
     "name": "stderr",
     "output_type": "stream",
     "text": [
      "/usr/local/lib/python3.7/site-packages/sklearn/utils/validation.py:724: DataConversionWarning: A column-vector y was passed when a 1d array was expected. Please change the shape of y to (n_samples, ), for example using ravel().\n",
      "  y = column_or_1d(y, warn=True)\n",
      "/usr/local/lib/python3.7/site-packages/sklearn/utils/validation.py:724: DataConversionWarning: A column-vector y was passed when a 1d array was expected. Please change the shape of y to (n_samples, ), for example using ravel().\n",
      "  y = column_or_1d(y, warn=True)\n",
      "/usr/local/lib/python3.7/site-packages/sklearn/utils/validation.py:724: DataConversionWarning: A column-vector y was passed when a 1d array was expected. Please change the shape of y to (n_samples, ), for example using ravel().\n",
      "  y = column_or_1d(y, warn=True)\n",
      "/usr/local/lib/python3.7/site-packages/sklearn/utils/validation.py:724: DataConversionWarning: A column-vector y was passed when a 1d array was expected. Please change the shape of y to (n_samples, ), for example using ravel().\n",
      "  y = column_or_1d(y, warn=True)\n",
      "/usr/local/lib/python3.7/site-packages/sklearn/utils/validation.py:724: DataConversionWarning: A column-vector y was passed when a 1d array was expected. Please change the shape of y to (n_samples, ), for example using ravel().\n",
      "  y = column_or_1d(y, warn=True)\n"
     ]
    }
   ],
   "source": [
    "import numpy as np\n",
    "from sklearn.datasets import load_boston\n",
    "from sklearn.linear_model import SGDRegressor\n",
    "from sklearn.model_selection import cross_val_score\n",
    "from sklearn.preprocessing import StandardScaler\n",
    "from sklearn.model_selection import train_test_split\n",
    "\n",
    "data = load_boston()\n",
    "X_train, X_test, y_train, y_test = train_test_split(data.data, data.target)\n",
    "\n",
    "X_scaler = StandardScaler()\n",
    "y_scaler = StandardScaler()\n",
    "X_train = X_scaler.fit_transform(X_train)\n",
    "y_train = y_scaler.fit_transform(y_train.reshape(-1, 1))\n",
    "X_test = X_scaler.transform(X_test)\n",
    "y_test = y_scaler.transform(y_test.reshape(-1, 1))\n",
    "\n",
    "regressor = SGDRegressor(loss='squared_loss')\n",
    "scores = cross_val_score(regressor, X_train, y_train, cv=5)\n",
    "print('Cross validation r-squared scores: %s' % scores)\n",
    "print('Average cross validation r-squared score: %s' % np.mean(scores))\n",
    "\n",
    "regressor.fit(X_train, y_train)\n",
    "print('Test set r-squared score %s' % regressor.score(X_test))"
   ]
  },
  {
   "cell_type": "code",
   "execution_count": null,
   "metadata": {},
   "outputs": [],
   "source": []
  }
 ],
 "metadata": {
  "kernelspec": {
   "display_name": "Python 3",
   "language": "python",
   "name": "python3"
  },
  "language_info": {
   "codemirror_mode": {
    "name": "ipython",
    "version": 3
   },
   "file_extension": ".py",
   "mimetype": "text/x-python",
   "name": "python",
   "nbconvert_exporter": "python",
   "pygments_lexer": "ipython3",
   "version": "3.8.2-final"
  }
 },
 "nbformat": 4,
 "nbformat_minor": 2
}