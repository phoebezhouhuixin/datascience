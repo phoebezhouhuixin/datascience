{
 "cells": [
  {
   "cell_type": "code",
   "execution_count": 3,
   "metadata": {},
   "outputs": [],
   "source": [
    "import pandas as pd\n",
    "import numpy as np\n",
    "import matplotlib.pyplot as plt\n",
    "\n",
    "from sklearn import metrics\n",
    "\n",
    "from sklearn.cluster import KMeans\n",
    "from sklearn.cluster import AgglomerativeClustering\n",
    "from sklearn.cluster import DBSCAN\n",
    "from sklearn.cluster import MeanShift\n",
    "from sklearn.cluster import Birch\n",
    "from sklearn.cluster import AffinityPropagation\n",
    "from sklearn.cluster import MiniBatchKMeans\n",
    "from sklearn import preprocessing\n",
    "\n",
    "import warnings\n",
    "warnings.filterwarnings(\"ignore\")"
   ]
  },
  {
   "cell_type": "code",
   "execution_count": 5,
   "metadata": {},
   "outputs": [
    {
     "data": {
      "text/html": [
       "<div>\n",
       "<style scoped>\n",
       "    .dataframe tbody tr th:only-of-type {\n",
       "        vertical-align: middle;\n",
       "    }\n",
       "\n",
       "    .dataframe tbody tr th {\n",
       "        vertical-align: top;\n",
       "    }\n",
       "\n",
       "    .dataframe thead th {\n",
       "        text-align: right;\n",
       "    }\n",
       "</style>\n",
       "<table border=\"1\" class=\"dataframe\">\n",
       "  <thead>\n",
       "    <tr style=\"text-align: right;\">\n",
       "      <th></th>\n",
       "      <th>sepal-length</th>\n",
       "      <th>sepal-width</th>\n",
       "      <th>petal-length</th>\n",
       "      <th>petal-width</th>\n",
       "      <th>class</th>\n",
       "    </tr>\n",
       "  </thead>\n",
       "  <tbody>\n",
       "    <tr>\n",
       "      <th>0</th>\n",
       "      <td>7.7</td>\n",
       "      <td>3.0</td>\n",
       "      <td>6.1</td>\n",
       "      <td>2.3</td>\n",
       "      <td>2</td>\n",
       "    </tr>\n",
       "    <tr>\n",
       "      <th>1</th>\n",
       "      <td>4.9</td>\n",
       "      <td>3.1</td>\n",
       "      <td>1.5</td>\n",
       "      <td>0.1</td>\n",
       "      <td>0</td>\n",
       "    </tr>\n",
       "    <tr>\n",
       "      <th>2</th>\n",
       "      <td>7.1</td>\n",
       "      <td>3.0</td>\n",
       "      <td>5.9</td>\n",
       "      <td>2.1</td>\n",
       "      <td>2</td>\n",
       "    </tr>\n",
       "    <tr>\n",
       "      <th>3</th>\n",
       "      <td>4.4</td>\n",
       "      <td>3.2</td>\n",
       "      <td>1.3</td>\n",
       "      <td>0.2</td>\n",
       "      <td>0</td>\n",
       "    </tr>\n",
       "    <tr>\n",
       "      <th>4</th>\n",
       "      <td>4.8</td>\n",
       "      <td>3.1</td>\n",
       "      <td>1.6</td>\n",
       "      <td>0.2</td>\n",
       "      <td>0</td>\n",
       "    </tr>\n",
       "  </tbody>\n",
       "</table>\n",
       "</div>"
      ],
      "text/plain": [
       "   sepal-length  sepal-width  petal-length  petal-width  class\n",
       "0           7.7          3.0           6.1          2.3      2\n",
       "1           4.9          3.1           1.5          0.1      0\n",
       "2           7.1          3.0           5.9          2.1      2\n",
       "3           4.4          3.2           1.3          0.2      0\n",
       "4           4.8          3.1           1.6          0.2      0"
      ]
     },
     "execution_count": 5,
     "metadata": {},
     "output_type": "execute_result"
    }
   ],
   "source": [
    "iris_df = pd.read_csv('data/iris.csv', \n",
    "                       skiprows=1, \n",
    "                       names = ['sepal-length',\n",
    "                                'sepal-width',\n",
    "                                'petal-length',\n",
    "                                'petal-width',\n",
    "                                'class'])\n",
    "\n",
    "iris_df = iris_df.sample(frac=1).reset_index(drop=True)\n",
    "label_encoding = preprocessing.LabelEncoder()\n",
    "iris_df['class'] = label_encoding.fit_transform(iris_df['class'].astype(str))\n",
    "iris_df.head()"
   ]
  },
  {
   "cell_type": "code",
   "execution_count": 7,
   "metadata": {},
   "outputs": [
    {
     "data": {
      "text/html": [
       "<div>\n",
       "<style scoped>\n",
       "    .dataframe tbody tr th:only-of-type {\n",
       "        vertical-align: middle;\n",
       "    }\n",
       "\n",
       "    .dataframe tbody tr th {\n",
       "        vertical-align: top;\n",
       "    }\n",
       "\n",
       "    .dataframe thead th {\n",
       "        text-align: right;\n",
       "    }\n",
       "</style>\n",
       "<table border=\"1\" class=\"dataframe\">\n",
       "  <thead>\n",
       "    <tr style=\"text-align: right;\">\n",
       "      <th></th>\n",
       "      <th>sepal-length</th>\n",
       "      <th>sepal-width</th>\n",
       "      <th>petal-length</th>\n",
       "      <th>petal-width</th>\n",
       "    </tr>\n",
       "  </thead>\n",
       "  <tbody>\n",
       "    <tr>\n",
       "      <th>0</th>\n",
       "      <td>7.7</td>\n",
       "      <td>3.0</td>\n",
       "      <td>6.1</td>\n",
       "      <td>2.3</td>\n",
       "    </tr>\n",
       "    <tr>\n",
       "      <th>1</th>\n",
       "      <td>4.9</td>\n",
       "      <td>3.1</td>\n",
       "      <td>1.5</td>\n",
       "      <td>0.1</td>\n",
       "    </tr>\n",
       "    <tr>\n",
       "      <th>2</th>\n",
       "      <td>7.1</td>\n",
       "      <td>3.0</td>\n",
       "      <td>5.9</td>\n",
       "      <td>2.1</td>\n",
       "    </tr>\n",
       "    <tr>\n",
       "      <th>3</th>\n",
       "      <td>4.4</td>\n",
       "      <td>3.2</td>\n",
       "      <td>1.3</td>\n",
       "      <td>0.2</td>\n",
       "    </tr>\n",
       "    <tr>\n",
       "      <th>4</th>\n",
       "      <td>4.8</td>\n",
       "      <td>3.1</td>\n",
       "      <td>1.6</td>\n",
       "      <td>0.2</td>\n",
       "    </tr>\n",
       "  </tbody>\n",
       "</table>\n",
       "</div>"
      ],
      "text/plain": [
       "   sepal-length  sepal-width  petal-length  petal-width\n",
       "0           7.7          3.0           6.1          2.3\n",
       "1           4.9          3.1           1.5          0.1\n",
       "2           7.1          3.0           5.9          2.1\n",
       "3           4.4          3.2           1.3          0.2\n",
       "4           4.8          3.1           1.6          0.2"
      ]
     },
     "execution_count": 7,
     "metadata": {},
     "output_type": "execute_result"
    }
   ],
   "source": [
    "iris_features = iris_df.drop('class', axis=1)\n",
    "iris_labels = iris_df['class']\n",
    "iris_features.head()"
   ]
  },
  {
   "cell_type": "code",
   "execution_count": 8,
   "metadata": {},
   "outputs": [],
   "source": [
    "def build_model(clustering_model, data, labels):\n",
    "    \n",
    "    model = clustering_model(data)\n",
    "\n",
    "    print('homo\\tcompl\\tv-meas\\tARI\\tAMI\\tsilhouette')\n",
    "    print(50 * '-')\n",
    "    \n",
    "    print('%.3f\\t%.3f\\t%.3f\\t%.3f\\t%.3f\\t%.3f'\n",
    "          %(metrics.homogeneity_score(labels, model.labels_),\n",
    "            metrics.completeness_score(labels, model.labels_),\n",
    "            metrics.v_measure_score(labels, model.labels_),\n",
    "            metrics.adjusted_rand_score(labels, model.labels_),\n",
    "            metrics.adjusted_mutual_info_score(labels,  model.labels_),\n",
    "            metrics.silhouette_score(data, model.labels_)))"
   ]
  },
  {
   "cell_type": "code",
   "execution_count": 9,
   "metadata": {},
   "outputs": [
    {
     "name": "stdout",
     "output_type": "stream",
     "text": [
      "homo\tcompl\tv-meas\tARI\tAMI\tsilhouette\n",
      "--------------------------------------------------\n",
      "0.751\t0.765\t0.758\t0.730\t0.748\t0.553\n"
     ]
    }
   ],
   "source": [
    "def k_means(data, n_clusters=3, max_iter=1000):\n",
    "    model = KMeans(n_clusters=n_clusters, max_iter=max_iter).fit(data)\n",
    "    return model\n",
    "\n",
    "build_model(k_means, iris_features, iris_labels)"
   ]
  },
  {
   "cell_type": "code",
   "execution_count": 10,
   "metadata": {},
   "outputs": [
    {
     "name": "stdout",
     "output_type": "stream",
     "text": [
      "homo\tcompl\tv-meas\tARI\tAMI\tsilhouette\n",
      "--------------------------------------------------\n",
      "0.761\t0.780\t0.770\t0.731\t0.758\t0.554\n"
     ]
    }
   ],
   "source": [
    "def agglomerative_fn(data, n_clusters=3):\n",
    "    model = AgglomerativeClustering(n_clusters = n_clusters).fit(data)\n",
    "    return model\n",
    "\n",
    "build_model(agglomerative_fn, iris_features, iris_labels)"
   ]
  },
  {
   "cell_type": "code",
   "execution_count": 11,
   "metadata": {},
   "outputs": [
    {
     "name": "stdout",
     "output_type": "stream",
     "text": [
      "homo\tcompl\tv-meas\tARI\tAMI\tsilhouette\n",
      "--------------------------------------------------\n",
      "0.577\t0.609\t0.593\t0.508\t0.569\t0.372\n"
     ]
    }
   ],
   "source": [
    "def dbscan_fn(data, eps=0.45, min_samples=4):\n",
    "    model = DBSCAN(eps=eps, min_samples=min_samples).fit(data)\n",
    "    return model\n",
    "\n",
    "build_model(dbscan_fn, iris_features, iris_labels)"
   ]
  },
  {
   "cell_type": "code",
   "execution_count": 12,
   "metadata": {},
   "outputs": [
    {
     "name": "stdout",
     "output_type": "stream",
     "text": [
      "homo\tcompl\tv-meas\tARI\tAMI\tsilhouette\n",
      "--------------------------------------------------\n",
      "0.760\t0.772\t0.766\t0.744\t0.757\t0.551\n"
     ]
    }
   ],
   "source": [
    "def mean_shift_fn(data, bandwidth=0.85):\n",
    "    model = MeanShift(bandwidth=bandwidth).fit(data)\n",
    "    return model\n",
    "\n",
    "build_model(mean_shift_fn, iris_features, iris_labels)"
   ]
  },
  {
   "cell_type": "code",
   "execution_count": 13,
   "metadata": {},
   "outputs": [
    {
     "name": "stdout",
     "output_type": "stream",
     "text": [
      "homo\tcompl\tv-meas\tARI\tAMI\tsilhouette\n",
      "--------------------------------------------------\n",
      "0.635\t0.792\t0.705\t0.566\t0.630\t0.534\n"
     ]
    }
   ],
   "source": [
    "def birch_fn(data, n_clusters=3):\n",
    "    model = Birch(n_clusters=n_clusters).fit(data)\n",
    "    return model\n",
    "\n",
    "build_model(birch_fn, iris_features, iris_labels)"
   ]
  },
  {
   "cell_type": "code",
   "execution_count": 14,
   "metadata": {},
   "outputs": [
    {
     "name": "stdout",
     "output_type": "stream",
     "text": [
      "homo\tcompl\tv-meas\tARI\tAMI\tsilhouette\n",
      "--------------------------------------------------\n",
      "0.851\t0.492\t0.623\t0.437\t0.480\t0.349\n"
     ]
    }
   ],
   "source": [
    "def affinity_propagation_fn(data, damping=0.6, max_iter=1000):\n",
    "    model = AffinityPropagation(damping=damping, max_iter=max_iter).fit(data)\n",
    "    return model\n",
    "\n",
    "build_model(affinity_propagation_fn, iris_features, iris_labels)"
   ]
  },
  {
   "cell_type": "code",
   "execution_count": 15,
   "metadata": {},
   "outputs": [
    {
     "name": "stdout",
     "output_type": "stream",
     "text": [
      "homo\tcompl\tv-meas\tARI\tAMI\tsilhouette\n",
      "--------------------------------------------------\n",
      "0.777\t0.777\t0.777\t0.786\t0.775\t0.527\n"
     ]
    }
   ],
   "source": [
    "def mini_batch_kmeans_fn(data, n_clusters=3, max_iter=1000):\n",
    "    model = MiniBatchKMeans(n_clusters=n_clusters, max_iter=max_iter, batch_size=20).fit(data)\n",
    "    return model\n",
    "\n",
    "build_model(mini_batch_kmeans_fn, iris_features, iris_labels)"
   ]
  },
  {
   "cell_type": "code",
   "execution_count": null,
   "metadata": {},
   "outputs": [],
   "source": []
  }
 ],
 "metadata": {
  "kernelspec": {
   "display_name": "Python 3",
   "language": "python",
   "name": "python3"
  },
  "language_info": {
   "codemirror_mode": {
    "name": "ipython",
    "version": 3
   },
   "file_extension": ".py",
   "mimetype": "text/x-python",
   "name": "python",
   "nbconvert_exporter": "python",
   "pygments_lexer": "ipython3",
   "version": "3.7.2"
  }
 },
 "nbformat": 4,
 "nbformat_minor": 2
}
