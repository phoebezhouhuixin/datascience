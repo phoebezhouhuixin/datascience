{
  "nbformat": 4,
  "nbformat_minor": 0,
  "metadata": {
    "colab": {
      "name": "Sample Code - Data Science 101 - Session 4",
      "provenance": [],
      "collapsed_sections": []
    },
    "kernelspec": {
      "name": "python3",
      "display_name": "Python 3"
    }
  },
  "cells": [
    {
      "cell_type": "markdown",
      "metadata": {
        "id": "h8HIPf_RnHK5",
        "colab_type": "text"
      },
      "source": [
        "Install requests"
      ]
    },
    {
      "cell_type": "code",
      "metadata": {
        "id": "SHlggW43nHSm",
        "colab_type": "code",
        "colab": {
          "base_uri": "https://localhost:8080/",
          "height": 101
        },
        "outputId": "1e011bc8-a5f9-40f3-fc7b-dd9a0e5a8bae"
      },
      "source": [
        "pip install requests"
      ],
      "execution_count": null,
      "outputs": [
        {
          "output_type": "stream",
          "text": [
            "Requirement already satisfied: requests in /usr/local/lib/python3.6/dist-packages (2.23.0)\n",
            "Requirement already satisfied: urllib3!=1.25.0,!=1.25.1,<1.26,>=1.21.1 in /usr/local/lib/python3.6/dist-packages (from requests) (1.24.3)\n",
            "Requirement already satisfied: certifi>=2017.4.17 in /usr/local/lib/python3.6/dist-packages (from requests) (2020.4.5.1)\n",
            "Requirement already satisfied: chardet<4,>=3.0.2 in /usr/local/lib/python3.6/dist-packages (from requests) (3.0.4)\n",
            "Requirement already satisfied: idna<3,>=2.5 in /usr/local/lib/python3.6/dist-packages (from requests) (2.9)\n"
          ],
          "name": "stdout"
        }
      ]
    },
    {
      "cell_type": "code",
      "metadata": {
        "id": "SU7Ih_05o-i4",
        "colab_type": "code",
        "colab": {
          "base_uri": "https://localhost:8080/",
          "height": 34
        },
        "outputId": "8dcfaa4d-2abd-47ba-e2ea-8c0511616c28"
      },
      "source": [
        "import requests\n",
        "requests.get('https://api.github.com')"
      ],
      "execution_count": null,
      "outputs": [
        {
          "output_type": "execute_result",
          "data": {
            "text/plain": [
              "<Response [200]>"
            ]
          },
          "metadata": {
            "tags": []
          },
          "execution_count": 6
        }
      ]
    },
    {
      "cell_type": "code",
      "metadata": {
        "id": "jo7ldwhmpNaO",
        "colab_type": "code",
        "colab": {
          "base_uri": "https://localhost:8080/",
          "height": 34
        },
        "outputId": "54a11233-f405-4e42-c755-ca9e287f990d"
      },
      "source": [
        "response = requests.get('https://api.github.com')\n",
        "response.status_code"
      ],
      "execution_count": null,
      "outputs": [
        {
          "output_type": "execute_result",
          "data": {
            "text/plain": [
              "200"
            ]
          },
          "metadata": {
            "tags": []
          },
          "execution_count": 8
        }
      ]
    },
    {
      "cell_type": "code",
      "metadata": {
        "id": "FmWTu42hpYVI",
        "colab_type": "code",
        "colab": {
          "base_uri": "https://localhost:8080/",
          "height": 54
        },
        "outputId": "222a7e9c-8adb-43a9-bcb0-037978bd76d0"
      },
      "source": [
        "response.content"
      ],
      "execution_count": null,
      "outputs": [
        {
          "output_type": "execute_result",
          "data": {
            "text/plain": [
              "b'{\\n  \"current_user_url\": \"https://api.github.com/user\",\\n  \"current_user_authorizations_html_url\": \"https://github.com/settings/connections/applications{/client_id}\",\\n  \"authorizations_url\": \"https://api.github.com/authorizations\",\\n  \"code_search_url\": \"https://api.github.com/search/code?q={query}{&page,per_page,sort,order}\",\\n  \"commit_search_url\": \"https://api.github.com/search/commits?q={query}{&page,per_page,sort,order}\",\\n  \"emails_url\": \"https://api.github.com/user/emails\",\\n  \"emojis_url\": \"https://api.github.com/emojis\",\\n  \"events_url\": \"https://api.github.com/events\",\\n  \"feeds_url\": \"https://api.github.com/feeds\",\\n  \"followers_url\": \"https://api.github.com/user/followers\",\\n  \"following_url\": \"https://api.github.com/user/following{/target}\",\\n  \"gists_url\": \"https://api.github.com/gists{/gist_id}\",\\n  \"hub_url\": \"https://api.github.com/hub\",\\n  \"issue_search_url\": \"https://api.github.com/search/issues?q={query}{&page,per_page,sort,order}\",\\n  \"issues_url\": \"https://api.github.com/issues\",\\n  \"keys_url\": \"https://api.github.com/user/keys\",\\n  \"label_search_url\": \"https://api.github.com/search/labels?q={query}&repository_id={repository_id}{&page,per_page}\",\\n  \"notifications_url\": \"https://api.github.com/notifications\",\\n  \"organization_url\": \"https://api.github.com/orgs/{org}\",\\n  \"organization_repositories_url\": \"https://api.github.com/orgs/{org}/repos{?type,page,per_page,sort}\",\\n  \"organization_teams_url\": \"https://api.github.com/orgs/{org}/teams\",\\n  \"public_gists_url\": \"https://api.github.com/gists/public\",\\n  \"rate_limit_url\": \"https://api.github.com/rate_limit\",\\n  \"repository_url\": \"https://api.github.com/repos/{owner}/{repo}\",\\n  \"repository_search_url\": \"https://api.github.com/search/repositories?q={query}{&page,per_page,sort,order}\",\\n  \"current_user_repositories_url\": \"https://api.github.com/user/repos{?type,page,per_page,sort}\",\\n  \"starred_url\": \"https://api.github.com/user/starred{/owner}{/repo}\",\\n  \"starred_gists_url\": \"https://api.github.com/gists/starred\",\\n  \"user_url\": \"https://api.github.com/users/{user}\",\\n  \"user_organizations_url\": \"https://api.github.com/user/orgs\",\\n  \"user_repositories_url\": \"https://api.github.com/users/{user}/repos{?type,page,per_page,sort}\",\\n  \"user_search_url\": \"https://api.github.com/search/users?q={query}{&page,per_page,sort,order}\"\\n}\\n'"
            ]
          },
          "metadata": {
            "tags": []
          },
          "execution_count": 9
        }
      ]
    },
    {
      "cell_type": "code",
      "metadata": {
        "id": "QIo8GgInpiyo",
        "colab_type": "code",
        "colab": {
          "base_uri": "https://localhost:8080/",
          "height": 554
        },
        "outputId": "7ba31449-0420-464c-93a5-9339fd2daa9e"
      },
      "source": [
        "response.json()"
      ],
      "execution_count": null,
      "outputs": [
        {
          "output_type": "execute_result",
          "data": {
            "text/plain": [
              "{'authorizations_url': 'https://api.github.com/authorizations',\n",
              " 'code_search_url': 'https://api.github.com/search/code?q={query}{&page,per_page,sort,order}',\n",
              " 'commit_search_url': 'https://api.github.com/search/commits?q={query}{&page,per_page,sort,order}',\n",
              " 'current_user_authorizations_html_url': 'https://github.com/settings/connections/applications{/client_id}',\n",
              " 'current_user_repositories_url': 'https://api.github.com/user/repos{?type,page,per_page,sort}',\n",
              " 'current_user_url': 'https://api.github.com/user',\n",
              " 'emails_url': 'https://api.github.com/user/emails',\n",
              " 'emojis_url': 'https://api.github.com/emojis',\n",
              " 'events_url': 'https://api.github.com/events',\n",
              " 'feeds_url': 'https://api.github.com/feeds',\n",
              " 'followers_url': 'https://api.github.com/user/followers',\n",
              " 'following_url': 'https://api.github.com/user/following{/target}',\n",
              " 'gists_url': 'https://api.github.com/gists{/gist_id}',\n",
              " 'hub_url': 'https://api.github.com/hub',\n",
              " 'issue_search_url': 'https://api.github.com/search/issues?q={query}{&page,per_page,sort,order}',\n",
              " 'issues_url': 'https://api.github.com/issues',\n",
              " 'keys_url': 'https://api.github.com/user/keys',\n",
              " 'label_search_url': 'https://api.github.com/search/labels?q={query}&repository_id={repository_id}{&page,per_page}',\n",
              " 'notifications_url': 'https://api.github.com/notifications',\n",
              " 'organization_repositories_url': 'https://api.github.com/orgs/{org}/repos{?type,page,per_page,sort}',\n",
              " 'organization_teams_url': 'https://api.github.com/orgs/{org}/teams',\n",
              " 'organization_url': 'https://api.github.com/orgs/{org}',\n",
              " 'public_gists_url': 'https://api.github.com/gists/public',\n",
              " 'rate_limit_url': 'https://api.github.com/rate_limit',\n",
              " 'repository_search_url': 'https://api.github.com/search/repositories?q={query}{&page,per_page,sort,order}',\n",
              " 'repository_url': 'https://api.github.com/repos/{owner}/{repo}',\n",
              " 'starred_gists_url': 'https://api.github.com/gists/starred',\n",
              " 'starred_url': 'https://api.github.com/user/starred{/owner}{/repo}',\n",
              " 'user_organizations_url': 'https://api.github.com/user/orgs',\n",
              " 'user_repositories_url': 'https://api.github.com/users/{user}/repos{?type,page,per_page,sort}',\n",
              " 'user_search_url': 'https://api.github.com/search/users?q={query}{&page,per_page,sort,order}',\n",
              " 'user_url': 'https://api.github.com/users/{user}'}"
            ]
          },
          "metadata": {
            "tags": []
          },
          "execution_count": 11
        }
      ]
    },
    {
      "cell_type": "markdown",
      "metadata": {
        "id": "2ckMyWf2toaG",
        "colab_type": "text"
      },
      "source": [
        "Extracting API"
      ]
    },
    {
      "cell_type": "code",
      "metadata": {
        "id": "erutsp_ftoiK",
        "colab_type": "code",
        "colab": {}
      },
      "source": [
        "import requests\n",
        "import pandas as pd\n",
        "\n",
        "# Function to get JSON Data from api end-point\n",
        "\n",
        "def getJSONData (apiURL):\n",
        "    response = requests.get(\n",
        "        apiURL,\n",
        "        verify = True,  # Verify SSL certificate\n",
        "    )\n",
        "    \n",
        "    response.raise_for_status() # optional but good practice in case the call fails!\n",
        "\n",
        "    return(response.json())\n",
        "\n",
        "\n",
        "# Main function\n",
        "\n",
        "\n",
        "apiURL = \"https://api.data.gov.sg/v1/environment/air-temperature/\"\n",
        "dataFromDataGov = getJSONData(apiURL)\n",
        "dataFromDataGov\n"
      ],
      "execution_count": null,
      "outputs": []
    },
    {
      "cell_type": "markdown",
      "metadata": {
        "id": "H6q5rRJKt-Wm",
        "colab_type": "text"
      },
      "source": [
        "First Dictionary"
      ]
    },
    {
      "cell_type": "code",
      "metadata": {
        "id": "hyv5pQ2Et-ea",
        "colab_type": "code",
        "colab": {
          "base_uri": "https://localhost:8080/",
          "height": 67
        },
        "outputId": "add20bdf-e3b3-467e-f21c-a3892b13f461"
      },
      "source": [
        "import requests\n",
        "import pandas as pd\n",
        "\n",
        "# Function to get JSON Data from api end-point\n",
        "\n",
        "def getJSONData (apiURL):\n",
        "    response = requests.get(\n",
        "        apiURL,\n",
        "        verify = True,  # Verify SSL certificate\n",
        "    )\n",
        "    \n",
        "    response.raise_for_status() # optional but good practice in case the call fails!\n",
        "\n",
        "    return(response.json())\n",
        "\n",
        "\n",
        "# Main function\n",
        "\n",
        "apiURL = \"https://api.data.gov.sg/v1/environment/air-temperature/\"\n",
        "dataFromDataGov = getJSONData(apiURL)\n",
        "\n",
        "\n",
        "for k, v in dataFromDataGov.items(): #metadata, items,  api info\n",
        "  print(k)\n"
      ],
      "execution_count": null,
      "outputs": [
        {
          "output_type": "stream",
          "text": [
            "metadata\n",
            "items\n",
            "api_info\n"
          ],
          "name": "stdout"
        }
      ]
    },
    {
      "cell_type": "code",
      "metadata": {
        "id": "WpuWOpykuXx8",
        "colab_type": "code",
        "colab": {
          "base_uri": "https://localhost:8080/",
          "height": 54
        },
        "outputId": "61b18280-c50a-47a3-e31a-fc5b64dae77d"
      },
      "source": [
        "import requests\n",
        "import pandas as pd\n",
        "\n",
        "# Function to get JSON Data from api end-point\n",
        "\n",
        "def getJSONData (apiURL):\n",
        "    response = requests.get(\n",
        "        apiURL,\n",
        "        verify = True,  # Verify SSL certificate\n",
        "    )\n",
        "    \n",
        "    response.raise_for_status() # optional but good practice in case the call fails!\n",
        "\n",
        "    return(response.json())\n",
        "\n",
        "\n",
        "# Main function\n",
        "\n",
        "apiURL = \"https://api.data.gov.sg/v1/environment/air-temperature/\"\n",
        "dataFromDataGov = getJSONData(apiURL)\n",
        "\n",
        "\n",
        "for k, v in dataFromDataGov.items(): #metadata, items,  api info\n",
        "    if k == 'metadata':\n",
        "        print(v)"
      ],
      "execution_count": null,
      "outputs": [
        {
          "output_type": "stream",
          "text": [
            "{'stations': [{'id': 'S117', 'device_id': 'S117', 'name': 'Banyan Road', 'location': {'latitude': 1.256, 'longitude': 103.679}}, {'id': 'S50', 'device_id': 'S50', 'name': 'Clementi Road', 'location': {'latitude': 1.3337, 'longitude': 103.7768}}, {'id': 'S107', 'device_id': 'S107', 'name': 'East Coast Parkway', 'location': {'latitude': 1.3135, 'longitude': 103.9625}}, {'id': 'S43', 'device_id': 'S43', 'name': 'Kim Chuan Road', 'location': {'latitude': 1.3399, 'longitude': 103.8878}}, {'id': 'S44', 'device_id': 'S44', 'name': 'Nanyang Avenue', 'location': {'latitude': 1.34583, 'longitude': 103.68166}}, {'id': 'S121', 'device_id': 'S121', 'name': 'Old Choa Chu Kang Road', 'location': {'latitude': 1.37288, 'longitude': 103.72244}}, {'id': 'S111', 'device_id': 'S111', 'name': 'Scotts Road', 'location': {'latitude': 1.31055, 'longitude': 103.8365}}, {'id': 'S122', 'device_id': 'S122', 'name': 'Sembawang Road', 'location': {'latitude': 1.41731, 'longitude': 103.8249}}, {'id': 'S115', 'device_id': 'S115', 'name': 'Tuas South Avenue 3', 'location': {'latitude': 1.29377, 'longitude': 103.61843}}, {'id': 'S24', 'device_id': 'S24', 'name': 'Upper Changi Road North', 'location': {'latitude': 1.3678, 'longitude': 103.9826}}, {'id': 'S116', 'device_id': 'S116', 'name': 'West Coast Highway', 'location': {'latitude': 1.281, 'longitude': 103.754}}, {'id': 'S104', 'device_id': 'S104', 'name': 'Woodlands Avenue 9', 'location': {'latitude': 1.44387, 'longitude': 103.78538}}, {'id': 'S100', 'device_id': 'S100', 'name': 'Woodlands Road', 'location': {'latitude': 1.4172, 'longitude': 103.74855}}], 'reading_type': 'DBT 1M F', 'reading_unit': 'deg C'}\n"
          ],
          "name": "stdout"
        }
      ]
    },
    {
      "cell_type": "markdown",
      "metadata": {
        "id": "CMj343_JuiMC",
        "colab_type": "text"
      },
      "source": [
        "Second Dictionary"
      ]
    },
    {
      "cell_type": "code",
      "metadata": {
        "id": "ciuGzALAul4h",
        "colab_type": "code",
        "colab": {
          "base_uri": "https://localhost:8080/",
          "height": 34
        },
        "outputId": "594b0f8b-057d-4b77-f612-cd27b41968e1"
      },
      "source": [
        "import requests\n",
        "import pandas as pd\n",
        "\n",
        "# Function to get JSON Data from api end-point\n",
        "\n",
        "def getJSONData (apiURL):\n",
        "    response = requests.get(\n",
        "        apiURL,\n",
        "        verify = True,  # Verify SSL certificate\n",
        "    )\n",
        "    \n",
        "    response.raise_for_status() # optional but good practice in case the call fails!\n",
        "\n",
        "    return(response.json())\n",
        "\n",
        "\n",
        "# Main function\n",
        "\n",
        "apiURL = \"https://api.data.gov.sg/v1/environment/air-temperature/\"\n",
        "dataFromDataGov = getJSONData(apiURL)\n",
        "\n",
        "\n",
        "for k, v in dataFromDataGov.items(): #metadata, items,  api info\n",
        "    if k == 'metadata':\n",
        "        #print(v)\n",
        "\n",
        "        for key , value in v.items():\n",
        "            if key =='stations':\n",
        "                print(value[0])                \n",
        "\n"
      ],
      "execution_count": null,
      "outputs": [
        {
          "output_type": "stream",
          "text": [
            "{'id': 'S117', 'device_id': 'S117', 'name': 'Banyan Road', 'location': {'latitude': 1.256, 'longitude': 103.679}}\n"
          ],
          "name": "stdout"
        }
      ]
    },
    {
      "cell_type": "markdown",
      "metadata": {
        "id": "vfH8EVhLulxA",
        "colab_type": "text"
      },
      "source": [
        "Storing data in Dataframe\n"
      ]
    },
    {
      "cell_type": "code",
      "metadata": {
        "id": "nxR4My7ku5_6",
        "colab_type": "code",
        "colab": {
          "base_uri": "https://localhost:8080/",
          "height": 432
        },
        "outputId": "9cc9da0b-cb3f-4506-9217-ae5e50592cce"
      },
      "source": [
        "import requests\n",
        "import pandas as pd\n",
        "\n",
        "# Function to get JSON Data from api end-point\n",
        "\n",
        "def getJSONData (apiURL):\n",
        "    response = requests.get(\n",
        "        apiURL,\n",
        "        verify = True,  # Verify SSL certificate\n",
        "    )\n",
        "    \n",
        "    response.raise_for_status() # optional but good practice in case the call fails!\n",
        "\n",
        "    return(response.json())\n",
        "\n",
        "\n",
        "# Main function\n",
        "\n",
        "apiURL = \"https://api.data.gov.sg/v1/environment/air-temperature/\"\n",
        "dataFromDataGov = getJSONData(apiURL)\n",
        "\n",
        "\n",
        "for k, v in dataFromDataGov.items(): #metadata, items,  api info\n",
        "  if k == 'metadata':\n",
        "    #print(v)\n",
        "    \n",
        "    for key , value in v.items():\n",
        "      if key =='stations':\n",
        "     #   print(value[0])                \n",
        "        \n",
        "        for key2 , value2 in value[0].items():\n",
        "          if key2 == 'location':\n",
        "      #      print(value2)\n",
        "            \n",
        "            df = pd.DataFrame.from_dict(value, orient='columns')\n",
        "df\n"
      ],
      "execution_count": null,
      "outputs": [
        {
          "output_type": "execute_result",
          "data": {
            "text/html": [
              "<div>\n",
              "<style scoped>\n",
              "    .dataframe tbody tr th:only-of-type {\n",
              "        vertical-align: middle;\n",
              "    }\n",
              "\n",
              "    .dataframe tbody tr th {\n",
              "        vertical-align: top;\n",
              "    }\n",
              "\n",
              "    .dataframe thead th {\n",
              "        text-align: right;\n",
              "    }\n",
              "</style>\n",
              "<table border=\"1\" class=\"dataframe\">\n",
              "  <thead>\n",
              "    <tr style=\"text-align: right;\">\n",
              "      <th></th>\n",
              "      <th>id</th>\n",
              "      <th>device_id</th>\n",
              "      <th>name</th>\n",
              "      <th>location</th>\n",
              "    </tr>\n",
              "  </thead>\n",
              "  <tbody>\n",
              "    <tr>\n",
              "      <th>0</th>\n",
              "      <td>S117</td>\n",
              "      <td>S117</td>\n",
              "      <td>Banyan Road</td>\n",
              "      <td>{'latitude': 1.256, 'longitude': 103.679}</td>\n",
              "    </tr>\n",
              "    <tr>\n",
              "      <th>1</th>\n",
              "      <td>S50</td>\n",
              "      <td>S50</td>\n",
              "      <td>Clementi Road</td>\n",
              "      <td>{'latitude': 1.3337, 'longitude': 103.7768}</td>\n",
              "    </tr>\n",
              "    <tr>\n",
              "      <th>2</th>\n",
              "      <td>S107</td>\n",
              "      <td>S107</td>\n",
              "      <td>East Coast Parkway</td>\n",
              "      <td>{'latitude': 1.3135, 'longitude': 103.9625}</td>\n",
              "    </tr>\n",
              "    <tr>\n",
              "      <th>3</th>\n",
              "      <td>S43</td>\n",
              "      <td>S43</td>\n",
              "      <td>Kim Chuan Road</td>\n",
              "      <td>{'latitude': 1.3399, 'longitude': 103.8878}</td>\n",
              "    </tr>\n",
              "    <tr>\n",
              "      <th>4</th>\n",
              "      <td>S44</td>\n",
              "      <td>S44</td>\n",
              "      <td>Nanyang Avenue</td>\n",
              "      <td>{'latitude': 1.34583, 'longitude': 103.68166}</td>\n",
              "    </tr>\n",
              "    <tr>\n",
              "      <th>5</th>\n",
              "      <td>S121</td>\n",
              "      <td>S121</td>\n",
              "      <td>Old Choa Chu Kang Road</td>\n",
              "      <td>{'latitude': 1.37288, 'longitude': 103.72244}</td>\n",
              "    </tr>\n",
              "    <tr>\n",
              "      <th>6</th>\n",
              "      <td>S111</td>\n",
              "      <td>S111</td>\n",
              "      <td>Scotts Road</td>\n",
              "      <td>{'latitude': 1.31055, 'longitude': 103.8365}</td>\n",
              "    </tr>\n",
              "    <tr>\n",
              "      <th>7</th>\n",
              "      <td>S122</td>\n",
              "      <td>S122</td>\n",
              "      <td>Sembawang Road</td>\n",
              "      <td>{'latitude': 1.41731, 'longitude': 103.8249}</td>\n",
              "    </tr>\n",
              "    <tr>\n",
              "      <th>8</th>\n",
              "      <td>S115</td>\n",
              "      <td>S115</td>\n",
              "      <td>Tuas South Avenue 3</td>\n",
              "      <td>{'latitude': 1.29377, 'longitude': 103.61843}</td>\n",
              "    </tr>\n",
              "    <tr>\n",
              "      <th>9</th>\n",
              "      <td>S24</td>\n",
              "      <td>S24</td>\n",
              "      <td>Upper Changi Road North</td>\n",
              "      <td>{'latitude': 1.3678, 'longitude': 103.9826}</td>\n",
              "    </tr>\n",
              "    <tr>\n",
              "      <th>10</th>\n",
              "      <td>S116</td>\n",
              "      <td>S116</td>\n",
              "      <td>West Coast Highway</td>\n",
              "      <td>{'latitude': 1.281, 'longitude': 103.754}</td>\n",
              "    </tr>\n",
              "    <tr>\n",
              "      <th>11</th>\n",
              "      <td>S104</td>\n",
              "      <td>S104</td>\n",
              "      <td>Woodlands Avenue 9</td>\n",
              "      <td>{'latitude': 1.44387, 'longitude': 103.78538}</td>\n",
              "    </tr>\n",
              "    <tr>\n",
              "      <th>12</th>\n",
              "      <td>S100</td>\n",
              "      <td>S100</td>\n",
              "      <td>Woodlands Road</td>\n",
              "      <td>{'latitude': 1.4172, 'longitude': 103.74855}</td>\n",
              "    </tr>\n",
              "  </tbody>\n",
              "</table>\n",
              "</div>"
            ],
            "text/plain": [
              "      id  ...                                       location\n",
              "0   S117  ...      {'latitude': 1.256, 'longitude': 103.679}\n",
              "1    S50  ...    {'latitude': 1.3337, 'longitude': 103.7768}\n",
              "2   S107  ...    {'latitude': 1.3135, 'longitude': 103.9625}\n",
              "3    S43  ...    {'latitude': 1.3399, 'longitude': 103.8878}\n",
              "4    S44  ...  {'latitude': 1.34583, 'longitude': 103.68166}\n",
              "5   S121  ...  {'latitude': 1.37288, 'longitude': 103.72244}\n",
              "6   S111  ...   {'latitude': 1.31055, 'longitude': 103.8365}\n",
              "7   S122  ...   {'latitude': 1.41731, 'longitude': 103.8249}\n",
              "8   S115  ...  {'latitude': 1.29377, 'longitude': 103.61843}\n",
              "9    S24  ...    {'latitude': 1.3678, 'longitude': 103.9826}\n",
              "10  S116  ...      {'latitude': 1.281, 'longitude': 103.754}\n",
              "11  S104  ...  {'latitude': 1.44387, 'longitude': 103.78538}\n",
              "12  S100  ...   {'latitude': 1.4172, 'longitude': 103.74855}\n",
              "\n",
              "[13 rows x 4 columns]"
            ]
          },
          "metadata": {
            "tags": []
          },
          "execution_count": 15
        }
      ]
    },
    {
      "cell_type": "markdown",
      "metadata": {
        "id": "rFRr3rtNvIev",
        "colab_type": "text"
      },
      "source": [
        "Checkpoint 3: Taxi Availability Longitude and Lattitude "
      ]
    },
    {
      "cell_type": "code",
      "metadata": {
        "id": "a7V5S-0NvImX",
        "colab_type": "code",
        "colab": {
          "base_uri": "https://localhost:8080/",
          "height": 402
        },
        "outputId": "42b7d0d6-c1c2-4a06-e305-4e76b966de5f"
      },
      "source": [
        "import requests\n",
        "import pandas as pd\n",
        "\n",
        "def getJSONData (apiURL):\n",
        "    response = requests.get(\n",
        "        apiURL,\n",
        "        verify = True,  # Verify SSL certificate\n",
        "    )\n",
        "    \n",
        "    response.raise_for_status()\n",
        "\n",
        "    return(response.json())\n",
        "\n",
        "\n",
        "\n",
        "apiURL = \"https://api.data.gov.sg/v1/transport/taxi-availability\"\n",
        "\n",
        "dataFromDataGov = getJSONData(apiURL)\n",
        "\n",
        "#print(dataFromDataGov)\n",
        "for k, v in dataFromDataGov.items():\n",
        "  if k == 'features':\n",
        "#    print(v[0])\n",
        "    \n",
        "    for key , value in v[0].items():\n",
        "      if key == 'geometry':\n",
        "#        print(value)\n",
        "        \n",
        "        for key2 , value2 in value.items():\n",
        "          if key2 == 'coordinates':\n",
        "#            print(value2)\n",
        "             df = pd.DataFrame(value2, columns = ['longitude','latitude'])\n",
        "            \n",
        "df"
      ],
      "execution_count": null,
      "outputs": [
        {
          "output_type": "execute_result",
          "data": {
            "text/html": [
              "<div>\n",
              "<style scoped>\n",
              "    .dataframe tbody tr th:only-of-type {\n",
              "        vertical-align: middle;\n",
              "    }\n",
              "\n",
              "    .dataframe tbody tr th {\n",
              "        vertical-align: top;\n",
              "    }\n",
              "\n",
              "    .dataframe thead th {\n",
              "        text-align: right;\n",
              "    }\n",
              "</style>\n",
              "<table border=\"1\" class=\"dataframe\">\n",
              "  <thead>\n",
              "    <tr style=\"text-align: right;\">\n",
              "      <th></th>\n",
              "      <th>longitude</th>\n",
              "      <th>latitude</th>\n",
              "    </tr>\n",
              "  </thead>\n",
              "  <tbody>\n",
              "    <tr>\n",
              "      <th>0</th>\n",
              "      <td>103.621670</td>\n",
              "      <td>1.294090</td>\n",
              "    </tr>\n",
              "    <tr>\n",
              "      <th>1</th>\n",
              "      <td>103.626130</td>\n",
              "      <td>1.303030</td>\n",
              "    </tr>\n",
              "    <tr>\n",
              "      <th>2</th>\n",
              "      <td>103.628170</td>\n",
              "      <td>1.294260</td>\n",
              "    </tr>\n",
              "    <tr>\n",
              "      <th>3</th>\n",
              "      <td>103.628410</td>\n",
              "      <td>1.297490</td>\n",
              "    </tr>\n",
              "    <tr>\n",
              "      <th>4</th>\n",
              "      <td>103.628520</td>\n",
              "      <td>1.294170</td>\n",
              "    </tr>\n",
              "    <tr>\n",
              "      <th>...</th>\n",
              "      <td>...</td>\n",
              "      <td>...</td>\n",
              "    </tr>\n",
              "    <tr>\n",
              "      <th>6423</th>\n",
              "      <td>103.987922</td>\n",
              "      <td>1.389898</td>\n",
              "    </tr>\n",
              "    <tr>\n",
              "      <th>6424</th>\n",
              "      <td>103.988680</td>\n",
              "      <td>1.361170</td>\n",
              "    </tr>\n",
              "    <tr>\n",
              "      <th>6425</th>\n",
              "      <td>103.988774</td>\n",
              "      <td>1.361155</td>\n",
              "    </tr>\n",
              "    <tr>\n",
              "      <th>6426</th>\n",
              "      <td>103.998240</td>\n",
              "      <td>1.382140</td>\n",
              "    </tr>\n",
              "    <tr>\n",
              "      <th>6427</th>\n",
              "      <td>104.005070</td>\n",
              "      <td>1.373010</td>\n",
              "    </tr>\n",
              "  </tbody>\n",
              "</table>\n",
              "<p>6428 rows × 2 columns</p>\n",
              "</div>"
            ],
            "text/plain": [
              "       longitude  latitude\n",
              "0     103.621670  1.294090\n",
              "1     103.626130  1.303030\n",
              "2     103.628170  1.294260\n",
              "3     103.628410  1.297490\n",
              "4     103.628520  1.294170\n",
              "...          ...       ...\n",
              "6423  103.987922  1.389898\n",
              "6424  103.988680  1.361170\n",
              "6425  103.988774  1.361155\n",
              "6426  103.998240  1.382140\n",
              "6427  104.005070  1.373010\n",
              "\n",
              "[6428 rows x 2 columns]"
            ]
          },
          "metadata": {
            "tags": []
          },
          "execution_count": 17
        }
      ]
    },
    {
      "cell_type": "markdown",
      "metadata": {
        "id": "7JkjNPZ5vAIR",
        "colab_type": "text"
      },
      "source": [
        "Taxi Availability Scatterplot"
      ]
    },
    {
      "cell_type": "code",
      "metadata": {
        "id": "aNISjHugvB8u",
        "colab_type": "code",
        "colab": {
          "base_uri": "https://localhost:8080/",
          "height": 542
        },
        "outputId": "2b415021-8a98-4720-c37d-d858ceaa1bf4"
      },
      "source": [
        "import plotly.express as px\n",
        "\n",
        "plot = px.scatter(df,'longitude','latitude',)\n",
        "\n",
        "plot"
      ],
      "execution_count": null,
      "outputs": [
        {
          "output_type": "display_data",
          "data": {
            "text/html": [
              "<html>\n",
              "<head><meta charset=\"utf-8\" /></head>\n",
              "<body>\n",
              "    <div>\n",
              "            <script src=\"https://cdnjs.cloudflare.com/ajax/libs/mathjax/2.7.5/MathJax.js?config=TeX-AMS-MML_SVG\"></script><script type=\"text/javascript\">if (window.MathJax) {MathJax.Hub.Config({SVG: {font: \"STIX-Web\"}});}</script>\n",
              "                <script type=\"text/javascript\">window.PlotlyConfig = {MathJaxConfig: 'local'};</script>\n",
              "        <script src=\"https://cdn.plot.ly/plotly-latest.min.js\"></script>    \n",
              "            <div id=\"0c41f3cd-7716-46ca-95ad-b7c3e27a8e53\" class=\"plotly-graph-div\" style=\"height:525px; width:100%;\"></div>\n",
              "            <script type=\"text/javascript\">\n",
              "                \n",
              "                    window.PLOTLYENV=window.PLOTLYENV || {};\n",
              "                    \n",
              "                if (document.getElementById(\"0c41f3cd-7716-46ca-95ad-b7c3e27a8e53\")) {\n",
              "                    Plotly.newPlot(\n",
              "                        '0c41f3cd-7716-46ca-95ad-b7c3e27a8e53',\n",
              "                        [{\"hoverlabel\": {\"namelength\": 0}, \"hovertemplate\": \"longitude=%{x}<br>latitude=%{y}\", \"legendgroup\": \"\", \"marker\": {\"color\": \"#636efa\", \"symbol\": \"circle\"}, \"mode\": \"markers\", \"name\": \"\", \"showlegend\": false, \"type\": \"scattergl\", \"x\": [103.62167, 103.62613, 103.62817, 103.62841, 103.62852, 103.62912, 103.62938, 103.629406266667, 103.62983, 103.62989, 103.62993, 103.63043, 103.63309, 103.63335, 103.6338, 103.64038, 103.64104, 103.64385, 103.64507675, 103.6465, 103.64922, 103.65024, 103.65253, 103.657808166667, 103.66073, 103.66076, 103.66201, 103.66215, 103.6642, 103.6657, 103.66929, 103.66933, 103.66994, 103.67139, 103.6756, 103.67697, 103.6782, 103.6786, 103.67866, 103.67869, 103.6788, 103.67884, 103.67902, 103.67944, 103.67947, 103.68217, 103.68343, 103.68554, 103.6856, 103.68634, 103.68656, 103.68732, 103.6878, 103.68872, 103.68921, 103.68969, 103.69076, 103.6919, 103.69211, 103.69215, 103.69265, 103.69288, 103.6932305, 103.69341, 103.693466833333, 103.69378, 103.69404, 103.69469, 103.694840316667, 103.69515, 103.695669166667, 103.69606, 103.69622, 103.69644, 103.69695, 103.696999133333, 103.69721, 103.69737, 103.6974, 103.697482666667, 103.69753, 103.69754, 103.6976, 103.69778, 103.69807, 103.6983, 103.698330033333, 103.69834, 103.69838, 103.69857, 103.69868, 103.69872, 103.69901, 103.69981, 103.6999, 103.69991, 103.69997, 103.700922716667, 103.70137, 103.70141, 103.702181166667, 103.702333666667, 103.7024, 103.70247, 103.7025, 103.70336, 103.7034, 103.70349, 103.70354, 103.70375, 103.703870866667, 103.70398, 103.70403, 103.70415, 103.704284666667, 103.70472, 103.70482, 103.705, 103.70508, 103.70514, 103.7057, 103.706261666667, 103.70631, 103.70639, 103.70649, 103.70649, 103.70655, 103.7065775, 103.70658, 103.70665, 103.70667, 103.7067, 103.70678, 103.70679, 103.7068, 103.70687, 103.70692, 103.70694, 103.70696, 103.70707, 103.708456333333, 103.70848, 103.708573833333, 103.70863, 103.7088, 103.708821166667, 103.70903, 103.709582833333, 103.709590166667, 103.7096, 103.71, 103.71005, 103.71006, 103.71019, 103.71068, 103.710693166667, 103.71091, 103.71106, 103.71138, 103.71151, 103.71155, 103.7118, 103.71199, 103.712073166667, 103.71225, 103.71256, 103.71257, 103.71276, 103.712984333333, 103.7132, 103.71336, 103.7135, 103.71388, 103.71401, 103.71424, 103.7143, 103.71437, 103.71513, 103.715213416667, 103.71533, 103.71551, 103.71555, 103.715693833333, 103.715767083333, 103.7158, 103.7158, 103.71594, 103.71679, 103.717015833333, 103.717037666667, 103.717066166667, 103.717161833333, 103.7175, 103.71758, 103.71763, 103.71786, 103.71797, 103.718, 103.71807, 103.71817, 103.71829, 103.71852, 103.71862, 103.718742833333, 103.71878, 103.71914, 103.7192, 103.71921, 103.719227666667, 103.719228, 103.71927, 103.71939, 103.71945, 103.7195, 103.71983, 103.71992, 103.720093166667, 103.7201425, 103.72026, 103.72026, 103.72028, 103.7203, 103.72037, 103.720433416667, 103.72044, 103.7206, 103.72085, 103.72091, 103.72099, 103.721, 103.72103, 103.72104, 103.72135, 103.72152, 103.72182, 103.72263, 103.72265, 103.7227, 103.72274, 103.722785, 103.72297, 103.72304, 103.72312, 103.72323, 103.723232333333, 103.72326, 103.72334, 103.7234, 103.724, 103.724001833333, 103.72422, 103.724327333333, 103.72433, 103.724452833333, 103.72461, 103.72476, 103.72508, 103.72511, 103.72514, 103.72524, 103.72529, 103.72534, 103.72539, 103.72547, 103.7255, 103.7256, 103.72569, 103.72569, 103.725729166667, 103.72574, 103.725741666667, 103.7261, 103.72645, 103.7269, 103.72716, 103.7277, 103.72804, 103.72852, 103.72861, 103.72865, 103.72967, 103.73017, 103.7305, 103.7306, 103.73118, 103.7314, 103.73152, 103.7316, 103.73167, 103.73195, 103.73219, 103.7342, 103.73437, 103.73440575, 103.73443, 103.73464, 103.73509, 103.73539, 103.73543, 103.73559, 103.735978466667, 103.73598, 103.73602, 103.736034666667, 103.73612, 103.73616, 103.736644166667, 103.73673, 103.73676, 103.736848, 103.73695, 103.73702, 103.73706, 103.73711, 103.737150666667, 103.73728, 103.73731, 103.73737, 103.73761, 103.7378, 103.73781, 103.73787, 103.737939, 103.73795, 103.73807, 103.738198, 103.73837, 103.73841, 103.738445033333, 103.738479833333, 103.73855, 103.73863, 103.73864, 103.73873, 103.73873, 103.73885, 103.738927166667, 103.73903, 103.739045333333, 103.73908, 103.739146333333, 103.73917, 103.73919, 103.73929, 103.73938945, 103.73948, 103.73955, 103.73956, 103.7396, 103.7398285, 103.73983, 103.73985, 103.73988, 103.74002, 103.74002, 103.740114, 103.74014, 103.74025, 103.74032, 103.74034, 103.740436666667, 103.74047, 103.7406, 103.7406, 103.740652916667, 103.74067, 103.7407, 103.74072, 103.74072, 103.74072, 103.740723233333, 103.74077, 103.7408, 103.7408, 103.74081, 103.74096, 103.74099, 103.74103, 103.741088566667, 103.7411, 103.74112, 103.74114, 103.74121, 103.74122, 103.74123, 103.74128, 103.74136, 103.74139, 103.74139, 103.74139, 103.74143, 103.74161, 103.74163, 103.74175, 103.74188, 103.74219, 103.7422, 103.74225, 103.74233, 103.74251, 103.742597166667, 103.74262, 103.74265, 103.74267, 103.74268035, 103.742781166667, 103.74291, 103.74297, 103.74297, 103.74297, 103.74298, 103.74298, 103.74302, 103.74304, 103.743042, 103.74313, 103.74315, 103.74316, 103.74318, 103.7432, 103.7432395, 103.74325, 103.74332, 103.74333, 103.74334, 103.74337, 103.74346, 103.74347, 103.7435, 103.74352, 103.74354, 103.74354, 103.74361, 103.743632066667, 103.74364, 103.74367, 103.74372, 103.74372, 103.74374, 103.74379, 103.74383, 103.74392, 103.74403, 103.74405, 103.74413, 103.7441345, 103.74417, 103.74418, 103.74421, 103.744243183333, 103.74428, 103.74429, 103.7443, 103.74432, 103.74436, 103.7444, 103.7444, 103.74441, 103.74445, 103.74445, 103.74449, 103.7445, 103.744505833333, 103.74452, 103.74453, 103.74458, 103.74461, 103.74467, 103.744676166667, 103.74468, 103.74471, 103.74472, 103.74474, 103.74474, 103.7449, 103.74493, 103.74497, 103.74504, 103.74504, 103.745044616667, 103.745089333333, 103.745117966667, 103.74519, 103.7452, 103.74521, 103.74525, 103.74531, 103.74531, 103.74531, 103.745322666667, 103.74535, 103.74548, 103.7455, 103.7455, 103.745517833333, 103.74565, 103.74567, 103.74571, 103.74573, 103.74575, 103.74577, 103.74583, 103.74583, 103.74583, 103.745835666667, 103.745839333333, 103.74584, 103.74587, 103.74592, 103.745932, 103.745948066667, 103.745961, 103.746, 103.74601, 103.74602, 103.74602, 103.74604, 103.74611, 103.7461215, 103.74613, 103.74616, 103.74616, 103.74616, 103.74616, 103.74616, 103.746178833333, 103.7462, 103.7462, 103.74620955, 103.74624, 103.74625, 103.74625, 103.74625495, 103.74628, 103.746297383333, 103.7463, 103.74634, 103.746361166667, 103.7464, 103.74643, 103.74646, 103.746468333333, 103.7465, 103.74658, 103.7466, 103.746628333333, 103.74663, 103.74664, 103.74665, 103.7466884, 103.74669, 103.7467, 103.74677, 103.746886166667, 103.7469, 103.74692, 103.74692, 103.74696, 103.74699, 103.74701, 103.74701, 103.74704, 103.74708, 103.74709, 103.7471, 103.747100333333, 103.74711, 103.74712, 103.74719, 103.74728, 103.74728, 103.74728, 103.7473, 103.7473, 103.7473, 103.74737, 103.74739, 103.7474, 103.7474, 103.7474, 103.74743, 103.74749, 103.7475, 103.7475, 103.7475, 103.74752, 103.747521666667, 103.74753, 103.74758, 103.7476, 103.74762, 103.747622666667, 103.74765, 103.7476897, 103.74773, 103.74775, 103.74776, 103.74776, 103.747797, 103.7479, 103.7479, 103.74792, 103.74795, 103.74796, 103.747965666667, 103.74798, 103.748001, 103.74807, 103.7481, 103.7481, 103.74817, 103.74821, 103.74822, 103.74825, 103.74829, 103.74829, 103.7483, 103.748317833333, 103.74842, 103.748470666667, 103.7486, 103.74861, 103.74862, 103.748695, 103.7487, 103.74884, 103.748849833333, 103.749, 103.74913, 103.74918, 103.74919, 103.74925, 103.74934, 103.74934, 103.74937, 103.74938, 103.74938, 103.74942, 103.74943, 103.74947, 103.74951, 103.7496985, 103.7497, 103.7498, 103.74983, 103.75001, 103.750016, 103.75004, 103.750127666667, 103.750139166667, 103.75017, 103.75028, 103.7503, 103.750357833333, 103.75037, 103.750448833333, 103.7505, 103.75055, 103.750647333333, 103.750662333333, 103.75068375, 103.750716, 103.75081, 103.7508505, 103.750917833333, 103.75093, 103.75095, 103.750959166667, 103.75101, 103.75104, 103.75106, 103.75111, 103.75112, 103.75113, 103.75117, 103.75117, 103.75119, 103.7512, 103.75122, 103.75126, 103.7513, 103.7513, 103.75133, 103.75139, 103.7514, 103.7514, 103.751434616667, 103.75144, 103.75148, 103.75148, 103.75149, 103.75151, 103.75152, 103.751527333333, 103.7515765, 103.75162, 103.75162, 103.75164, 103.75185, 103.75193, 103.75198, 103.752011833333, 103.75207, 103.75207, 103.75207125, 103.75209, 103.75236, 103.75255, 103.75269, 103.75269, 103.7528405, 103.75298, 103.75305, 103.75309, 103.753113666667, 103.75314, 103.75318, 103.75321, 103.75325, 103.75341, 103.7535, 103.75357, 103.75367, 103.75377, 103.75385, 103.75398, 103.75418, 103.7542, 103.75421, 103.75425, 103.75442, 103.75443, 103.75444, 103.75449, 103.7545, 103.75458, 103.7548, 103.7548, 103.7548, 103.75484, 103.7551, 103.75511, 103.75511, 103.7552, 103.75525, 103.75527, 103.75529, 103.75532, 103.75534, 103.7554, 103.75547, 103.7554894, 103.75552, 103.75553, 103.75554, 103.75555, 103.75556, 103.75558, 103.755637333333, 103.75586, 103.75594, 103.75596, 103.75604, 103.75604, 103.75604, 103.756076666667, 103.75608, 103.75617, 103.75619, 103.75621, 103.75627, 103.7564, 103.7565, 103.75654, 103.75654, 103.756635, 103.756701966667, 103.75693, 103.756960166667, 103.75722, 103.757333583333, 103.75735, 103.75744, 103.75746, 103.75758, 103.75762, 103.75766, 103.75767, 103.757890933333, 103.75818, 103.75829, 103.75839, 103.758435166667, 103.75851, 103.75856, 103.7586, 103.7587, 103.7588, 103.75881, 103.7589005, 103.75899, 103.7591, 103.75913, 103.759197833333, 103.75923, 103.7593, 103.7593, 103.759304166667, 103.75935, 103.75946, 103.7595, 103.75966, 103.75981, 103.75984, 103.75997, 103.75998, 103.75999, 103.76015, 103.76015, 103.76022, 103.76028, 103.7603, 103.76037, 103.7604, 103.76044, 103.76047, 103.760554666667, 103.76061, 103.7607, 103.7608, 103.7608295, 103.76087, 103.76089, 103.76091, 103.760982166667, 103.7611, 103.7614, 103.76153, 103.761586833333, 103.76165, 103.76169, 103.76182095, 103.762, 103.762022166667, 103.76204295, 103.762128166667, 103.76223, 103.76236, 103.76237, 103.76239, 103.76241, 103.76245, 103.76254, 103.76263, 103.7627345, 103.76306, 103.76306, 103.76307, 103.76308, 103.76313, 103.76317, 103.76319, 103.7632, 103.76322, 103.76322, 103.76323, 103.76328, 103.7633, 103.76334, 103.763346333333, 103.7634, 103.76341, 103.76346, 103.76352, 103.763587833333, 103.7636, 103.76369, 103.7637, 103.76373, 103.76373, 103.76392, 103.76396, 103.76398, 103.76399, 103.764, 103.76405, 103.7641, 103.76411, 103.76411, 103.76413, 103.7641475, 103.764149666667, 103.76417, 103.76427, 103.76437, 103.7644, 103.76467, 103.76468495, 103.764731, 103.7648, 103.7648, 103.76486, 103.76487, 103.7649055, 103.76494, 103.764948833333, 103.76496, 103.76501, 103.76503, 103.76505, 103.76508, 103.76519, 103.76521, 103.76527, 103.76532, 103.76539, 103.76541, 103.765455666667, 103.765501666667, 103.76553, 103.765567666667, 103.765618666667, 103.76563, 103.76571, 103.76585, 103.765859666667, 103.7659, 103.76594, 103.76595, 103.76595, 103.76598, 103.76598, 103.76606, 103.76606, 103.76607505, 103.76608, 103.7661, 103.76612, 103.76614, 103.76615, 103.76619, 103.7662, 103.76625, 103.7663, 103.76635, 103.7665, 103.766503166667, 103.76652, 103.76653, 103.76657, 103.7667215, 103.766724866667, 103.76675, 103.76675, 103.76682, 103.76691, 103.76693, 103.767, 103.76707, 103.7671, 103.7671, 103.76719, 103.76728, 103.76737, 103.76739, 103.767413, 103.76742, 103.76747, 103.76747, 103.7675, 103.767509166667, 103.7676, 103.7676309, 103.7676315, 103.76771, 103.76771, 103.767712333333, 103.76772, 103.767753333333, 103.767811833333, 103.76785, 103.76798, 103.768065616667, 103.76813, 103.76814, 103.768204166667, 103.76837, 103.76838, 103.76839, 103.768393666667, 103.76845, 103.76848, 103.7685, 103.76857, 103.7686, 103.76862, 103.768697333333, 103.7687, 103.768732866667, 103.76875, 103.7688, 103.768849666667, 103.7689302, 103.76894, 103.769, 103.769283166667, 103.7693, 103.7694, 103.76949, 103.7695, 103.769505666667, 103.76953, 103.769539, 103.76956, 103.76961, 103.76961, 103.76964, 103.7697, 103.769708333333, 103.76973, 103.76978, 103.769891166667, 103.7699, 103.7700185, 103.7701, 103.77027, 103.770318333333, 103.77033, 103.7704, 103.77051, 103.77053, 103.77064, 103.770686166667, 103.77073, 103.7708, 103.77083, 103.7709765, 103.77098, 103.77107, 103.77111, 103.771118166667, 103.77114, 103.77118, 103.77118, 103.7712, 103.771267666667, 103.77127, 103.7713, 103.77132, 103.771402933333, 103.77145, 103.77147, 103.77147, 103.77153, 103.77157, 103.77158, 103.77159, 103.77166, 103.77167, 103.771671216667, 103.77170415, 103.77171, 103.77172, 103.771968766667, 103.77197, 103.77202, 103.77203, 103.7721, 103.77212, 103.7722, 103.77221, 103.77226, 103.7722815, 103.77239, 103.77242, 103.77242, 103.77248, 103.77253, 103.7726, 103.77261, 103.77262, 103.772637283333, 103.77266, 103.77269, 103.7727, 103.77271, 103.77284, 103.77284, 103.77293, 103.77296, 103.77297, 103.77317, 103.773192683333, 103.7732, 103.7732, 103.773217833333, 103.77324, 103.77327, 103.773276916667, 103.77333, 103.77338, 103.77342, 103.77342, 103.773466933333, 103.773467616667, 103.77347, 103.773496666667, 103.7735, 103.77356, 103.77356, 103.77356, 103.7735685, 103.773715166667, 103.77372, 103.773772333333, 103.77386, 103.77412735, 103.77413, 103.7743, 103.774300333333, 103.77432, 103.77449, 103.77453, 103.774578833333, 103.7746, 103.77476, 103.7748, 103.7748, 103.7748, 103.774805833333, 103.7749, 103.7749115, 103.77496, 103.774993666667, 103.7751, 103.7752, 103.77535, 103.77535, 103.77537, 103.77539, 103.775434066667, 103.77547, 103.7755, 103.77559, 103.77568, 103.77569, 103.77571, 103.77572, 103.77574, 103.77578, 103.775784833333, 103.775796666667, 103.7758, 103.77584, 103.77584, 103.77589, 103.77589, 103.77602, 103.77604, 103.776084833333, 103.7761, 103.77611, 103.77615, 103.7762, 103.77623, 103.77623, 103.7765, 103.77654, 103.77659, 103.77689, 103.77691, 103.7770295, 103.77708, 103.77709755, 103.77732, 103.77732, 103.77738, 103.77744, 103.77756, 103.77774, 103.77776, 103.77776, 103.77781, 103.77781, 103.7779, 103.7779, 103.77797, 103.778, 103.778, 103.778035333333, 103.778206166667, 103.77834, 103.77835, 103.77841, 103.77844, 103.77856, 103.77862, 103.7787725, 103.7788, 103.77884, 103.778891166667, 103.7789, 103.7789, 103.779, 103.779, 103.77905, 103.7791, 103.77911, 103.7792, 103.77926, 103.77933, 103.779339, 103.77938, 103.7794, 103.779549666667, 103.7797, 103.77981, 103.77989, 103.779967333333, 103.78009, 103.780114666667, 103.78027, 103.78032, 103.78041, 103.78044, 103.7808, 103.7808, 103.78089, 103.78106, 103.78108, 103.7813415, 103.78139, 103.7815, 103.78171, 103.78184, 103.782, 103.7822, 103.782343166667, 103.78244, 103.7825, 103.78254, 103.7826, 103.7826, 103.78264, 103.78273, 103.7828, 103.7828165, 103.78296, 103.78314, 103.78318, 103.7832, 103.783213833333, 103.78331, 103.78343, 103.783432333333, 103.78347, 103.78348, 103.783576833333, 103.78359, 103.78361, 103.78361, 103.78374, 103.78387, 103.78389, 103.78394, 103.784, 103.78401, 103.78401, 103.78403, 103.78407, 103.78412, 103.78412, 103.78416, 103.78417, 103.78418, 103.78419, 103.78421, 103.78421, 103.78424, 103.78428, 103.78429, 103.784293083333, 103.7843, 103.7843, 103.7843, 103.784330666667, 103.78434, 103.78434, 103.784369633333, 103.78439, 103.7844, 103.7844, 103.78443, 103.78443, 103.78444, 103.78446, 103.784492833333, 103.78457, 103.78459, 103.78461, 103.7846445, 103.78466, 103.7847, 103.784723833333, 103.7848, 103.78484, 103.784882483333, 103.7849, 103.784938833333, 103.78499, 103.78501, 103.785032833333, 103.78506, 103.785102833333, 103.785126666667, 103.78513, 103.78515, 103.78519, 103.78523, 103.78529, 103.78529, 103.78533, 103.7854, 103.78545, 103.78556, 103.785729, 103.78585, 103.78602, 103.78602, 103.78605, 103.78614, 103.78614, 103.786202833333, 103.786217033333, 103.78626, 103.78626, 103.786268833333, 103.78631, 103.78634, 103.78645, 103.7864975, 103.786690333333, 103.78701, 103.7870275, 103.78715, 103.78716, 103.7872, 103.7872, 103.7873, 103.7873, 103.7873, 103.78731, 103.78733, 103.78742, 103.78742, 103.78748, 103.78752, 103.78759, 103.78784, 103.787883866667, 103.78797, 103.788020283333, 103.7880669, 103.7881, 103.7881, 103.78811, 103.78812, 103.78819, 103.78819, 103.7882, 103.78828, 103.78828, 103.78828, 103.78838, 103.78838, 103.7884, 103.78851, 103.78851, 103.78865, 103.78874, 103.788748, 103.78878, 103.78878, 103.78881, 103.78882, 103.78884, 103.78886, 103.78914, 103.78917, 103.789198166667, 103.78922, 103.78935, 103.78949, 103.7895, 103.78963, 103.789899666667, 103.789923833333, 103.7901224, 103.79017, 103.7902, 103.79042, 103.79048, 103.7905, 103.79075, 103.79075, 103.79088, 103.79091, 103.79101, 103.79105, 103.79123, 103.79149, 103.7915, 103.79153, 103.79157, 103.79166, 103.79187, 103.79203, 103.7924, 103.79247, 103.7928, 103.79281, 103.79294, 103.792949166667, 103.79298, 103.79298, 103.79308, 103.793180333333, 103.793208, 103.793317666667, 103.79335, 103.79366, 103.7937, 103.79377, 103.79382, 103.79383, 103.79383, 103.79392, 103.79396, 103.79419, 103.794234666667, 103.79427, 103.79427, 103.7943, 103.79437, 103.7944, 103.794566183333, 103.79463, 103.79464, 103.7947, 103.79478, 103.79482, 103.7949, 103.794982383333, 103.79499, 103.795, 103.795020833333, 103.7951, 103.79514, 103.79525, 103.79532, 103.79533, 103.79536, 103.79537, 103.79542, 103.795421833333, 103.79544625, 103.79545, 103.7955, 103.7955, 103.79559, 103.7956, 103.795651333333, 103.79566, 103.795697666667, 103.7959, 103.795967, 103.796018333333, 103.7963895, 103.7965, 103.79656, 103.79657, 103.79664, 103.79669, 103.79672, 103.79678, 103.79679, 103.79682, 103.796829166667, 103.7969, 103.7969, 103.796928333333, 103.797, 103.79706, 103.79727, 103.79744, 103.7976, 103.7976, 103.7976, 103.7976, 103.79768, 103.79778, 103.7978, 103.79787, 103.798, 103.7980355, 103.7981, 103.79811, 103.79812, 103.79812, 103.79813, 103.798135, 103.79814, 103.79817, 103.79821, 103.79826, 103.79835, 103.79861, 103.79863, 103.79865, 103.79871, 103.79883, 103.79887, 103.798884166667, 103.79903, 103.79903, 103.7990305, 103.79905, 103.799063, 103.79907, 103.799076666667, 103.7991, 103.79917, 103.7993, 103.79932, 103.799348166667, 103.79939, 103.79945, 103.799541666667, 103.79956, 103.79956, 103.79957, 103.79957, 103.7996, 103.7996455, 103.79975, 103.799831466667, 103.8001, 103.8002, 103.8002, 103.80026, 103.800373666667, 103.80051, 103.8006, 103.80066, 103.80076, 103.80089, 103.800918, 103.80093, 103.800974833333, 103.80098, 103.801, 103.801005, 103.8012, 103.8013, 103.80131, 103.80134, 103.801355116667, 103.8014, 103.80144, 103.8015, 103.80153, 103.801542, 103.80157, 103.8016, 103.8016, 103.80172, 103.80176, 103.801972, 103.80198, 103.80208, 103.8021, 103.80212, 103.802140833333, 103.80216, 103.80237, 103.80257, 103.8026, 103.80261, 103.80263, 103.80278, 103.8028, 103.80295, 103.80304, 103.80304, 103.80304, 103.8031439, 103.80319, 103.80329, 103.80346, 103.80349, 103.80355, 103.80355, 103.803550833333, 103.80359, 103.80363, 103.8036665, 103.80369, 103.80369, 103.803779333333, 103.80378, 103.80381, 103.803813, 103.80382, 103.80386, 103.80386, 103.8039, 103.80391, 103.80395, 103.80396, 103.80399, 103.80409, 103.8041, 103.80416, 103.80417, 103.8042, 103.80432, 103.8044706, 103.804497833333, 103.80453, 103.80466, 103.80478, 103.80483, 103.80512, 103.80524, 103.80529, 103.805371666667, 103.8054, 103.80543, 103.80563, 103.80566, 103.80572, 103.8058, 103.805801333333, 103.80582, 103.80584, 103.80596, 103.806, 103.80601, 103.8061, 103.80614, 103.806163166667, 103.80645, 103.80646, 103.8065, 103.8066, 103.80664, 103.806682, 103.80669, 103.806707833333, 103.80698, 103.807013, 103.80703, 103.80704, 103.807043833333, 103.80709, 103.80709, 103.80714, 103.80715, 103.80719, 103.80721, 103.80727, 103.8073565, 103.8074, 103.80744, 103.80744, 103.80749, 103.80752, 103.80758, 103.807746833333, 103.807855666667, 103.80787, 103.808007833333, 103.8081, 103.80817, 103.808232833333, 103.8083, 103.80843, 103.80852735, 103.80857, 103.8086, 103.80896, 103.809, 103.80908, 103.80933, 103.80947, 103.80949, 103.80953, 103.80953, 103.80955, 103.80971, 103.80976, 103.8098, 103.8099, 103.80991, 103.81003, 103.81009, 103.81014, 103.8102, 103.810210833333, 103.81024, 103.8103275, 103.81035, 103.810397166667, 103.8104, 103.81066, 103.81075, 103.81097, 103.81101, 103.81112, 103.81116, 103.81116, 103.81116, 103.81123, 103.81128, 103.81128, 103.81148, 103.81149, 103.81151, 103.81154, 103.811561, 103.8116, 103.81168, 103.8117, 103.81174, 103.812213666667, 103.81227, 103.8123245, 103.8124, 103.81244, 103.81245, 103.8125, 103.81255, 103.81269, 103.81281, 103.81285, 103.812893166667, 103.813, 103.81313, 103.81315, 103.81321, 103.8133, 103.81336, 103.813445, 103.8135595, 103.8136, 103.81367, 103.81368, 103.813689366667, 103.81369, 103.8137, 103.81371, 103.81372, 103.81372, 103.81374, 103.8139, 103.81399, 103.814, 103.814010666667, 103.81405, 103.814063016667, 103.81411, 103.81412, 103.81418, 103.81425, 103.81435, 103.81439, 103.81439, 103.8144, 103.81442, 103.81442, 103.8145, 103.814517166667, 103.814535, 103.81454, 103.81459, 103.81466, 103.8147, 103.8148, 103.81497, 103.81497, 103.815, 103.81511, 103.81513, 103.81519, 103.815251166667, 103.8153, 103.815336666667, 103.815503333333, 103.81557, 103.8156, 103.81562, 103.81567, 103.81569, 103.81589, 103.81591, 103.816, 103.816061, 103.81607, 103.8161, 103.81611, 103.81612, 103.81613, 103.8162, 103.81627, 103.81629, 103.81632385, 103.81639, 103.81639, 103.81643, 103.81644, 103.81645, 103.81649, 103.816499066667, 103.81651, 103.81654, 103.81654, 103.81663, 103.81665, 103.81666, 103.8166735, 103.816678, 103.81669, 103.81675, 103.81675, 103.8168, 103.8168, 103.81683, 103.81688, 103.81689, 103.81694, 103.81697, 103.8169725, 103.81701, 103.81707, 103.8171, 103.81715, 103.81721, 103.81725, 103.81732, 103.81736, 103.81739, 103.8174, 103.81756, 103.81761, 103.81764, 103.81764, 103.81766, 103.81769, 103.817725416667, 103.817752016667, 103.8178125, 103.81783, 103.81787, 103.81791, 103.817939333333, 103.81796, 103.817964166667, 103.818, 103.818, 103.81805, 103.81822, 103.81833, 103.81837, 103.81842, 103.818537166667, 103.818541833333, 103.81859, 103.81862, 103.81863, 103.81876, 103.81877, 103.8188, 103.8189, 103.819, 103.81902, 103.81904, 103.81913, 103.81917, 103.8192, 103.81926, 103.819286166667, 103.81957, 103.81965, 103.81967, 103.8197, 103.81972, 103.8198, 103.8198, 103.8199, 103.81992, 103.819922333333, 103.8199246, 103.81993, 103.82, 103.82011, 103.82016, 103.82018, 103.82018, 103.82021, 103.82021, 103.82021, 103.82028, 103.820309266667, 103.82035575, 103.82039, 103.82039, 103.82043, 103.8204359, 103.82046, 103.82052255, 103.820541983333, 103.82061, 103.82063, 103.82063, 103.82066, 103.82072, 103.82074, 103.82075, 103.820787516667, 103.8208455, 103.82088, 103.82088, 103.82088, 103.82093, 103.821, 103.82101, 103.82104, 103.82106, 103.8211, 103.821187333333, 103.82119, 103.82124, 103.82124, 103.82126, 103.82128, 103.82128, 103.82128, 103.82137, 103.82139, 103.821410083333, 103.8215, 103.82155, 103.82157, 103.82158, 103.821587116667, 103.8216, 103.8216625, 103.82179, 103.82187, 103.822, 103.82218, 103.8222, 103.8222, 103.82222, 103.82224, 103.82227, 103.822271666667, 103.82238, 103.82238, 103.82245, 103.8225, 103.82251, 103.82253, 103.82257, 103.82258, 103.8226, 103.82261, 103.8226335, 103.82265, 103.82266, 103.82267, 103.82271, 103.82275, 103.82276, 103.82283, 103.82283, 103.82285, 103.82287, 103.8229, 103.8229, 103.8229, 103.82291, 103.82294, 103.82294, 103.82297, 103.82302, 103.823041816667, 103.82315, 103.82321, 103.82323, 103.82326, 103.82327, 103.8233, 103.82332, 103.82334, 103.82339, 103.8234, 103.82341, 103.82343, 103.82343, 103.82348, 103.823487, 103.82352, 103.82352, 103.8235445, 103.82357, 103.82357, 103.82359825, 103.82365, 103.82366, 103.8237, 103.82374, 103.8238, 103.82382, 103.82385, 103.82387, 103.8239, 103.82393, 103.823938833333, 103.824007533333, 103.82405, 103.82405, 103.8241, 103.82415, 103.82417, 103.8242, 103.82422, 103.82424, 103.82424, 103.82433, 103.82436, 103.82439, 103.82442, 103.82445, 103.82445, 103.82446, 103.82449, 103.82453, 103.82454, 103.82455, 103.82455, 103.824627833333, 103.82478, 103.82479, 103.82491, 103.82498, 103.825, 103.825, 103.825, 103.825, 103.82509, 103.8251, 103.82513, 103.82518, 103.8252, 103.82523, 103.82533, 103.82535, 103.82535, 103.8254, 103.8254, 103.82542, 103.82543, 103.82549, 103.8255, 103.82552, 103.82558, 103.825593666667, 103.8256, 103.82561, 103.82569, 103.82571, 103.82576, 103.8258, 103.82582, 103.8258686, 103.82591, 103.82592, 103.82592, 103.82594, 103.82597, 103.82598, 103.82598, 103.826020666667, 103.82603, 103.82607, 103.8261, 103.8261, 103.82612, 103.82615, 103.826396, 103.8264, 103.826415716667, 103.82651, 103.82657, 103.82657, 103.8266, 103.82668, 103.82668, 103.82678, 103.82678, 103.8268, 103.8268, 103.826804333333, 103.82685, 103.8269, 103.82692, 103.827, 103.82701, 103.82705, 103.82709, 103.8271, 103.82719, 103.82719, 103.82724, 103.827247, 103.82728, 103.82732, 103.82733, 103.82735, 103.8274, 103.8274665, 103.82749, 103.82753, 103.82755, 103.82755005, 103.82759, 103.8276, 103.8276, 103.827613566667, 103.82766, 103.82772, 103.8277237, 103.82776, 103.82778, 103.827787833333, 103.82779, 103.82779, 103.82782, 103.82785, 103.82786, 103.82788, 103.82791, 103.82794, 103.82797, 103.82797, 103.82798, 103.828, 103.82804, 103.82806, 103.82808, 103.82809, 103.82818, 103.82818, 103.8282, 103.82822, 103.82826, 103.8283, 103.82831, 103.82838, 103.8284, 103.82843, 103.82844, 103.82849, 103.8285, 103.828509666667, 103.82851, 103.828549983333, 103.8285955, 103.82865, 103.8287, 103.82872, 103.82873, 103.82882, 103.82885, 103.828898, 103.8289, 103.8289, 103.8289, 103.82891, 103.82893, 103.82903, 103.82906, 103.82907, 103.8291, 103.8291, 103.82916, 103.82918, 103.82932, 103.82936, 103.82937, 103.82942, 103.82943, 103.829437733333, 103.82948, 103.82948, 103.82952, 103.8296, 103.8296, 103.82966, 103.829767, 103.82997, 103.83001, 103.83003, 103.83005, 103.83012, 103.830169333333, 103.83018, 103.83026, 103.83031, 103.83033, 103.83033, 103.83037, 103.83039, 103.8304, 103.830400333333, 103.83042, 103.83053, 103.83053, 103.83054, 103.83055, 103.83058, 103.8306, 103.83062, 103.83066, 103.83068, 103.830683216667, 103.83072, 103.83073, 103.83079, 103.830793666667, 103.8308, 103.83082, 103.83086, 103.83086, 103.8309105, 103.830994, 103.831019333333, 103.83103, 103.83109, 103.8311, 103.83111, 103.83113, 103.83115, 103.83115, 103.83117, 103.83118, 103.8312, 103.83126, 103.83127, 103.83128, 103.8313, 103.83131, 103.83131, 103.83136, 103.83136, 103.83138, 103.83138, 103.8314, 103.8314, 103.83143, 103.83143, 103.83143, 103.83145, 103.83145, 103.83145, 103.83147, 103.83149, 103.83149, 103.8315, 103.8315, 103.83151, 103.83151, 103.83154755, 103.83158, 103.83158, 103.831583183333, 103.831611216667, 103.83167, 103.83169, 103.8317, 103.8318, 103.8318, 103.831806666667, 103.831811333333, 103.831821966667, 103.83187, 103.83191, 103.83198, 103.83198, 103.832, 103.832, 103.832, 103.83202, 103.83203, 103.83203, 103.83207, 103.83209, 103.83209, 103.83219, 103.83221, 103.83221, 103.83221, 103.8323, 103.832350833333, 103.8323645, 103.83237, 103.8324, 103.83243, 103.83248, 103.83255, 103.83257, 103.8326375, 103.832656666667, 103.83267, 103.83269, 103.8326985, 103.83274, 103.83277, 103.83281, 103.832813833333, 103.8329, 103.8329, 103.83291, 103.832991766667, 103.833, 103.83308, 103.83308, 103.8331, 103.83317, 103.83322, 103.83323, 103.83324, 103.8332468, 103.83325, 103.83326, 103.83327, 103.83327, 103.83328, 103.83328, 103.8333, 103.8333, 103.83331, 103.83333, 103.83335, 103.83342, 103.83346, 103.83346, 103.8335, 103.8335, 103.8335135, 103.833529666667, 103.83353, 103.83354, 103.83354, 103.83354, 103.83357, 103.83357, 103.83358, 103.8336, 103.8336, 103.83362, 103.83363, 103.83368, 103.83368, 103.833741333333, 103.83377, 103.83379, 103.83379, 103.8338, 103.83382, 103.83386, 103.8339, 103.834, 103.83405, 103.83409, 103.8341, 103.83413, 103.83422, 103.83427, 103.83429, 103.83433, 103.8344, 103.8344, 103.83442, 103.83445, 103.83451, 103.83451, 103.83452, 103.83454, 103.83458, 103.8346, 103.83461, 103.83463, 103.83463, 103.83464, 103.83466, 103.8347, 103.83471, 103.834769666667, 103.83479, 103.8348, 103.834805833333, 103.83482, 103.83485, 103.83485, 103.83485, 103.83485, 103.83486, 103.83487, 103.83488, 103.83489, 103.834914, 103.83497, 103.83498, 103.835, 103.835, 103.83503, 103.83503, 103.83503, 103.83507, 103.8351, 103.83511, 103.8351154, 103.83512, 103.83512, 103.83513, 103.83513, 103.83515, 103.83515, 103.835158666667, 103.83516, 103.83516, 103.83516, 103.83516, 103.835178333333, 103.83518, 103.83519, 103.83519, 103.83519, 103.8352, 103.8352, 103.835203333333, 103.8352285, 103.83525, 103.83525, 103.83525, 103.83528, 103.8353, 103.8353, 103.83531, 103.83532, 103.83533, 103.83533, 103.83534, 103.83536, 103.83537, 103.83538, 103.83538, 103.83538, 103.83539, 103.83539, 103.83552, 103.835536, 103.83557, 103.8356, 103.8356, 103.8356, 103.8356, 103.83561, 103.835636016667, 103.835662416667, 103.8357, 103.8357, 103.83575, 103.83577, 103.83579, 103.835889, 103.835902166667, 103.83592, 103.83592, 103.83594, 103.83595, 103.83597, 103.83597, 103.836, 103.83605, 103.83606, 103.836075, 103.83608, 103.8361, 103.836108333333, 103.83612, 103.83613, 103.83615, 103.83618, 103.836193, 103.83623, 103.83624, 103.83626, 103.83628, 103.8363, 103.8363, 103.83631, 103.83631, 103.83633, 103.836348633333, 103.83641, 103.83643, 103.83648, 103.8365, 103.83652, 103.83654, 103.83658, 103.83658, 103.83659, 103.836591816667, 103.8366, 103.83661, 103.83662, 103.83664, 103.83664, 103.83664, 103.83667, 103.83668, 103.8367, 103.8367, 103.8367, 103.836709133333, 103.83673, 103.83676, 103.83677, 103.836770333333, 103.8367875, 103.83679, 103.8368, 103.8368, 103.83681, 103.83682, 103.83682, 103.83682, 103.83682, 103.83682, 103.836824666667, 103.836830166667, 103.83684, 103.836851833333, 103.8368529, 103.83689, 103.8369, 103.83691, 103.83695, 103.83697, 103.837, 103.837, 103.837, 103.837, 103.83702, 103.8370205, 103.83703, 103.83704, 103.83704, 103.83706, 103.83707, 103.83709, 103.8371, 103.83711, 103.837111833333, 103.83713, 103.83713, 103.83715, 103.83716, 103.83716, 103.83718, 103.83718, 103.83718, 103.83718, 103.8372, 103.8372, 103.8372, 103.837211166667, 103.83722, 103.8372265, 103.8372347, 103.83724, 103.83725, 103.83726, 103.8373, 103.8373, 103.8373, 103.8373, 103.837306, 103.83731, 103.83731, 103.83733, 103.83734, 103.83736, 103.837385216667, 103.83739, 103.8374, 103.8374135, 103.83743, 103.83743, 103.837433666667, 103.837436416667, 103.83744, 103.83746, 103.83747, 103.83748, 103.83748, 103.8375, 103.83751, 103.83752, 103.837539333333, 103.83755, 103.83762, 103.837622066667, 103.83764, 103.83764, 103.837654166667, 103.83767, 103.83767, 103.8377, 103.8377, 103.83771, 103.83771, 103.83773, 103.83774, 103.83778, 103.83779, 103.8378, 103.8378, 103.83785, 103.83787, 103.83788, 103.83792, 103.83794, 103.83795, 103.83798, 103.83798, 103.83798, 103.838, 103.83803, 103.838042833333, 103.83805, 103.83806, 103.83807, 103.8381, 103.8381, 103.8381, 103.83812, 103.83812, 103.83816, 103.83816, 103.8382, 103.8382, 103.83821, 103.83824, 103.83825, 103.83825, 103.83825, 103.8383, 103.8383, 103.8383, 103.83832, 103.83832, 103.83833, 103.83833, 103.83834, 103.83836, 103.83836, 103.838361166667, 103.83837, 103.83837, 103.8384, 103.8384, 103.83848, 103.8385, 103.8385, 103.83852, 103.838538166667, 103.83855, 103.83855, 103.838553666667, 103.838566966667, 103.83859, 103.8386, 103.8386, 103.83861, 103.83861, 103.83864, 103.83867, 103.838671833333, 103.83868, 103.83869, 103.8387, 103.83873, 103.83874, 103.83874, 103.838784916667, 103.83879, 103.83879, 103.8388, 103.8388135, 103.83888, 103.8389, 103.8389, 103.8389, 103.8389, 103.83891, 103.838912666667, 103.83892, 103.838921466667, 103.8389523, 103.83897, 103.83904, 103.83905, 103.83906, 103.83906, 103.8391, 103.83914, 103.83914, 103.83922, 103.83923, 103.83926, 103.83926, 103.839307183333, 103.83932, 103.839329333333, 103.83933, 103.839356333333, 103.83937, 103.839385833333, 103.83939, 103.8394, 103.839401166667, 103.83942, 103.83942, 103.83944, 103.839476366667, 103.8395, 103.83951, 103.83951, 103.83954, 103.83959, 103.83959, 103.8396, 103.8396075, 103.839642666667, 103.83967, 103.83968, 103.83968, 103.83968, 103.83973, 103.83975515, 103.83976, 103.83976, 103.83976, 103.839760433333, 103.839771116667, 103.83982, 103.83982, 103.83982, 103.839861033333, 103.83988, 103.83989, 103.8399, 103.83993, 103.83995, 103.83998, 103.839980666667, 103.840025, 103.84003, 103.84004, 103.840050333333, 103.84009, 103.8401, 103.84011, 103.840119333333, 103.84013, 103.84013, 103.84017, 103.84018, 103.84018, 103.840187683333, 103.8402, 103.84022, 103.84022, 103.84022, 103.84033, 103.84034, 103.84039235, 103.8404, 103.84044, 103.84044, 103.84045, 103.84046, 103.84049, 103.84054, 103.84055, 103.84055, 103.84056, 103.84057, 103.84058, 103.84058, 103.840619666667, 103.84062, 103.84064, 103.84069, 103.84069, 103.84074, 103.84075, 103.8408, 103.84082, 103.84083, 103.84087, 103.84088, 103.84089, 103.8409, 103.84091, 103.8409425, 103.84098, 103.84098, 103.84098, 103.841047833333, 103.84105, 103.84106, 103.8410685, 103.84107, 103.84109, 103.8411, 103.84114, 103.841150333333, 103.8412, 103.84121, 103.841245466667, 103.841246666667, 103.84125, 103.84127, 103.84127, 103.84127, 103.84129, 103.841313166667, 103.84132, 103.84137, 103.841389683333, 103.8414, 103.84142, 103.84143, 103.841434666667, 103.8415, 103.8415, 103.84151, 103.84152, 103.84152, 103.841542166667, 103.84156, 103.841569483333, 103.8416, 103.8416, 103.84161, 103.84161, 103.84161, 103.841653366667, 103.84167, 103.84173, 103.84177, 103.84178, 103.84183, 103.84188, 103.8419, 103.84191, 103.84191, 103.84196, 103.842, 103.842, 103.84201, 103.842019166667, 103.84203, 103.84206, 103.84206, 103.842081666667, 103.8421, 103.8421, 103.8421, 103.84215, 103.84217, 103.842172833333, 103.84226, 103.84231, 103.842317166667, 103.84232, 103.84232, 103.84233, 103.84234, 103.84237, 103.84237, 103.842376166667, 103.84241, 103.84242, 103.8425, 103.84252, 103.84255, 103.84257, 103.84258, 103.84258, 103.84259, 103.84261, 103.84261, 103.84268, 103.8426855, 103.8427, 103.8427, 103.8427, 103.84271, 103.84272, 103.84275, 103.84276, 103.8428, 103.84284, 103.84286, 103.84287, 103.8429, 103.8429, 103.8429, 103.84291, 103.84293, 103.84293, 103.84295, 103.84298, 103.84298, 103.84304, 103.84304, 103.8430695, 103.84309, 103.84309, 103.84309, 103.8431, 103.8431, 103.84312, 103.84319875, 103.8432, 103.84321, 103.843241833333, 103.843258333333, 103.84327, 103.84328, 103.84329, 103.843290166667, 103.8433, 103.8433, 103.8433, 103.84332, 103.843329166667, 103.84334, 103.84336, 103.84337, 103.84344, 103.84347, 103.84347, 103.84348, 103.843486666667, 103.84353, 103.84353, 103.84353425, 103.84356, 103.84357, 103.84357, 103.84358, 103.84358, 103.84358, 103.843585666667, 103.8436, 103.8436, 103.84361, 103.84362, 103.843633, 103.84366, 103.84367, 103.8437, 103.8437, 103.84371, 103.84373, 103.84376, 103.84376, 103.84378, 103.84379, 103.8438, 103.8438, 103.8438, 103.84382, 103.843854766667, 103.84387, 103.84388, 103.84389, 103.84394, 103.84397, 103.84398, 103.84398, 103.844, 103.844009316667, 103.84401, 103.84402, 103.84406, 103.84407, 103.84409, 103.84411, 103.84411, 103.84412, 103.84412, 103.84413, 103.84414, 103.84414465, 103.84415, 103.84415, 103.84416, 103.84418, 103.84419, 103.844191333333, 103.8442, 103.84423, 103.84423, 103.84424, 103.84426, 103.84433, 103.84433, 103.84436, 103.844371833333, 103.8444, 103.84444, 103.84446, 103.84447, 103.84449, 103.8445, 103.8445, 103.844538166667, 103.84459, 103.84461, 103.844617, 103.84463, 103.84465, 103.84465, 103.84465, 103.84467, 103.844679383333, 103.84468, 103.8447, 103.8447, 103.844729333333, 103.84473, 103.84473, 103.84474, 103.84479, 103.84479, 103.8448, 103.84481, 103.84482, 103.844823333333, 103.84483, 103.84483, 103.84486, 103.84486, 103.84488, 103.8449, 103.84491, 103.84491, 103.844917833333, 103.84492, 103.84492, 103.84492, 103.84492, 103.8449314, 103.84495, 103.84496, 103.84496, 103.84496, 103.84499, 103.845, 103.84501, 103.84501, 103.84501, 103.84506, 103.84509, 103.845094666667, 103.8451, 103.8451, 103.8451, 103.8451, 103.84513, 103.84514, 103.84515, 103.84519, 103.84519, 103.84521, 103.84521, 103.84521, 103.84523, 103.84527, 103.84528, 103.8453, 103.8453, 103.84532, 103.84532, 103.84534, 103.84535, 103.84535, 103.84537, 103.84539, 103.84539, 103.84539, 103.8454, 103.84541, 103.84541, 103.84545, 103.84545, 103.84545, 103.84546, 103.845492233333, 103.8455, 103.8455, 103.84555, 103.84557, 103.84559, 103.8456, 103.84561, 103.84561, 103.84561, 103.84563, 103.84564, 103.84564, 103.84564, 103.84568, 103.84568, 103.84568, 103.84568, 103.845696666667, 103.84573, 103.84573, 103.845741783333, 103.8458, 103.8458, 103.84582, 103.84582, 103.84586, 103.84588, 103.84588905, 103.84591, 103.84595, 103.84595, 103.846, 103.84602, 103.84604, 103.84604, 103.84606, 103.84607, 103.84609, 103.84609, 103.8461, 103.84611, 103.846137, 103.846153833333, 103.846165, 103.84617, 103.846195833333, 103.8462, 103.84622, 103.84622, 103.84622, 103.84624, 103.84625, 103.846270633333, 103.84629, 103.84631, 103.84634, 103.84635, 103.84638, 103.8464, 103.84642, 103.846453, 103.84646, 103.84646, 103.84646, 103.84649, 103.8465, 103.8465, 103.846518633333, 103.84652, 103.84653, 103.84653, 103.84654, 103.84657, 103.84658, 103.84661, 103.84661, 103.84663145, 103.84667, 103.84667, 103.84667, 103.846683816667, 103.84669, 103.846695166667, 103.8467, 103.8467, 103.8467, 103.84671, 103.84671, 103.84673, 103.84674, 103.84675, 103.8468, 103.8468, 103.8468, 103.84682, 103.84682, 103.846820366667, 103.84684, 103.84684, 103.84685, 103.84688, 103.84691, 103.84692, 103.846922, 103.84694, 103.84696, 103.846967166667, 103.847, 103.847, 103.84701, 103.84703, 103.84706, 103.84706, 103.847067333333, 103.847086666667, 103.8471, 103.84711, 103.84712, 103.84712, 103.84712, 103.84714, 103.84714, 103.847154666667, 103.84716, 103.84716, 103.84716, 103.84716, 103.84718, 103.8471848, 103.8472, 103.84721, 103.84721, 103.847217166667, 103.84722, 103.84722, 103.84725, 103.84728, 103.847309333333, 103.84732, 103.84738, 103.84738, 103.84738, 103.8474, 103.847412833333, 103.84742, 103.84742, 103.84743, 103.847436816667, 103.84747, 103.84747, 103.84747, 103.84747, 103.84749, 103.847495166667, 103.8475, 103.8475, 103.8475, 103.8475, 103.8475, 103.8475, 103.84751, 103.84752, 103.84752, 103.84752, 103.847532833333, 103.847533883333, 103.84753945, 103.84754, 103.84755, 103.847569783333, 103.84758, 103.84758, 103.84758, 103.8476, 103.8476, 103.8476, 103.8476, 103.84761, 103.84763, 103.84765925, 103.847666983333, 103.84767, 103.84768, 103.847683666667, 103.8477, 103.8477, 103.8477, 103.84772, 103.84772, 103.84774, 103.84774, 103.84774, 103.84774, 103.8477565, 103.84778, 103.84781, 103.84783, 103.847868183333, 103.84788, 103.84791, 103.84791, 103.847939333333, 103.84795, 103.847969466667, 103.8479785, 103.848, 103.84801, 103.84801, 103.84801, 103.848047666667, 103.84805, 103.84805, 103.84805, 103.84805, 103.84806, 103.84806, 103.848061, 103.8480655, 103.84808, 103.84808, 103.84809, 103.8481, 103.8481, 103.84812, 103.84822, 103.84823, 103.84825, 103.84828, 103.84831, 103.84832, 103.84832, 103.84832, 103.8483319, 103.848337333333, 103.848339183333, 103.84836, 103.84836, 103.8483685, 103.848368866667, 103.84837, 103.84837, 103.848371, 103.848385, 103.848402116667, 103.84841, 103.84841, 103.84841, 103.84841, 103.848413166667, 103.848417333333, 103.848438983333, 103.8484563, 103.84846, 103.8484775, 103.8485, 103.848529666667, 103.84853075, 103.848546666667, 103.848546666667, 103.84855, 103.84855, 103.848560166667, 103.84858, 103.848597916667, 103.848625483333, 103.84864, 103.84864, 103.84866, 103.84866, 103.84866, 103.848662666667, 103.84867, 103.848675666667, 103.84868, 103.84868, 103.848683333333, 103.84870595, 103.84872, 103.84875, 103.84877, 103.848774333333, 103.848775833333, 103.848777833333, 103.8488, 103.8488, 103.8488, 103.848812516667, 103.84882, 103.84884, 103.84885, 103.848854333333, 103.84886, 103.84886, 103.848865833333, 103.8488695, 103.84888, 103.84889, 103.84889, 103.8488947, 103.848903183333, 103.84890515, 103.84891, 103.84891, 103.84893, 103.84893, 103.84893, 103.848939833333, 103.84894, 103.84895, 103.848968166667, 103.84897, 103.848972666667, 103.848977166667, 103.84898, 103.849, 103.84902, 103.84902, 103.84902, 103.84902, 103.849031, 103.84906, 103.84906, 103.84907, 103.8490835, 103.8490845, 103.8491, 103.8491, 103.84911, 103.849114233333, 103.849117333333, 103.84912, 103.84913, 103.84913, 103.84913, 103.84913, 103.849154166667, 103.84918, 103.84918, 103.84919, 103.84919, 103.849193833333, 103.849195333333, 103.849196166667, 103.8492, 103.84921, 103.84921, 103.8492235, 103.84922845, 103.84925, 103.84926, 103.84927, 103.849288, 103.84929, 103.84929, 103.8493, 103.84931, 103.84931, 103.84931, 103.84933, 103.84934, 103.849375116667, 103.84938, 103.8494, 103.8494, 103.8494, 103.8494, 103.84942, 103.84944, 103.84949, 103.849493166667, 103.8495, 103.849527666667, 103.84953, 103.84953, 103.84953, 103.84956, 103.849563333333, 103.84957, 103.8496, 103.84961, 103.84962, 103.84962, 103.84965, 103.84965, 103.84967, 103.849689, 103.84971, 103.849714333333, 103.84973, 103.84973, 103.84974, 103.84976, 103.84978, 103.84979, 103.8498, 103.8498, 103.8498, 103.84982, 103.84983, 103.84984, 103.84985, 103.849862166667, 103.84989, 103.8499, 103.84991, 103.84991, 103.84992, 103.84992, 103.84994, 103.84996, 103.84996, 103.84997, 103.84998, 103.84998, 103.84998, 103.85, 103.85, 103.85002, 103.85007, 103.85011, 103.85012, 103.850130833333, 103.85014, 103.85018, 103.850197666667, 103.8502, 103.8502, 103.85021, 103.85022, 103.85022, 103.85025, 103.85025, 103.850284916667, 103.8503, 103.8503, 103.850300333333, 103.850323666667, 103.8504, 103.85041, 103.85047, 103.85047, 103.85049, 103.85049, 103.85051, 103.85052, 103.850539333333, 103.850549283333, 103.85055, 103.8506, 103.85061, 103.85063, 103.85064, 103.85064, 103.850654833333, 103.85068, 103.8507, 103.850725366667, 103.850731166667, 103.850781333333, 103.85079, 103.85081, 103.85081, 103.850864166667, 103.85088, 103.85088, 103.8509, 103.8509, 103.85092, 103.85095, 103.85096, 103.85096, 103.85097, 103.85098415, 103.85101, 103.85104, 103.85104, 103.85106, 103.8511, 103.851115833333, 103.8511335, 103.85116, 103.85116, 103.85119, 103.85122, 103.85123, 103.85124, 103.85125, 103.85125, 103.85128, 103.85134, 103.851342, 103.85143, 103.85145, 103.85145, 103.8514645, 103.85149, 103.8515, 103.8515, 103.8515, 103.85153, 103.85155, 103.85155, 103.85158, 103.85158, 103.85159, 103.85161, 103.851626983333, 103.85164, 103.85166, 103.85166, 103.85168, 103.8517, 103.85172, 103.85172, 103.85173, 103.85173, 103.85173, 103.851736833333, 103.8518, 103.8518005, 103.85183, 103.85184, 103.85185, 103.85188, 103.85189, 103.85191, 103.85195, 103.85195, 103.85195, 103.85197, 103.85197, 103.85198, 103.85199, 103.8519905, 103.85202, 103.852051166667, 103.85206, 103.85208, 103.85208, 103.85208, 103.8520845, 103.85209, 103.852092, 103.8521, 103.85211, 103.85213, 103.85213, 103.8522, 103.8522, 103.8522, 103.85225075, 103.85226, 103.85228, 103.85231, 103.85232, 103.85235, 103.85238, 103.8524, 103.85242, 103.85243, 103.85244, 103.852449666667, 103.852463483333, 103.85247, 103.852495, 103.85258, 103.8526, 103.852636833333, 103.85265, 103.85266, 103.85267, 103.85267, 103.85267, 103.8526846, 103.85269, 103.85269, 103.8527, 103.8527, 103.8527, 103.8527, 103.852700033333, 103.85271, 103.85271, 103.85271, 103.8527115, 103.85274, 103.85275, 103.85275, 103.85275, 103.85276, 103.85276, 103.85278, 103.85279, 103.8528, 103.8528, 103.85287, 103.85288, 103.85293, 103.85297, 103.85298, 103.85298, 103.85298, 103.853, 103.85301, 103.85302, 103.85304, 103.85305, 103.8531, 103.8531, 103.853101183333, 103.85316, 103.85318, 103.8532, 103.85325, 103.85325, 103.85325, 103.853284166667, 103.853303333333, 103.85331, 103.853325833333, 103.85336, 103.85337, 103.85337, 103.85339, 103.853398333333, 103.8534, 103.8534, 103.85341, 103.8534125, 103.85347, 103.85347, 103.8535, 103.85351, 103.8535145, 103.853515833333, 103.85352, 103.85352, 103.853571166667, 103.8536, 103.85364, 103.85366, 103.85368, 103.85373, 103.85374, 103.85377, 103.85379, 103.8538, 103.85385, 103.853854666667, 103.85386, 103.85388, 103.8539, 103.85397, 103.85399, 103.85403, 103.85405, 103.85408, 103.8541, 103.8541, 103.85411, 103.85415, 103.85415, 103.85415, 103.854179, 103.85419, 103.8542, 103.85421, 103.85422, 103.85422, 103.85422, 103.854220033333, 103.854238, 103.85426, 103.85428, 103.854296333333, 103.8543, 103.85431, 103.85434, 103.85434, 103.85435, 103.8543595, 103.85439, 103.8544, 103.8544, 103.85441, 103.8545, 103.8545, 103.854569333333, 103.85457, 103.85459, 103.85459, 103.85464, 103.8547, 103.854709833333, 103.85472, 103.85473, 103.85477, 103.85477, 103.8548, 103.8548, 103.85482, 103.85484085, 103.85486, 103.85486, 103.8549, 103.85494, 103.85494, 103.85494, 103.85497, 103.85501, 103.855019283333, 103.85502, 103.85504, 103.85508, 103.855082333333, 103.85509, 103.85513, 103.85515, 103.855167233333, 103.85517, 103.8552, 103.855231166667, 103.85524, 103.85526, 103.8552795, 103.85529, 103.855295333333, 103.85535, 103.855357, 103.85539, 103.8554, 103.8554, 103.85542, 103.855420266667, 103.855428666667, 103.85543, 103.85544, 103.85546, 103.85548, 103.85549, 103.8555, 103.85551, 103.85557, 103.85558, 103.85558, 103.85558, 103.85558, 103.85558, 103.8556, 103.85561, 103.855610666667, 103.85563, 103.855669166667, 103.8557, 103.85571, 103.85571, 103.85574, 103.85576, 103.855767333333, 103.85578, 103.85579, 103.85579, 103.8558, 103.8558, 103.855806833333, 103.85588, 103.85594, 103.85598, 103.856, 103.856, 103.856, 103.85602, 103.856032, 103.85605, 103.856060666667, 103.856088666667, 103.85609, 103.8561, 103.85614, 103.85614, 103.85615, 103.85616, 103.8561766, 103.8562, 103.8562, 103.85623, 103.85624, 103.85624, 103.85625, 103.85625, 103.8563, 103.85631, 103.85631, 103.856314833333, 103.856325833333, 103.85634, 103.85635, 103.85636, 103.85636, 103.8564, 103.85641, 103.85643, 103.85643, 103.85645, 103.85647, 103.85647, 103.8565, 103.8565, 103.8565, 103.8565, 103.85651, 103.856515, 103.85652, 103.85654, 103.856567166667, 103.856603966667, 103.8566136, 103.85663, 103.85663, 103.85663, 103.85665, 103.856651333333, 103.85669, 103.8567, 103.85674, 103.85679, 103.85682, 103.856826633333, 103.85683, 103.85683, 103.85685, 103.85687, 103.8569, 103.85694, 103.85695, 103.856951666667, 103.8569555, 103.857, 103.857, 103.85703, 103.85705, 103.8570535, 103.85714, 103.85717, 103.85718, 103.85721, 103.85722, 103.85722, 103.857236333333, 103.85725, 103.85726, 103.857265833333, 103.85727, 103.857293666667, 103.85732, 103.85739, 103.85741, 103.857420466667, 103.85748, 103.85749, 103.8575, 103.85751, 103.857544833333, 103.85757, 103.857597833333, 103.8576, 103.85761, 103.85762, 103.857639333333, 103.85764, 103.85766, 103.85768, 103.85768, 103.8577, 103.8577, 103.85772, 103.85772, 103.85773, 103.85773, 103.85773, 103.85773, 103.8577315, 103.857739066667, 103.857745883333, 103.8577538, 103.857836433333, 103.85786, 103.8579, 103.8579, 103.8579085, 103.85791, 103.85791, 103.85792, 103.85794, 103.85795, 103.857963666667, 103.857981, 103.85801, 103.858030333333, 103.85804, 103.85806, 103.85808, 103.85808, 103.8581, 103.8581, 103.85817, 103.85817, 103.85819, 103.85821, 103.85822, 103.85822, 103.85825, 103.85834, 103.85834, 103.85835, 103.85839, 103.8584, 103.8584, 103.85847, 103.85851, 103.85857, 103.85858, 103.85864, 103.85869, 103.85876, 103.85878, 103.858786166667, 103.85879, 103.85884, 103.85888, 103.85889, 103.85896, 103.85898, 103.85907, 103.859104816667, 103.85913, 103.85915, 103.8592, 103.85923, 103.85925, 103.85925, 103.85931, 103.85932, 103.859336833333, 103.859373166667, 103.85938, 103.859398666667, 103.85942, 103.85943, 103.85945, 103.85947, 103.8595, 103.859535166667, 103.85956, 103.85961, 103.85961, 103.85968, 103.85969, 103.8597, 103.85973, 103.85977, 103.85978, 103.85979, 103.85979, 103.8598, 103.85983, 103.85986, 103.85988, 103.85988, 103.859891833333, 103.85995, 103.85996, 103.86, 103.86001, 103.86001, 103.8601, 103.8601385, 103.86018, 103.86025, 103.86025, 103.86027, 103.86031165, 103.86032, 103.86032, 103.86036, 103.860360333333, 103.86037, 103.86037, 103.86041, 103.86043, 103.860457166667, 103.86049, 103.8605, 103.860502516667, 103.86053, 103.86055, 103.86057, 103.86057, 103.86064, 103.860672866667, 103.86068, 103.860731266667, 103.860755233333, 103.86078, 103.86089, 103.8609, 103.86095, 103.86095, 103.86095, 103.861, 103.86104, 103.86104, 103.86104, 103.86113, 103.86117, 103.86117, 103.86118405, 103.86119, 103.8612, 103.8612, 103.86125, 103.86128, 103.8613, 103.86134, 103.8614, 103.8614, 103.86143, 103.861456333333, 103.86146, 103.8615, 103.86155, 103.861556166667, 103.86158, 103.86158, 103.86159, 103.8616, 103.86164, 103.86165, 103.861682416667, 103.86173, 103.861739166667, 103.86176, 103.861763166667, 103.8618105, 103.86185, 103.861883016667, 103.86189, 103.86191, 103.86192, 103.86192, 103.86193, 103.86194, 103.86197, 103.861972483333, 103.862015666667, 103.8620277, 103.862034166667, 103.86205, 103.8621, 103.86211, 103.86212, 103.86215, 103.86216, 103.86218, 103.86224, 103.86227, 103.86227, 103.862283066667, 103.862285833333, 103.86231, 103.86234, 103.86236, 103.862388366667, 103.86241, 103.86245, 103.86247, 103.86248, 103.86252, 103.86261, 103.86261, 103.86264, 103.86269, 103.86272, 103.86278, 103.8628, 103.86282, 103.86283, 103.86289, 103.8629, 103.86292, 103.86296, 103.863046333333, 103.86309, 103.863121333333, 103.86319, 103.86319, 103.86328, 103.863328666667, 103.86334, 103.86335, 103.8634, 103.8635, 103.86352, 103.863525, 103.86355, 103.86355, 103.86355, 103.86357, 103.86358055, 103.8636, 103.86362, 103.86362, 103.86362, 103.863634666667, 103.863636666667, 103.863654166667, 103.86366, 103.86368, 103.863682, 103.86369, 103.86372, 103.86376, 103.86377, 103.86379, 103.8638, 103.86391, 103.86393, 103.86393, 103.863937583333, 103.86399, 103.864115933333, 103.864119166667, 103.86422, 103.86422, 103.86424, 103.86427, 103.86428, 103.864382333333, 103.86443, 103.864448216667, 103.8644825, 103.86449, 103.86453, 103.8645335, 103.86454, 103.864540366667, 103.86458, 103.8646, 103.8646, 103.86467, 103.86469, 103.86474, 103.864768166667, 103.86477, 103.86482, 103.8649, 103.86498, 103.865062666667, 103.8651, 103.86519, 103.8652, 103.86523, 103.8653, 103.86533, 103.86533, 103.86534, 103.8653515, 103.86558, 103.86565, 103.86569, 103.86582, 103.86582, 103.8658277, 103.86583, 103.86587, 103.8659, 103.8659, 103.86594, 103.86596, 103.86596, 103.86598, 103.86603, 103.86614, 103.86623, 103.86628, 103.86639, 103.86641, 103.86658, 103.866612, 103.866783, 103.86679145, 103.8669, 103.8669, 103.867, 103.867010166667, 103.86704, 103.8670415, 103.86717, 103.8672, 103.8672, 103.8673, 103.86744, 103.86747, 103.86753, 103.86756, 103.8676, 103.86762, 103.86769, 103.86775, 103.86775, 103.8678, 103.86785, 103.86791, 103.86793, 103.86795, 103.86796, 103.86798, 103.867984333333, 103.868, 103.86806, 103.86822, 103.86828, 103.868286, 103.8684, 103.868484666667, 103.8685, 103.86851, 103.86858, 103.86891, 103.86892, 103.868932833333, 103.86896, 103.8691, 103.8691, 103.86917, 103.86919, 103.86923, 103.869270166667, 103.869272333333, 103.86928, 103.8694, 103.86941, 103.86944, 103.8695, 103.8695, 103.86959, 103.86968, 103.86977, 103.869794716667, 103.869839833333, 103.86986, 103.86987, 103.869887333333, 103.86993, 103.86995, 103.86999, 103.870023333333, 103.87004, 103.87004, 103.8701, 103.87011, 103.87015, 103.87022, 103.87029, 103.8703015, 103.87037, 103.8705, 103.8705, 103.870537333333, 103.87055, 103.87056, 103.87058, 103.87061, 103.87062, 103.87064, 103.87066, 103.870669333333, 103.87075, 103.87075, 103.870883, 103.8709, 103.87096, 103.871, 103.871, 103.871036666667, 103.87104, 103.871081, 103.871096, 103.8711, 103.87113, 103.87114, 103.8712, 103.87122, 103.87123, 103.87124, 103.87134, 103.87137, 103.871408666667, 103.87143, 103.87143, 103.871449833333, 103.87145, 103.87147, 103.8715, 103.87151, 103.87151, 103.87152, 103.8716055, 103.87172, 103.87173, 103.87178, 103.87187, 103.87187, 103.87192, 103.871973833333, 103.87201, 103.87201, 103.872036833333, 103.872056333333, 103.87208, 103.8721, 103.8721, 103.87213, 103.872172666667, 103.8722, 103.87223, 103.87223, 103.87226, 103.87231, 103.87236, 103.8724, 103.87243, 103.87243, 103.87249, 103.87257, 103.87257, 103.87258, 103.872604166667, 103.8726125, 103.87263, 103.87265, 103.87268, 103.872686333333, 103.87273, 103.87274, 103.872758066667, 103.87289, 103.8729, 103.87292, 103.873, 103.87301, 103.873051433333, 103.873098333333, 103.87313, 103.87317, 103.87319, 103.8732, 103.8732, 103.8732, 103.87324, 103.87325, 103.873263, 103.8733, 103.87331, 103.87331, 103.87333, 103.87337, 103.87339, 103.87339, 103.8734, 103.8734, 103.87355, 103.87357, 103.873623666667, 103.87369, 103.8737, 103.87377, 103.873817, 103.87382, 103.87383, 103.8738633, 103.87391305, 103.874, 103.87406, 103.87409385, 103.8741545, 103.8742, 103.8742, 103.8742, 103.87423, 103.87425, 103.87427, 103.87429, 103.87431, 103.87434, 103.8745, 103.87465, 103.874688833333, 103.87469, 103.87471, 103.87477, 103.874871333333, 103.8749, 103.87492, 103.874938166667, 103.87499, 103.87516, 103.87526, 103.87532, 103.87536, 103.87541, 103.87541, 103.87543, 103.87543, 103.87546, 103.8755, 103.87554, 103.87557, 103.87561, 103.875615, 103.87563, 103.87563, 103.87565, 103.87568, 103.8757, 103.8758, 103.8759, 103.87595, 103.875959166667, 103.87597, 103.8761, 103.8761, 103.87612, 103.876134666667, 103.87615, 103.876154, 103.8762, 103.876235666667, 103.87631, 103.87631, 103.876353333333, 103.87638, 103.8764, 103.876407333333, 103.87644, 103.87657, 103.87658, 103.87668, 103.87669, 103.8767, 103.87671, 103.876711666667, 103.87675, 103.87678, 103.87683, 103.87687, 103.87689, 103.87689, 103.87693, 103.87702, 103.8771, 103.8771, 103.877294166667, 103.877314166667, 103.87734, 103.8773655, 103.87747, 103.87765, 103.8777, 103.87773, 103.87775, 103.877767, 103.87783, 103.877929666667, 103.87796, 103.878197316667, 103.8782, 103.878208, 103.87821, 103.878254333333, 103.8784, 103.87844, 103.8785, 103.87872, 103.87884, 103.87888, 103.8789, 103.87899, 103.87904, 103.87915, 103.87916, 103.87935, 103.87935, 103.87938, 103.87943, 103.87947, 103.87948, 103.87948, 103.879517833333, 103.87953, 103.879547, 103.879551166667, 103.879580183333, 103.87962, 103.879661166667, 103.879782166667, 103.879786, 103.8798, 103.8798, 103.87984, 103.87989, 103.87995475, 103.88, 103.88, 103.88005, 103.88005, 103.88007, 103.880076166667, 103.8801, 103.8801, 103.88011, 103.880126833333, 103.880169833333, 103.88019, 103.8802, 103.880302166667, 103.880389016667, 103.880470666667, 103.8805, 103.88056, 103.880572166667, 103.8806, 103.88062, 103.88063, 103.88065, 103.88073, 103.88098, 103.88099, 103.881, 103.88101, 103.881032816667, 103.88116, 103.88132, 103.88134, 103.88138, 103.88138, 103.8814, 103.881421333333, 103.88156, 103.88158, 103.881605833333, 103.88168, 103.88169, 103.88176, 103.88177, 103.88177, 103.881779833333, 103.881792133333, 103.88184, 103.88185, 103.881857166667, 103.8818815, 103.88195, 103.88203, 103.88207, 103.88208, 103.8820865, 103.8821, 103.88217, 103.88218, 103.88221, 103.882217166667, 103.88222, 103.882286333333, 103.8823, 103.88231, 103.88235, 103.88239, 103.88253, 103.88261, 103.88266, 103.88271, 103.88279, 103.88289, 103.88305, 103.88309, 103.88316, 103.88316, 103.883206666667, 103.88332, 103.8834, 103.88341, 103.88349, 103.883514566667, 103.88353, 103.88358, 103.883689333333, 103.8838, 103.88382, 103.88382, 103.883820733333, 103.88384, 103.8839, 103.8840625, 103.8840695, 103.88407, 103.88408, 103.8841, 103.8841, 103.88414, 103.88414, 103.88414, 103.88414, 103.88422, 103.88427, 103.884299166667, 103.8843, 103.8843065, 103.88436, 103.88439, 103.88439, 103.88441, 103.88441, 103.88443, 103.88448, 103.88454, 103.88456, 103.88457, 103.884609233333, 103.88461, 103.88466, 103.88467, 103.884694333333, 103.8846995, 103.8847, 103.8847, 103.88472, 103.88474, 103.88474745, 103.88477, 103.88477, 103.88477335, 103.884805166667, 103.884881833333, 103.8849, 103.88492, 103.88504, 103.88504, 103.885042833333, 103.885051166667, 103.88506, 103.88507, 103.885077166667, 103.88508, 103.8851, 103.8851, 103.8851, 103.88517, 103.88528, 103.88528, 103.88535, 103.88537, 103.8854, 103.885447, 103.885469166667, 103.8854895, 103.88551, 103.88553, 103.88553, 103.88559, 103.8856, 103.88566, 103.88577, 103.88582, 103.88584, 103.88587, 103.885888, 103.88589, 103.88597, 103.88598, 103.886, 103.886, 103.88607, 103.8860745, 103.88611, 103.88613, 103.88619, 103.88619, 103.8862, 103.886203666667, 103.88624, 103.88627, 103.8863, 103.88632, 103.88633, 103.8863315, 103.8864, 103.8864, 103.88642, 103.88646, 103.88647865, 103.88649, 103.886494166667, 103.8866, 103.88672, 103.88678, 103.8868, 103.8868, 103.88681, 103.88685375, 103.8869, 103.886912166667, 103.8869195, 103.88694, 103.886946833333, 103.88695, 103.88695, 103.887, 103.88705, 103.88707, 103.887075, 103.8871, 103.88712, 103.88712, 103.88716, 103.88716, 103.8872, 103.88722, 103.88726, 103.887262333333, 103.88728, 103.88732, 103.88734, 103.88738, 103.88743, 103.88748, 103.887542, 103.8876, 103.8877, 103.88775, 103.8878, 103.88781, 103.88783, 103.88788, 103.8879, 103.8879, 103.88801035, 103.88804, 103.88806, 103.88811, 103.88815, 103.888191666667, 103.88823, 103.88825, 103.888271, 103.88828, 103.88831, 103.88838, 103.8884, 103.88844, 103.88847, 103.88848, 103.888521333333, 103.88861, 103.88862, 103.888626333333, 103.88869, 103.88869, 103.8887, 103.88871, 103.888774133333, 103.88878, 103.88879, 103.8888, 103.88882, 103.88882835, 103.88883, 103.888859983333, 103.88887, 103.88889, 103.88891, 103.88895, 103.888954666667, 103.88896, 103.88901, 103.889014333333, 103.88902, 103.889031333333, 103.8891, 103.88915, 103.889165666667, 103.88919, 103.8892, 103.8892, 103.88931, 103.88933, 103.88933, 103.88936, 103.88942, 103.88947, 103.88949, 103.88951, 103.889533166667, 103.8896, 103.88985, 103.8899, 103.88995, 103.88995, 103.88996, 103.88996, 103.89005, 103.89007, 103.8901, 103.89016, 103.890175833333, 103.89027, 103.89027, 103.89028, 103.89029, 103.89032, 103.890352466667, 103.890429, 103.89044, 103.89044, 103.89052, 103.89059, 103.8905945, 103.89065, 103.89066, 103.89072, 103.89074, 103.890758, 103.89077, 103.89077, 103.89081, 103.89081, 103.89084, 103.8909, 103.89097, 103.89101, 103.89104, 103.89104, 103.89104, 103.89106, 103.89106, 103.89107, 103.89108, 103.8911, 103.89114, 103.89118, 103.8912, 103.89129, 103.89144, 103.89145, 103.89147, 103.89152, 103.8918, 103.8918, 103.8918, 103.891879166667, 103.89191, 103.89191, 103.89193, 103.89198, 103.892, 103.892, 103.892, 103.89204, 103.89204, 103.89207, 103.8921, 103.89214, 103.892181583333, 103.89222, 103.89226, 103.892260666667, 103.8923, 103.892317833333, 103.89232, 103.89241, 103.89247, 103.8924897, 103.89251, 103.8925485, 103.89255, 103.89256, 103.89258, 103.892610666667, 103.89263, 103.89268, 103.89269, 103.89269, 103.8927, 103.8927, 103.89271, 103.89272, 103.89272, 103.89274, 103.89276, 103.89276, 103.89277, 103.89277, 103.89281, 103.89282, 103.89283, 103.892831333333, 103.89285, 103.89286, 103.89287, 103.89287, 103.89289, 103.8929, 103.89292, 103.89296, 103.89296, 103.893004666667, 103.89301, 103.89301, 103.89305, 103.89305, 103.89307, 103.89308, 103.893101166667, 103.89312, 103.893151733333, 103.89316, 103.89316, 103.89317, 103.89317, 103.89317, 103.8931805, 103.89321, 103.893215666667, 103.89322, 103.89323, 103.89325, 103.89329, 103.8933, 103.8933, 103.893300333333, 103.89332, 103.89332, 103.89334, 103.89335, 103.89339, 103.89343, 103.8934395, 103.893449416667, 103.893481166667, 103.8935, 103.8935, 103.89352, 103.89353, 103.893541166667, 103.8936, 103.89361285, 103.893652666667, 103.89371, 103.89376, 103.89377, 103.893871033333, 103.89388, 103.89389, 103.8939, 103.893922, 103.89397, 103.894029383333, 103.89404, 103.89406, 103.89408, 103.8941, 103.8941, 103.894100833333, 103.89414, 103.894160833333, 103.894196, 103.89424, 103.894253166667, 103.894257166667, 103.8943, 103.89432, 103.89433, 103.89438, 103.894389833333, 103.8944, 103.89441, 103.89446, 103.894531966667, 103.89465, 103.89466, 103.89467, 103.894690666667, 103.894727, 103.89473, 103.89484, 103.89495, 103.895009333333, 103.895018733333, 103.89509, 103.8951075, 103.89513, 103.895172, 103.89531, 103.89533, 103.89533, 103.89542, 103.8954385, 103.89545, 103.89545, 103.8955, 103.895523166667, 103.89554, 103.895541, 103.89556, 103.89559, 103.8956, 103.8956, 103.89561015, 103.895617666667, 103.89562, 103.89563, 103.89565, 103.89567, 103.89567, 103.895679333333, 103.89571, 103.895845666667, 103.89593, 103.89596, 103.89598, 103.896, 103.896, 103.896028, 103.89605, 103.89616, 103.89621, 103.89622, 103.89632, 103.89648, 103.8965, 103.896569833333, 103.89657, 103.896587333333, 103.896595166667, 103.89665, 103.8967, 103.89671, 103.896756166667, 103.89677, 103.8968, 103.8968, 103.89681, 103.89681, 103.8968875, 103.8969, 103.8969, 103.897, 103.897122, 103.89714, 103.8972, 103.89721, 103.89721, 103.897213833333, 103.89723, 103.89726, 103.89728835, 103.89742, 103.89742, 103.897460666667, 103.89747, 103.89748, 103.89752, 103.8976105, 103.89771, 103.8978, 103.8978, 103.897875833333, 103.897876, 103.89789, 103.8979, 103.8979, 103.89796, 103.89799, 103.898, 103.89804, 103.898058633333, 103.8981, 103.8981, 103.89811, 103.89818, 103.89819425, 103.8982, 103.8982, 103.8982, 103.89822, 103.89827, 103.89828, 103.89829, 103.89829, 103.898321833333, 103.89835, 103.89838, 103.89842, 103.89847, 103.89847, 103.89847, 103.8985, 103.89851, 103.89854, 103.89855, 103.898558333333, 103.8986, 103.89863, 103.898641166667, 103.898672333333, 103.89868, 103.89873, 103.89873, 103.898755333333, 103.898835666667, 103.898866166667, 103.89899, 103.899020666667, 103.8991, 103.8991115, 103.89914, 103.89918, 103.89929, 103.8994, 103.8994, 103.899408333333, 103.89945, 103.89947, 103.89949, 103.8995, 103.89953, 103.89956, 103.89959, 103.899594666667, 103.899634666667, 103.89966, 103.89971, 103.89974, 103.89981, 103.8998275, 103.89986, 103.89986, 103.89988, 103.89989, 103.9, 103.900076, 103.90016, 103.90019, 103.9002, 103.9002, 103.90025, 103.90028015, 103.90029, 103.90032, 103.90033, 103.90034, 103.90034, 103.90047, 103.90053, 103.9006, 103.9006, 103.90065, 103.90066, 103.9007, 103.90074, 103.90075, 103.90079, 103.90079, 103.9008, 103.90088, 103.9009, 103.90093, 103.90094, 103.9009475, 103.9009535, 103.90098, 103.901, 103.90102, 103.90108, 103.901082833333, 103.901153, 103.90118, 103.90122, 103.901243666667, 103.9013, 103.90131, 103.90133, 103.90133, 103.90135, 103.90142, 103.90144, 103.90147, 103.9015, 103.9015, 103.90156, 103.90161145, 103.90163, 103.90165, 103.90169, 103.90173, 103.90178, 103.9018, 103.901825166667, 103.90185, 103.901874066667, 103.90205, 103.90207, 103.902191983333, 103.902192666667, 103.90221, 103.902250833333, 103.90226, 103.90227, 103.90231, 103.90236, 103.90238, 103.9024, 103.90241, 103.90243, 103.90244, 103.902455666667, 103.9025, 103.902508666667, 103.902539683333, 103.9026, 103.90262, 103.902653683333, 103.90268, 103.9026975, 103.902717666667, 103.90281, 103.90286, 103.902862983333, 103.90297, 103.902981, 103.903, 103.90303, 103.90304, 103.90306, 103.90312, 103.90314915, 103.903287166667, 103.9033, 103.9033275, 103.90338, 103.90343, 103.90348, 103.9035, 103.9035, 103.9035, 103.9035, 103.90359, 103.90362, 103.90367, 103.9038, 103.9038, 103.9038575, 103.90386, 103.90391, 103.904080833333, 103.90411, 103.90418, 103.9042, 103.90429, 103.90429, 103.90432, 103.90433, 103.90437, 103.9044, 103.904403833333, 103.90444, 103.9044525, 103.90447, 103.904511666667, 103.90453, 103.90453, 103.90454, 103.90455, 103.90456, 103.904576333333, 103.90458, 103.904589466667, 103.904613533333, 103.90462, 103.90465, 103.90465, 103.904664666667, 103.904665333333, 103.90467, 103.90468125, 103.90476, 103.90476, 103.9047945, 103.90481, 103.904875166667, 103.90489, 103.9048932, 103.9049, 103.904906283333, 103.90491, 103.90493, 103.90496, 103.90498, 103.905049066667, 103.9051, 103.90514, 103.90514, 103.90518, 103.90531, 103.905311833333, 103.9054, 103.90541, 103.90541, 103.90541, 103.90545, 103.90545, 103.90547, 103.90548, 103.9055, 103.90554, 103.90557, 103.905581783333, 103.90559, 103.9056, 103.9056135, 103.90563, 103.90563, 103.90565, 103.9057, 103.9057, 103.9057, 103.90574, 103.90577, 103.90578, 103.9058, 103.90582, 103.905876166667, 103.90588, 103.9059, 103.90601, 103.90619, 103.90623, 103.90624, 103.90626, 103.90635, 103.906499, 103.90664, 103.9067, 103.90673, 103.90679, 103.90688, 103.90692, 103.90692, 103.907, 103.907, 103.907005166667, 103.90701, 103.90706, 103.9071, 103.907111683333, 103.90715, 103.90724, 103.907366833333, 103.90738, 103.90741, 103.90747, 103.90747, 103.90751, 103.9075355, 103.90754, 103.90759, 103.9076, 103.9076, 103.90762, 103.90763, 103.907638683333, 103.90764, 103.907670516667, 103.90768, 103.90769, 103.90769, 103.90769, 103.90772, 103.9077925, 103.90784, 103.90789, 103.907925, 103.90796, 103.90796, 103.90813, 103.90831, 103.908315333333, 103.90833, 103.90841, 103.90845, 103.90849, 103.9085385, 103.9087, 103.90872, 103.90877, 103.908844, 103.908853166667, 103.90893, 103.909, 103.9091, 103.90921, 103.90924, 103.9092445, 103.909246, 103.909264166667, 103.909395833333, 103.90944, 103.9096, 103.909619666667, 103.90962, 103.909636333333, 103.90971, 103.909745, 103.90979, 103.90979, 103.90979, 103.90981, 103.90984, 103.90987, 103.909875333333, 103.909908333333, 103.910210166667, 103.910242833333, 103.91033, 103.910415833333, 103.91049, 103.910490666667, 103.91055, 103.910588166667, 103.910600333333, 103.910614166667, 103.91074, 103.910750733333, 103.91087, 103.910897166667, 103.91093, 103.91093, 103.91098, 103.911050833333, 103.91109, 103.911137166667, 103.911201466667, 103.91123, 103.91135, 103.91159, 103.91163, 103.91168, 103.91172, 103.911761833333, 103.91187, 103.91199, 103.91203, 103.91207, 103.91208, 103.91217, 103.91225, 103.91229, 103.9123, 103.9123335, 103.912386666667, 103.91239, 103.91239, 103.91239, 103.912391166667, 103.91242, 103.91243, 103.91247, 103.91252, 103.91257, 103.91257, 103.912806833333, 103.91284, 103.91284, 103.91288, 103.9129, 103.91297, 103.913, 103.91305, 103.91318, 103.9132, 103.91324, 103.913359833333, 103.9134245, 103.91345, 103.91351, 103.91359, 103.9136325, 103.91393, 103.91408, 103.91408, 103.91426, 103.91444, 103.91463, 103.91471, 103.914737816667, 103.91481, 103.914835333333, 103.914952833333, 103.91506, 103.915257416667, 103.91535, 103.91541, 103.91542, 103.91555, 103.915697, 103.9157, 103.91579, 103.91604, 103.91635, 103.91645, 103.91659, 103.91663, 103.91671, 103.91689, 103.9169, 103.916954, 103.91744, 103.91757, 103.917738333333, 103.917750333333, 103.91787, 103.91799, 103.91841, 103.91854, 103.91864, 103.91879, 103.918894416667, 103.9189, 103.91909, 103.91915, 103.91918, 103.91946935, 103.91953, 103.919945666667, 103.920772666667, 103.92085, 103.9209, 103.92112, 103.9213, 103.9213, 103.9213, 103.9214315, 103.921528483333, 103.9219, 103.922139166667, 103.92226, 103.92243, 103.92253, 103.92259, 103.92291, 103.92294, 103.92296, 103.92302, 103.923221, 103.92341, 103.92341, 103.92344, 103.9235, 103.92352, 103.92354, 103.92362, 103.923621333333, 103.92363, 103.92378, 103.92381, 103.923903833333, 103.9243, 103.92432, 103.924481833333, 103.924549833333, 103.92475, 103.92484, 103.924897666667, 103.9249, 103.92495, 103.924960166667, 103.92498, 103.92518, 103.92523, 103.92525, 103.925264333333, 103.92539, 103.9254, 103.9255, 103.92551, 103.92554, 103.92567, 103.925705833333, 103.92587, 103.92587, 103.92596, 103.9261, 103.92616, 103.92626, 103.92631, 103.926407333333, 103.92645, 103.92647, 103.9265, 103.926502166667, 103.92652, 103.92657, 103.92661, 103.926748, 103.92693, 103.927055166667, 103.92717, 103.92719, 103.9272, 103.927225833333, 103.927250166667, 103.92726, 103.92734, 103.92735, 103.9274, 103.92752, 103.92774, 103.92775, 103.92781, 103.92788, 103.9279, 103.927977266667, 103.92799, 103.92802, 103.92804, 103.92806, 103.92811, 103.928166166667, 103.92839, 103.92841, 103.9285, 103.92855, 103.92868, 103.92869, 103.92869, 103.92872, 103.92881, 103.928877833333, 103.9289, 103.92891, 103.92894, 103.9291, 103.9291, 103.92911, 103.929116, 103.92916, 103.929228666667, 103.92938, 103.929388666667, 103.92961, 103.92961, 103.9297952, 103.92987, 103.930112966667, 103.9302, 103.93024, 103.9303, 103.93047, 103.930510833333, 103.93057, 103.93064, 103.93072, 103.93075, 103.93075, 103.93078, 103.93084, 103.931, 103.9310155, 103.93105, 103.93113, 103.931146, 103.93115, 103.93119, 103.93119, 103.9313, 103.93132, 103.93133, 103.93135, 103.93139, 103.931411666667, 103.9314374, 103.93146, 103.9315653, 103.93157635, 103.931629833333, 103.93163, 103.9316325, 103.931747833333, 103.93182, 103.93191, 103.932, 103.932, 103.932, 103.93207, 103.93212, 103.932261333333, 103.932305833333, 103.9324, 103.93243, 103.93254, 103.93258, 103.93262, 103.93269, 103.9327, 103.9327019, 103.93275, 103.93276, 103.93308, 103.9331, 103.93318, 103.93319, 103.9332, 103.93338, 103.93339, 103.93343, 103.933502, 103.93351, 103.93352, 103.93354, 103.93357, 103.9336, 103.93363, 103.93396, 103.934044, 103.93406, 103.9342675, 103.93431, 103.93431, 103.93449, 103.9344915, 103.93452, 103.93455, 103.93458, 103.9346275, 103.93466, 103.93469, 103.93473, 103.93484, 103.9349, 103.934926, 103.93495, 103.93496, 103.93496, 103.934982, 103.935005333333, 103.93505, 103.93506, 103.93509, 103.93522, 103.93531, 103.93554, 103.9355965, 103.93569, 103.93571, 103.93578, 103.93579, 103.93585, 103.93585, 103.9359, 103.93592, 103.93599, 103.93609, 103.93612, 103.936180833333, 103.93619, 103.93619, 103.93628, 103.93634, 103.93638, 103.93639, 103.93641, 103.93657, 103.9366, 103.9366, 103.936625516667, 103.93665, 103.93665, 103.936745, 103.93683, 103.93686, 103.93697, 103.93711, 103.93715, 103.93715, 103.93717, 103.937242166667, 103.93736, 103.93742, 103.93745, 103.93749, 103.937531666667, 103.937537833333, 103.93756, 103.9376, 103.93767, 103.937695833333, 103.93777, 103.93786, 103.93795, 103.93796, 103.938, 103.938, 103.9381, 103.93813375, 103.93822, 103.93831, 103.93835, 103.938355333333, 103.93842, 103.93845, 103.93845, 103.938543833333, 103.93858, 103.93858, 103.938685833333, 103.93874, 103.93881, 103.938828833333, 103.93885, 103.93888375, 103.9389, 103.93893, 103.938937666667, 103.93895, 103.93905, 103.93908, 103.93912, 103.93916, 103.93918, 103.9392, 103.93921, 103.939299166667, 103.939324, 103.939337983333, 103.93937, 103.939413, 103.93943, 103.93946, 103.9396, 103.9396, 103.9397, 103.939725266667, 103.93979, 103.9398, 103.9399014, 103.93991, 103.94001, 103.94002, 103.94005, 103.940178166667, 103.940187333333, 103.9402, 103.940214833333, 103.94039, 103.94044, 103.94064, 103.94078, 103.9409, 103.940907666667, 103.941, 103.94115, 103.9412, 103.94121, 103.941350333333, 103.94136, 103.9414, 103.9416, 103.941622683333, 103.94163, 103.941813166667, 103.94184, 103.942029666667, 103.94212, 103.94214, 103.9422, 103.9422895, 103.94239, 103.94248, 103.9425715, 103.9427, 103.942713333333, 103.94284, 103.943, 103.943077166667, 103.9431, 103.9431, 103.9431, 103.94321, 103.943259166667, 103.94327, 103.94327, 103.94328, 103.9433, 103.9433496, 103.94335, 103.943442, 103.94345, 103.94349, 103.94351, 103.94355, 103.94359, 103.943623666667, 103.94367, 103.94384, 103.94404, 103.94422, 103.94429, 103.94438, 103.94442, 103.94448, 103.94454, 103.94454, 103.94458, 103.94458, 103.94459, 103.9446085, 103.94463, 103.94465, 103.94465, 103.94467, 103.94478, 103.9448, 103.94485, 103.9449, 103.94498, 103.945, 103.94501, 103.94501, 103.9451, 103.9451, 103.94511, 103.945135833333, 103.945193333333, 103.94528, 103.9453, 103.9453, 103.94533, 103.94533, 103.94534, 103.94538, 103.94542, 103.94543, 103.945433833333, 103.94545, 103.94547, 103.94547, 103.94547, 103.945491033333, 103.9455, 103.94551, 103.94555, 103.94557, 103.94557, 103.94559, 103.94561, 103.94562, 103.945688333333, 103.94569, 103.9457, 103.94575, 103.94577, 103.9458, 103.945878, 103.945938333333, 103.94597, 103.94601, 103.9462, 103.94621, 103.946228333333, 103.94624, 103.94626, 103.9463, 103.94635, 103.94644, 103.9467, 103.946707166667, 103.94671, 103.947313166667, 103.947446333333, 103.94781, 103.94797, 103.9479775, 103.94802, 103.94809, 103.94814, 103.94828, 103.94831, 103.9483605, 103.94839, 103.94841, 103.94854, 103.94867, 103.9487, 103.94887, 103.94903, 103.94906, 103.949316, 103.9494, 103.9495, 103.9496, 103.94969, 103.9497, 103.94972, 103.94973, 103.94975, 103.9498, 103.94991, 103.949938333333, 103.94998, 103.94999, 103.95, 103.95, 103.95002, 103.95003, 103.95004, 103.95009, 103.950121833333, 103.95018, 103.9502, 103.95021, 103.95024, 103.95025, 103.9502675, 103.95027, 103.95030715, 103.95031, 103.950337666667, 103.95034, 103.95035, 103.95038, 103.950517166667, 103.95054, 103.95056, 103.95056, 103.95061, 103.95074, 103.95091, 103.95094, 103.95111, 103.95112, 103.95116, 103.9512, 103.95136, 103.95137, 103.95139, 103.95148, 103.95162, 103.95165, 103.9517, 103.95173, 103.95174, 103.95185, 103.951898, 103.9519, 103.95197, 103.95201, 103.952015833333, 103.95206, 103.95206, 103.952061866667, 103.95209, 103.9521, 103.95214, 103.952208833333, 103.95223, 103.95236, 103.952363, 103.95241, 103.9525, 103.952726033333, 103.9528, 103.95304, 103.95306, 103.953086666667, 103.9533, 103.95331, 103.95336, 103.95336, 103.95336, 103.953385833333, 103.953397833333, 103.95349, 103.95367, 103.95375, 103.95379, 103.953866833333, 103.95398, 103.95437, 103.95439, 103.9544, 103.9545, 103.95451, 103.954600333333, 103.95461, 103.95465, 103.95466, 103.954720833333, 103.95482, 103.954891666667, 103.954970516667, 103.95499, 103.955, 103.955, 103.95506, 103.9550725, 103.9551, 103.955409183333, 103.95541, 103.9555, 103.9555, 103.95551, 103.95553, 103.9562, 103.95625, 103.95642, 103.9565, 103.95662, 103.95689, 103.95694, 103.957460833333, 103.95751, 103.9577, 103.9578075, 103.95782, 103.95787, 103.95791, 103.95795, 103.95835, 103.95855, 103.95859, 103.95897, 103.959, 103.95909, 103.959412833333, 103.959424166667, 103.9594415, 103.95955, 103.95964, 103.959834883333, 103.960188233333, 103.96045, 103.96055, 103.96064, 103.96077, 103.9608005, 103.960810466667, 103.96096, 103.96106, 103.96107, 103.961192833333, 103.9612, 103.961276333333, 103.9613, 103.9613045, 103.96141, 103.96141, 103.961631, 103.9617, 103.9617, 103.9618, 103.9619, 103.9619, 103.962, 103.96204, 103.96207, 103.962143666667, 103.9622, 103.962206833333, 103.96222, 103.962473833333, 103.962805533333, 103.962861666667, 103.962977733333, 103.963063616667, 103.9633, 103.96354, 103.96365, 103.9637, 103.96378, 103.96391, 103.96392, 103.96404, 103.96406, 103.96417, 103.9641757, 103.96418, 103.9641995, 103.96435, 103.96458, 103.96462, 103.96467, 103.96468, 103.96468, 103.96472, 103.96476, 103.96477, 103.964841166667, 103.9649, 103.964994666667, 103.965274066667, 103.96538, 103.96545, 103.96565, 103.96576, 103.96606, 103.96619, 103.9664, 103.96652, 103.96712, 103.96724, 103.96727, 103.96732, 103.96735, 103.96764, 103.96767, 103.96773, 103.96773, 103.96775, 103.96777, 103.96779, 103.9678, 103.96781, 103.96784, 103.96788, 103.96788, 103.96793, 103.96794, 103.96795, 103.96798, 103.968, 103.968, 103.96804, 103.96804, 103.96806, 103.96807, 103.96815, 103.9684, 103.96878, 103.96925, 103.9692945, 103.96943, 103.9697, 103.96974, 103.96994, 103.9702, 103.97063, 103.971, 103.97124, 103.97134, 103.9717, 103.971738166667, 103.97252, 103.97265, 103.97314, 103.97384, 103.97429, 103.97451, 103.97492, 103.97556, 103.97804, 103.97878, 103.97926, 103.979706666667, 103.97986, 103.98031, 103.98092, 103.98201, 103.982369566667, 103.98446, 103.98486, 103.98514, 103.98555, 103.98561, 103.98562, 103.98576, 103.98626, 103.98647, 103.98651, 103.98667, 103.98667, 103.9867, 103.98671, 103.98687, 103.98689, 103.98764115, 103.987921666667, 103.98868, 103.988774, 103.99824, 104.00507], \"xaxis\": \"x\", \"y\": [1.29409, 1.30303, 1.29426, 1.29749, 1.29417, 1.29394, 1.29824, 1.29873385, 1.28938, 1.28934, 1.29047, 1.30131, 1.31098, 1.32385, 1.32196, 1.33479, 1.33606, 1.33361, 1.32497196666667, 1.3311, 1.32278, 1.30843, 1.3295, 1.30643761666667, 1.3073, 1.30723, 1.31381, 1.32391, 1.30594, 1.30291, 1.32555, 1.312, 1.31302, 1.32013, 1.23348, 1.33734, 1.3389, 1.3274, 1.32734, 1.32748, 1.3274, 1.32736, 1.3219, 1.30302, 1.32797, 1.34733, 1.33, 1.34105, 1.34084, 1.34292, 1.34009, 1.34105, 1.34121, 1.33901, 1.33166, 1.34065, 1.34126, 1.3409, 1.34281, 1.34167, 1.31192, 1.35502, 1.33794116666667, 1.32351, 1.34545483333333, 1.34506, 1.37375, 1.34332, 1.35588031666667, 1.34018, 1.34548283333333, 1.34033, 1.34178, 1.32961, 1.32383, 1.34620921666667, 1.34848, 1.34923, 1.34777, 1.3471525, 1.34555, 1.33786, 1.338, 1.3387, 1.34674, 1.33308, 1.335063, 1.41851, 1.41844, 1.3479, 1.3479, 1.34748, 1.33579, 1.34818, 1.33982, 1.34463, 1.34557, 1.34070668333333, 1.35009, 1.26229, 1.337639, 1.26338933333333, 1.34578, 1.35162, 1.34553, 1.34437, 1.34903, 1.34391, 1.34306, 1.32808, 1.35131516666667, 1.34128, 1.34109, 1.26746, 1.34328233333333, 1.34969, 1.35388, 1.33722, 1.31403, 1.26832, 1.34758, 1.34141183333333, 1.34081, 1.33679, 1.33743, 1.33749, 1.33769, 1.34141916666667, 1.34081, 1.34048, 1.33798, 1.33807, 1.33835, 1.34389, 1.33842, 1.33854, 1.33863, 1.33877, 1.33889, 1.32093, 1.34479733333333, 1.32788, 1.346658, 1.34658, 1.34634, 1.346772, 1.34537, 1.34725766666667, 1.27553933333333, 1.34873, 1.30917, 1.34637, 1.34459, 1.33335, 1.33297, 1.347767, 1.34862, 1.33296, 1.34883, 1.3414, 1.34149, 1.34888, 1.34681, 1.34704816666667, 1.35117, 1.34981, 1.33569, 1.34686, 1.34408666666667, 1.34536, 1.34594, 1.34554, 1.34494, 1.31387, 1.345, 1.34503, 1.35321, 1.33934, 1.34954528333333, 1.33947, 1.35029516666667, 1.33927, 1.33384116666667, 1.33664263333333, 1.3429, 1.34844, 1.34984, 1.35129, 1.34880083333333, 1.34865883333333, 1.350455, 1.35225033333333, 1.35059, 1.34952, 1.34825, 1.35134, 1.35168, 1.34886, 1.35613, 1.35077, 1.35199, 1.35418, 1.37556, 1.34850916666667, 1.35087, 1.33059, 1.35291, 1.35068, 1.350103, 1.35234133333333, 1.3239, 1.34993, 1.31181, 1.33862, 1.34625, 1.351, 1.33405716666667, 1.31595083333333, 1.33913, 1.34481, 1.2873, 1.31591, 1.34657, 1.34464385, 1.35114, 1.34468, 1.34457, 1.34462, 1.3446, 1.34716, 1.3446, 1.3511, 1.34239, 1.33884, 1.34528, 1.34914, 1.33463, 1.33443, 1.34634, 1.3359435, 1.33988, 1.35303, 1.33178, 1.35016, 1.34003916666667, 1.33174, 1.3528, 1.33168, 1.35072, 1.35065033333333, 1.33385, 1.3490015, 1.35052, 1.32649966666667, 1.3514, 1.33378, 1.35015, 1.34935, 1.32585, 1.35011, 1.35011, 1.35011, 1.3501, 1.35005, 1.35006, 1.35002, 1.34974, 1.34998, 1.35001493333333, 1.34985, 1.34981133333333, 1.34464, 1.35032, 1.35261, 1.35032, 1.34982, 1.35, 1.34985, 1.34986, 1.34987, 1.34828, 1.34442, 1.34954, 1.34634, 1.37997, 1.34812, 1.34788, 1.34722, 1.34336, 1.34311, 1.34629, 1.34439, 1.34043, 1.34883865, 1.3412, 1.3408, 1.34392, 1.34378, 1.37618, 1.34214, 1.3762453, 1.34338, 1.34342, 1.37799716666667, 1.37655, 1.381, 1.34342333333333, 1.35626, 1.34286, 1.38114066666667, 1.34561, 1.34334, 1.37466, 1.32135, 1.34258216666667, 1.34268, 1.33692, 1.32515, 1.32419, 1.34298, 1.32216, 1.37836, 1.33696233333333, 1.37854, 1.35812, 1.37633795, 1.34017, 1.37964, 1.34997158333333, 1.37850133333333, 1.34406, 1.32202, 1.34257, 1.34009, 1.34357, 1.35388, 1.35650816666667, 1.34161, 1.34336383333333, 1.35684, 1.32537816666667, 1.37554, 1.38134, 1.33871, 1.3393884, 1.38163, 1.37809, 1.34869, 1.35287, 1.34629683333333, 1.35583, 1.33308, 1.333, 1.33547, 1.37533, 1.35613933333333, 1.35244, 1.35303, 1.36013, 1.38895, 1.35212966666667, 1.3923, 1.33331, 1.33364, 1.39258116666667, 1.33351, 1.33335, 1.3258, 1.33411, 1.35334, 1.35206996666667, 1.33311, 1.33288, 1.333, 1.33292, 1.32195, 1.33802, 1.33254, 1.33093021666667, 1.33254, 1.33246, 1.33238, 1.35413, 1.33236, 1.34649, 1.37804, 1.33226, 1.33221, 1.34625, 1.35504, 1.30567, 1.3461, 1.3751, 1.38651, 1.33925, 1.39071, 1.33833, 1.34162, 1.32042, 1.33182, 1.34807716666667, 1.33617, 1.32173, 1.33693, 1.38372028333333, 1.38044866666667, 1.33717, 1.33225, 1.34672, 1.39327, 1.33225, 1.34108, 1.38208, 1.33205, 1.33198233333333, 1.33779, 1.33203, 1.34103, 1.33213, 1.33721, 1.33215133333333, 1.33209, 1.39129, 1.33234, 1.33233, 1.33215, 1.38432, 1.40167, 1.33557, 1.32125, 1.32129, 1.34124, 1.33222, 1.35258618333333, 1.33242, 1.37782, 1.33216, 1.33474, 1.40016, 1.3407, 1.33204, 1.37845, 1.3467, 1.34835, 1.33523, 1.378445, 1.33518, 1.33532, 1.34815, 1.33245991666667, 1.33504, 1.33507, 1.33521, 1.40278, 1.377, 1.35196, 1.39511, 1.33503, 1.33505, 1.36131, 1.38446, 1.38459, 1.33491583333333, 1.34819, 1.34806, 1.38425, 1.38426, 1.3479, 1.33529416666667, 1.33523, 1.38445, 1.33565, 1.32828, 1.38433, 1.38432, 1.39219, 1.40046, 1.34989, 1.39667, 1.38449648333333, 1.39209183333333, 1.38453785, 1.32066, 1.39666, 1.40399, 1.33962, 1.32076, 1.35049, 1.39063, 1.33957733333333, 1.34535, 1.32727, 1.33385, 1.33393, 1.33373116666667, 1.35011, 1.33944, 1.33389, 1.39772, 1.3347, 1.3345, 1.33471, 1.34174, 1.38836, 1.34324733333333, 1.33413633333333, 1.40265, 1.32233, 1.40217, 1.40209916666667, 1.34641396666667, 1.33369633333333, 1.38208, 1.33406, 1.33412, 1.33433, 1.3399, 1.3343, 1.33467, 1.33382, 1.33059, 1.33399, 1.33409, 1.33416, 1.34094, 1.333341, 1.3335, 1.3342, 1.33470211666667, 1.33414, 1.33404, 1.33423, 1.37684763333333, 1.33407, 1.33367981666667, 1.34684, 1.34191, 1.34644783333333, 1.33794, 1.33412, 1.33408, 1.36590666666667, 1.33338, 1.33151, 1.36371, 1.32320483333333, 1.34964, 1.33418, 1.33325, 1.3339302, 1.32193, 1.38033, 1.3456, 1.392405, 1.33959, 1.38414, 1.39881, 1.39188, 1.30287, 1.32207, 1.40078, 1.33138, 1.34573, 1.33871, 1.34577, 1.371288, 1.35647, 1.36517, 1.41671, 1.3578, 1.35856, 1.39242, 1.3524, 1.3559, 1.35627, 1.39087, 1.395, 1.34839, 1.39584, 1.39615, 1.40358, 1.39672, 1.36249, 1.39666, 1.39679, 1.39707, 1.39690833333333, 1.39694, 1.33643, 1.39679, 1.39661, 1.38006566666667, 1.35445, 1.33666691666667, 1.39856, 1.3424, 1.33567, 1.33655, 1.330922, 1.37984, 1.39864, 1.35026, 1.40073, 1.32061, 1.39803716666667, 1.36517, 1.39699033333333, 1.40327, 1.31851, 1.38098, 1.34871, 1.33056, 1.3928, 1.42687, 1.31886, 1.3693, 1.35213, 1.36195633333333, 1.35109, 1.39615016666667, 1.34824, 1.32137, 1.39819, 1.34201216666667, 1.30369, 1.32965, 1.36159483333333, 1.38, 1.38005, 1.39621, 1.36371, 1.35075, 1.3465, 1.38975, 1.34503, 1.34518, 1.35952, 1.38036, 1.39258, 1.4033, 1.40357, 1.36057833333333, 1.35035, 1.36077, 1.35668, 1.42327, 1.35684533333333, 1.3624, 1.39976066666667, 1.392767, 1.37736, 1.40703, 1.42214, 1.38223333333333, 1.35981, 1.366903, 1.35821, 1.36259, 1.35602666666667, 1.31722566666667, 1.3572684, 1.35750183333333, 1.35753, 1.37779416666667, 1.34289883333333, 1.3667, 1.35762, 1.35768033333333, 1.35771, 1.36574, 1.35779, 1.35782, 1.40224, 1.31471, 1.3557, 1.36112, 1.35789, 1.35783, 1.35794, 1.35805, 1.35515, 1.35793, 1.35803, 1.35812, 1.34928, 1.35825, 1.35820623333333, 1.35831, 1.35836, 1.35841, 1.35872, 1.35861, 1.35857, 1.35865783333333, 1.358845, 1.34815, 1.37889, 1.358, 1.31596, 1.37714, 1.38048, 1.39318033333333, 1.37899, 1.41205, 1.37878316666667, 1.34412, 1.34897, 1.35777, 1.38123, 1.38144, 1.34872966666667, 1.34937, 1.31446, 1.31471, 1.37661116666667, 1.43598, 1.37912, 1.37846, 1.30761, 1.31484, 1.3139, 1.33901, 1.39436, 1.37632, 1.35303, 1.38121, 1.33837, 1.37901, 1.3357, 1.38051, 1.32664, 1.3145, 1.37862, 1.39693, 1.32663, 1.35197, 1.34691, 1.3977, 1.41629, 1.30949, 1.41474, 1.34092, 1.37769, 1.33688, 1.34397, 1.39924, 1.34531, 1.35267, 1.33687, 1.37799, 1.34091, 1.35120708333333, 1.32839, 1.35201, 1.35228, 1.34134, 1.34121, 1.34679, 1.35159066666667, 1.40971, 1.342, 1.40907, 1.31026, 1.34756, 1.4332, 1.37962333333333, 1.31033, 1.40751, 1.34774, 1.34267, 1.40651, 1.37741, 1.32591, 1.34771, 1.35132, 1.32588016666667, 1.33618115, 1.38082, 1.343152, 1.33018, 1.38714916666667, 1.34274, 1.40862, 1.33623, 1.32574, 1.34578, 1.37826, 1.3451, 1.33567111666667, 1.34473, 1.34288, 1.42382, 1.34871583333333, 1.33095, 1.34469, 1.33048, 1.41643, 1.33425, 1.34275, 1.33437966666667, 1.38524, 1.3316, 1.33335, 1.38470883333333, 1.33411, 1.33456, 1.34948, 1.384888, 1.31263, 1.35178, 1.38719, 1.35014, 1.34797, 1.34051, 1.35046, 1.30959, 1.33968, 1.31147, 1.33972, 1.3538, 1.38075, 1.35088, 1.38069, 1.34721, 1.38063, 1.31071, 1.38101366666667, 1.34574, 1.38029, 1.34993, 1.3530665, 1.34614, 1.34721, 1.34306, 1.3491325, 1.39018, 1.33478, 1.38335, 1.36925066666667, 1.37018, 1.38099, 1.38512375, 1.30394, 1.32044716666667, 1.38244821666667, 1.37882, 1.42568, 1.31991, 1.42574, 1.42579, 1.32172, 1.38404, 1.3104, 1.39034, 1.38216933333333, 1.30694, 1.38351, 1.30591, 1.30289, 1.31857, 1.3029, 1.30689, 1.38069, 1.30414, 1.33339, 1.30646, 1.3778, 1.30687, 1.3139, 1.377513, 1.37163, 1.31427, 1.30393, 1.30632, 1.384887, 1.37797, 1.37961, 1.35909, 1.37968, 1.38078, 1.38026, 1.38033, 1.38002, 1.37992, 1.30555, 1.3799, 1.38019, 1.30312, 1.35996, 1.37026, 1.3835625, 1.38013866666667, 1.36144, 1.32527, 1.36965, 1.3614, 1.31178, 1.34739825, 1.315618, 1.31649, 1.38522, 1.30373, 1.31488, 1.34717566666667, 1.37601, 1.377439, 1.36415, 1.31517, 1.38597, 1.31619, 1.3858, 1.38736, 1.37653, 1.32867, 1.30325, 1.38087, 1.30298, 1.3197735, 1.30326966666667, 1.34727, 1.31576883333333, 1.31372283333333, 1.30221, 1.31212, 1.31337, 1.31333466666667, 1.31239, 1.31324, 1.30827, 1.31852, 1.3132, 1.31705, 1.31315, 1.37577, 1.31311543333333, 1.30096, 1.3188, 1.31912, 1.31889, 1.35773, 1.31302, 1.31299, 1.31277, 1.31288, 1.31301, 1.32158, 1.3859585, 1.3242, 1.31968, 1.37761, 1.3125655, 1.31315121666667, 1.31991, 1.4346, 1.31243, 1.32003, 1.37967, 1.29905, 1.37143, 1.31422, 1.36035, 1.30612, 1.31098, 1.31217, 1.36278, 1.38695916666667, 1.38017, 1.3623, 1.38548, 1.32089, 1.3209175, 1.36274, 1.37763621666667, 1.320806, 1.31176, 1.33955, 1.38737133333333, 1.31216, 1.30464466666667, 1.3142445, 1.34557, 1.30992, 1.36337238333333, 1.38822, 1.31265, 1.30950266666667, 1.31326, 1.3132, 1.43128, 1.32259316666667, 1.31035, 1.31383, 1.31795, 1.31861, 1.31785, 1.38893, 1.30949716666667, 1.38159, 1.31790806666667, 1.29928, 1.36054, 1.30423816666667, 1.31825898333333, 1.34455, 1.31481, 1.344061, 1.31547, 1.38091, 1.38763, 1.44354, 1.44333016666667, 1.44346, 1.44339133333333, 1.44358, 1.31694, 1.44357, 1.31097, 1.37571, 1.385446, 1.31576, 1.37705, 1.37683066666667, 1.32348, 1.38232683333333, 1.31184, 1.34899, 1.3486895, 1.34937, 1.33701, 1.36419, 1.31418, 1.34835, 1.312859, 1.30138, 1.376, 1.34838, 1.31197183333333, 1.3245, 1.31883, 1.37622, 1.38143, 1.41781, 1.30269, 1.31886, 1.38507, 1.37649683333333, 1.30274, 1.31943, 1.38554, 1.31304828333333, 1.3862, 1.3191, 1.33703, 1.3409, 1.38601, 1.38593, 1.3771, 1.32251, 1.38607, 1.31849476666667, 1.31215108333333, 1.38635, 1.37728, 1.30386845, 1.37758, 1.34625, 1.44123, 1.37419, 1.38794, 1.34058, 1.38113, 1.44578, 1.4420315, 1.3902, 1.31254, 1.34603, 1.38726, 1.29092, 1.31199, 1.40998, 1.39018, 1.34690405, 1.31237, 1.38367, 1.377355, 1.37366, 1.43198, 1.43261, 1.37514, 1.38306, 1.30102, 1.43237, 1.43234806666667, 1.43339, 1.43588, 1.4305555, 1.42962, 1.43234, 1.43232901666667, 1.37914, 1.42759, 1.43236, 1.43242, 1.44236983333333, 1.37849188333333, 1.37763, 1.4321755, 1.42987, 1.31213, 1.34518, 1.43214, 1.43228183333333, 1.44216, 1.37307, 1.43018333333333, 1.39658, 1.42749386666667, 1.32497, 1.44316, 1.37965083333333, 1.33898, 1.42929, 1.37356, 1.4330345, 1.43062, 1.31219, 1.37129, 1.43041, 1.43051, 1.43009786666667, 1.42696, 1.430509, 1.3734, 1.301879, 1.4385, 1.43132, 1.36835, 1.4323, 1.42898, 1.36611, 1.42996061666667, 1.34284, 1.43158, 1.37562, 1.34235, 1.2988, 1.34316, 1.34215, 1.34233, 1.34282, 1.3431075, 1.42804566666667, 1.44134, 1.3269, 1.34264766666667, 1.34244, 1.34262, 1.43334, 1.43015, 1.43368583333333, 1.43347, 1.43303, 1.33997, 1.44253, 1.28956, 1.34037, 1.31886, 1.29863, 1.30793, 1.29821, 1.44532, 1.3412795, 1.44039, 1.43239081666667, 1.34143, 1.44301, 1.43908, 1.28751, 1.3122, 1.3383, 1.33274, 1.44418, 1.44409, 1.44415, 1.28906, 1.4109, 1.31156, 1.43533, 1.44379, 1.4437385, 1.44434533333333, 1.31715, 1.33869, 1.31107, 1.33974, 1.43234, 1.44145, 1.43960983333333, 1.3402, 1.33841, 1.43017183333333, 1.31553, 1.36941, 1.36843, 1.43039, 1.29717, 1.33869, 1.33878, 1.31845, 1.29681, 1.33735, 1.31124316666667, 1.4405, 1.43021, 1.43411, 1.43302, 1.43946, 1.34235, 1.440916, 1.43834, 1.439403, 1.31027, 1.28886, 1.43897, 1.43295, 1.28453, 1.42969, 1.34248, 1.42961, 1.42972, 1.43925483333333, 1.32022, 1.43626, 1.28314, 1.30388, 1.43134, 1.30332, 1.29796816666667, 1.43964, 1.29162, 1.43712, 1.30376, 1.42664, 1.29532, 1.29552, 1.43503, 1.3362385, 1.30682, 1.29545, 1.29287, 1.29533, 1.30341116666667, 1.29551, 1.29369, 1.42667433333333, 1.42672, 1.29644, 1.30298783333333, 1.29343, 1.2936, 1.29363, 1.44235, 1.2951, 1.43305, 1.29513, 1.35602, 1.29416, 1.29531, 1.29514, 1.2953, 1.29512, 1.29514, 1.29467, 1.29498, 1.29473, 1.29454, 1.29455, 1.29494, 1.29489, 1.29444, 1.29447, 1.2948556, 1.29436, 1.29469, 1.29478, 1.2952035, 1.29427, 1.29473, 1.29478871666667, 1.43136, 1.29424, 1.29463, 1.29405, 1.29458, 1.29452, 1.44173, 1.29440275, 1.29468, 1.29468, 1.29408, 1.310066, 1.29412, 1.29275, 1.2945035, 1.30713, 1.43553, 1.29521476666667, 1.30468, 1.4356145, 1.2934, 1.30793, 1.43555866666667, 1.43005, 1.4356955, 1.43572716666667, 1.43534, 1.29341, 1.41154, 1.29335, 1.43549, 1.43558, 1.34386, 1.31772, 1.43521, 1.33509, 1.2970035, 1.30758, 1.27898, 1.31789, 1.29066, 1.31768, 1.31774, 1.31758283333333, 1.29416806666667, 1.42563, 1.43426, 1.3266335, 1.43413, 1.30899, 1.42743, 1.435755, 1.2971535, 1.30147, 1.4376035, 1.4377, 1.43766, 1.43747, 1.43759, 1.29871, 1.43728, 1.4375, 1.29832, 1.30808, 1.31755, 1.43737, 1.30369, 1.43225, 1.31013, 1.30405, 1.44341025, 1.29426, 1.43490661666667, 1.30637463333333, 1.30511, 1.44239, 1.30619, 1.29251, 1.27761, 1.31168, 1.29348, 1.28146, 1.29358, 1.44337, 1.29667, 1.29804, 1.438, 1.33394, 1.33434, 1.31626, 1.34684, 1.3053475, 1.3002, 1.43571, 1.29787, 1.31104, 1.33422, 1.33182, 1.43752, 1.31096, 1.430316, 1.43652, 1.32001, 1.30856, 1.30833, 1.30847, 1.43701466666667, 1.43695433333333, 1.41282785, 1.30532, 1.44433, 1.30647, 1.30658, 1.30651, 1.34774, 1.43346, 1.30144, 1.30715, 1.30731, 1.33306, 1.27617, 1.44314, 1.44274, 1.43023, 1.43167, 1.44397, 1.43006, 1.3081, 1.4351, 1.43295, 1.30096, 1.4302, 1.43468, 1.44222716666667, 1.30268, 1.44418, 1.30755, 1.4351975, 1.4326985, 1.30861833333333, 1.45082, 1.30701, 1.30774, 1.33828, 1.3077, 1.30688, 1.43202, 1.30724, 1.43625, 1.42929, 1.33685066666667, 1.42954, 1.44017, 1.28813, 1.44556, 1.30796, 1.30800576666667, 1.43973, 1.4367, 1.44848, 1.31021, 1.3047, 1.44439, 1.4338308, 1.30529, 1.42927, 1.43272933333333, 1.43403, 1.28765, 1.30584, 1.30962, 1.30967, 1.33199, 1.44221, 1.31001, 1.3099285, 1.3098114, 1.30952, 1.44921, 1.44923, 1.30458, 1.44928, 1.444711, 1.43871, 1.43211666666667, 1.28736, 1.44552983333333, 1.45062233333333, 1.44196866666667, 1.44732, 1.44355, 1.30257, 1.31064, 1.30103, 1.43746, 1.30659, 1.44744, 1.3117, 1.42469033333333, 1.44729, 1.44773, 1.43698916666667, 1.44939, 1.43692, 1.29709, 1.4557, 1.3002, 1.30021, 1.43874, 1.4591, 1.33122, 1.30015, 1.4465, 1.30173, 1.30254, 1.30245666666667, 1.42955, 1.27432, 1.30242, 1.33082, 1.30426, 1.45990183333333, 1.43802, 1.30229, 1.43005, 1.29616, 1.30236, 1.43141, 1.30231, 1.30212, 1.29332, 1.44578, 1.44583, 1.29966683333333, 1.4455, 1.4462, 1.33012566666667, 1.30543, 1.34659683333333, 1.44418, 1.302399, 1.29709, 1.30691, 1.29544, 1.27492, 1.45828416666667, 1.30667, 1.3074, 1.34610616666667, 1.29469, 1.45652, 1.30682, 1.30687, 1.44039, 1.43968466666667, 1.30104, 1.44019426666667, 1.43905, 1.44534, 1.44774, 1.31195, 1.34540511666667, 1.32979, 1.30068, 1.41892, 1.30737, 1.43537, 1.30657183333333, 1.29091, 1.41893033333333, 1.30634, 1.44126, 1.44134516666667, 1.44096, 1.44112, 1.44104, 1.28627, 1.28303768333333, 1.44117, 1.30344, 1.44123, 1.4412, 1.44113116666667, 1.3057, 1.4412, 1.44194, 1.4412, 1.44152, 1.44276883333333, 1.44152, 1.43489, 1.28528, 1.44152, 1.4484685, 1.43742, 1.29261, 1.44833, 1.31283, 1.32901, 1.29476, 1.3108, 1.41704, 1.43895, 1.27888, 1.32887, 1.4358, 1.2929004, 1.31115, 1.31044, 1.32864, 1.28827, 1.28527, 1.29108, 1.29552716666667, 1.43846, 1.28816, 1.44715866666667, 1.28723, 1.29003, 1.311005, 1.31464, 1.28653, 1.31118783333333, 1.31053, 1.29314, 1.44015, 1.43934, 1.31138, 1.28587, 1.31285, 1.28747, 1.44839, 1.28117, 1.31251, 1.288, 1.44613, 1.28777, 1.43956836666667, 1.29175666666667, 1.28736, 1.32786, 1.28716, 1.29649, 1.29299, 1.29839, 1.29333, 1.31527783333333, 1.29414, 1.28659, 1.44118, 1.31003, 1.28199, 1.31575, 1.448044, 1.33956, 1.43574, 1.33946, 1.29508, 1.44336, 1.31615, 1.28694, 1.309923, 1.28707, 1.29361, 1.44054, 1.29419, 1.28292, 1.44322966666667, 1.29435, 1.329779, 1.28644, 1.44622233333333, 1.29302, 1.29052, 1.28662066666667, 1.28576, 1.32333, 1.44229, 1.28574, 1.27294, 1.44475, 1.31732, 1.27749341666667, 1.27127, 1.43737, 1.44484, 1.29256, 1.31751, 1.44086, 1.294024, 1.28646166666667, 1.4454, 1.277066, 1.44556, 1.44196, 1.3170095, 1.31816, 1.31837, 1.2746049, 1.2818, 1.2917, 1.33677, 1.28355, 1.29421, 1.28667, 1.29317, 1.28579, 1.2877, 1.28772, 1.32234, 1.29339, 1.46689, 1.31938, 1.32408, 1.29653, 1.28593, 1.29226, 1.29234, 1.32834, 1.27725733333333, 1.32408, 1.2816685, 1.2936, 1.32385416666667, 1.28583, 1.2911, 1.44902, 1.27123, 1.29244, 1.32002, 1.27267, 1.29286, 1.32002, 1.29326, 1.27556, 1.28809, 1.27268, 1.3347, 1.44406, 1.27656, 1.44367016666667, 1.29345, 1.29166, 1.28709, 1.46478, 1.44746083333333, 1.29071, 1.27532483333333, 1.27314, 1.2967, 1.27291, 1.27329, 1.32112, 1.32398, 1.28648, 1.28163, 1.28172633333333, 1.27512, 1.32174, 1.32396, 1.29668, 1.32388, 1.45546, 1.28771416666667, 1.28942583333333, 1.32444, 1.28691, 1.32688, 1.28827388333333, 1.28828, 1.28839, 1.27566, 1.28834, 1.44645, 1.2822, 1.32668, 1.32642, 1.27438, 1.28795216666667, 1.285, 1.45158796666667, 1.28806, 1.44813, 1.29035, 1.44913, 1.45527, 1.28805, 1.32853, 1.32384, 1.30643, 1.32286, 1.29163, 1.45120133333333, 1.2749291, 1.32285, 1.44736, 1.28484, 1.45631, 1.28235, 1.32279, 1.32291, 1.28465, 1.45459, 1.2846, 1.39582, 1.451148, 1.45, 1.33078383333333, 1.28312083333333, 1.28183, 1.29224, 1.28765, 1.28316, 1.30673, 1.29675, 1.32261, 1.45028, 1.4441425, 1.2831, 1.28083, 1.28327, 1.44206, 1.28319, 1.28302, 1.27782, 1.28287, 1.28299296666667, 1.28288, 1.29154, 1.33266, 1.32268, 1.28295, 1.28273, 1.2775888, 1.33249, 1.27819, 1.28289, 1.44469, 1.33115, 1.28298, 1.28282616666667, 1.28284233333333, 1.28275, 1.2827, 1.28532, 1.28281, 1.2894, 1.27846, 1.2864, 1.28267, 1.30662, 1.28272, 1.3321465, 1.32266, 1.45238, 1.28923, 1.28875, 1.28915, 1.40184, 1.2842, 1.28897, 1.27949, 1.28882, 1.32259, 1.28053, 1.44126, 1.4501, 1.26474, 1.28905, 1.26709596666667, 1.4473062, 1.28866066666667, 1.29139, 1.28878, 1.28802, 1.45006883333333, 1.28866, 1.27749883333333, 1.26676, 1.44127, 1.28883, 1.28592, 1.44908, 1.27775, 1.27775, 1.28562283333333, 1.287996, 1.32246, 1.28626, 1.30677, 1.29134, 1.39389, 1.30658, 1.31635, 1.29375, 1.2559, 1.40466, 1.27588, 1.26588, 1.27751, 1.28124, 1.45038816666667, 1.33511, 1.43953, 1.28364, 1.30734, 1.30671, 1.33075, 1.45188, 1.30248, 1.28272, 1.44652716666667, 1.3221939, 1.30735, 1.32214, 1.28352, 1.27512, 1.2772, 1.32207, 1.33523, 1.44947, 1.45194, 1.32134, 1.44953531666667, 1.27654425, 1.27706, 1.30653, 1.29118, 1.45379776666667, 1.27356, 1.30686083333333, 1.2808134, 1.44947, 1.44945, 1.44952, 1.44966, 1.44955, 1.27568, 1.27501, 1.44961196666667, 1.44969566666667, 1.28461, 1.44954, 1.45164, 1.28481, 1.32187, 1.26406, 1.29164, 1.28464, 1.28646, 1.4489955, 1.26572, 1.26582, 1.28852, 1.44974, 1.28358, 1.28461, 1.44974, 1.28379, 1.43751, 1.45303678333333, 1.3936, 1.29322, 1.30329, 1.28478, 1.4439148, 1.32973, 1.44411733333333, 1.28857, 1.28475, 1.2659, 1.26542, 1.30528, 1.30545, 1.27193, 1.39746, 1.28243, 1.27403616666667, 1.2835, 1.28745, 1.29998, 1.44751, 1.26502, 1.29997, 1.29145, 1.27127, 1.29991, 1.26505, 1.299917, 1.29732, 1.26509, 1.29992, 1.2999, 1.45023, 1.32133, 1.29987, 1.33724, 1.29089, 1.26506, 1.26514, 1.28335, 1.29986, 1.26516, 1.26505, 1.41295, 1.29986, 1.29985, 1.26523613333333, 1.27564, 1.30529, 1.30512, 1.30524, 1.28195, 1.28426, 1.30513, 1.4144, 1.3052, 1.29071, 1.27733, 1.28368, 1.30518, 1.28202, 1.45207083333333, 1.27212, 1.30522, 1.3052365, 1.30528, 1.30531, 1.28469246666667, 1.30539, 1.30533, 1.2644, 1.30545, 1.30522, 1.27866, 1.30541, 1.28, 1.27169, 1.28203, 1.45061546666667, 1.30519618333333, 1.30275, 1.33774, 1.30271, 1.32142, 1.28158, 1.28182, 1.30315, 1.29425, 1.45872, 1.44176, 1.4492, 1.28151, 1.43498, 1.28677, 1.44178, 1.4418, 1.44164, 1.44064, 1.29376, 1.28142, 1.32824, 1.30532616666667, 1.34117, 1.3264, 1.29653, 1.27433, 1.27422, 1.27423, 1.27429, 1.29552, 1.28633, 1.27433, 1.45276, 1.27431, 1.28601, 1.27419, 1.45031, 1.29398, 1.32027, 1.27383, 1.29635, 1.32078, 1.27449, 1.28811, 1.43709, 1.28621, 1.42493, 1.28262983333333, 1.30292, 1.27363, 1.28805, 1.38315, 1.29252, 1.27471, 1.28629, 1.2736753, 1.29291, 1.28259, 1.33926, 1.28981, 1.31093, 1.29216, 1.29297, 1.27430416666667, 1.31585, 1.28215, 1.302097, 1.38241, 1.29588, 1.27477, 1.450065, 1.32075, 1.29034911666667, 1.27116, 1.43551, 1.44786, 1.43342, 1.28515, 1.32606, 1.29908, 1.3071, 1.43073, 1.451492, 1.45022033333333, 1.38099, 1.279968, 1.28285, 1.28855, 1.24947, 1.28065, 1.28278, 1.29192, 1.28531, 1.28549, 1.28492, 1.28776366666667, 1.29422, 1.28264, 1.28712, 1.32751, 1.2871, 1.403665, 1.40342, 1.27958, 1.45007, 1.28446763333333, 1.30712, 1.28691, 1.28982, 1.43171993333333, 1.45023, 1.28666, 1.28807208333333, 1.2867, 1.28346, 1.28679983333333, 1.28061, 1.40553, 1.28667, 1.30775, 1.40064, 1.40031, 1.28668, 1.28694, 1.30811, 1.37092, 1.28659, 1.42625, 1.28696, 1.24887, 1.32657, 1.28658, 1.30699, 1.36338, 1.2867, 1.29051, 1.43033, 1.28623, 1.37636, 1.36112, 1.27276, 1.28906, 1.39938, 1.36764, 1.371, 1.36315148333333, 1.31887, 1.28587391666667, 1.39858166666667, 1.35868, 1.44541, 1.28216, 1.4356, 1.43647, 1.42571883333333, 1.4261465, 1.27543, 1.30741, 1.42746, 1.43453, 1.28229, 1.39795, 1.37325, 1.30719, 1.30752, 1.35939, 1.43035, 1.39776, 1.43216, 1.27886, 1.28336, 1.30645, 1.27923, 1.28988685, 1.31915, 1.36209, 1.30641, 1.29067, 1.43167, 1.43177, 1.29419283333333, 1.31284, 1.36798, 1.31289, 1.31279, 1.28542, 1.29622116666667, 1.2783, 1.44296, 1.42872, 1.30528, 1.42608, 1.28327, 1.30316, 1.30572, 1.2953385, 1.30527, 1.29566, 1.30426, 1.45051, 1.28665, 1.28532, 1.35523, 1.41187, 1.35531, 1.29572, 1.41078348333333, 1.3553, 1.30568, 1.35517, 1.35517033333333, 1.27811, 1.29959, 1.27727, 1.35511, 1.28171766666667, 1.28105633333333, 1.42309216666667, 1.36863, 1.29587, 1.43533, 1.35516, 1.35531, 1.29346, 1.36786, 1.35528, 1.42796, 1.28262, 1.30361, 1.43216, 1.29367, 1.35888, 1.29373, 1.29488, 1.29358, 1.43574, 1.27777, 1.29312, 1.29617, 1.43298, 1.29302, 1.29306, 1.41003, 1.29294, 1.36511, 1.41679, 1.30518, 1.29275, 1.41664, 1.27693, 1.4376, 1.29278, 1.42165, 1.29276181666667, 1.3049, 1.30528, 1.24787086666667, 1.43192173333333, 1.4274, 1.41754, 1.27695, 1.27671, 1.42283, 1.43529016666667, 1.2762895, 1.27680505, 1.41986, 1.41952, 1.30459, 1.42286, 1.2776, 1.27814, 1.27828, 1.3096, 1.29192, 1.42689, 1.28525, 1.27817, 1.36039, 1.27832, 1.2785, 1.28532, 1.29264, 1.31803, 1.42422416666667, 1.41524916666667, 1.30298, 1.29394, 1.28205, 1.39533, 1.29264, 1.29671, 1.43619716666667, 1.42939216666667, 1.29975, 1.30361, 1.42677983333333, 1.41637, 1.30452, 1.28328, 1.27881233333333, 1.29334, 1.43852, 1.28531, 1.36330891666667, 1.28504, 1.30757, 1.41703, 1.30692, 1.30202, 1.27856, 1.30719, 1.30458, 1.41714406666667, 1.30442, 1.28508, 1.27917, 1.28951, 1.2857, 1.36333, 1.28596, 1.30426, 1.3074, 1.30744, 1.43066, 1.30751, 1.3038, 1.30432, 1.30379, 1.42675, 1.4149385, 1.359428, 1.30412, 1.27631, 1.27966, 1.30402, 1.30372, 1.30914, 1.35358, 1.27389, 1.30362, 1.35381, 1.28594, 1.3035, 1.44325, 1.42805033333333, 1.30898, 1.35391, 1.43706, 1.30352, 1.28517, 1.43041, 1.41836, 1.27988, 1.28051, 1.28098, 1.28482, 1.27634, 1.28018, 1.36299, 1.28106, 1.28847, 1.35726, 1.3639, 1.30209, 1.29054, 1.27841, 1.28362, 1.31058, 1.28105, 1.30444, 1.31004, 1.28116, 1.29022, 1.38102, 1.30443, 1.43413, 1.41772, 1.30393, 1.36303433333333, 1.30434, 1.30425, 1.41712933333333, 1.30431, 1.30109, 1.30419, 1.30438, 1.43313, 1.30402, 1.30206, 1.41382, 1.43485, 1.304212, 1.43481, 1.31796, 1.27262, 1.36789, 1.27887, 1.3799, 1.42424, 1.30426, 1.42854, 1.41647, 1.43046086666667, 1.42706, 1.42855, 1.30428, 1.31777, 1.27898, 1.3678, 1.428435, 1.4281, 1.42824, 1.42832, 1.43944, 1.3411735, 1.42868, 1.27894, 1.27896, 1.42835, 1.27917, 1.42889, 1.428187, 1.42863883333333, 1.27909, 1.28078, 1.42517, 1.27902, 1.28078, 1.41748, 1.28127, 1.27865, 1.27901, 1.30296, 1.34135, 1.28076, 1.28115, 1.27905, 1.31697, 1.35276, 1.28128, 1.42886, 1.31745, 1.43357666666667, 1.24622, 1.27912, 1.30178, 1.3947, 1.43041, 1.43031, 1.28113771666667, 1.44314153333333, 1.30217, 1.41542, 1.27817, 1.35155, 1.35114, 1.3024005, 1.27781453333333, 1.30574, 1.38064, 1.35072, 1.44373, 1.27839, 1.41707, 1.43523, 1.28156, 1.43552, 1.4138045, 1.43024, 1.30354, 1.418944, 1.28819, 1.30563, 1.27839, 1.36632, 1.4364325, 1.27776, 1.2784, 1.3825, 1.27909, 1.28265, 1.42298, 1.2777, 1.28322, 1.43964, 1.3786745, 1.30357, 1.3779, 1.30359, 1.35738, 1.44197, 1.31577, 1.28175, 1.44417, 1.44199, 1.3046055, 1.30414, 1.43699, 1.35497, 1.27756, 1.28206, 1.30361, 1.37158, 1.30339, 1.36629, 1.41733, 1.42926, 1.43708016666667, 1.31546, 1.30401, 1.30391, 1.41773316666667, 1.28188166666667, 1.28185, 1.37685, 1.42906, 1.42932, 1.30375, 1.35028, 1.4165, 1.42922, 1.42941, 1.43485766666667, 1.42916416666667, 1.30382, 1.37010066666667, 1.42911575, 1.35961, 1.30398, 1.42879, 1.42874, 1.42483, 1.33506, 1.36987, 1.41741, 1.42868, 1.3348, 1.43823333333333, 1.44373, 1.42856, 1.42861, 1.30503, 1.3556, 1.36017, 1.42856, 1.43566, 1.41457183333333, 1.29941, 1.33667, 1.37115, 1.29681, 1.36003, 1.33757, 1.36012, 1.3872, 1.41474, 1.30163, 1.37172, 1.39208, 1.3695675, 1.38378, 1.2992015, 1.29678795, 1.33638, 1.37701, 1.41792, 1.3122, 1.36712, 1.37346, 1.3735, 1.27728033333333, 1.27234, 1.42072, 1.3383, 1.43814, 1.29604, 1.43618905, 1.30656, 1.29495, 1.421981, 1.41744, 1.43558, 1.31529766666667, 1.33859506666667, 1.35899, 1.35941, 1.35938, 1.35937, 1.3743, 1.29425, 1.35915, 1.35943, 1.37108733333333, 1.31527, 1.31211, 1.35946578333333, 1.35967, 1.4431, 1.3789705, 1.35975, 1.43025, 1.27827, 1.36593, 1.31201, 1.34859, 1.35957, 1.35525, 1.35949, 1.35986, 1.29324, 1.36003, 1.34187, 1.34189, 1.27954, 1.36001, 1.34196, 1.34791, 1.27952, 1.30586, 1.37113, 1.34797, 1.29352, 1.4147765, 1.29971, 1.43142, 1.34176, 1.29753, 1.34837, 1.43034, 1.27752, 1.36815, 1.30015, 1.37054, 1.4313, 1.43945, 1.34274, 1.27341, 1.27903, 1.37429, 1.41975, 1.42349, 1.42357, 1.42366, 1.3612, 1.4238, 1.41461, 1.42365, 1.29751, 1.42351, 1.42365, 1.43464016666667, 1.37709, 1.42359, 1.3608, 1.37973, 1.36119, 1.29936, 1.29961, 1.42367, 1.281373, 1.3611, 1.42374, 1.4235155, 1.28779103333333, 1.29986, 1.42362, 1.42368, 1.30146, 1.35873, 1.36024, 1.4237, 1.380662, 1.44211, 1.29818, 1.34545, 1.42343, 1.30147, 1.4309, 1.43485495, 1.29966, 1.42351, 1.43035, 1.4233265, 1.43476, 1.29119, 1.31257, 1.31319, 1.35062, 1.29284, 1.2996915, 1.43001, 1.29138146666667, 1.34540076666667, 1.29337, 1.42405, 1.43103, 1.35788, 1.36182, 1.43635, 1.34852, 1.36222, 1.38387, 1.43079, 1.34812, 1.37598, 1.3703803, 1.43661, 1.39087266666667, 1.37595, 1.29903766666667, 1.35858, 1.43266866666667, 1.34077, 1.42337, 1.35985733333333, 1.359, 1.37661, 1.44049, 1.2792499, 1.4379, 1.29148, 1.35987, 1.3133, 1.34938, 1.35902, 1.27258, 1.42421083333333, 1.4330405, 1.31373, 1.34943, 1.3496, 1.42432, 1.37732, 1.3575261, 1.28818, 1.3105, 1.36755, 1.31272315, 1.43263788333333, 1.3576, 1.37133, 1.37755, 1.27484015, 1.29155, 1.29139, 1.43182, 1.29148, 1.37842, 1.35163, 1.37450233333333, 1.37459216666667, 1.27897, 1.36629, 1.380372, 1.28724, 1.30634, 1.39014, 1.29593766666667, 1.3829, 1.41815, 1.32891, 1.38284, 1.43432, 1.37453098333333, 1.38063, 1.2916, 1.30099, 1.36046, 1.43339, 1.43464, 1.31379633333333, 1.42232, 1.28083, 1.28741, 1.28744, 1.36103, 1.35954, 1.42862, 1.2875, 1.36108, 1.30043, 1.36092, 1.30045, 1.42667, 1.41797366666667, 1.35372, 1.35751, 1.28029, 1.38189, 1.27363, 1.36077, 1.36055, 1.36083, 1.3606, 1.32503, 1.32817, 1.31512, 1.43281, 1.29222, 1.3813905, 1.27278, 1.29232, 1.38137, 1.32764633333333, 1.28811, 1.37865, 1.3250445, 1.35012, 1.43365, 1.42843, 1.41602, 1.38109366666667, 1.27591, 1.43273, 1.30796181666667, 1.37818716666667, 1.41599, 1.29247, 1.36685, 1.42709, 1.43282, 1.3070595, 1.27447, 1.32499, 1.31685616666667, 1.36871, 1.2887, 1.30045, 1.35292083333333, 1.27944, 1.32223, 1.2485, 1.28844, 1.35617, 1.35605766666667, 1.32497, 1.36857348333333, 1.3801, 1.43526, 1.31765, 1.32297, 1.32308, 1.2985365, 1.3234, 1.36051, 1.29225, 1.38157, 1.30036, 1.32573, 1.33163, 1.32568, 1.38175, 1.32142, 1.32437, 1.43453, 1.28288, 1.32636033333333, 1.38701, 1.32411, 1.36127, 1.4328825, 1.32646, 1.36452, 1.43191, 1.3664, 1.28348, 1.360621, 1.28339, 1.33166, 1.36449283333333, 1.29284, 1.34467, 1.32943, 1.36446, 1.31845, 1.36441, 1.38815216666667, 1.36441, 1.28266, 1.28916, 1.29253, 1.43398, 1.32066, 1.29263, 1.29271, 1.27657, 1.36448, 1.44115, 1.36314, 1.2821485, 1.28657, 1.30165, 1.36447, 1.32046, 1.32057, 1.36042, 1.36445, 1.29259, 1.4408, 1.32025, 1.28104, 1.32031, 1.36716, 1.37118, 1.38862, 1.30149, 1.32046, 1.41589, 1.30133, 1.32015, 1.31718, 1.3201, 1.33152543333333, 1.31711, 1.31939, 1.32007, 1.27604, 1.3198, 1.32003, 1.3713048, 1.31094, 1.33558, 1.3193755, 1.275237, 1.33369, 1.27553, 1.31735, 1.32648316666667, 1.2782, 1.31756, 1.37201, 1.27535, 1.38503283333333, 1.31913, 1.31939, 1.28756, 1.31778, 1.2749, 1.27685, 1.27525, 1.3196, 1.32131, 1.36537, 1.42832411666667, 1.33306, 1.27573, 1.27719, 1.27389, 1.2929, 1.32135, 1.29296066666667, 1.285501, 1.41455, 1.36151, 1.27504, 1.28458983333333, 1.27528, 1.32117, 1.32142, 1.36599, 1.29334, 1.3215, 1.38385, 1.42614, 1.28594, 1.42199, 1.27572, 1.28554, 1.42191, 1.27577, 1.383846, 1.27585, 1.33884, 1.28501, 1.33884, 1.37194, 1.27536, 1.36448, 1.32165, 1.28516848333333, 1.32652, 1.3718, 1.37138, 1.28488, 1.28597, 1.31808, 1.32941, 1.35989, 1.4259, 1.2861, 1.28472, 1.36076851666667, 1.29966, 1.36817, 1.37971, 1.36683, 1.28136, 1.371966, 1.36823, 1.28616, 1.35256, 1.27546, 1.28572, 1.33145, 1.43118, 1.41709, 1.2840825, 1.28639, 1.35962, 1.43108, 1.36666, 1.37745, 1.36818, 1.37845, 1.38182066666667, 1.3818, 1.38178, 1.4246675, 1.28539, 1.28397, 1.28585, 1.36803, 1.42447, 1.37644408333333, 1.36921, 1.32161, 1.322, 1.329565, 1.31218, 1.36551, 1.36794, 1.27464, 1.31263, 1.28384, 1.33203, 1.32662, 1.2848795, 1.31049, 1.31097, 1.32181, 1.38065, 1.38062, 1.381845, 1.28162, 1.31543, 1.32028533333333, 1.32057, 1.32057, 1.32149, 1.36907, 1.4206885, 1.3206, 1.27414, 1.32035, 1.32166, 1.35571, 1.3206, 1.31016, 1.32032, 1.32069, 1.32812, 1.36817, 1.28461933333333, 1.36819, 1.36913, 1.37435, 1.37476, 1.35885, 1.42593, 1.32032, 1.3204, 1.37434, 1.3574, 1.36421, 1.37724, 1.30046, 1.35731, 1.32949, 1.37718, 1.41886, 1.30051, 1.33714, 1.37714, 1.32661, 1.33179, 1.36419, 1.30058, 1.30073, 1.37218, 1.30079, 1.32035, 1.35724, 1.30069, 1.36929, 1.37217, 1.31447, 1.32664586666667, 1.31385, 1.33725, 1.32166, 1.34264, 1.31453, 1.3007, 1.341, 1.34117, 1.36893, 1.32296, 1.31982, 1.3231, 1.39089, 1.31955, 1.34114, 1.37393, 1.43727, 1.3194545, 1.31943, 1.32689, 1.36905156666667, 1.30047, 1.31456, 1.30042, 1.3144, 1.36642, 1.34109, 1.32088478333333, 1.34107, 1.29128, 1.3411, 1.27927, 1.31878, 1.28225, 1.33054, 1.32115, 1.33138, 1.33133, 1.33444, 1.35671, 1.31292, 1.37333583333333, 1.42312033333333, 1.3443595, 1.36646, 1.3000145, 1.42736, 1.31965, 1.33147, 1.33822, 1.4273, 1.32202, 1.42228753333333, 1.33156, 1.42750233333333, 1.27531, 1.42612, 1.35576, 1.322, 1.37514, 1.42328216666667, 1.27442, 1.27519, 1.32664, 1.3323, 1.32323, 1.34453, 1.37327905, 1.35567, 1.34433, 1.42353, 1.33244, 1.41871, 1.37698, 1.32229, 1.35502, 1.32208646666667, 1.32195, 1.35487, 1.36396, 1.27528296666667, 1.2988, 1.32200588333333, 1.27546, 1.27549, 1.32181, 1.2755, 1.34092, 1.36902, 1.37121, 1.3223, 1.27672, 1.33389, 1.35469, 1.34268, 1.35473, 1.36918443333333, 1.28893, 1.34869, 1.28844, 1.34094, 1.42642, 1.27572, 1.365236, 1.31623, 1.32191, 1.354563, 1.32653, 1.33379, 1.36887, 1.33385, 1.33381, 1.33407, 1.33241583333333, 1.342639, 1.42344, 1.34406, 1.32149, 1.36898, 1.42544, 1.32153, 1.33416, 1.321925, 1.27506, 1.31619, 1.33405, 1.34845, 1.30859, 1.37680826666667, 1.36884, 1.31224, 1.33417, 1.33680016666667, 1.31617, 1.33402, 1.28579, 1.31156, 1.3351115, 1.3091, 1.31128, 1.34871, 1.36894, 1.31129, 1.3109435, 1.31098, 1.32189, 1.32169, 1.36900243333333, 1.28822, 1.36368, 1.36895, 1.37668, 1.31114, 1.32266266666667, 1.30971, 1.31094, 1.31105, 1.31118, 1.34106, 1.36894, 1.34904, 1.31083, 1.31095, 1.34846, 1.3222105, 1.31123736666667, 1.3107442, 1.36893, 1.30616, 1.31049065, 1.31056, 1.31058, 1.32176, 1.27231, 1.28907, 1.31061, 1.31066, 1.32179, 1.28621, 1.36900575, 1.31069195, 1.37651, 1.3408, 1.32200883333333, 1.3113, 1.37693, 1.42114, 1.28648, 1.32648, 1.31094, 1.31116, 1.35025, 1.36891, 1.36886633333333, 1.37599, 1.31125, 1.36892, 1.36899726666667, 1.34423, 1.3349, 1.36688, 1.38373116666667, 1.29939, 1.27639, 1.36348, 1.36888, 1.35158, 1.35159, 1.35174, 1.38589516666667, 1.35161, 1.36862, 1.37425, 1.38464, 1.35167, 1.3688, 1.35158366666667, 1.38483916666667, 1.35384, 1.36893, 1.29414, 1.34687, 1.36892, 1.32036, 1.36595, 1.36867, 1.36887, 1.35349, 1.36886, 1.27862, 1.34824, 1.3485, 1.38414931666667, 1.38496733333333, 1.38429593333333, 1.32629, 1.33423, 1.38462433333333, 1.38475705, 1.35348, 1.36874, 1.384025, 1.38431, 1.38371706666667, 1.29877, 1.33783, 1.3688, 1.36883, 1.38496633333333, 1.38456583333333, 1.38467046666667, 1.36889261666667, 1.33882, 1.38419, 1.35385, 1.3844325, 1.38518283333333, 1.38378516666667, 1.384507, 1.29349, 1.33132, 1.3842185, 1.34192, 1.3690226, 1.28592215, 1.29078, 1.34677, 1.28208, 1.28301, 1.39124, 1.369034, 1.32545, 1.3688645, 1.28305, 1.39166, 1.3171215, 1.38390065, 1.37099, 1.28309, 1.28302, 1.38441166666667, 1.38413766666667, 1.38382916666667, 1.36344, 1.36551, 1.37092, 1.37084981666667, 1.28569, 1.34894, 1.32973, 1.3838405, 1.37068, 1.37077, 1.37050883333333, 1.38388383333333, 1.28189, 1.33968, 1.36596, 1.38488121666667, 1.37063636666667, 1.38515961666667, 1.28553, 1.33075, 1.33788, 1.3486, 1.36554, 1.384535, 1.33178, 1.34244, 1.3839455, 1.33172, 1.38416766666667, 1.34237633333333, 1.36551, 1.33161, 1.32601, 1.33176, 1.36534, 1.36537, 1.38389283333333, 1.36357, 1.36964, 1.29155, 1.3843645, 1.329628, 1.33771, 1.37035, 1.34862, 1.38505421666667, 1.384066, 1.28178, 1.28167, 1.33233, 1.37027, 1.37032, 1.33183433333333, 1.35069, 1.35071, 1.29172, 1.34816, 1.3858355, 1.36368616666667, 1.38584733333333, 1.29134, 1.33172, 1.33186, 1.38419783333333, 1.38507316666667, 1.2775, 1.34814, 1.36988, 1.34713166666667, 1.35059, 1.37001, 1.35124, 1.33195, 1.35081, 1.36999, 1.33221, 1.36503, 1.33122293333333, 1.36543, 1.28084, 1.29812, 1.33632, 1.36906, 1.3342, 1.29243, 1.32562, 1.337836, 1.36558, 1.33786333333333, 1.34808, 1.37226, 1.4258, 1.30044, 1.3159325, 1.3003, 1.30644, 1.33761, 1.27934, 1.33579, 1.30054, 1.30176, 1.30048, 1.38500866666667, 1.36256, 1.422259, 1.30035, 1.3625, 1.31932, 1.30677, 1.30678, 1.33617, 1.29241, 1.30159, 1.36886, 1.29322, 1.29322, 1.35646, 1.30598, 1.2834715, 1.33666, 1.30684, 1.30693, 1.34789, 1.3068, 1.31664, 1.30713, 1.28159, 1.28217, 1.3482, 1.31464, 1.33653, 1.34796, 1.30691, 1.39643, 1.30691, 1.36523, 1.28531, 1.33638, 1.307374, 1.28269, 1.30567, 1.42230183333333, 1.30744, 1.31683, 1.3075, 1.30741, 1.37619, 1.30759, 1.33606, 1.33417221666667, 1.27895, 1.30763, 1.38551133333333, 1.42805633333333, 1.375, 1.3342, 1.30776, 1.31525, 1.29226, 1.29454, 1.33425, 1.30785, 1.34545633333333, 1.42346175, 1.33425, 1.29922, 1.33564, 1.29124, 1.30808, 1.31141, 1.30802933333333, 1.301205, 1.35323, 1.30808283333333, 1.38459033333333, 1.31636278333333, 1.30825, 1.29184, 1.31532, 1.30946433333333, 1.28154, 1.32489, 1.2737, 1.29498, 1.30839, 1.33556, 1.29507, 1.31348, 1.36155, 1.32476173333333, 1.31914, 1.30858, 1.32456, 1.30552, 1.36296, 1.37290666666667, 1.30537733333333, 1.30532, 1.37609, 1.35092, 1.33482, 1.30547, 1.29185, 1.2808, 1.33436, 1.30568, 1.30569, 1.30895966666667, 1.2928, 1.30585, 1.30589, 1.33321766666667, 1.34519, 1.29286, 1.30565, 1.30922, 1.29287, 1.27966, 1.33558, 1.28257, 1.33284, 1.30929, 1.30935, 1.29468226666667, 1.33971, 1.2797, 1.28312, 1.33537, 1.29128, 1.29626, 1.30954, 1.28167, 1.30938, 1.30945, 1.30936683333333, 1.32375, 1.3620935, 1.36973, 1.28163, 1.28568, 1.28556, 1.30034, 1.32359, 1.33533, 1.35304, 1.3622, 1.28528, 1.32357, 1.35991, 1.28593, 1.33535933333333, 1.37605, 1.37023333333333, 1.37493, 1.27817, 1.28852, 1.32361, 1.36278433333333, 1.28585, 1.37284916666667, 1.37621, 1.33125, 1.27824, 1.30698, 1.3069, 1.33395, 1.36484, 1.30877525, 1.28599, 1.2779, 1.32366, 1.29343, 1.37438, 1.33124, 1.27928, 1.32318, 1.34559, 1.37389, 1.31029116666667, 1.31911596666667, 1.37611, 1.36078266666667, 1.3628, 1.42516, 1.33909433333333, 1.29322, 1.27815, 1.33769, 1.34385, 1.35988, 1.32363385, 1.2933, 1.3225, 1.29456, 1.3, 1.30013, 1.30024, 1.30022, 1.30784, 1.32411, 1.33955, 1.3972355, 1.29447, 1.28388, 1.29309, 1.30026, 1.29709, 1.30796, 1.30033, 1.29478, 1.28434, 1.34633, 1.35969, 1.279, 1.32203, 1.3213, 1.28417, 1.31979, 1.3432, 1.2829, 1.32291, 1.33616, 1.29937, 1.28424, 1.3054, 1.34688, 1.31683178333333, 1.32007, 1.31274, 1.29332, 1.30878, 1.31259, 1.31951, 1.29904983333333, 1.36150116666667, 1.30356, 1.3369385, 1.3081, 1.29252, 1.31082, 1.30035, 1.31327133333333, 1.31243, 1.35915, 1.31939, 1.301124, 1.30906, 1.31567, 1.37394, 1.34186, 1.305, 1.32297983333333, 1.31257, 1.34984, 1.30048433333333, 1.2847, 1.32512, 1.3236, 1.34985, 1.37367, 1.315, 1.36242, 1.35888, 1.29966, 1.31936, 1.33789566666667, 1.30969, 1.29842, 1.29838, 1.30045, 1.34943, 1.31322, 1.31342, 1.31337, 1.31347, 1.36105, 1.30447, 1.27854, 1.2947, 1.37056, 1.31402616666667, 1.27948, 1.27986, 1.36408, 1.2886, 1.29637, 1.33292, 1.32348895, 1.35858698333333, 1.30376, 1.34616, 1.3067065, 1.29673, 1.31381, 1.3039, 1.37348, 1.3043, 1.37047083333333, 1.29887, 1.29365, 1.34261, 1.29412, 1.3042, 1.31919, 1.36323583333333, 1.36711, 1.30982, 1.34838, 1.3755, 1.33889, 1.32307183333333, 1.3672, 1.36677, 1.31281, 1.36309, 1.29128, 1.36751, 1.31155, 1.37318821666667, 1.32661, 1.35894, 1.37326, 1.32273, 1.36664, 1.4022, 1.40213, 1.31014, 1.42621243333333, 1.40256, 1.33407, 1.3408, 1.36659916666667, 1.34051, 1.35921, 1.34073, 1.3217023, 1.30126, 1.32695, 1.2910365, 1.31028, 1.33413, 1.37078266666667, 1.31328, 1.33876766666667, 1.31824, 1.298441, 1.3653, 1.30018, 1.30514, 1.32737, 1.3292043, 1.30962033333333, 1.32662, 1.36826, 1.34308, 1.3226, 1.30011, 1.30582, 1.3599, 1.30969, 1.30571, 1.32345, 1.36008, 1.36784, 1.37446, 1.29827, 1.30012, 1.3681455, 1.30016, 1.3002215, 1.29724, 1.30596, 1.32784, 1.30962, 1.36216, 1.32625193333333, 1.34438, 1.36359, 1.36406, 1.30947, 1.36189, 1.363491, 1.36171, 1.32142, 1.31781, 1.3126, 1.36938, 1.37233, 1.3003, 1.374587, 1.31116, 1.37101716666667, 1.36627066666667, 1.33593, 1.32485, 1.33301, 1.37245, 1.34378, 1.36551, 1.39728933333333, 1.31006, 1.37467, 1.33425, 1.29632, 1.30278, 1.33443, 1.36384, 1.33541, 1.31007, 1.40102, 1.39158716666667, 1.30829516666667, 1.30244, 1.29627, 1.2939, 1.31556, 1.33449, 1.36634, 1.3031, 1.35572, 1.32748, 1.29006, 1.3692, 1.30312, 1.3056, 1.36702, 1.37344, 1.31327, 1.34607466666667, 1.3237, 1.32919, 1.31885383333333, 1.36813281666667, 1.36830673333333, 1.28971, 1.30095, 1.31583, 1.31795, 1.30963075, 1.36701, 1.30209, 1.32323, 1.37046, 1.30761, 1.35609463333333, 1.34124, 1.36843, 1.36767, 1.36788, 1.31417, 1.40689, 1.31375, 1.29584366666667, 1.29621966666667, 1.30212, 1.30793, 1.30027, 1.30793, 1.32902183333333, 1.31458, 1.35307, 1.36903, 1.31178, 1.31419, 1.3708, 1.29549966666667, 1.30052, 1.30837, 1.37068416666667, 1.30246, 1.33949383333333, 1.37012, 1.30856, 1.32516, 1.32246965, 1.32324, 1.3735, 1.36398, 1.33417, 1.30345216666667, 1.35876, 1.36491733333333, 1.32498, 1.336, 1.336, 1.36675466666667, 1.30224, 1.32452, 1.29606, 1.32424, 1.32436, 1.36531, 1.30947, 1.31577, 1.30136, 1.32422, 1.33571, 1.35035, 1.339181, 1.36982908333333, 1.32435298333333, 1.33717781666667, 1.30709008333333, 1.39378, 1.29841, 1.30294, 1.3094465, 1.30914, 1.30944, 1.3425, 1.32413, 1.30947, 1.33430133333333, 1.39404416666667, 1.37842, 1.30910166666667, 1.32491, 1.29841, 1.34387, 1.39132, 1.33194, 1.33449, 1.3857, 1.38933, 1.34225, 1.37999, 1.36651, 1.36769, 1.27824, 1.34205, 1.40778, 1.37196, 1.34201, 1.29873, 1.34216, 1.37952, 1.32506, 1.34819, 1.32983, 1.30502, 1.31602, 1.3385, 1.31983, 1.31607216666667, 1.40778, 1.33522, 1.34779, 1.33522, 1.33959, 1.33523, 1.33522, 1.37043278333333, 1.34721, 1.29441, 1.29449, 1.34233, 1.29457, 1.34234, 1.37373, 1.33523, 1.323509, 1.3608315, 1.33524, 1.3201015, 1.32974, 1.30273, 1.31169, 1.308, 1.31182, 1.29995666666667, 1.33533, 1.32554, 1.34348, 1.33549, 1.34205, 1.33541, 1.30014, 1.30567, 1.31482, 1.34166, 1.34211, 1.31099, 1.33868, 1.27061, 1.27058, 1.34196, 1.3435795, 1.30581, 1.37189, 1.34236, 1.34236, 1.34242, 1.29855, 1.30813083333333, 1.34344, 1.26983, 1.27076, 1.31403, 1.37414325, 1.34223, 1.40069, 1.30233, 1.30129416666667, 1.36778, 1.39063, 1.31855, 1.34205, 1.314182, 1.36727, 1.36611, 1.31857283333333, 1.37075, 1.34259, 1.30408, 1.31432, 1.36745, 1.305507, 1.30432, 1.31938581666667, 1.31857371666667, 1.31358, 1.30081, 1.31866, 1.31877, 1.31951, 1.32317, 1.3188, 1.31884, 1.32255, 1.39049, 1.30109, 1.31837, 1.34109, 1.34462666666667, 1.31896, 1.31267, 1.319, 1.33739, 1.30316, 1.3265, 1.32406, 1.30319, 1.3221, 1.31932, 1.30349133333333, 1.37734, 1.3192, 1.33931, 1.31950416666667, 1.31961, 1.40089, 1.31946, 1.31965, 1.31959, 1.30989, 1.318753, 1.31785, 1.31967346666667, 1.30967, 1.31971883333333, 1.31902366666667, 1.3235, 1.3543887, 1.31986, 1.31997, 1.30271, 1.31991, 1.33479, 1.29963, 1.32264, 1.3192496, 1.30538833333333, 1.32019855, 1.32255133333333, 1.32413, 1.38307, 1.35435, 1.33042, 1.29984, 1.33236, 1.30826, 1.31162, 1.30174, 1.40095, 1.32262216666667, 1.320439, 1.31165, 1.30679, 1.29425, 1.31980743333333, 1.30676, 1.30663, 1.32065, 1.33133, 1.30459, 1.30464, 1.36816, 1.30822, 1.32108, 1.3228, 1.35182, 1.32371, 1.31702, 1.30051, 1.32127, 1.33534, 1.30834, 1.33582, 1.30832216666667, 1.31765, 1.33517433333333, 1.27128, 1.3223, 1.32176, 1.30424566666667, 1.32218, 1.32183, 1.32212, 1.3045, 1.30793, 1.31827516666667, 1.30601, 1.31823, 1.3183, 1.30825, 1.37032066666667, 1.31926, 1.31802, 1.31826, 1.31844, 1.308312, 1.304591, 1.30603533333333, 1.42214, 1.31844, 1.320127, 1.30831, 1.42228, 1.30346, 1.33551, 1.31604, 1.30616, 1.30388, 1.29993, 1.30809, 1.30612698333333, 1.30618, 1.3359779, 1.319747, 1.30588, 1.31518, 1.3706, 1.3075, 1.30532, 1.3085315, 1.37045, 1.36911531666667, 1.389484, 1.31946, 1.35163, 1.31540533333333, 1.3034, 1.31856716666667, 1.30336, 1.303392, 1.35157, 1.33596, 1.35124, 1.30335, 1.38409666666667, 1.30901, 1.32924, 1.30321, 1.36422, 1.40120516666667, 1.3038, 1.31041, 1.33291, 1.30359, 1.32895, 1.3034, 1.34433, 1.30332, 1.329278, 1.3092, 1.30926, 1.30356, 1.33605, 1.38464, 1.32863648333333, 1.32158, 1.34406, 1.30905, 1.34405, 1.30801, 1.30907, 1.30911, 1.31413, 1.32428, 1.33371, 1.32208, 1.32729, 1.33187, 1.31369, 1.30319, 1.31573616666667, 1.32931933333333, 1.33293158333333, 1.36296, 1.36303, 1.32204, 1.3539875, 1.33236, 1.32646216666667, 1.32899, 1.33071, 1.376699, 1.29715, 1.36304, 1.35398, 1.27607, 1.35348, 1.36306, 1.32728, 1.33488, 1.318907, 1.32455, 1.37169, 1.3535, 1.36765, 1.32762, 1.32769, 1.32521, 1.32776, 1.396906, 1.35604, 1.33084, 1.35288, 1.32818, 1.40828966666667, 1.3277, 1.34951483333333, 1.33247, 1.3509, 1.35233, 1.35193, 1.32304, 1.32255883333333, 1.3325, 1.32769, 1.39107, 1.33179, 1.33422, 1.32405, 1.3279335, 1.33413166666667, 1.3207, 1.32304, 1.38796, 1.32287, 1.32379, 1.33246, 1.333, 1.32105, 1.33352, 1.37214568333333, 1.37398916666667, 1.32718, 1.37176, 1.354256, 1.33391, 1.39114, 1.32888, 1.29758883333333, 1.33339, 1.35137, 1.37011, 1.32279, 1.327, 1.37138, 1.3512, 1.37301166666667, 1.33307, 1.3431, 1.35354, 1.3556565, 1.40324, 1.33899, 1.35339, 1.35465, 1.35337, 1.35325, 1.35118, 1.353278, 1.32203, 1.33782, 1.3258145, 1.32269, 1.35093, 1.37122, 1.37138, 1.37242083333333, 1.35422, 1.32151866666667, 1.39153133333333, 1.32145, 1.37142, 1.32145, 1.33232, 1.34592, 1.31352, 1.36961, 1.3377, 1.31335, 1.35490633333333, 1.32071, 1.34393, 1.35172533333333, 1.32061, 1.32061, 1.32554, 1.37124, 1.37655, 1.37056, 1.30901816666667, 1.37306, 1.34863, 1.32867, 1.37328, 1.37333, 1.32447, 1.31417533333333, 1.30458, 1.30469, 1.3106065, 1.37354783333333, 1.37001, 1.31053, 1.31366, 1.34783, 1.3118515, 1.31503, 1.34805, 1.36884, 1.36921, 1.3327, 1.36912, 1.37088, 1.36601, 1.36916, 1.36851, 1.31079, 1.35209, 1.39364, 1.36801083333333, 1.36800983333333, 1.38798, 1.35141, 1.36449, 1.31337516666667, 1.3708, 1.35364, 1.3707345, 1.32549, 1.35431, 1.31061, 1.35079, 1.40128, 1.39184578333333, 1.3184795, 1.36653, 1.35517, 1.31523, 1.32125, 1.35104, 1.35792, 1.35061, 1.3505, 1.35554366666667, 1.31699, 1.35042, 1.36277, 1.35543, 1.35049, 1.31616, 1.35037, 1.3504, 1.3572, 1.31084, 1.36334, 1.379644, 1.34627, 1.32287, 1.31091, 1.35255866666667, 1.36887, 1.38812, 1.3788805, 1.40104251666667, 1.36119, 1.34964, 1.35816893333333, 1.37064833333333, 1.32153, 1.34992, 1.35003, 1.36697, 1.34953, 1.31113, 1.34999, 1.3907, 1.31114, 1.31124, 1.36823, 1.34878083333333, 1.30712, 1.33781, 1.32157, 1.37387016666667, 1.31433, 1.31287, 1.37105116666667, 1.31354, 1.37196, 1.37252, 1.37428, 1.37263, 1.37447, 1.37481, 1.37496, 1.39006, 1.2922, 1.31171, 1.31152, 1.31152, 1.37275, 1.38323533333333, 1.37362, 1.3938, 1.39087, 1.39256, 1.3915, 1.39468, 1.39299, 1.35324, 1.39166116666667, 1.35035, 1.29613, 1.30976, 1.35002, 1.3949025, 1.30076, 1.37414166666667, 1.31189, 1.33019833333333, 1.30827, 1.32187, 1.34968383333333, 1.38923, 1.30838, 1.39303066666667, 1.31364, 1.39506, 1.38187, 1.39062, 1.37805, 1.31213, 1.39472, 1.390576, 1.35585, 1.33038, 1.37341, 1.31213, 1.30772, 1.33742, 1.37519, 1.37628, 1.35387, 1.39251, 1.38903766666667, 1.37483183333333, 1.31227, 1.3024265, 1.31894, 1.34403, 1.39373, 1.3168, 1.38897, 1.380317, 1.39149, 1.31645966666667, 1.3518, 1.31253053333333, 1.375, 1.3777635, 1.3968, 1.3197535, 1.39477, 1.35401, 1.3751, 1.37436, 1.3317, 1.33202, 1.39372, 1.39547, 1.31446, 1.31592, 1.37239, 1.31643, 1.31752, 1.317297, 1.38114, 1.38102, 1.31742, 1.32029, 1.31755533333333, 1.31254, 1.37169616666667, 1.35104566666667, 1.37133866666667, 1.37512, 1.29765166666667, 1.34851066666667, 1.35118833333333, 1.31212, 1.37511, 1.35525, 1.37521, 1.37531535, 1.31755, 1.38302, 1.36948, 1.37923, 1.36979, 1.3525495, 1.32769, 1.3831, 1.34257, 1.37011033333333, 1.34841833333333, 1.36327, 1.32532, 1.3764995, 1.37529263333333, 1.34661433333333, 1.3753, 1.38392, 1.37814466666667, 1.32768, 1.31733, 1.37922, 1.38135, 1.37099, 1.3148, 1.36901, 1.37113, 1.3103, 1.39804746666667, 1.31486, 1.32301, 1.39687, 1.31054, 1.37143416666667, 1.31029, 1.39196533333333, 1.31862, 1.32222, 1.37026866666667, 1.35098, 1.3748, 1.37036, 1.31606, 1.32037, 1.374122, 1.31483973333333, 1.32001, 1.37087, 1.31606333333333, 1.368961, 1.32735, 1.31391, 1.33705, 1.31315, 1.31336883333333, 1.371, 1.31842, 1.31001, 1.37077, 1.37369166666667, 1.32741, 1.384976, 1.31053, 1.37096, 1.31308, 1.3131, 1.31318, 1.35106, 1.31319, 1.37769, 1.35809, 1.32156, 1.37924, 1.38412, 1.30088, 1.31595, 1.316053, 1.33484, 1.35757, 1.31528, 1.31084, 1.3707861, 1.31016, 1.37062, 1.31393316666667, 1.32276, 1.31537, 1.31951, 1.3074992, 1.32741, 1.37931, 1.312196, 1.3120865, 1.31, 1.31618, 1.31153, 1.37436, 1.30705, 1.32713, 1.33823, 1.34199, 1.30904, 1.31098, 1.36011083333333, 1.38124, 1.38116216666667, 1.3093, 1.31544, 1.38138, 1.30223, 1.31357, 1.37035, 1.38148, 1.35972, 1.38147, 1.35963, 1.3815547, 1.37657, 1.35977, 1.31402, 1.32096783333333, 1.35950083333333, 1.35969, 1.35981, 1.311, 1.35957, 1.35974888333333, 1.37062, 1.37531, 1.35982253333333, 1.3179335, 1.37376183333333, 1.39005, 1.37073, 1.36446, 1.37324, 1.32519983333333, 1.3236585, 1.32377, 1.32077, 1.31730766666667, 1.32371, 1.31305, 1.32502, 1.325049, 1.37462, 1.30104, 1.36035, 1.33137, 1.32216, 1.37147, 1.3400415, 1.37322216666667, 1.375221, 1.31876, 1.38984, 1.39757, 1.31879, 1.37939, 1.31122, 1.37228, 1.3742355, 1.33981, 1.37419, 1.39019416666667, 1.30878, 1.35097, 1.35109, 1.31884, 1.36094, 1.37221, 1.32280816666667, 1.31887, 1.3232, 1.31968, 1.38949, 1.37445, 1.31887083333333, 1.31896, 1.31974, 1.32449, 1.37346, 1.30964, 1.318851, 1.32978, 1.33902, 1.36128, 1.35043, 1.3196884, 1.31583, 1.329356, 1.3716, 1.37307, 1.38004, 1.3383, 1.39255, 1.31906, 1.31902905, 1.37461, 1.32295816666667, 1.37329883333333, 1.31911, 1.31904316666667, 1.319, 1.31909, 1.39277, 1.31911, 1.31437, 1.37459816666667, 1.37374, 1.29929, 1.31908, 1.31914, 1.35307, 1.32876, 1.31921, 1.38031, 1.31188833333333, 1.33742, 1.37496, 1.39466, 1.32221, 1.31918, 1.32791, 1.32783183333333, 1.35237, 1.38083, 1.37426, 1.33435, 1.32729, 1.36276, 1.31424, 1.3129, 1.36653, 1.37125903333333, 1.32332, 1.3204, 1.39434, 1.38132, 1.36609966666667, 1.34982, 1.32348, 1.37076328333333, 1.3795, 1.32242, 1.35019, 1.36982, 1.32617, 1.37109, 1.37501, 1.363271, 1.36567, 1.37024, 1.31221866666667, 1.37034, 1.37179, 1.32586, 1.31943, 1.31598301666667, 1.37021, 1.3595, 1.37062, 1.35267, 1.38786771666667, 1.38193, 1.32348063333333, 1.37958, 1.31879, 1.31416, 1.32696, 1.3764295, 1.38961, 1.37748, 1.32643116666667, 1.37544, 1.31349533333333, 1.35266, 1.33153, 1.38156726666667, 1.38289, 1.32298, 1.37784, 1.35251, 1.30861, 1.37901, 1.35065, 1.3921, 1.32625, 1.35175, 1.38122, 1.35246, 1.30026, 1.32644, 1.29739, 1.35237, 1.37184, 1.32656, 1.35465, 1.3303, 1.32666, 1.37857, 1.3659, 1.39379666666667, 1.35293, 1.39028, 1.35248, 1.35241, 1.35458, 1.37687553333333, 1.35391483333333, 1.31654, 1.31814, 1.37246, 1.31473, 1.39863133333333, 1.34631, 1.36579, 1.31581, 1.34543, 1.36592016666667, 1.39625, 1.39644, 1.34463, 1.37276, 1.3526, 1.36289, 1.32349, 1.36545, 1.30872, 1.31984, 1.32251, 1.32234, 1.32241, 1.3223, 1.36528, 1.39257, 1.32678, 1.38883, 1.39413, 1.31997, 1.36508, 1.37663, 1.35267, 1.39539, 1.32167, 1.37658, 1.38775, 1.32009566666667, 1.32168, 1.32169, 1.32148, 1.31405, 1.31681, 1.32155, 1.34071, 1.31686, 1.32158, 1.39946, 1.39463, 1.318, 1.35906156666667, 1.38908, 1.35976, 1.36679383333333, 1.3171, 1.31999533333333, 1.31557, 1.39683, 1.32298, 1.35724521666667, 1.38943, 1.316697, 1.3575, 1.39648, 1.39667, 1.39070483333333, 1.39656, 1.32028, 1.37378, 1.39655, 1.39395, 1.39676, 1.37431, 1.39137, 1.39665, 1.31871, 1.39339, 1.39639, 1.31937, 1.37146, 1.37143, 1.39675, 1.37473, 1.3876415, 1.32107, 1.3934, 1.31524, 1.37143, 1.31518, 1.39678, 1.38024, 1.31873, 1.35206, 1.3270815, 1.31867, 1.36781, 1.36058, 1.36094, 1.31855, 1.38273, 1.39547483333333, 1.39362, 1.38263333333333, 1.3827, 1.3829, 1.38251, 1.38255, 1.38283, 1.37276716666667, 1.31918, 1.39322083333333, 1.31913, 1.39385, 1.31872, 1.31883, 1.37769, 1.39275, 1.37630966666667, 1.31909, 1.39353, 1.31888, 1.3185, 1.38508, 1.31884, 1.3738845, 1.31911353333333, 1.38715366666667, 1.31918, 1.37744, 1.3682, 1.31893, 1.3729435, 1.31921, 1.38622191666667, 1.39358333333333, 1.3014, 1.37332, 1.41616, 1.38703541666667, 1.39367, 1.31667, 1.39436, 1.37153616666667, 1.31582, 1.38678761666667, 1.3865, 1.31464, 1.31471, 1.31494, 1.36209, 1.365872, 1.39514, 1.38287333333333, 1.37982233333333, 1.37268, 1.31918483333333, 1.30994283333333, 1.32388, 1.37294, 1.39561, 1.36969, 1.37113616666667, 1.33158, 1.30979, 1.36596, 1.38796665, 1.3089, 1.31557, 1.39566, 1.40094283333333, 1.37262116666667, 1.31559, 1.31347, 1.3212, 1.365965, 1.37632856666667, 1.37673, 1.39278683333333, 1.36958, 1.3950485, 1.36859, 1.33872, 1.37007, 1.39276, 1.362082, 1.30755, 1.36193, 1.36595, 1.39306333333333, 1.39907, 1.368497, 1.39912, 1.39303, 1.31576, 1.39321, 1.31429881666667, 1.39313733333333, 1.31439, 1.33844, 1.40084, 1.32092, 1.39284, 1.38901666666667, 1.36879, 1.36528483333333, 1.37435, 1.31408, 1.31592, 1.36844, 1.36853, 1.39985083333333, 1.31307, 1.39275, 1.32874, 1.32584, 1.38687, 1.32592, 1.37463, 1.37022916666667, 1.39198, 1.36834366666667, 1.30946933333333, 1.37421, 1.4033, 1.30375, 1.39232966666667, 1.39212, 1.31138, 1.39211, 1.39236, 1.39253, 1.30379983333333, 1.39206, 1.3922, 1.38237, 1.39207916666667, 1.39741, 1.36742, 1.31798, 1.36506, 1.3811475, 1.36731, 1.31159, 1.38631935, 1.33324, 1.40619, 1.36736083333333, 1.37201, 1.36712, 1.37465, 1.36873266666667, 1.3876, 1.38413, 1.40672, 1.372434, 1.37958433333333, 1.316, 1.31568, 1.31749, 1.33104, 1.3178, 1.38744, 1.31563, 1.3863033, 1.31557, 1.31624, 1.31564, 1.31554, 1.39164013333333, 1.31543, 1.31548, 1.3319, 1.38958, 1.39694, 1.32928, 1.32645, 1.36789, 1.340652, 1.32983, 1.31628, 1.33203, 1.31638, 1.3916, 1.41397, 1.31644, 1.33206, 1.34623, 1.332, 1.366844, 1.31642, 1.33221, 1.39005333333333, 1.3701355, 1.37426, 1.3134, 1.36207, 1.38349983333333, 1.39704818333333, 1.33965033333333, 1.30952, 1.31551516666667, 1.32643, 1.37016933333333, 1.37354, 1.37369, 1.30264, 1.32047, 1.39484, 1.37277216666667, 1.32656, 1.321, 1.33446, 1.39013, 1.3165, 1.37389, 1.30271, 1.39454283333333, 1.37258116666667, 1.3133, 1.37402, 1.3797, 1.31661, 1.373258, 1.30315, 1.31318, 1.4157, 1.3204, 1.38325, 1.3980635, 1.31257, 1.38442, 1.33005, 1.3956, 1.33022, 1.32113613333333, 1.31665, 1.3299, 1.38444, 1.3303, 1.3947, 1.33357, 1.30335, 1.38517, 1.4107, 1.4029, 1.31188, 1.39906, 1.38497, 1.31172, 1.33012, 1.41041, 1.33009, 1.31157, 1.30983, 1.40601, 1.30195, 1.38494733333333, 1.30219766666667, 1.32969, 1.38654, 1.30955, 1.32574, 1.31681716666667, 1.355777, 1.30324, 1.37786, 1.385343, 1.40535, 1.40546, 1.38543, 1.38548, 1.40534, 1.31773, 1.40547, 1.38297, 1.31857, 1.33122, 1.39119, 1.37637115, 1.39027, 1.40527, 1.40543, 1.37785, 1.38316, 1.33079, 1.38858133333333, 1.31019, 1.38545103333333, 1.40934, 1.33444, 1.32623846666667, 1.36127983333333, 1.38404, 1.32271033333333, 1.31367, 1.38986, 1.30063, 1.40141, 1.38439, 1.33202, 1.38589, 1.30932, 1.40113, 1.3613285, 1.40509, 1.332095, 1.30159583333333, 1.32958, 1.31674, 1.32154265, 1.3263, 1.32090716666667, 1.38617666666667, 1.40479, 1.30093, 1.38374363333333, 1.40474, 1.31878716666667, 1.31374, 1.4047, 1.32535, 1.30854, 1.38531, 1.29905095, 1.32386833333333, 1.37767, 1.32127766666667, 1.36294, 1.40065, 1.37999, 1.37956, 1.3798, 1.39411, 1.39654, 1.38032, 1.38059, 1.39384, 1.30526, 1.36274, 1.32361583333333, 1.39765, 1.30891, 1.40008533333333, 1.30711, 1.32153, 1.30239, 1.31909, 1.39307, 1.30194, 1.32152, 1.30671, 1.30197, 1.30300833333333, 1.30226, 1.39290683333333, 1.32229, 1.30207633333333, 1.30191, 1.30302, 1.30233, 1.39264, 1.30194, 1.39272516666667, 1.39909, 1.39257408333333, 1.32287023333333, 1.3925, 1.38744, 1.39283, 1.30920433333333, 1.39271616666667, 1.38606, 1.3021113, 1.30266, 1.32162, 1.4035435, 1.32949, 1.3359725, 1.31975, 1.38748356666667, 1.39978, 1.30239083333333, 1.30236, 1.31993, 1.40367, 1.31873, 1.31972708333333, 1.39232, 1.30563, 1.32036, 1.39972, 1.31419, 1.4003345, 1.39238, 1.31762, 1.32254, 1.33017, 1.31593, 1.33423, 1.40355, 1.33059, 1.32458, 1.31579, 1.40744, 1.38890086666667, 1.32607, 1.38802, 1.38829816666667, 1.39259, 1.40107, 1.32542, 1.31772, 1.33032, 1.38841, 1.32476, 1.30652, 1.39933, 1.38865, 1.40336, 1.4025275, 1.39927, 1.32635, 1.31772, 1.38588, 1.30113, 1.33321, 1.38792, 1.39919, 1.31791083333333, 1.39334, 1.30369, 1.3989, 1.33426, 1.38979, 1.33189, 1.36758, 1.30362, 1.39838, 1.3890655, 1.40248, 1.30381, 1.38732, 1.39351911666667, 1.38641, 1.31796, 1.302981, 1.39856, 1.30175, 1.30222, 1.40197, 1.30188, 1.32311616666667, 1.31802, 1.33164, 1.30237, 1.39888, 1.30231, 1.30194, 1.30811586666667, 1.30231, 1.30235205, 1.3021, 1.302, 1.30202, 1.30226, 1.30215, 1.3969425, 1.4055, 1.33704, 1.39323616666667, 1.38864, 1.39124, 1.39097, 1.37824, 1.3349365, 1.33505, 1.31802, 1.33508, 1.39137, 1.396812, 1.3332, 1.31483, 1.38903, 1.328841, 1.3971015, 1.38953, 1.37443, 1.33469, 1.38901, 1.389, 1.33053916666667, 1.3957995, 1.32929316666667, 1.3958295, 1.32606, 1.30836, 1.39253333333333, 1.40181, 1.3350224, 1.33164, 1.3927025, 1.31476, 1.33159, 1.33161, 1.39372, 1.32771, 1.33765, 1.33250233333333, 1.3311505, 1.330747, 1.33096066666667, 1.3056, 1.39458966666667, 1.39529, 1.3945005, 1.30313, 1.3904595, 1.32032583333333, 1.319638, 1.30165, 1.3310346, 1.33561, 1.32816933333333, 1.31202, 1.33228, 1.39962, 1.38854233333333, 1.39545, 1.32825633333333, 1.40212683333333, 1.39475, 1.40301, 1.39453, 1.31037, 1.40312, 1.32877, 1.4013235, 1.30974, 1.33164, 1.33511, 1.32894, 1.39983, 1.33264, 1.32065, 1.31895, 1.32278, 1.3781115, 1.331514, 1.32046, 1.32049, 1.32068, 1.3206175, 1.32054, 1.32072, 1.40254, 1.33908, 1.31324, 1.3188, 1.331664, 1.30622, 1.38753, 1.38744, 1.40193, 1.33789, 1.32081, 1.40161, 1.33213, 1.39178, 1.33463, 1.33534133333333, 1.33156216666667, 1.33709, 1.30547, 1.30633, 1.32955116666667, 1.33383, 1.30589, 1.33423, 1.32105, 1.32993, 1.40049, 1.39488066666667, 1.33474123333333, 1.33202, 1.404571, 1.30553083333333, 1.39975, 1.39345541666667, 1.33315, 1.39377, 1.34128, 1.40008, 1.331906, 1.33245, 1.33184, 1.30967, 1.3952, 1.39534, 1.32689, 1.38107, 1.30545, 1.33807, 1.32049, 1.30986616666667, 1.33821, 1.39675, 1.33804633333333, 1.39865316666667, 1.33874, 1.345, 1.33471, 1.34076, 1.33823, 1.33348, 1.32755228333333, 1.33053, 1.33826, 1.39886, 1.31083, 1.33704545, 1.3228, 1.3760625, 1.3248455, 1.33103, 1.31148, 1.3191, 1.33055, 1.33703, 1.37947, 1.32866866666667, 1.32921913333333, 1.3307, 1.32898016666667, 1.3117, 1.32666, 1.30481, 1.33816, 1.31205, 1.32396, 1.32385, 1.32359, 1.37846783333333, 1.33216, 1.33234, 1.38858, 1.32843, 1.30841, 1.38862, 1.31258, 1.3324787, 1.33105, 1.33801, 1.33807, 1.31009716666667, 1.32823, 1.36868, 1.35767566666667, 1.33660533333333, 1.3327, 1.33339, 1.3330055, 1.32776, 1.33272, 1.32497883333333, 1.38588, 1.32512, 1.38541, 1.32532, 1.32836066666667, 1.33823, 1.33113, 1.32941, 1.33276, 1.33055, 1.3311, 1.32746366666667, 1.30948, 1.3846, 1.34958, 1.33389, 1.3328, 1.33064, 1.32971, 1.35064233333333, 1.32955, 1.32992, 1.329857, 1.32998466666667, 1.32982, 1.32668, 1.32846, 1.3250465, 1.32686, 1.35033716666667, 1.32654, 1.32379, 1.32979, 1.32897233333333, 1.32382, 1.3354, 1.38345, 1.32366, 1.32387, 1.32653, 1.34928, 1.32378, 1.32378, 1.32373, 1.32384, 1.3237762, 1.32996, 1.32379, 1.33339, 1.32378, 1.3831, 1.3504755, 1.32401, 1.31937, 1.32642, 1.33186, 1.32397, 1.33289, 1.3492, 1.32402, 1.32409, 1.32389, 1.33362, 1.32391, 1.32392, 1.32405, 1.32415, 1.32365, 1.32409183333333, 1.32403, 1.328848, 1.3303, 1.3499465, 1.32365, 1.3387, 1.33162471666667, 1.35491, 1.33324006666667, 1.32709, 1.35188, 1.33208, 1.32896, 1.35824266666667, 1.35275, 1.32991, 1.32434, 1.33067, 1.36859, 1.35762, 1.32432, 1.32427, 1.31399983333333, 1.32416, 1.35362, 1.36034266666667, 1.32427, 1.32437, 1.32762, 1.32438, 1.32849, 1.32434, 1.32438, 1.32443, 1.37632383333333, 1.32443843333333, 1.32928, 1.32400043333333, 1.32917756666667, 1.37519833333333, 1.32437, 1.355441, 1.36059016666667, 1.3732, 1.35511, 1.34843, 1.37293, 1.37317, 1.37316, 1.32394, 1.37549733333333, 1.3733465, 1.31125, 1.3726, 1.3253, 1.37304, 1.31893, 1.3235, 1.37261, 1.37066666666667, 1.33795, 1.3725, 1.35759, 1.35204, 1.31911, 1.3277, 1.36037, 1.3501, 1.33645, 1.38066, 1.32998383333333, 1.31489, 1.35087, 1.35006, 1.35007, 1.3347, 1.33459, 1.32708, 1.33326966666667, 1.32428, 1.32124066666667, 1.32469, 1.33181, 1.32053, 1.33149466666667, 1.35321, 1.32399, 1.3496, 1.333447, 1.35972, 1.34912, 1.34903, 1.35524, 1.32852, 1.35083233333333, 1.32832, 1.32471, 1.32812, 1.3475245, 1.3312135, 1.3261, 1.34741, 1.32715, 1.339, 1.33911, 1.32522, 1.38246433333333, 1.34774, 1.32252, 1.31441, 1.35025, 1.32456, 1.35854, 1.352, 1.38062, 1.32094, 1.3349, 1.37638, 1.3530655, 1.32085, 1.33117, 1.32036, 1.35599, 1.35618, 1.32671, 1.3783, 1.35229, 1.33805, 1.35251, 1.35180998333333, 1.33197, 1.35731, 1.3567005, 1.37809, 1.37782, 1.35565, 1.34863, 1.32019, 1.32907, 1.34633, 1.3232755, 1.3422, 1.32923, 1.33191, 1.32966, 1.32899666666667, 1.38226066666667, 1.36047, 1.33647, 1.32813, 1.32921466666667, 1.33318, 1.33186, 1.31301, 1.34698, 1.31287, 1.35723, 1.37706, 1.35341883333333, 1.34413, 1.34643, 1.33509, 1.33261033333333, 1.30995, 1.34679, 1.35732, 1.33575533333333, 1.32743, 1.34659, 1.38157116666667, 1.38028, 1.32838, 1.37662983333333, 1.32739, 1.34834016666667, 1.33141, 1.32738, 1.335419, 1.35728, 1.35192, 1.3487, 1.32053, 1.3809, 1.3766, 1.333, 1.33091, 1.332193, 1.3213765, 1.35048246666667, 1.35, 1.3815265, 1.3321, 1.33053, 1.32507, 1.32778, 1.34489, 1.35129923333333, 1.33567, 1.33132, 1.32282008333333, 1.32894, 1.37562, 1.37562, 1.38083, 1.356327, 1.37721495, 1.35601, 1.34574666666667, 1.35475, 1.32298, 1.37409, 1.32323, 1.32528, 1.3786115, 1.37493, 1.37518, 1.37609, 1.31496, 1.32840033333333, 1.35144, 1.37772, 1.34955, 1.32081696666667, 1.34943, 1.33046466666667, 1.35165, 1.37923066666667, 1.32562, 1.34189, 1.35184, 1.33434833333333, 1.35181, 1.35179, 1.34607766666667, 1.33814, 1.3258335, 1.33986, 1.35236, 1.3569415, 1.31952, 1.31953, 1.37387, 1.34653, 1.35242066666667, 1.35189, 1.35543, 1.35232, 1.3199, 1.35238628333333, 1.35233, 1.35221883333333, 1.3455, 1.31974, 1.31959, 1.32098, 1.32097, 1.379512, 1.34687, 1.3263, 1.32661, 1.32006, 1.33661, 1.32623, 1.37332, 1.37267, 1.34741, 1.35179, 1.34732, 1.35178, 1.34753, 1.37353816666667, 1.37321, 1.35172, 1.3732, 1.35179, 1.35187, 1.34711, 1.34838, 1.35189, 1.37724, 1.36296, 1.35199, 1.35305, 1.33655, 1.35215, 1.37138, 1.357821, 1.353465, 1.35346, 1.35006, 1.3534, 1.35225, 1.35342, 1.34988183333333, 1.34928, 1.34914, 1.35196, 1.3532825, 1.35365, 1.33618, 1.35326, 1.35334, 1.35366593333333, 1.34938, 1.34626, 1.37268, 1.35312, 1.37268, 1.35206, 1.3532, 1.35307, 1.3719065, 1.35297, 1.3498, 1.35293, 1.37275, 1.31183, 1.34767833333333, 1.37594933333333, 1.35726, 1.35443, 1.37468, 1.35731, 1.35592, 1.35608, 1.35655, 1.35789, 1.35532, 1.34304, 1.32763, 1.37408966666667, 1.32769, 1.346465, 1.35277983333333, 1.37016, 1.37387, 1.348085, 1.35808, 1.34823, 1.36024, 1.37141, 1.37010383333333, 1.32768433333333, 1.34096, 1.34094, 1.35525, 1.33568, 1.34903, 1.34086, 1.35454, 1.3707, 1.32853483333333, 1.33578, 1.33907, 1.37318, 1.33916, 1.37312, 1.34011, 1.37343, 1.3399, 1.37277, 1.33961, 1.355099, 1.33406, 1.33975, 1.33979, 1.34681, 1.3728, 1.33967, 1.33974, 1.33995, 1.37296416666667, 1.37264, 1.33959, 1.37218, 1.3395, 1.37248, 1.37228316666667, 1.37238, 1.33972506666667, 1.37239, 1.33759033333333, 1.35916, 1.37009, 1.37218, 1.31864966666667, 1.3343, 1.33972, 1.35179, 1.33976, 1.36063, 1.3495, 1.36967, 1.35972, 1.33444, 1.33442, 1.33448, 1.32976, 1.36969, 1.34525, 1.37463, 1.35251, 1.34327, 1.35396, 1.35655, 1.35094, 1.36179, 1.366976, 1.36339, 1.34351, 1.34333, 1.35310133333333, 1.33484, 1.34114, 1.32965568333333, 1.33547, 1.34799, 1.34112, 1.34138983333333, 1.36208, 1.36001, 1.35230333333333, 1.35992, 1.34216, 1.35378423333333, 1.34214, 1.3474, 1.34817, 1.35157216666667, 1.35071, 1.33111, 1.34409, 1.35059, 1.35374, 1.35159783333333, 1.34505183333333, 1.35108, 1.351, 1.34248, 1.35377, 1.331248, 1.34393, 1.35599, 1.35382, 1.36164, 1.35435, 1.34317, 1.361556, 1.35249, 1.33227, 1.3521, 1.359013, 1.36151, 1.35452466666667, 1.35328806666667, 1.37529, 1.36272, 1.36637, 1.34305, 1.3561855, 1.35375, 1.34860018333333, 1.37064, 1.33201, 1.37393, 1.35023, 1.35703, 1.37334, 1.37409, 1.36222, 1.37545, 1.37545, 1.36914, 1.36893, 1.36194516666667, 1.3707, 1.3464, 1.34606416666667, 1.36747, 1.34714, 1.345, 1.35343, 1.37548, 1.34475, 1.36062, 1.36826, 1.35774, 1.35752, 1.36795066666667, 1.35458633333333, 1.374358, 1.33703, 1.37536, 1.36639768333333, 1.36486193333333, 1.37908, 1.37112, 1.33204, 1.33908, 1.37100816666667, 1.35385895, 1.3734, 1.34065, 1.33989, 1.36485816666667, 1.33977, 1.3721435, 1.35956, 1.36840516666667, 1.33192, 1.37687, 1.35578416666667, 1.33458, 1.36609, 1.33441, 1.33446, 1.33457, 1.36089, 1.35829, 1.36506, 1.354709, 1.368614, 1.35799466666667, 1.33505, 1.36324833333333, 1.37472675, 1.3669255, 1.34589125, 1.33124586666667, 1.37433, 1.36653, 1.36654, 1.35367, 1.37291, 1.37011, 1.36317, 1.36338, 1.36372, 1.36352, 1.35153218333333, 1.36745, 1.36729033333333, 1.36756, 1.36738, 1.36741, 1.36678, 1.35846, 1.36753, 1.3676, 1.36761, 1.36764, 1.36770716666667, 1.35003, 1.3647945, 1.36755368333333, 1.36481, 1.36712, 1.36816, 1.36823, 1.36633, 1.33136, 1.33734, 1.36593, 1.37122, 1.37156, 1.33217, 1.33087, 1.37136, 1.33231, 1.33197, 1.36942, 1.37161, 1.33251, 1.35138, 1.37087, 1.33252, 1.3513, 1.37088, 1.33265, 1.35126, 1.33267, 1.33273, 1.35063, 1.37203, 1.33244, 1.35033, 1.33247, 1.37102, 1.33254, 1.33249, 1.37104, 1.35922, 1.37257, 1.3364, 1.37095733333333, 1.33696, 1.37145, 1.33554, 1.3714, 1.36918, 1.37134, 1.36978, 1.33975, 1.33959, 1.37338, 1.37343616666667, 1.33992, 1.37174, 1.38046, 1.37551, 1.3839, 1.37619, 1.36633, 1.37344, 1.36859, 1.33474, 1.36801, 1.387003, 1.38705, 1.38713, 1.3369, 1.31936, 1.34230655, 1.35171, 1.35212, 1.38762, 1.35266, 1.35275, 1.35277, 1.35294, 1.3875, 1.35437, 1.35428, 1.3511, 1.35429, 1.39031, 1.35412, 1.35449, 1.38975, 1.35481668333333, 1.38989783333333, 1.36117, 1.36115483333333, 1.38214, 1.37301], \"yaxis\": \"y\"}],\n",
              "                        {\"legend\": {\"tracegroupgap\": 0}, \"margin\": {\"t\": 60}, \"template\": {\"data\": {\"bar\": [{\"error_x\": {\"color\": \"#2a3f5f\"}, \"error_y\": {\"color\": \"#2a3f5f\"}, \"marker\": {\"line\": {\"color\": \"#E5ECF6\", \"width\": 0.5}}, \"type\": \"bar\"}], \"barpolar\": [{\"marker\": {\"line\": {\"color\": \"#E5ECF6\", \"width\": 0.5}}, \"type\": \"barpolar\"}], \"carpet\": [{\"aaxis\": {\"endlinecolor\": \"#2a3f5f\", \"gridcolor\": \"white\", \"linecolor\": \"white\", \"minorgridcolor\": \"white\", \"startlinecolor\": \"#2a3f5f\"}, \"baxis\": {\"endlinecolor\": \"#2a3f5f\", \"gridcolor\": \"white\", \"linecolor\": \"white\", \"minorgridcolor\": \"white\", \"startlinecolor\": \"#2a3f5f\"}, \"type\": \"carpet\"}], \"choropleth\": [{\"colorbar\": {\"outlinewidth\": 0, \"ticks\": \"\"}, \"type\": \"choropleth\"}], \"contour\": [{\"colorbar\": {\"outlinewidth\": 0, \"ticks\": \"\"}, \"colorscale\": [[0.0, \"#0d0887\"], [0.1111111111111111, \"#46039f\"], [0.2222222222222222, \"#7201a8\"], [0.3333333333333333, \"#9c179e\"], [0.4444444444444444, \"#bd3786\"], [0.5555555555555556, \"#d8576b\"], [0.6666666666666666, \"#ed7953\"], [0.7777777777777778, \"#fb9f3a\"], [0.8888888888888888, \"#fdca26\"], [1.0, \"#f0f921\"]], \"type\": \"contour\"}], \"contourcarpet\": [{\"colorbar\": {\"outlinewidth\": 0, \"ticks\": \"\"}, \"type\": \"contourcarpet\"}], \"heatmap\": [{\"colorbar\": {\"outlinewidth\": 0, \"ticks\": \"\"}, \"colorscale\": [[0.0, \"#0d0887\"], [0.1111111111111111, \"#46039f\"], [0.2222222222222222, \"#7201a8\"], [0.3333333333333333, \"#9c179e\"], [0.4444444444444444, \"#bd3786\"], [0.5555555555555556, \"#d8576b\"], [0.6666666666666666, \"#ed7953\"], [0.7777777777777778, \"#fb9f3a\"], [0.8888888888888888, \"#fdca26\"], [1.0, \"#f0f921\"]], \"type\": \"heatmap\"}], \"heatmapgl\": [{\"colorbar\": {\"outlinewidth\": 0, \"ticks\": \"\"}, \"colorscale\": [[0.0, \"#0d0887\"], [0.1111111111111111, \"#46039f\"], [0.2222222222222222, \"#7201a8\"], [0.3333333333333333, \"#9c179e\"], [0.4444444444444444, \"#bd3786\"], [0.5555555555555556, \"#d8576b\"], [0.6666666666666666, \"#ed7953\"], [0.7777777777777778, \"#fb9f3a\"], [0.8888888888888888, \"#fdca26\"], [1.0, \"#f0f921\"]], \"type\": \"heatmapgl\"}], \"histogram\": [{\"marker\": {\"colorbar\": {\"outlinewidth\": 0, \"ticks\": \"\"}}, \"type\": \"histogram\"}], \"histogram2d\": [{\"colorbar\": {\"outlinewidth\": 0, \"ticks\": \"\"}, \"colorscale\": [[0.0, \"#0d0887\"], [0.1111111111111111, \"#46039f\"], [0.2222222222222222, \"#7201a8\"], [0.3333333333333333, \"#9c179e\"], [0.4444444444444444, \"#bd3786\"], [0.5555555555555556, \"#d8576b\"], [0.6666666666666666, \"#ed7953\"], [0.7777777777777778, \"#fb9f3a\"], [0.8888888888888888, \"#fdca26\"], [1.0, \"#f0f921\"]], \"type\": \"histogram2d\"}], \"histogram2dcontour\": [{\"colorbar\": {\"outlinewidth\": 0, \"ticks\": \"\"}, \"colorscale\": [[0.0, \"#0d0887\"], [0.1111111111111111, \"#46039f\"], [0.2222222222222222, \"#7201a8\"], [0.3333333333333333, \"#9c179e\"], [0.4444444444444444, \"#bd3786\"], [0.5555555555555556, \"#d8576b\"], [0.6666666666666666, \"#ed7953\"], [0.7777777777777778, \"#fb9f3a\"], [0.8888888888888888, \"#fdca26\"], [1.0, \"#f0f921\"]], \"type\": \"histogram2dcontour\"}], \"mesh3d\": [{\"colorbar\": {\"outlinewidth\": 0, \"ticks\": \"\"}, \"type\": \"mesh3d\"}], \"parcoords\": [{\"line\": {\"colorbar\": {\"outlinewidth\": 0, \"ticks\": \"\"}}, \"type\": \"parcoords\"}], \"pie\": [{\"automargin\": true, \"type\": \"pie\"}], \"scatter\": [{\"marker\": {\"colorbar\": {\"outlinewidth\": 0, \"ticks\": \"\"}}, \"type\": \"scatter\"}], \"scatter3d\": [{\"line\": {\"colorbar\": {\"outlinewidth\": 0, \"ticks\": \"\"}}, \"marker\": {\"colorbar\": {\"outlinewidth\": 0, \"ticks\": \"\"}}, \"type\": \"scatter3d\"}], \"scattercarpet\": [{\"marker\": {\"colorbar\": {\"outlinewidth\": 0, \"ticks\": \"\"}}, \"type\": \"scattercarpet\"}], \"scattergeo\": [{\"marker\": {\"colorbar\": {\"outlinewidth\": 0, \"ticks\": \"\"}}, \"type\": \"scattergeo\"}], \"scattergl\": [{\"marker\": {\"colorbar\": {\"outlinewidth\": 0, \"ticks\": \"\"}}, \"type\": \"scattergl\"}], \"scattermapbox\": [{\"marker\": {\"colorbar\": {\"outlinewidth\": 0, \"ticks\": \"\"}}, \"type\": \"scattermapbox\"}], \"scatterpolar\": [{\"marker\": {\"colorbar\": {\"outlinewidth\": 0, \"ticks\": \"\"}}, \"type\": \"scatterpolar\"}], \"scatterpolargl\": [{\"marker\": {\"colorbar\": {\"outlinewidth\": 0, \"ticks\": \"\"}}, \"type\": \"scatterpolargl\"}], \"scatterternary\": [{\"marker\": {\"colorbar\": {\"outlinewidth\": 0, \"ticks\": \"\"}}, \"type\": \"scatterternary\"}], \"surface\": [{\"colorbar\": {\"outlinewidth\": 0, \"ticks\": \"\"}, \"colorscale\": [[0.0, \"#0d0887\"], [0.1111111111111111, \"#46039f\"], [0.2222222222222222, \"#7201a8\"], [0.3333333333333333, \"#9c179e\"], [0.4444444444444444, \"#bd3786\"], [0.5555555555555556, \"#d8576b\"], [0.6666666666666666, \"#ed7953\"], [0.7777777777777778, \"#fb9f3a\"], [0.8888888888888888, \"#fdca26\"], [1.0, \"#f0f921\"]], \"type\": \"surface\"}], \"table\": [{\"cells\": {\"fill\": {\"color\": \"#EBF0F8\"}, \"line\": {\"color\": \"white\"}}, \"header\": {\"fill\": {\"color\": \"#C8D4E3\"}, \"line\": {\"color\": \"white\"}}, \"type\": \"table\"}]}, \"layout\": {\"annotationdefaults\": {\"arrowcolor\": \"#2a3f5f\", \"arrowhead\": 0, \"arrowwidth\": 1}, \"coloraxis\": {\"colorbar\": {\"outlinewidth\": 0, \"ticks\": \"\"}}, \"colorscale\": {\"diverging\": [[0, \"#8e0152\"], [0.1, \"#c51b7d\"], [0.2, \"#de77ae\"], [0.3, \"#f1b6da\"], [0.4, \"#fde0ef\"], [0.5, \"#f7f7f7\"], [0.6, \"#e6f5d0\"], [0.7, \"#b8e186\"], [0.8, \"#7fbc41\"], [0.9, \"#4d9221\"], [1, \"#276419\"]], \"sequential\": [[0.0, \"#0d0887\"], [0.1111111111111111, \"#46039f\"], [0.2222222222222222, \"#7201a8\"], [0.3333333333333333, \"#9c179e\"], [0.4444444444444444, \"#bd3786\"], [0.5555555555555556, \"#d8576b\"], [0.6666666666666666, \"#ed7953\"], [0.7777777777777778, \"#fb9f3a\"], [0.8888888888888888, \"#fdca26\"], [1.0, \"#f0f921\"]], \"sequentialminus\": [[0.0, \"#0d0887\"], [0.1111111111111111, \"#46039f\"], [0.2222222222222222, \"#7201a8\"], [0.3333333333333333, \"#9c179e\"], [0.4444444444444444, \"#bd3786\"], [0.5555555555555556, \"#d8576b\"], [0.6666666666666666, \"#ed7953\"], [0.7777777777777778, \"#fb9f3a\"], [0.8888888888888888, \"#fdca26\"], [1.0, \"#f0f921\"]]}, \"colorway\": [\"#636efa\", \"#EF553B\", \"#00cc96\", \"#ab63fa\", \"#FFA15A\", \"#19d3f3\", \"#FF6692\", \"#B6E880\", \"#FF97FF\", \"#FECB52\"], \"font\": {\"color\": \"#2a3f5f\"}, \"geo\": {\"bgcolor\": \"white\", \"lakecolor\": \"white\", \"landcolor\": \"#E5ECF6\", \"showlakes\": true, \"showland\": true, \"subunitcolor\": \"white\"}, \"hoverlabel\": {\"align\": \"left\"}, \"hovermode\": \"closest\", \"mapbox\": {\"style\": \"light\"}, \"paper_bgcolor\": \"white\", \"plot_bgcolor\": \"#E5ECF6\", \"polar\": {\"angularaxis\": {\"gridcolor\": \"white\", \"linecolor\": \"white\", \"ticks\": \"\"}, \"bgcolor\": \"#E5ECF6\", \"radialaxis\": {\"gridcolor\": \"white\", \"linecolor\": \"white\", \"ticks\": \"\"}}, \"scene\": {\"xaxis\": {\"backgroundcolor\": \"#E5ECF6\", \"gridcolor\": \"white\", \"gridwidth\": 2, \"linecolor\": \"white\", \"showbackground\": true, \"ticks\": \"\", \"zerolinecolor\": \"white\"}, \"yaxis\": {\"backgroundcolor\": \"#E5ECF6\", \"gridcolor\": \"white\", \"gridwidth\": 2, \"linecolor\": \"white\", \"showbackground\": true, \"ticks\": \"\", \"zerolinecolor\": \"white\"}, \"zaxis\": {\"backgroundcolor\": \"#E5ECF6\", \"gridcolor\": \"white\", \"gridwidth\": 2, \"linecolor\": \"white\", \"showbackground\": true, \"ticks\": \"\", \"zerolinecolor\": \"white\"}}, \"shapedefaults\": {\"line\": {\"color\": \"#2a3f5f\"}}, \"ternary\": {\"aaxis\": {\"gridcolor\": \"white\", \"linecolor\": \"white\", \"ticks\": \"\"}, \"baxis\": {\"gridcolor\": \"white\", \"linecolor\": \"white\", \"ticks\": \"\"}, \"bgcolor\": \"#E5ECF6\", \"caxis\": {\"gridcolor\": \"white\", \"linecolor\": \"white\", \"ticks\": \"\"}}, \"title\": {\"x\": 0.05}, \"xaxis\": {\"automargin\": true, \"gridcolor\": \"white\", \"linecolor\": \"white\", \"ticks\": \"\", \"title\": {\"standoff\": 15}, \"zerolinecolor\": \"white\", \"zerolinewidth\": 2}, \"yaxis\": {\"automargin\": true, \"gridcolor\": \"white\", \"linecolor\": \"white\", \"ticks\": \"\", \"title\": {\"standoff\": 15}, \"zerolinecolor\": \"white\", \"zerolinewidth\": 2}}}, \"xaxis\": {\"anchor\": \"y\", \"domain\": [0.0, 1.0], \"title\": {\"text\": \"longitude\"}}, \"yaxis\": {\"anchor\": \"x\", \"domain\": [0.0, 1.0], \"title\": {\"text\": \"latitude\"}}},\n",
              "                        {\"responsive\": true}\n",
              "                    ).then(function(){\n",
              "                            \n",
              "var gd = document.getElementById('0c41f3cd-7716-46ca-95ad-b7c3e27a8e53');\n",
              "var x = new MutationObserver(function (mutations, observer) {{\n",
              "        var display = window.getComputedStyle(gd).display;\n",
              "        if (!display || display === 'none') {{\n",
              "            console.log([gd, 'removed!']);\n",
              "            Plotly.purge(gd);\n",
              "            observer.disconnect();\n",
              "        }}\n",
              "}});\n",
              "\n",
              "// Listen for the removal of the full notebook cells\n",
              "var notebookContainer = gd.closest('#notebook-container');\n",
              "if (notebookContainer) {{\n",
              "    x.observe(notebookContainer, {childList: true});\n",
              "}}\n",
              "\n",
              "// Listen for the clearing of the current output cell\n",
              "var outputEl = gd.closest('.output');\n",
              "if (outputEl) {{\n",
              "    x.observe(outputEl, {childList: true});\n",
              "}}\n",
              "\n",
              "                        })\n",
              "                };\n",
              "                \n",
              "            </script>\n",
              "        </div>\n",
              "</body>\n",
              "</html>"
            ]
          },
          "metadata": {
            "tags": []
          }
        }
      ]
    },
    {
      "cell_type": "markdown",
      "metadata": {
        "id": "tWyu3q51vd0-",
        "colab_type": "text"
      },
      "source": [
        "Checkpoint 4: Laptops"
      ]
    },
    {
      "cell_type": "code",
      "metadata": {
        "id": "AXeKNf1QvhMY",
        "colab_type": "code",
        "colab": {
          "resources": {
            "http://localhost:8080/nbextensions/google.colab/files.js": {
              "data": "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",
              "ok": true,
              "headers": [
                [
                  "content-type",
                  "application/javascript"
                ]
              ],
              "status": 200,
              "status_text": ""
            }
          },
          "base_uri": "https://localhost:8080/",
          "height": 74
        },
        "outputId": "4f0a5688-7dfd-4aae-ade9-eefe44c2a96a"
      },
      "source": [
        "from google.colab import files\n",
        "uploaded = files.upload()"
      ],
      "execution_count": null,
      "outputs": [
        {
          "output_type": "display_data",
          "data": {
            "text/html": [
              "\n",
              "     <input type=\"file\" id=\"files-7a6aae91-3388-4d78-8836-4b2bd7ce0c72\" name=\"files[]\" multiple disabled />\n",
              "     <output id=\"result-7a6aae91-3388-4d78-8836-4b2bd7ce0c72\">\n",
              "      Upload widget is only available when the cell has been executed in the\n",
              "      current browser session. Please rerun this cell to enable.\n",
              "      </output>\n",
              "      <script src=\"/nbextensions/google.colab/files.js\"></script> "
            ],
            "text/plain": [
              "<IPython.core.display.HTML object>"
            ]
          },
          "metadata": {
            "tags": []
          }
        },
        {
          "output_type": "stream",
          "text": [
            "Saving laptops.csv to laptops.csv\n"
          ],
          "name": "stdout"
        }
      ]
    },
    {
      "cell_type": "code",
      "metadata": {
        "id": "8rHElWu7v2ed",
        "colab_type": "code",
        "colab": {
          "base_uri": "https://localhost:8080/",
          "height": 542
        },
        "outputId": "e923b114-40ff-499a-9f66-3e40acd0be74"
      },
      "source": [
        "import pandas as pd\n",
        "import plotly.express as px\n",
        "\n",
        "\n",
        "df = pd.read_csv('laptops.csv' , encoding='latin-1')\n",
        "\n",
        "barGraph = px.bar(x=df['Company'],y=df['Price_euros'])\n",
        "\n",
        "barGraph"
      ],
      "execution_count": null,
      "outputs": [
        {
          "output_type": "display_data",
          "data": {
            "text/html": [
              "<html>\n",
              "<head><meta charset=\"utf-8\" /></head>\n",
              "<body>\n",
              "    <div>\n",
              "            <script src=\"https://cdnjs.cloudflare.com/ajax/libs/mathjax/2.7.5/MathJax.js?config=TeX-AMS-MML_SVG\"></script><script type=\"text/javascript\">if (window.MathJax) {MathJax.Hub.Config({SVG: {font: \"STIX-Web\"}});}</script>\n",
              "                <script type=\"text/javascript\">window.PlotlyConfig = {MathJaxConfig: 'local'};</script>\n",
              "        <script src=\"https://cdn.plot.ly/plotly-latest.min.js\"></script>    \n",
              "            <div id=\"c95052ca-b1a1-4af1-91eb-3e2ffdbcaa17\" class=\"plotly-graph-div\" style=\"height:525px; width:100%;\"></div>\n",
              "            <script type=\"text/javascript\">\n",
              "                \n",
              "                    window.PLOTLYENV=window.PLOTLYENV || {};\n",
              "                    \n",
              "                if (document.getElementById(\"c95052ca-b1a1-4af1-91eb-3e2ffdbcaa17\")) {\n",
              "                    Plotly.newPlot(\n",
              "                        'c95052ca-b1a1-4af1-91eb-3e2ffdbcaa17',\n",
              "                        [{\"alignmentgroup\": \"True\", \"hoverlabel\": {\"namelength\": 0}, \"hovertemplate\": \"x=%{x}<br>y=%{y}\", \"legendgroup\": \"\", \"marker\": {\"color\": \"#636efa\"}, \"name\": \"\", \"offsetgroup\": \"\", \"orientation\": \"v\", \"showlegend\": false, \"textposition\": \"auto\", \"type\": \"bar\", \"x\": [\"Apple\", \"Apple\", \"HP\", \"Apple\", \"Apple\", \"Acer\", \"Apple\", \"Apple\", \"Asus\", \"Acer\", \"HP\", \"HP\", \"Apple\", \"Dell\", \"Apple\", \"Apple\", \"Dell\", \"Apple\", \"Lenovo\", \"Dell\", \"Asus\", \"Lenovo\", \"HP\", \"Dell\", \"HP\", \"Dell\", \"Apple\", \"Dell\", \"Dell\", \"HP\", \"Chuwi\", \"Asus\", \"HP\", \"Dell\", \"Apple\", \"Lenovo\", \"Acer\", \"Dell\", \"HP\", \"HP\", \"Asus\", \"Dell\", \"Asus\", \"Acer\", \"Dell\", \"Apple\", \"Lenovo\", \"Asus\", \"Dell\", \"Asus\", \"Lenovo\", \"Acer\", \"HP\", \"HP\", \"Acer\", \"Dell\", \"HP\", \"Asus\", \"MSI\", \"Asus\", \"Dell\", \"Dell\", \"Lenovo\", \"Asus\", \"HP\", \"Asus\", \"HP\", \"HP\", \"Lenovo\", \"Asus\", \"Microsoft\", \"Dell\", \"Dell\", \"MSI\", \"Acer\", \"Asus\", \"Lenovo\", \"Dell\", \"Acer\", \"HP\", \"Dell\", \"Apple\", \"HP\", \"Lenovo\", \"Acer\", \"Dell\", \"HP\", \"HP\", \"Asus\", \"Dell\", \"Asus\", \"Acer\", \"HP\", \"Dell\", \"Asus\", \"Acer\", \"Dell\", \"Dell\", \"Asus\", \"HP\", \"HP\", \"HP\", \"Dell\", \"HP\", \"Microsoft\", \"HP\", \"Lenovo\", \"Asus\", \"MSI\", \"Lenovo\", \"Asus\", \"Dell\", \"Lenovo\", \"HP\", \"Dell\", \"HP\", \"HP\", \"Dell\", \"Asus\", \"Asus\", \"Acer\", \"MSI\", \"Lenovo\", \"HP\", \"Acer\", \"HP\", \"HP\", \"Asus\", \"Dell\", \"HP\", \"Dell\", \"Dell\", \"Acer\", \"Acer\", \"HP\", \"HP\", \"Lenovo\", \"Asus\", \"Lenovo\", \"HP\", \"Acer\", \"Lenovo\", \"Lenovo\", \"Toshiba\", \"HP\", \"Asus\", \"HP\", \"Asus\", \"MSI\", \"Acer\", \"Dell\", \"Dell\", \"Lenovo\", \"MSI\", \"HP\", \"HP\", \"Lenovo\", \"Asus\", \"Dell\", \"Toshiba\", \"Asus\", \"Acer\", \"Dell\", \"Lenovo\", \"Acer\", \"MSI\", \"Acer\", \"Dell\", \"Acer\", \"HP\", \"Huawei\", \"HP\", \"Lenovo\", \"Toshiba\", \"HP\", \"Dell\", \"Acer\", \"MSI\", \"Lenovo\", \"HP\", \"Dell\", \"Dell\", \"Lenovo\", \"Toshiba\", \"Xiaomi\", \"Dell\", \"Dell\", \"Lenovo\", \"Acer\", \"Dell\", \"Lenovo\", \"Vero\", \"Xiaomi\", \"Lenovo\", \"Dell\", \"HP\", \"Razer\", \"HP\", \"HP\", \"HP\", \"Dell\", \"Lenovo\", \"Acer\", \"Lenovo\", \"Dell\", \"Lenovo\", \"Dell\", \"Dell\", \"Dell\", \"Lenovo\", \"Acer\", \"Asus\", \"HP\", \"Lenovo\", \"Huawei\", \"Dell\", \"Lenovo\", \"HP\", \"Dell\", \"Dell\", \"Dell\", \"Lenovo\", \"Toshiba\", \"HP\", \"Dell\", \"Acer\", \"Dell\", \"Asus\", \"Asus\", \"HP\", \"Asus\", \"HP\", \"Lenovo\", \"Dell\", \"Acer\", \"Dell\", \"Acer\", \"Asus\", \"Asus\", \"Acer\", \"Lenovo\", \"Asus\", \"Asus\", \"Dell\", \"Lenovo\", \"Dell\", \"HP\", \"Asus\", \"HP\", \"Apple\", \"Dell\", \"Asus\", \"Asus\", \"Lenovo\", \"Acer\", \"Dell\", \"HP\", \"HP\", \"MSI\", \"Lenovo\", \"Dell\", \"Lenovo\", \"HP\", \"Dell\", \"Dell\", \"Dell\", \"Asus\", \"Lenovo\", \"HP\", \"Lenovo\", \"Apple\", \"Asus\", \"Dell\", \"Lenovo\", \"Toshiba\", \"Dell\", \"Dell\", \"Acer\", \"Lenovo\", \"Lenovo\", \"Lenovo\", \"Dell\", \"Lenovo\", \"Lenovo\", \"Acer\", \"Acer\", \"Lenovo\", \"Asus\", \"Lenovo\", \"Lenovo\", \"Acer\", \"Asus\", \"HP\", \"Dell\", \"Lenovo\", \"Lenovo\", \"Acer\", \"Dell\", \"Lenovo\", \"Asus\", \"Asus\", \"Asus\", \"Lenovo\", \"Lenovo\", \"Asus\", \"Lenovo\", \"HP\", \"Toshiba\", \"Lenovo\", \"HP\", \"Lenovo\", \"Dell\", \"MSI\", \"Acer\", \"Asus\", \"Dell\", \"HP\", \"Lenovo\", \"HP\", \"Acer\", \"HP\", \"Lenovo\", \"Asus\", \"HP\", \"Acer\", \"Lenovo\", \"Acer\", \"Asus\", \"HP\", \"Dell\", \"MSI\", \"Toshiba\", \"Asus\", \"Lenovo\", \"Asus\", \"HP\", \"Dell\", \"HP\", \"Asus\", \"Dell\", \"Dell\", \"Lenovo\", \"HP\", \"Lenovo\", \"Dell\", \"Lenovo\", \"HP\", \"Dell\", \"Asus\", \"Dell\", \"Dell\", \"HP\", \"MSI\", \"HP\", \"Toshiba\", \"Dell\", \"Lenovo\", \"Dell\", \"Dell\", \"Dell\", \"HP\", \"Asus\", \"Lenovo\", \"HP\", \"Lenovo\", \"HP\", \"Dell\", \"Lenovo\", \"Dell\", \"HP\", \"Asus\", \"Acer\", \"Asus\", \"Lenovo\", \"Dell\", \"HP\", \"Lenovo\", \"Dell\", \"Asus\", \"Acer\", \"HP\", \"Lenovo\", \"Asus\", \"Lenovo\", \"Asus\", \"Lenovo\", \"Lenovo\", \"Dell\", \"Dell\", \"Lenovo\", \"Asus\", \"Asus\", \"Acer\", \"MSI\", \"Dell\", \"HP\", \"Lenovo\", \"Lenovo\", \"Dell\", \"Lenovo\", \"Lenovo\", \"Asus\", \"Lenovo\", \"Acer\", \"MSI\", \"Asus\", \"Toshiba\", \"Dell\", \"Lenovo\", \"Lenovo\", \"Lenovo\", \"Lenovo\", \"HP\", \"Acer\", \"Asus\", \"Dell\", \"Dell\", \"HP\", \"Dell\", \"Lenovo\", \"Lenovo\", \"Chuwi\", \"HP\", \"Asus\", \"Dell\", \"Dell\", \"Dell\", \"Dell\", \"HP\", \"Mediacom\", \"Samsung\", \"Lenovo\", \"Lenovo\", \"Lenovo\", \"Lenovo\", \"Asus\", \"HP\", \"Google\", \"Lenovo\", \"Asus\", \"Lenovo\", \"Dell\", \"Lenovo\", \"Lenovo\", \"HP\", \"Dell\", \"Acer\", \"Dell\", \"MSI\", \"Microsoft\", \"HP\", \"Dell\", \"HP\", \"Lenovo\", \"Dell\", \"Dell\", \"Dell\", \"Microsoft\", \"Microsoft\", \"HP\", \"Acer\", \"Acer\", \"Asus\", \"Lenovo\", \"Lenovo\", \"Asus\", \"Acer\", \"Dell\", \"HP\", \"Lenovo\", \"HP\", \"HP\", \"Google\", \"Dell\", \"Asus\", \"Dell\", \"Dell\", \"Lenovo\", \"Dell\", \"Toshiba\", \"Dell\", \"Dell\", \"HP\", \"Chuwi\", \"Lenovo\", \"Lenovo\", \"Dell\", \"Dell\", \"Lenovo\", \"Asus\", \"Lenovo\", \"Toshiba\", \"Asus\", \"Acer\", \"Asus\", \"Lenovo\", \"Lenovo\", \"HP\", \"Lenovo\", \"Lenovo\", \"Asus\", \"HP\", \"Lenovo\", \"Lenovo\", \"Lenovo\", \"Lenovo\", \"Asus\", \"Acer\", \"HP\", \"Lenovo\", \"Dell\", \"Acer\", \"Dell\", \"Dell\", \"Xiaomi\", \"Asus\", \"HP\", \"Asus\", \"HP\", \"Asus\", \"Lenovo\", \"HP\", \"Dell\", \"HP\", \"Dell\", \"Lenovo\", \"Lenovo\", \"Lenovo\", \"Dell\", \"Dell\", \"Dell\", \"Toshiba\", \"Asus\", \"Mediacom\", \"Asus\", \"Dell\", \"Dell\", \"HP\", \"HP\", \"Lenovo\", \"Dell\", \"Dell\", \"HP\", \"Acer\", \"Asus\", \"HP\", \"Lenovo\", \"Lenovo\", \"HP\", \"Lenovo\", \"Lenovo\", \"Dell\", \"Dell\", \"HP\", \"HP\", \"Asus\", \"Mediacom\", \"Lenovo\", \"HP\", \"Dell\", \"Acer\", \"Lenovo\", \"HP\", \"Lenovo\", \"Asus\", \"Dell\", \"Dell\", \"Fujitsu\", \"Lenovo\", \"Lenovo\", \"HP\", \"HP\", \"HP\", \"Lenovo\", \"Lenovo\", \"Mediacom\", \"Toshiba\", \"Lenovo\", \"MSI\", \"Dell\", \"Mediacom\", \"Dell\", \"HP\", \"Dell\", \"Dell\", \"MSI\", \"HP\", \"Lenovo\", \"Lenovo\", \"Asus\", \"Asus\", \"Lenovo\", \"Dell\", \"Samsung\", \"Lenovo\", \"Lenovo\", \"Lenovo\", \"Lenovo\", \"Dell\", \"Dell\", \"HP\", \"HP\", \"Acer\", \"MSI\", \"Dell\", \"MSI\", \"Toshiba\", \"Lenovo\", \"Lenovo\", \"Acer\", \"Lenovo\", \"Dell\", \"Dell\", \"Dell\", \"Dell\", \"Asus\", \"Dell\", \"HP\", \"MSI\", \"Acer\", \"HP\", \"Lenovo\", \"Dell\", \"Fujitsu\", \"HP\", \"Lenovo\", \"Mediacom\", \"Lenovo\", \"Asus\", \"Dell\", \"Asus\", \"Dell\", \"Lenovo\", \"Lenovo\", \"Asus\", \"Asus\", \"Dell\", \"Lenovo\", \"Lenovo\", \"Dell\", \"Lenovo\", \"HP\", \"Lenovo\", \"Asus\", \"Acer\", \"Lenovo\", \"Acer\", \"Razer\", \"Toshiba\", \"Lenovo\", \"Asus\", \"Acer\", \"Dell\", \"MSI\", \"HP\", \"Toshiba\", \"Dell\", \"Dell\", \"Lenovo\", \"Dell\", \"Dell\", \"Lenovo\", \"Lenovo\", \"HP\", \"MSI\", \"Toshiba\", \"Dell\", \"HP\", \"Toshiba\", \"Acer\", \"Microsoft\", \"Lenovo\", \"Lenovo\", \"Lenovo\", \"HP\", \"MSI\", \"Asus\", \"HP\", \"LG\", \"Acer\", \"MSI\", \"Asus\", \"Dell\", \"HP\", \"Lenovo\", \"Dell\", \"HP\", \"Dell\", \"HP\", \"Lenovo\", \"Acer\", \"Lenovo\", \"HP\", \"Lenovo\", \"Toshiba\", \"Acer\", \"Lenovo\", \"Asus\", \"Toshiba\", \"HP\", \"Dell\", \"Lenovo\", \"Lenovo\", \"Lenovo\", \"Lenovo\", \"Dell\", \"Acer\", \"Lenovo\", \"Lenovo\", \"HP\", \"Lenovo\", \"Dell\", \"Dell\", \"Asus\", \"Dell\", \"Lenovo\", \"Dell\", \"Lenovo\", \"Mediacom\", \"HP\", \"Lenovo\", \"HP\", \"Lenovo\", \"Dell\", \"MSI\", \"Lenovo\", \"Dell\", \"Dell\", \"Dell\", \"HP\", \"Acer\", \"Dell\", \"HP\", \"Acer\", \"Lenovo\", \"Lenovo\", \"HP\", \"Dell\", \"MSI\", \"Acer\", \"Dell\", \"Dell\", \"Toshiba\", \"Lenovo\", \"Lenovo\", \"Acer\", \"Samsung\", \"HP\", \"Dell\", \"HP\", \"Lenovo\", \"HP\", \"Asus\", \"Lenovo\", \"Asus\", \"Lenovo\", \"HP\", \"HP\", \"Dell\", \"Acer\", \"Lenovo\", \"Dell\", \"Google\", \"Asus\", \"Dell\", \"Acer\", \"Asus\", \"Dell\", \"Samsung\", \"Acer\", \"Dell\", \"Samsung\", \"Toshiba\", \"Dell\", \"HP\", \"Asus\", \"Lenovo\", \"Acer\", \"Razer\", \"Asus\", \"Dell\", \"Asus\", \"Toshiba\", \"Lenovo\", \"Lenovo\", \"MSI\", \"MSI\", \"Lenovo\", \"Acer\", \"Dell\", \"Asus\", \"Vero\", \"Lenovo\", \"Lenovo\", \"Apple\", \"Lenovo\", \"Asus\", \"Dell\", \"Lenovo\", \"Dell\", \"HP\", \"Asus\", \"Dell\", \"Dell\", \"Dell\", \"HP\", \"Toshiba\", \"HP\", \"Dell\", \"Lenovo\", \"HP\", \"MSI\", \"Samsung\", \"Dell\", \"Dell\", \"Lenovo\", \"Razer\", \"HP\", \"Dell\", \"Dell\", \"Lenovo\", \"Toshiba\", \"Lenovo\", \"MSI\", \"Lenovo\", \"Toshiba\", \"Asus\", \"Dell\", \"Acer\", \"Acer\", \"Razer\", \"Lenovo\", \"Asus\", \"Lenovo\", \"Lenovo\", \"Dell\", \"Asus\", \"Toshiba\", \"Lenovo\", \"Asus\", \"Asus\", \"Dell\", \"HP\", \"Dell\", \"HP\", \"Dell\", \"HP\", \"Asus\", \"HP\", \"HP\", \"HP\", \"Asus\", \"Dell\", \"Lenovo\", \"Asus\", \"Dell\", \"Asus\", \"HP\", \"Dell\", \"Lenovo\", \"Lenovo\", \"HP\", \"Toshiba\", \"Lenovo\", \"Dell\", \"HP\", \"Toshiba\", \"Lenovo\", \"Acer\", \"Dell\", \"Lenovo\", \"Lenovo\", \"Toshiba\", \"Lenovo\", \"Samsung\", \"Dell\", \"Asus\", \"Xiaomi\", \"Dell\", \"HP\", \"HP\", \"HP\", \"Asus\", \"Lenovo\", \"Dell\", \"HP\", \"Dell\", \"Asus\", \"Acer\", \"Lenovo\", \"HP\", \"HP\", \"Samsung\", \"Lenovo\", \"MSI\", \"Toshiba\", \"Dell\", \"HP\", \"Dell\", \"Dell\", \"Dell\", \"Asus\", \"Dell\", \"Lenovo\", \"Lenovo\", \"LG\", \"HP\", \"Acer\", \"Lenovo\", \"LG\", \"Dell\", \"HP\", \"Lenovo\", \"HP\", \"Acer\", \"Lenovo\", \"HP\", \"MSI\", \"Dell\", \"MSI\", \"Dell\", \"HP\", \"HP\", \"Toshiba\", \"Lenovo\", \"Dell\", \"Lenovo\", \"HP\", \"Dell\", \"HP\", \"Lenovo\", \"HP\", \"HP\", \"Lenovo\", \"Toshiba\", \"HP\", \"Dell\", \"MSI\", \"Dell\", \"Dell\", \"HP\", \"Asus\", \"Acer\", \"Toshiba\", \"Lenovo\", \"Lenovo\", \"Dell\", \"Lenovo\", \"Dell\", \"Acer\", \"HP\", \"Dell\", \"Toshiba\", \"Asus\", \"Lenovo\", \"Dell\", \"Dell\", \"HP\", \"Dell\", \"Acer\", \"Toshiba\", \"Lenovo\", \"Acer\", \"Toshiba\", \"HP\", \"Dell\", \"Dell\", \"HP\", \"Dell\", \"Lenovo\", \"Dell\", \"Dell\", \"Dell\", \"Toshiba\", \"Asus\", \"HP\", \"Lenovo\", \"Asus\", \"HP\", \"Asus\", \"Dell\", \"Toshiba\", \"Lenovo\", \"Fujitsu\", \"Toshiba\", \"Dell\", \"HP\", \"Lenovo\", \"Dell\", \"Dell\", \"HP\", \"HP\", \"Lenovo\", \"Lenovo\", \"Dell\", \"Asus\", \"HP\", \"Acer\", \"Asus\", \"HP\", \"Acer\", \"HP\", \"Dell\", \"HP\", \"Toshiba\", \"HP\", \"HP\", \"HP\", \"HP\", \"HP\", \"Dell\", \"HP\", \"HP\", \"HP\", \"HP\", \"Toshiba\", \"HP\", \"Lenovo\", \"Toshiba\", \"HP\", \"Dell\", \"Toshiba\", \"HP\", \"HP\", \"Dell\", \"HP\", \"HP\", \"HP\", \"Dell\", \"HP\", \"HP\", \"Acer\", \"MSI\", \"HP\", \"HP\", \"HP\", \"HP\", \"Toshiba\", \"Dell\", \"HP\", \"Lenovo\", \"Vero\", \"Toshiba\", \"Lenovo\", \"HP\", \"HP\", \"HP\", \"MSI\", \"Lenovo\", \"Asus\", \"Lenovo\", \"HP\", \"Dell\", \"HP\", \"Dell\", \"HP\", \"HP\", \"Acer\", \"Dell\", \"MSI\", \"HP\", \"Asus\", \"Dell\", \"Dell\", \"MSI\", \"Dell\", \"Asus\", \"Dell\", \"Dell\", \"Apple\", \"Dell\", \"HP\", \"HP\", \"HP\", \"Lenovo\", \"Lenovo\", \"Lenovo\", \"MSI\", \"Lenovo\", \"HP\", \"Lenovo\", \"Lenovo\", \"Lenovo\", \"HP\", \"Dell\", \"HP\", \"HP\", \"Lenovo\", \"HP\", \"Acer\", \"Dell\", \"HP\", \"Asus\", \"Dell\", \"HP\", \"Acer\", \"Dell\", \"MSI\", \"HP\", \"Asus\", \"Dell\", \"Dell\", \"Acer\", \"HP\", \"Lenovo\", \"Dell\", \"MSI\", \"Lenovo\", \"HP\", \"Asus\", \"HP\", \"Dell\", \"Lenovo\", \"HP\", \"Lenovo\", \"Dell\", \"Lenovo\", \"Razer\", \"Toshiba\", \"Asus\", \"Vero\", \"HP\", \"HP\", \"Dell\", \"Asus\", \"Lenovo\", \"Lenovo\", \"HP\", \"Lenovo\", \"HP\", \"HP\", \"Lenovo\", \"Asus\", \"HP\", \"Acer\", \"Lenovo\", \"HP\", \"Dell\", \"MSI\", \"HP\", \"Lenovo\", \"MSI\", \"HP\", \"HP\", \"HP\", \"HP\", \"HP\", \"Dell\", \"HP\", \"Lenovo\", \"Lenovo\", \"HP\", \"Lenovo\", \"Dell\", \"Dell\", \"HP\", \"MSI\", \"Lenovo\", \"Lenovo\", \"HP\", \"Lenovo\", \"MSI\", \"HP\", \"Lenovo\", \"HP\", \"Dell\", \"Lenovo\", \"Lenovo\", \"HP\", \"MSI\", \"HP\", \"HP\", \"Asus\", \"Lenovo\", \"Lenovo\", \"Asus\", \"Lenovo\", \"Lenovo\", \"MSI\", \"HP\", \"Lenovo\", \"Lenovo\", \"Dell\", \"Acer\", \"HP\", \"Asus\", \"Dell\", \"Acer\", \"Dell\", \"Acer\", \"Lenovo\", \"Samsung\", \"HP\", \"Apple\", \"Dell\", \"HP\", \"Lenovo\", \"Asus\", \"Acer\", \"MSI\", \"Dell\", \"Lenovo\", \"Dell\", \"Dell\", \"Asus\", \"Dell\", \"HP\", \"Lenovo\", \"Acer\", \"Asus\", \"Apple\", \"Asus\", \"MSI\", \"Dell\", \"Asus\", \"Acer\", \"Acer\", \"Lenovo\", \"Lenovo\", \"Acer\", \"Lenovo\", \"MSI\", \"HP\", \"Dell\", \"Dell\", \"Asus\", \"Dell\", \"Dell\", \"Lenovo\", \"MSI\", \"Lenovo\", \"Razer\", \"Dell\", \"MSI\", \"Apple\", \"HP\", \"HP\", \"Dell\", \"MSI\", \"Lenovo\", \"Lenovo\", \"Asus\", \"Acer\", \"Dell\", \"HP\", \"Asus\", \"Dell\", \"Asus\", \"Lenovo\", \"Dell\", \"Dell\", \"HP\", \"Lenovo\", \"Lenovo\", \"Dell\", \"Asus\", \"Asus\", \"Dell\", \"Lenovo\", \"MSI\", \"Lenovo\", \"Asus\", \"Dell\", \"Acer\", \"Dell\", \"Lenovo\", \"HP\", \"Dell\", \"HP\", \"Asus\", \"Lenovo\", \"Lenovo\", \"Lenovo\", \"HP\", \"Asus\", \"Asus\", \"Dell\", \"Acer\", \"Dell\", \"Lenovo\", \"HP\", \"Dell\", \"HP\", \"Asus\", \"Lenovo\", \"Lenovo\", \"Lenovo\", \"HP\", \"Asus\", \"Asus\", \"Dell\", \"Acer\", \"Dell\", \"Lenovo\", \"HP\", \"Dell\", \"HP\", \"Asus\", \"Lenovo\", \"Lenovo\", \"Lenovo\", \"HP\", \"Asus\"], \"xaxis\": \"x\", \"y\": [1339.69, 898.94, 575.0, 2537.45, 1803.6, 400.0, 2139.97, 1158.7, 1495.0, 770.0, 393.9, 344.99, 2439.97, 498.9, 1262.4, 1518.55, 745.0, 2858.0, 499.0, 979.0, 191.9, 999.0, 258.0, 819.0, 659.0, 418.64, 1099.0, 800.0, 1298.0, 896.0, 244.99, 199.0, 439.0, 1869.0, 998.0, 249.0, 367.0, 979.0, 488.69, 879.0, 389.0, 1499.0, 522.99, 682.0, 999.0, 1419.0, 369.0, 1299.0, 639.0, 466.0, 319.0, 841.0, 398.49, 1103.0, 384.0, 767.8, 439.0, 586.19, 2449.0, 415.0, 1299.0, 879.0, 599.0, 941.0, 690.0, 1983.0, 438.69, 229.0, 549.0, 949.0, 1089.0, 955.0, 870.0, 1095.0, 389.0, 949.0, 519.0, 855.0, 530.0, 977.0, 1096.16, 1510.0, 860.0, 399.0, 395.0, 1349.0, 699.0, 598.99, 1449.0, 1649.0, 699.0, 689.0, 1197.0, 1195.0, 1049.0, 847.0, 599.9, 485.0, 577.0, 1249.0, 719.0, 349.0, 647.0, 1119.0, 1340.0, 659.0, 414.9, 1193.0, 1299.0, 1480.0, 1262.0, 1379.0, 1399.0, 722.0, 1629.0, 1398.99, 1084.0, 1130.33, 564.0, 1118.0, 479.0, 2241.5, 629.0, 1271.0, 451.0, 259.0, 812.0, 277.99, 1396.0, 928.0, 638.99, 449.0, 884.0, 572.0, 598.0, 988.0, 252.36, 938.0, 499.0, 699.0, 655.0, 1116.02, 869.0, 602.0, 369.0, 1099.0, 2014.0, 344.0, 2029.0, 447.0, 1249.26, 899.0, 498.0, 1890.0, 1082.0, 619.0, 629.0, 1315.0, 1049.0, 447.0, 403.0, 805.0, 728.0, 1079.0, 348.0, 1799.0, 363.51, 1060.49, 854.0, 754.0, 1349.0, 699.0, 309.0, 489.0, 923.0, 459.0, 449.0, 2799.0, 813.0, 1499.0, 1049.0, 1399.0, 1849.0, 793.0, 1199.0, 1549.0, 2397.0, 779.0, 989.0, 1085.0, 2824.0, 260.0, 999.9, 698.0, 839.0, 914.0, 6099.0, 959.0, 1379.0, 1045.0, 1845.0, 493.0, 742.0, 1749.0, 3055.0, 1398.0, 439.0, 1949.0, 1449.0, 597.0, 779.0, 1407.0, 349.0, 549.0, 1499.0, 931.88, 589.0, 1031.0, 1149.0, 1279.0, 677.35, 899.0, 1363.0, 794.0, 2456.34, 832.0, 859.01, 769.0, 891.0, 1269.0, 398.99, 330.0, 1499.0, 859.0, 689.0, 899.0, 390.0, 575.0, 3890.0, 846.0, 589.0, 1145.0, 889.0, 879.0, 1079.0, 985.0, 559.0, 2999.0, 675.0, 2040.0, 819.0, 1799.0, 469.0, 1849.0, 702.0, 949.0, 445.9, 1059.0, 2499.0, 1699.0, 1142.0, 444.0, 722.0, 657.0, 565.0, 799.0, 1499.0, 467.0, 1018.0, 880.0, 1958.9, 1549.0, 735.07, 2499.0, 812.0, 713.07, 1099.0, 745.0, 489.0, 849.0, 859.0, 428.0, 829.0, 579.0, 951.0, 659.0, 1097.0, 977.0, 1179.0, 659.01, 199.0, 1187.0, 489.0, 1829.0, 739.0, 1299.0, 979.0, 2884.86, 499.0, 1468.0, 509.0, 2122.0, 649.0, 549.0, 1265.0, 359.99, 1975.0, 1043.0, 819.0, 469.0, 999.0, 2499.0, 2099.0, 469.0, 275.0, 844.0, 2449.0, 459.9, 980.0, 485.0, 1292.0, 589.0, 1094.0, 902.0, 659.0, 292.0, 549.0, 1049.9, 1335.0, 2639.0, 1199.0, 943.0, 1334.0, 449.0, 999.0, 1268.0, 1049.0, 1144.0, 274.99, 1142.75, 274.9, 899.0, 716.0, 2099.0, 1579.0, 1129.0, 279.0, 1607.96, 375.0, 663.0, 2027.42, 1304.0, 1409.0, 1738.27, 1403.0, 970.9, 321.99, 999.0, 557.37, 1427.0, 439.0, 945.0, 719.0, 639.0, 499.0, 389.0, 1085.0, 809.0, 899.0, 1750.0, 1099.0, 426.0, 2199.0, 489.0, 869.01, 488.99, 553.0, 309.0, 286.0, 846.0, 1191.0, 403.5, 1655.0, 1099.0, 1748.9, 2282.0, 549.0, 1369.0, 2135.0, 2509.0, 1039.0, 1591.0, 693.99, 1349.0, 778.87, 499.0, 1229.56, 938.0, 2712.0, 2625.0, 306.0, 1529.0, 1144.5, 879.0, 2249.0, 1873.0, 1747.0, 1680.0, 409.0, 304.45, 1925.0, 1943.0, 469.0, 789.01, 928.0, 598.9, 689.0, 1500.0, 539.95, 1215.38, 1899.0, 449.0, 1427.0, 597.0, 2799.0, 1159.0, 1142.4, 1099.0, 1999.0, 299.0, 269.0, 1010.0, 599.0, 2445.0, 2449.0, 1695.0, 347.0, 2199.0, 2382.0, 559.0, 519.0, 749.0, 1429.0, 349.0, 1099.0, 1179.0, 441.8, 1993.0, 1027.74, 2589.0, 589.0, 1975.0, 1534.0, 1345.0, 979.0, 479.0, 2046.0, 989.0, 1799.0, 639.9, 544.0, 435.0, 749.0, 799.0, 2090.0, 304.0, 469.0, 759.0, 1699.0, 1858.0, 1999.0, 1154.0, 1275.0, 1841.85, 1299.0, 740.0, 2408.0, 1364.0, 675.0, 1672.0, 1262.0, 586.6, 726.0, 248.9, 565.0, 1049.0, 2338.0, 1899.0, 1798.0, 1950.0, 1011.99, 2799.0, 1350.0, 579.0, 1269.0, 1099.0, 898.9, 1749.0, 949.0, 911.0, 340.0, 618.99, 1599.0, 299.0, 265.0, 949.0, 1224.0, 613.0, 1323.0, 1149.0, 899.0, 639.0, 836.0, 1219.24, 1399.95, 245.0, 521.47, 2968.0, 889.0, 1504.0, 1399.0, 1399.0, 1279.73, 689.0, 889.0, 1340.0, 799.0, 459.0, 585.0, 1377.0, 3012.77, 860.0, 1299.0, 369.0, 1649.0, 1369.0, 797.41, 398.99, 1799.0, 859.0, 1399.0, 735.87, 1145.0, 798.0, 349.0, 705.5, 785.0, 462.35, 397.0, 1729.0, 499.0, 1116.99, 2699.0, 544.15, 1280.0, 224.0, 255.0, 949.0, 568.9, 617.9, 349.0, 630.0, 1965.0, 2999.0, 839.0, 1599.0, 959.0, 739.0, 344.0, 990.0, 1860.99, 389.0, 649.0, 830.0, 685.0, 249.0, 1865.0, 2663.0, 2729.0, 749.01, 389.0, 1008.52, 719.0, 1537.39, 295.0, 2349.0, 1498.0, 1673.0, 609.0, 1770.0, 739.0, 949.0, 603.0, 1699.0, 529.0, 459.0, 2025.0, 1474.0, 1670.0, 1763.0, 1219.0, 668.48, 329.0, 2199.0, 465.0, 2299.0, 1399.0, 564.0, 1299.0, 349.0, 4899.0, 879.01, 443.9, 359.0, 869.0, 1168.0, 569.0, 1389.0, 2267.86, 379.0, 1124.0, 1465.0, 776.0, 799.0, 932.0, 899.0, 239.0, 468.0, 639.01, 1820.0, 1900.0, 1479.0, 829.0, 579.0, 399.0, 906.62, 1869.0, 249.0, 1757.42, 2399.0, 1109.0, 520.9, 2450.0, 1169.0, 450.0, 274.0, 919.0, 2599.0, 1213.0, 1584.0, 2799.0, 709.0, 1449.9, 1191.8, 364.9, 1064.0, 919.0, 1135.0, 1196.0, 3147.37, 1229.0, 419.0, 535.0, 539.0, 1486.77, 498.0, 955.0, 745.0, 1258.0, 412.0, 1867.85, 817.95, 1034.0, 349.0, 699.0, 1294.0, 1135.0, 495.0, 2299.0, 1299.0, 997.9, 419.0, 2051.0, 699.0, 1499.0, 2813.75, 612.61, 545.67, 569.0, 318.0, 375.0, 699.0, 1907.99, 2590.0, 973.0, 269.0, 1749.0, 669.0, 1877.0, 689.0, 819.0, 399.0, 429.0, 621.45, 450.0, 795.0, 999.0, 1855.0, 1191.0, 655.01, 1249.0, 1089.0, 726.0, 298.0, 1426.66, 857.07, 1179.0, 298.0, 265.0, 1200.0, 1686.64, 836.6, 1499.0, 3659.4, 1348.48, 489.9, 719.0, 649.0, 589.52, 489.0, 1935.0, 649.0, 650.0, 559.0, 960.0, 779.0, 2419.0, 659.0, 2094.48, 410.8, 1207.0, 665.0, 1535.0, 999.0, 3299.0, 330.0, 1649.0, 539.0, 1126.71, 4389.0, 475.0, 1900.0, 579.0, 1096.0, 849.9, 1199.0, 1099.0, 1561.0, 2868.99, 599.0, 1048.0, 1859.0, 1559.0, 1129.0, 849.0, 655.0, 470.34, 1099.0, 1599.0, 298.0, 1181.27, 1799.0, 1020.0, 1099.0, 1244.0, 839.0, 2370.0, 636.0, 2899.0, 581.9, 3588.8, 2350.0, 1764.0, 329.0, 2299.0, 1891.0, 1089.0, 999.0, 2299.0, 985.0, 1339.0, 202.9, 1970.0, 959.0, 1165.0, 2330.0, 299.0, 810.0, 1349.0, 739.0, 2064.9, 1099.0, 1499.0, 1749.0, 744.0, 1389.0, 780.0, 629.0, 1679.0, 609.0, 1749.0, 2415.0, 1499.0, 961.0, 789.81, 1859.0, 1799.0, 385.0, 2505.02, 755.0, 489.9, 1090.0, 2499.0, 1199.0, 1875.0, 499.0, 1358.0, 585.0, 355.0, 619.0, 5499.0, 2099.0, 519.0, 1186.0, 1650.0, 2774.63, 2419.0, 669.0, 325.0, 590.0, 1799.0, 3072.89, 910.0, 713.99, 1870.0, 739.0, 615.0, 1026.0, 2277.0, 1468.0, 299.0, 1899.0, 865.0, 1903.0, 787.0, 945.0, 449.0, 2559.0, 649.0, 469.0, 850.66, 1349.0, 1285.0, 1017.0, 2240.0, 910.0, 1095.0, 1950.0, 902.0, 1778.0, 1055.0, 479.0, 1388.0, 735.0, 1849.0, 1690.0, 398.99, 935.0, 912.5, 839.0, 1700.0, 684.8, 348.0, 669.0, 369.0, 1799.0, 455.7, 1369.9, 297.0, 379.0, 1265.0, 1399.0, 1699.0, 1799.0, 2649.0, 1475.0, 929.0, 900.0, 614.0, 935.0, 2013.1, 1279.0, 1649.0, 2049.0, 1962.99, 2099.0, 1483.0, 359.0, 789.0, 1899.0, 1205.0, 3100.0, 789.0, 1018.99, 499.0, 881.0, 960.0, 1599.0, 1349.0, 1119.91, 684.99, 1296.99, 1149.0, 1975.0, 1825.0, 729.9, 1650.0, 1165.0, 708.06, 1149.0, 309.0, 1579.0, 288.9, 1799.0, 1105.0, 1669.0, 558.6, 1199.0, 1639.0, 2758.0, 1399.0, 530.0, 619.0, 1119.0, 1299.0, 999.0, 1472.2, 685.0, 659.0, 349.0, 2249.0, 1775.0, 1460.0, 1159.0, 1488.99, 3154.0, 1899.0, 775.0, 1268.0, 389.0, 1535.0, 1760.0, 1009.0, 1790.0, 846.5, 465.62, 825.0, 685.0, 3149.0, 695.0, 1899.0, 1962.98, 2800.0, 1180.0, 2049.9, 979.0, 1002.0, 1799.0, 579.0, 1749.0, 1299.0, 1195.0, 549.0, 649.0, 915.0, 599.0, 806.0, 1189.0, 749.0, 1119.0, 1908.0, 499.0, 270.62, 1349.0, 889.0, 1150.0, 1349.0, 380.0, 1799.0, 2089.0, 1260.0, 1189.0, 547.0, 779.0, 1195.0, 1099.99, 1205.0, 1449.0, 1049.26, 684.0, 949.0, 1539.0, 1590.0, 1887.21, 800.0, 1210.0, 769.99, 2968.0, 1490.0, 2229.0, 795.99, 1590.0, 1149.0, 1185.43, 1046.44, 1559.0, 1189.0, 1060.0, 1624.0, 1080.0, 973.0, 409.0, 1191.8, 1195.0, 1228.99, 1349.0, 742.0, 1725.0, 1062.95, 1010.51, 847.0, 210.8, 1425.0, 1049.6, 1000.0, 2103.34, 1469.0, 1545.64, 2289.99, 287.9, 2620.0, 979.0, 1094.0, 979.0, 2254.0, 705.15, 499.0, 449.0, 1299.0, 1819.0, 1070.0, 998.0, 559.0, 989.99, 1929.0, 1458.0, 3975.0, 798.01, 1329.0, 1300.0, 481.98, 1199.0, 1199.0, 1090.0, 1713.49, 659.0, 977.0, 2499.0, 540.0, 940.0, 1399.0, 3240.0, 646.27, 2049.0, 750.0, 1030.99, 1495.0, 1199.0, 615.0, 387.0, 393.49, 345.99, 1599.0, 818.35, 1599.0, 799.0, 638.8, 1599.0, 500.0, 2299.0, 1135.15, 1166.97, 209.0, 2899.0, 1199.0, 1413.1, 1511.19, 867.0, 398.0, 1339.0, 1699.0, 769.15, 429.0, 1969.0, 549.0, 1379.0, 2749.99, 1029.0, 2226.0, 1312.49, 196.0, 1690.0, 1513.0, 523.63, 435.0, 1669.0, 479.0, 1895.0, 989.0, 1129.0, 629.0, 2050.38, 278.0, 752.0, 616.0, 1099.0, 3949.4, 784.0, 2399.0, 2171.72, 2440.0, 1142.8, 1629.0, 2229.0, 1799.0, 1899.0, 2296.95, 1009.9, 1579.0, 2339.0, 339.0, 297.0, 599.0, 1199.0, 2250.68, 478.89, 1492.8, 2299.0, 788.49, 2041.0, 1499.0, 1769.0, 899.0, 459.0, 476.99, 1498.0, 1390.0, 468.0, 249.0, 839.0, 679.0, 1159.0, 369.0, 398.0, 709.0, 769.0, 825.0, 1305.0, 2153.37, 650.0, 1637.0, 831.0, 895.01, 333.0, 799.0, 909.0, 1179.0, 691.0, 1099.0, 2599.0, 819.0, 659.0, 485.0, 1163.0, 1199.0, 1327.0, 368.0, 2150.0, 272.0, 2048.9, 499.0, 629.0, 1285.0, 2680.0, 1169.0, 889.0, 579.0, 299.0, 629.0, 2449.0, 1279.0, 1749.0, 1948.99, 999.0, 1949.0, 174.0, 598.0, 539.0, 1272.0, 1149.0, 1529.0, 1476.11, 529.0, 1713.37, 509.0, 309.0, 1477.0, 521.86, 1029.0, 1149.0, 1650.0, 3499.0, 469.01, 1598.0, 959.0, 478.0, 2198.19, 737.0, 1169.0, 1499.0, 597.57, 1280.0, 361.8, 1799.0, 1099.99, 1600.0, 875.0, 2325.0, 573.0, 1813.0, 324.0, 399.0, 569.0, 1072.0, 443.99, 339.0, 1900.0, 490.0, 895.0, 1229.0, 833.01, 729.0, 459.0, 289.0, 379.0, 899.0, 549.99, 805.99, 209.0, 720.32, 638.0, 1499.0, 229.0, 764.0, 369.0, 729.0, 459.0, 289.0, 379.0, 899.0, 549.99, 805.99, 209.0, 720.32, 638.0, 1499.0, 229.0, 764.0, 369.0, 729.0, 459.0, 289.0, 379.0, 899.0, 549.99, 805.99, 209.0, 720.32, 638.0, 1499.0, 229.0, 764.0, 369.0], \"yaxis\": \"y\"}],\n",
              "                        {\"barmode\": \"relative\", \"legend\": {\"tracegroupgap\": 0}, \"margin\": {\"t\": 60}, \"template\": {\"data\": {\"bar\": [{\"error_x\": {\"color\": \"#2a3f5f\"}, \"error_y\": {\"color\": \"#2a3f5f\"}, \"marker\": {\"line\": {\"color\": \"#E5ECF6\", \"width\": 0.5}}, \"type\": \"bar\"}], \"barpolar\": [{\"marker\": {\"line\": {\"color\": \"#E5ECF6\", \"width\": 0.5}}, \"type\": \"barpolar\"}], \"carpet\": [{\"aaxis\": {\"endlinecolor\": \"#2a3f5f\", \"gridcolor\": \"white\", \"linecolor\": \"white\", \"minorgridcolor\": \"white\", \"startlinecolor\": \"#2a3f5f\"}, \"baxis\": {\"endlinecolor\": \"#2a3f5f\", \"gridcolor\": \"white\", \"linecolor\": \"white\", \"minorgridcolor\": \"white\", \"startlinecolor\": \"#2a3f5f\"}, \"type\": \"carpet\"}], \"choropleth\": [{\"colorbar\": {\"outlinewidth\": 0, \"ticks\": \"\"}, \"type\": \"choropleth\"}], \"contour\": [{\"colorbar\": {\"outlinewidth\": 0, \"ticks\": \"\"}, \"colorscale\": [[0.0, \"#0d0887\"], [0.1111111111111111, \"#46039f\"], [0.2222222222222222, \"#7201a8\"], [0.3333333333333333, \"#9c179e\"], [0.4444444444444444, \"#bd3786\"], [0.5555555555555556, \"#d8576b\"], [0.6666666666666666, \"#ed7953\"], [0.7777777777777778, \"#fb9f3a\"], [0.8888888888888888, \"#fdca26\"], [1.0, \"#f0f921\"]], \"type\": \"contour\"}], \"contourcarpet\": [{\"colorbar\": {\"outlinewidth\": 0, \"ticks\": \"\"}, \"type\": \"contourcarpet\"}], \"heatmap\": [{\"colorbar\": {\"outlinewidth\": 0, \"ticks\": \"\"}, \"colorscale\": [[0.0, \"#0d0887\"], [0.1111111111111111, \"#46039f\"], [0.2222222222222222, \"#7201a8\"], [0.3333333333333333, \"#9c179e\"], [0.4444444444444444, \"#bd3786\"], [0.5555555555555556, \"#d8576b\"], [0.6666666666666666, \"#ed7953\"], [0.7777777777777778, \"#fb9f3a\"], [0.8888888888888888, \"#fdca26\"], [1.0, \"#f0f921\"]], \"type\": \"heatmap\"}], \"heatmapgl\": [{\"colorbar\": {\"outlinewidth\": 0, \"ticks\": \"\"}, \"colorscale\": [[0.0, \"#0d0887\"], [0.1111111111111111, \"#46039f\"], [0.2222222222222222, \"#7201a8\"], [0.3333333333333333, \"#9c179e\"], [0.4444444444444444, \"#bd3786\"], [0.5555555555555556, \"#d8576b\"], [0.6666666666666666, \"#ed7953\"], [0.7777777777777778, \"#fb9f3a\"], [0.8888888888888888, \"#fdca26\"], [1.0, \"#f0f921\"]], \"type\": \"heatmapgl\"}], \"histogram\": [{\"marker\": {\"colorbar\": {\"outlinewidth\": 0, \"ticks\": \"\"}}, \"type\": \"histogram\"}], \"histogram2d\": [{\"colorbar\": {\"outlinewidth\": 0, \"ticks\": \"\"}, \"colorscale\": [[0.0, \"#0d0887\"], [0.1111111111111111, \"#46039f\"], [0.2222222222222222, \"#7201a8\"], [0.3333333333333333, \"#9c179e\"], [0.4444444444444444, \"#bd3786\"], [0.5555555555555556, \"#d8576b\"], [0.6666666666666666, \"#ed7953\"], [0.7777777777777778, \"#fb9f3a\"], [0.8888888888888888, \"#fdca26\"], [1.0, \"#f0f921\"]], \"type\": \"histogram2d\"}], \"histogram2dcontour\": [{\"colorbar\": {\"outlinewidth\": 0, \"ticks\": \"\"}, \"colorscale\": [[0.0, \"#0d0887\"], [0.1111111111111111, \"#46039f\"], [0.2222222222222222, \"#7201a8\"], [0.3333333333333333, \"#9c179e\"], [0.4444444444444444, \"#bd3786\"], [0.5555555555555556, \"#d8576b\"], [0.6666666666666666, \"#ed7953\"], [0.7777777777777778, \"#fb9f3a\"], [0.8888888888888888, \"#fdca26\"], [1.0, \"#f0f921\"]], \"type\": \"histogram2dcontour\"}], \"mesh3d\": [{\"colorbar\": {\"outlinewidth\": 0, \"ticks\": \"\"}, \"type\": \"mesh3d\"}], \"parcoords\": [{\"line\": {\"colorbar\": {\"outlinewidth\": 0, \"ticks\": \"\"}}, \"type\": \"parcoords\"}], \"pie\": [{\"automargin\": true, \"type\": \"pie\"}], \"scatter\": [{\"marker\": {\"colorbar\": {\"outlinewidth\": 0, \"ticks\": \"\"}}, \"type\": \"scatter\"}], \"scatter3d\": [{\"line\": {\"colorbar\": {\"outlinewidth\": 0, \"ticks\": \"\"}}, \"marker\": {\"colorbar\": {\"outlinewidth\": 0, \"ticks\": \"\"}}, \"type\": \"scatter3d\"}], \"scattercarpet\": [{\"marker\": {\"colorbar\": {\"outlinewidth\": 0, \"ticks\": \"\"}}, \"type\": \"scattercarpet\"}], \"scattergeo\": [{\"marker\": {\"colorbar\": {\"outlinewidth\": 0, \"ticks\": \"\"}}, \"type\": \"scattergeo\"}], \"scattergl\": [{\"marker\": {\"colorbar\": {\"outlinewidth\": 0, \"ticks\": \"\"}}, \"type\": \"scattergl\"}], \"scattermapbox\": [{\"marker\": {\"colorbar\": {\"outlinewidth\": 0, \"ticks\": \"\"}}, \"type\": \"scattermapbox\"}], \"scatterpolar\": [{\"marker\": {\"colorbar\": {\"outlinewidth\": 0, \"ticks\": \"\"}}, \"type\": \"scatterpolar\"}], \"scatterpolargl\": [{\"marker\": {\"colorbar\": {\"outlinewidth\": 0, \"ticks\": \"\"}}, \"type\": \"scatterpolargl\"}], \"scatterternary\": [{\"marker\": {\"colorbar\": {\"outlinewidth\": 0, \"ticks\": \"\"}}, \"type\": \"scatterternary\"}], \"surface\": [{\"colorbar\": {\"outlinewidth\": 0, \"ticks\": \"\"}, \"colorscale\": [[0.0, \"#0d0887\"], [0.1111111111111111, \"#46039f\"], [0.2222222222222222, \"#7201a8\"], [0.3333333333333333, \"#9c179e\"], [0.4444444444444444, \"#bd3786\"], [0.5555555555555556, \"#d8576b\"], [0.6666666666666666, \"#ed7953\"], [0.7777777777777778, \"#fb9f3a\"], [0.8888888888888888, \"#fdca26\"], [1.0, \"#f0f921\"]], \"type\": \"surface\"}], \"table\": [{\"cells\": {\"fill\": {\"color\": \"#EBF0F8\"}, \"line\": {\"color\": \"white\"}}, \"header\": {\"fill\": {\"color\": \"#C8D4E3\"}, \"line\": {\"color\": \"white\"}}, \"type\": \"table\"}]}, \"layout\": {\"annotationdefaults\": {\"arrowcolor\": \"#2a3f5f\", \"arrowhead\": 0, \"arrowwidth\": 1}, \"coloraxis\": {\"colorbar\": {\"outlinewidth\": 0, \"ticks\": \"\"}}, \"colorscale\": {\"diverging\": [[0, \"#8e0152\"], [0.1, \"#c51b7d\"], [0.2, \"#de77ae\"], [0.3, \"#f1b6da\"], [0.4, \"#fde0ef\"], [0.5, \"#f7f7f7\"], [0.6, \"#e6f5d0\"], [0.7, \"#b8e186\"], [0.8, \"#7fbc41\"], [0.9, \"#4d9221\"], [1, \"#276419\"]], \"sequential\": [[0.0, \"#0d0887\"], [0.1111111111111111, \"#46039f\"], [0.2222222222222222, \"#7201a8\"], [0.3333333333333333, \"#9c179e\"], [0.4444444444444444, \"#bd3786\"], [0.5555555555555556, \"#d8576b\"], [0.6666666666666666, \"#ed7953\"], [0.7777777777777778, \"#fb9f3a\"], [0.8888888888888888, \"#fdca26\"], [1.0, \"#f0f921\"]], \"sequentialminus\": [[0.0, \"#0d0887\"], [0.1111111111111111, \"#46039f\"], [0.2222222222222222, \"#7201a8\"], [0.3333333333333333, \"#9c179e\"], [0.4444444444444444, \"#bd3786\"], [0.5555555555555556, \"#d8576b\"], [0.6666666666666666, \"#ed7953\"], [0.7777777777777778, \"#fb9f3a\"], [0.8888888888888888, \"#fdca26\"], [1.0, \"#f0f921\"]]}, \"colorway\": [\"#636efa\", \"#EF553B\", \"#00cc96\", \"#ab63fa\", \"#FFA15A\", \"#19d3f3\", \"#FF6692\", \"#B6E880\", \"#FF97FF\", \"#FECB52\"], \"font\": {\"color\": \"#2a3f5f\"}, \"geo\": {\"bgcolor\": \"white\", \"lakecolor\": \"white\", \"landcolor\": \"#E5ECF6\", \"showlakes\": true, \"showland\": true, \"subunitcolor\": \"white\"}, \"hoverlabel\": {\"align\": \"left\"}, \"hovermode\": \"closest\", \"mapbox\": {\"style\": \"light\"}, \"paper_bgcolor\": \"white\", \"plot_bgcolor\": \"#E5ECF6\", \"polar\": {\"angularaxis\": {\"gridcolor\": \"white\", \"linecolor\": \"white\", \"ticks\": \"\"}, \"bgcolor\": \"#E5ECF6\", \"radialaxis\": {\"gridcolor\": \"white\", \"linecolor\": \"white\", \"ticks\": \"\"}}, \"scene\": {\"xaxis\": {\"backgroundcolor\": \"#E5ECF6\", \"gridcolor\": \"white\", \"gridwidth\": 2, \"linecolor\": \"white\", \"showbackground\": true, \"ticks\": \"\", \"zerolinecolor\": \"white\"}, \"yaxis\": {\"backgroundcolor\": \"#E5ECF6\", \"gridcolor\": \"white\", \"gridwidth\": 2, \"linecolor\": \"white\", \"showbackground\": true, \"ticks\": \"\", \"zerolinecolor\": \"white\"}, \"zaxis\": {\"backgroundcolor\": \"#E5ECF6\", \"gridcolor\": \"white\", \"gridwidth\": 2, \"linecolor\": \"white\", \"showbackground\": true, \"ticks\": \"\", \"zerolinecolor\": \"white\"}}, \"shapedefaults\": {\"line\": {\"color\": \"#2a3f5f\"}}, \"ternary\": {\"aaxis\": {\"gridcolor\": \"white\", \"linecolor\": \"white\", \"ticks\": \"\"}, \"baxis\": {\"gridcolor\": \"white\", \"linecolor\": \"white\", \"ticks\": \"\"}, \"bgcolor\": \"#E5ECF6\", \"caxis\": {\"gridcolor\": \"white\", \"linecolor\": \"white\", \"ticks\": \"\"}}, \"title\": {\"x\": 0.05}, \"xaxis\": {\"automargin\": true, \"gridcolor\": \"white\", \"linecolor\": \"white\", \"ticks\": \"\", \"title\": {\"standoff\": 15}, \"zerolinecolor\": \"white\", \"zerolinewidth\": 2}, \"yaxis\": {\"automargin\": true, \"gridcolor\": \"white\", \"linecolor\": \"white\", \"ticks\": \"\", \"title\": {\"standoff\": 15}, \"zerolinecolor\": \"white\", \"zerolinewidth\": 2}}}, \"xaxis\": {\"anchor\": \"y\", \"domain\": [0.0, 1.0], \"title\": {\"text\": \"x\"}}, \"yaxis\": {\"anchor\": \"x\", \"domain\": [0.0, 1.0], \"title\": {\"text\": \"y\"}}},\n",
              "                        {\"responsive\": true}\n",
              "                    ).then(function(){\n",
              "                            \n",
              "var gd = document.getElementById('c95052ca-b1a1-4af1-91eb-3e2ffdbcaa17');\n",
              "var x = new MutationObserver(function (mutations, observer) {{\n",
              "        var display = window.getComputedStyle(gd).display;\n",
              "        if (!display || display === 'none') {{\n",
              "            console.log([gd, 'removed!']);\n",
              "            Plotly.purge(gd);\n",
              "            observer.disconnect();\n",
              "        }}\n",
              "}});\n",
              "\n",
              "// Listen for the removal of the full notebook cells\n",
              "var notebookContainer = gd.closest('#notebook-container');\n",
              "if (notebookContainer) {{\n",
              "    x.observe(notebookContainer, {childList: true});\n",
              "}}\n",
              "\n",
              "// Listen for the clearing of the current output cell\n",
              "var outputEl = gd.closest('.output');\n",
              "if (outputEl) {{\n",
              "    x.observe(outputEl, {childList: true});\n",
              "}}\n",
              "\n",
              "                        })\n",
              "                };\n",
              "                \n",
              "            </script>\n",
              "        </div>\n",
              "</body>\n",
              "</html>"
            ]
          },
          "metadata": {
            "tags": []
          }
        }
      ]
    },
    {
      "cell_type": "markdown",
      "metadata": {
        "id": "IYJEjZNB2aaT",
        "colab_type": "text"
      },
      "source": [
        "Kaggle Walkthrough"
      ]
    },
    {
      "cell_type": "code",
      "metadata": {
        "id": "Mdw3nXUw2aqF",
        "colab_type": "code",
        "colab": {
          "resources": {
            "http://localhost:8080/nbextensions/google.colab/files.js": {
              "data": "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",
              "ok": true,
              "headers": [
                [
                  "content-type",
                  "application/javascript"
                ]
              ],
              "status": 200,
              "status_text": ""
            }
          },
          "base_uri": "https://localhost:8080/",
          "height": 74
        },
        "outputId": "b08e0085-5e2c-4912-978f-729199ffee89"
      },
      "source": [
        "from google.colab import files\n",
        "uploaded = files.upload()"
      ],
      "execution_count": null,
      "outputs": [
        {
          "output_type": "display_data",
          "data": {
            "text/html": [
              "\n",
              "     <input type=\"file\" id=\"files-c0f40cd7-4769-4988-b6dc-5d19244b2925\" name=\"files[]\" multiple disabled />\n",
              "     <output id=\"result-c0f40cd7-4769-4988-b6dc-5d19244b2925\">\n",
              "      Upload widget is only available when the cell has been executed in the\n",
              "      current browser session. Please rerun this cell to enable.\n",
              "      </output>\n",
              "      <script src=\"/nbextensions/google.colab/files.js\"></script> "
            ],
            "text/plain": [
              "<IPython.core.display.HTML object>"
            ]
          },
          "metadata": {
            "tags": []
          }
        },
        {
          "output_type": "stream",
          "text": [
            "Saving covid_19_clean_complete.csv to covid_19_clean_complete.csv\n"
          ],
          "name": "stdout"
        }
      ]
    },
    {
      "cell_type": "markdown",
      "metadata": {
        "id": "XFh_F3HR8kH9",
        "colab_type": "text"
      },
      "source": [
        "Reading the file with pandas"
      ]
    },
    {
      "cell_type": "code",
      "metadata": {
        "id": "uGi00-013oBy",
        "colab_type": "code",
        "colab": {
          "base_uri": "https://localhost:8080/",
          "height": 402
        },
        "outputId": "b77b95f0-a1a2-4b36-e37d-2acd86501f65"
      },
      "source": [
        "import pandas as pd\n",
        "\n",
        "data = pd.read_csv('covid_19_clean_complete.csv')\n",
        "df = pd.DataFrame(data)\n",
        "df"
      ],
      "execution_count": null,
      "outputs": [
        {
          "output_type": "execute_result",
          "data": {
            "text/html": [
              "<div>\n",
              "<style scoped>\n",
              "    .dataframe tbody tr th:only-of-type {\n",
              "        vertical-align: middle;\n",
              "    }\n",
              "\n",
              "    .dataframe tbody tr th {\n",
              "        vertical-align: top;\n",
              "    }\n",
              "\n",
              "    .dataframe thead th {\n",
              "        text-align: right;\n",
              "    }\n",
              "</style>\n",
              "<table border=\"1\" class=\"dataframe\">\n",
              "  <thead>\n",
              "    <tr style=\"text-align: right;\">\n",
              "      <th></th>\n",
              "      <th>Province/State</th>\n",
              "      <th>Country/Region</th>\n",
              "      <th>Lat</th>\n",
              "      <th>Long</th>\n",
              "      <th>Date</th>\n",
              "      <th>Confirmed</th>\n",
              "      <th>Deaths</th>\n",
              "      <th>Recovered</th>\n",
              "      <th>WHO Region</th>\n",
              "    </tr>\n",
              "  </thead>\n",
              "  <tbody>\n",
              "    <tr>\n",
              "      <th>0</th>\n",
              "      <td>NaN</td>\n",
              "      <td>Afghanistan</td>\n",
              "      <td>33.000000</td>\n",
              "      <td>65.000000</td>\n",
              "      <td>1/22/20</td>\n",
              "      <td>0</td>\n",
              "      <td>0</td>\n",
              "      <td>0</td>\n",
              "      <td>emro</td>\n",
              "    </tr>\n",
              "    <tr>\n",
              "      <th>1</th>\n",
              "      <td>NaN</td>\n",
              "      <td>Albania</td>\n",
              "      <td>41.153300</td>\n",
              "      <td>20.168300</td>\n",
              "      <td>1/22/20</td>\n",
              "      <td>0</td>\n",
              "      <td>0</td>\n",
              "      <td>0</td>\n",
              "      <td>euro</td>\n",
              "    </tr>\n",
              "    <tr>\n",
              "      <th>2</th>\n",
              "      <td>NaN</td>\n",
              "      <td>Algeria</td>\n",
              "      <td>28.033900</td>\n",
              "      <td>1.659600</td>\n",
              "      <td>1/22/20</td>\n",
              "      <td>0</td>\n",
              "      <td>0</td>\n",
              "      <td>0</td>\n",
              "      <td>afro</td>\n",
              "    </tr>\n",
              "    <tr>\n",
              "      <th>3</th>\n",
              "      <td>NaN</td>\n",
              "      <td>Andorra</td>\n",
              "      <td>42.506300</td>\n",
              "      <td>1.521800</td>\n",
              "      <td>1/22/20</td>\n",
              "      <td>0</td>\n",
              "      <td>0</td>\n",
              "      <td>0</td>\n",
              "      <td>euro</td>\n",
              "    </tr>\n",
              "    <tr>\n",
              "      <th>4</th>\n",
              "      <td>NaN</td>\n",
              "      <td>Angola</td>\n",
              "      <td>-11.202700</td>\n",
              "      <td>17.873900</td>\n",
              "      <td>1/22/20</td>\n",
              "      <td>0</td>\n",
              "      <td>0</td>\n",
              "      <td>0</td>\n",
              "      <td>afro</td>\n",
              "    </tr>\n",
              "    <tr>\n",
              "      <th>...</th>\n",
              "      <td>...</td>\n",
              "      <td>...</td>\n",
              "      <td>...</td>\n",
              "      <td>...</td>\n",
              "      <td>...</td>\n",
              "      <td>...</td>\n",
              "      <td>...</td>\n",
              "      <td>...</td>\n",
              "      <td>...</td>\n",
              "    </tr>\n",
              "    <tr>\n",
              "      <th>36300</th>\n",
              "      <td>NaN</td>\n",
              "      <td>Sao Tome and Principe</td>\n",
              "      <td>0.186360</td>\n",
              "      <td>6.613081</td>\n",
              "      <td>6/6/20</td>\n",
              "      <td>499</td>\n",
              "      <td>12</td>\n",
              "      <td>68</td>\n",
              "      <td>afro</td>\n",
              "    </tr>\n",
              "    <tr>\n",
              "      <th>36301</th>\n",
              "      <td>NaN</td>\n",
              "      <td>Yemen</td>\n",
              "      <td>15.552727</td>\n",
              "      <td>48.516388</td>\n",
              "      <td>6/6/20</td>\n",
              "      <td>482</td>\n",
              "      <td>111</td>\n",
              "      <td>0</td>\n",
              "      <td>emro</td>\n",
              "    </tr>\n",
              "    <tr>\n",
              "      <th>36302</th>\n",
              "      <td>NaN</td>\n",
              "      <td>Comoros</td>\n",
              "      <td>-11.645500</td>\n",
              "      <td>43.333300</td>\n",
              "      <td>6/6/20</td>\n",
              "      <td>141</td>\n",
              "      <td>2</td>\n",
              "      <td>67</td>\n",
              "      <td>afro</td>\n",
              "    </tr>\n",
              "    <tr>\n",
              "      <th>36303</th>\n",
              "      <td>NaN</td>\n",
              "      <td>Tajikistan</td>\n",
              "      <td>38.861034</td>\n",
              "      <td>71.276093</td>\n",
              "      <td>6/6/20</td>\n",
              "      <td>4453</td>\n",
              "      <td>48</td>\n",
              "      <td>0</td>\n",
              "      <td>euro</td>\n",
              "    </tr>\n",
              "    <tr>\n",
              "      <th>36304</th>\n",
              "      <td>NaN</td>\n",
              "      <td>Lesotho</td>\n",
              "      <td>-29.609988</td>\n",
              "      <td>28.233608</td>\n",
              "      <td>6/6/20</td>\n",
              "      <td>4</td>\n",
              "      <td>0</td>\n",
              "      <td>2</td>\n",
              "      <td>afro</td>\n",
              "    </tr>\n",
              "  </tbody>\n",
              "</table>\n",
              "<p>36305 rows × 9 columns</p>\n",
              "</div>"
            ],
            "text/plain": [
              "      Province/State         Country/Region  ...  Recovered  WHO Region\n",
              "0                NaN            Afghanistan  ...          0        emro\n",
              "1                NaN                Albania  ...          0        euro\n",
              "2                NaN                Algeria  ...          0        afro\n",
              "3                NaN                Andorra  ...          0        euro\n",
              "4                NaN                 Angola  ...          0        afro\n",
              "...              ...                    ...  ...        ...         ...\n",
              "36300            NaN  Sao Tome and Principe  ...         68        afro\n",
              "36301            NaN                  Yemen  ...          0        emro\n",
              "36302            NaN                Comoros  ...         67        afro\n",
              "36303            NaN             Tajikistan  ...          0        euro\n",
              "36304            NaN                Lesotho  ...          2        afro\n",
              "\n",
              "[36305 rows x 9 columns]"
            ]
          },
          "metadata": {
            "tags": []
          },
          "execution_count": 23
        }
      ]
    },
    {
      "cell_type": "markdown",
      "metadata": {
        "id": "0dMovr-t8oOT",
        "colab_type": "text"
      },
      "source": [
        "Extract dataframe by date and country"
      ]
    },
    {
      "cell_type": "code",
      "metadata": {
        "id": "juwoEZBS8oXY",
        "colab_type": "code",
        "colab": {
          "base_uri": "https://localhost:8080/",
          "height": 402
        },
        "outputId": "af66d2bc-acf1-48cd-ade3-f26b3adeaad6"
      },
      "source": [
        "import pandas as pd\n",
        "\n",
        "data = pd.read_csv('covid_19_clean_complete.csv')\n",
        "df = pd.DataFrame(data)\n",
        "df = df.rename(columns={'Country/Region': 'Country'})\n",
        "df\n",
        "\n"
      ],
      "execution_count": null,
      "outputs": [
        {
          "output_type": "execute_result",
          "data": {
            "text/html": [
              "<div>\n",
              "<style scoped>\n",
              "    .dataframe tbody tr th:only-of-type {\n",
              "        vertical-align: middle;\n",
              "    }\n",
              "\n",
              "    .dataframe tbody tr th {\n",
              "        vertical-align: top;\n",
              "    }\n",
              "\n",
              "    .dataframe thead th {\n",
              "        text-align: right;\n",
              "    }\n",
              "</style>\n",
              "<table border=\"1\" class=\"dataframe\">\n",
              "  <thead>\n",
              "    <tr style=\"text-align: right;\">\n",
              "      <th></th>\n",
              "      <th>Province/State</th>\n",
              "      <th>Country</th>\n",
              "      <th>Lat</th>\n",
              "      <th>Long</th>\n",
              "      <th>Date</th>\n",
              "      <th>Confirmed</th>\n",
              "      <th>Deaths</th>\n",
              "      <th>Recovered</th>\n",
              "      <th>WHO Region</th>\n",
              "    </tr>\n",
              "  </thead>\n",
              "  <tbody>\n",
              "    <tr>\n",
              "      <th>0</th>\n",
              "      <td>NaN</td>\n",
              "      <td>Afghanistan</td>\n",
              "      <td>33.000000</td>\n",
              "      <td>65.000000</td>\n",
              "      <td>1/22/20</td>\n",
              "      <td>0</td>\n",
              "      <td>0</td>\n",
              "      <td>0</td>\n",
              "      <td>emro</td>\n",
              "    </tr>\n",
              "    <tr>\n",
              "      <th>1</th>\n",
              "      <td>NaN</td>\n",
              "      <td>Albania</td>\n",
              "      <td>41.153300</td>\n",
              "      <td>20.168300</td>\n",
              "      <td>1/22/20</td>\n",
              "      <td>0</td>\n",
              "      <td>0</td>\n",
              "      <td>0</td>\n",
              "      <td>euro</td>\n",
              "    </tr>\n",
              "    <tr>\n",
              "      <th>2</th>\n",
              "      <td>NaN</td>\n",
              "      <td>Algeria</td>\n",
              "      <td>28.033900</td>\n",
              "      <td>1.659600</td>\n",
              "      <td>1/22/20</td>\n",
              "      <td>0</td>\n",
              "      <td>0</td>\n",
              "      <td>0</td>\n",
              "      <td>afro</td>\n",
              "    </tr>\n",
              "    <tr>\n",
              "      <th>3</th>\n",
              "      <td>NaN</td>\n",
              "      <td>Andorra</td>\n",
              "      <td>42.506300</td>\n",
              "      <td>1.521800</td>\n",
              "      <td>1/22/20</td>\n",
              "      <td>0</td>\n",
              "      <td>0</td>\n",
              "      <td>0</td>\n",
              "      <td>euro</td>\n",
              "    </tr>\n",
              "    <tr>\n",
              "      <th>4</th>\n",
              "      <td>NaN</td>\n",
              "      <td>Angola</td>\n",
              "      <td>-11.202700</td>\n",
              "      <td>17.873900</td>\n",
              "      <td>1/22/20</td>\n",
              "      <td>0</td>\n",
              "      <td>0</td>\n",
              "      <td>0</td>\n",
              "      <td>afro</td>\n",
              "    </tr>\n",
              "    <tr>\n",
              "      <th>...</th>\n",
              "      <td>...</td>\n",
              "      <td>...</td>\n",
              "      <td>...</td>\n",
              "      <td>...</td>\n",
              "      <td>...</td>\n",
              "      <td>...</td>\n",
              "      <td>...</td>\n",
              "      <td>...</td>\n",
              "      <td>...</td>\n",
              "    </tr>\n",
              "    <tr>\n",
              "      <th>36300</th>\n",
              "      <td>NaN</td>\n",
              "      <td>Sao Tome and Principe</td>\n",
              "      <td>0.186360</td>\n",
              "      <td>6.613081</td>\n",
              "      <td>6/6/20</td>\n",
              "      <td>499</td>\n",
              "      <td>12</td>\n",
              "      <td>68</td>\n",
              "      <td>afro</td>\n",
              "    </tr>\n",
              "    <tr>\n",
              "      <th>36301</th>\n",
              "      <td>NaN</td>\n",
              "      <td>Yemen</td>\n",
              "      <td>15.552727</td>\n",
              "      <td>48.516388</td>\n",
              "      <td>6/6/20</td>\n",
              "      <td>482</td>\n",
              "      <td>111</td>\n",
              "      <td>0</td>\n",
              "      <td>emro</td>\n",
              "    </tr>\n",
              "    <tr>\n",
              "      <th>36302</th>\n",
              "      <td>NaN</td>\n",
              "      <td>Comoros</td>\n",
              "      <td>-11.645500</td>\n",
              "      <td>43.333300</td>\n",
              "      <td>6/6/20</td>\n",
              "      <td>141</td>\n",
              "      <td>2</td>\n",
              "      <td>67</td>\n",
              "      <td>afro</td>\n",
              "    </tr>\n",
              "    <tr>\n",
              "      <th>36303</th>\n",
              "      <td>NaN</td>\n",
              "      <td>Tajikistan</td>\n",
              "      <td>38.861034</td>\n",
              "      <td>71.276093</td>\n",
              "      <td>6/6/20</td>\n",
              "      <td>4453</td>\n",
              "      <td>48</td>\n",
              "      <td>0</td>\n",
              "      <td>euro</td>\n",
              "    </tr>\n",
              "    <tr>\n",
              "      <th>36304</th>\n",
              "      <td>NaN</td>\n",
              "      <td>Lesotho</td>\n",
              "      <td>-29.609988</td>\n",
              "      <td>28.233608</td>\n",
              "      <td>6/6/20</td>\n",
              "      <td>4</td>\n",
              "      <td>0</td>\n",
              "      <td>2</td>\n",
              "      <td>afro</td>\n",
              "    </tr>\n",
              "  </tbody>\n",
              "</table>\n",
              "<p>36305 rows × 9 columns</p>\n",
              "</div>"
            ],
            "text/plain": [
              "      Province/State                Country  ...  Recovered  WHO Region\n",
              "0                NaN            Afghanistan  ...          0        emro\n",
              "1                NaN                Albania  ...          0        euro\n",
              "2                NaN                Algeria  ...          0        afro\n",
              "3                NaN                Andorra  ...          0        euro\n",
              "4                NaN                 Angola  ...          0        afro\n",
              "...              ...                    ...  ...        ...         ...\n",
              "36300            NaN  Sao Tome and Principe  ...         68        afro\n",
              "36301            NaN                  Yemen  ...          0        emro\n",
              "36302            NaN                Comoros  ...         67        afro\n",
              "36303            NaN             Tajikistan  ...          0        euro\n",
              "36304            NaN                Lesotho  ...          2        afro\n",
              "\n",
              "[36305 rows x 9 columns]"
            ]
          },
          "metadata": {
            "tags": []
          },
          "execution_count": 78
        }
      ]
    },
    {
      "cell_type": "code",
      "metadata": {
        "id": "NSlkHR3DDL5e",
        "colab_type": "code",
        "colab": {
          "base_uri": "https://localhost:8080/",
          "height": 542
        },
        "outputId": "90707b1a-828f-44cb-c92e-86a30883688a"
      },
      "source": [
        "date = input(\"Select a date in mm/dd/yy format. \\nE.g. 3/20/20 for 20th March or 3/3/20 for 3rd March: \")\n",
        "date = [date]\n",
        "countries = input(\"Enter a list of countries of interest, separated by commas: \")\n",
        "country_list = countries.split(',')\n",
        "country_and_date_df = df[df.Country.isin(country_list) & df.Date.isin(date)]\n",
        "country_and_date_df "
      ],
      "execution_count": null,
      "outputs": [
        {
          "output_type": "stream",
          "text": [
            "Select a date in mm/dd/yy format. \n",
            "E.g. 3/20/20 for 20th March or 3/3/20 for 3rd March: 6/6/20\n",
            "Enter a list of countries of interest, separated by commas: Italy,Malaysia,Singapore,Spain,United Kingdom\n"
          ],
          "name": "stdout"
        },
        {
          "output_type": "execute_result",
          "data": {
            "text/html": [
              "<div>\n",
              "<style scoped>\n",
              "    .dataframe tbody tr th:only-of-type {\n",
              "        vertical-align: middle;\n",
              "    }\n",
              "\n",
              "    .dataframe tbody tr th {\n",
              "        vertical-align: top;\n",
              "    }\n",
              "\n",
              "    .dataframe thead th {\n",
              "        text-align: right;\n",
              "    }\n",
              "</style>\n",
              "<table border=\"1\" class=\"dataframe\">\n",
              "  <thead>\n",
              "    <tr style=\"text-align: right;\">\n",
              "      <th></th>\n",
              "      <th>Province/State</th>\n",
              "      <th>Country</th>\n",
              "      <th>Lat</th>\n",
              "      <th>Long</th>\n",
              "      <th>Date</th>\n",
              "      <th>Confirmed</th>\n",
              "      <th>Deaths</th>\n",
              "      <th>Recovered</th>\n",
              "      <th>WHO Region</th>\n",
              "    </tr>\n",
              "  </thead>\n",
              "  <tbody>\n",
              "    <tr>\n",
              "      <th>36177</th>\n",
              "      <td>NaN</td>\n",
              "      <td>Italy</td>\n",
              "      <td>43.0000</td>\n",
              "      <td>12.0000</td>\n",
              "      <td>2020-06-06</td>\n",
              "      <td>234801</td>\n",
              "      <td>33846</td>\n",
              "      <td>165078</td>\n",
              "      <td>euro</td>\n",
              "    </tr>\n",
              "    <tr>\n",
              "      <th>36193</th>\n",
              "      <td>NaN</td>\n",
              "      <td>Malaysia</td>\n",
              "      <td>2.5000</td>\n",
              "      <td>112.5000</td>\n",
              "      <td>2020-06-06</td>\n",
              "      <td>8303</td>\n",
              "      <td>117</td>\n",
              "      <td>6635</td>\n",
              "      <td>wpro</td>\n",
              "    </tr>\n",
              "    <tr>\n",
              "      <th>36236</th>\n",
              "      <td>NaN</td>\n",
              "      <td>Singapore</td>\n",
              "      <td>1.2833</td>\n",
              "      <td>103.8333</td>\n",
              "      <td>2020-06-06</td>\n",
              "      <td>37527</td>\n",
              "      <td>25</td>\n",
              "      <td>24559</td>\n",
              "      <td>wpro</td>\n",
              "    </tr>\n",
              "    <tr>\n",
              "      <th>36241</th>\n",
              "      <td>NaN</td>\n",
              "      <td>Spain</td>\n",
              "      <td>40.0000</td>\n",
              "      <td>-4.0000</td>\n",
              "      <td>2020-06-06</td>\n",
              "      <td>241310</td>\n",
              "      <td>27135</td>\n",
              "      <td>150376</td>\n",
              "      <td>euro</td>\n",
              "    </tr>\n",
              "    <tr>\n",
              "      <th>36257</th>\n",
              "      <td>Bermuda</td>\n",
              "      <td>United Kingdom</td>\n",
              "      <td>32.3078</td>\n",
              "      <td>-64.7505</td>\n",
              "      <td>2020-06-06</td>\n",
              "      <td>141</td>\n",
              "      <td>9</td>\n",
              "      <td>114</td>\n",
              "      <td>euro</td>\n",
              "    </tr>\n",
              "    <tr>\n",
              "      <th>36258</th>\n",
              "      <td>Cayman Islands</td>\n",
              "      <td>United Kingdom</td>\n",
              "      <td>19.3133</td>\n",
              "      <td>-81.2546</td>\n",
              "      <td>2020-06-06</td>\n",
              "      <td>164</td>\n",
              "      <td>1</td>\n",
              "      <td>93</td>\n",
              "      <td>euro</td>\n",
              "    </tr>\n",
              "    <tr>\n",
              "      <th>36259</th>\n",
              "      <td>Channel Islands</td>\n",
              "      <td>United Kingdom</td>\n",
              "      <td>49.3723</td>\n",
              "      <td>-2.3644</td>\n",
              "      <td>2020-06-06</td>\n",
              "      <td>563</td>\n",
              "      <td>46</td>\n",
              "      <td>512</td>\n",
              "      <td>euro</td>\n",
              "    </tr>\n",
              "    <tr>\n",
              "      <th>36260</th>\n",
              "      <td>Gibraltar</td>\n",
              "      <td>United Kingdom</td>\n",
              "      <td>36.1408</td>\n",
              "      <td>-5.3536</td>\n",
              "      <td>2020-06-06</td>\n",
              "      <td>175</td>\n",
              "      <td>0</td>\n",
              "      <td>155</td>\n",
              "      <td>euro</td>\n",
              "    </tr>\n",
              "    <tr>\n",
              "      <th>36261</th>\n",
              "      <td>Isle of Man</td>\n",
              "      <td>United Kingdom</td>\n",
              "      <td>54.2361</td>\n",
              "      <td>-4.5481</td>\n",
              "      <td>2020-06-06</td>\n",
              "      <td>336</td>\n",
              "      <td>24</td>\n",
              "      <td>312</td>\n",
              "      <td>euro</td>\n",
              "    </tr>\n",
              "    <tr>\n",
              "      <th>36262</th>\n",
              "      <td>Montserrat</td>\n",
              "      <td>United Kingdom</td>\n",
              "      <td>16.7425</td>\n",
              "      <td>-62.1874</td>\n",
              "      <td>2020-06-06</td>\n",
              "      <td>11</td>\n",
              "      <td>1</td>\n",
              "      <td>10</td>\n",
              "      <td>euro</td>\n",
              "    </tr>\n",
              "    <tr>\n",
              "      <th>36263</th>\n",
              "      <td>NaN</td>\n",
              "      <td>United Kingdom</td>\n",
              "      <td>55.3781</td>\n",
              "      <td>-3.4360</td>\n",
              "      <td>2020-06-06</td>\n",
              "      <td>284868</td>\n",
              "      <td>40465</td>\n",
              "      <td>0</td>\n",
              "      <td>euro</td>\n",
              "    </tr>\n",
              "    <tr>\n",
              "      <th>36288</th>\n",
              "      <td>Anguilla</td>\n",
              "      <td>United Kingdom</td>\n",
              "      <td>18.2206</td>\n",
              "      <td>-63.0686</td>\n",
              "      <td>2020-06-06</td>\n",
              "      <td>3</td>\n",
              "      <td>0</td>\n",
              "      <td>3</td>\n",
              "      <td>euro</td>\n",
              "    </tr>\n",
              "    <tr>\n",
              "      <th>36289</th>\n",
              "      <td>British Virgin Islands</td>\n",
              "      <td>United Kingdom</td>\n",
              "      <td>18.4207</td>\n",
              "      <td>-64.6400</td>\n",
              "      <td>2020-06-06</td>\n",
              "      <td>8</td>\n",
              "      <td>1</td>\n",
              "      <td>7</td>\n",
              "      <td>euro</td>\n",
              "    </tr>\n",
              "    <tr>\n",
              "      <th>36290</th>\n",
              "      <td>Turks and Caicos Islands</td>\n",
              "      <td>United Kingdom</td>\n",
              "      <td>21.6940</td>\n",
              "      <td>-71.7979</td>\n",
              "      <td>2020-06-06</td>\n",
              "      <td>12</td>\n",
              "      <td>1</td>\n",
              "      <td>11</td>\n",
              "      <td>euro</td>\n",
              "    </tr>\n",
              "    <tr>\n",
              "      <th>36296</th>\n",
              "      <td>Falkland Islands (Malvinas)</td>\n",
              "      <td>United Kingdom</td>\n",
              "      <td>-51.7963</td>\n",
              "      <td>-59.5236</td>\n",
              "      <td>2020-06-06</td>\n",
              "      <td>13</td>\n",
              "      <td>0</td>\n",
              "      <td>13</td>\n",
              "      <td>euro</td>\n",
              "    </tr>\n",
              "  </tbody>\n",
              "</table>\n",
              "</div>"
            ],
            "text/plain": [
              "                    Province/State         Country  ...  Recovered  WHO Region\n",
              "36177                          NaN           Italy  ...     165078        euro\n",
              "36193                          NaN        Malaysia  ...       6635        wpro\n",
              "36236                          NaN       Singapore  ...      24559        wpro\n",
              "36241                          NaN           Spain  ...     150376        euro\n",
              "36257                      Bermuda  United Kingdom  ...        114        euro\n",
              "36258               Cayman Islands  United Kingdom  ...         93        euro\n",
              "36259              Channel Islands  United Kingdom  ...        512        euro\n",
              "36260                    Gibraltar  United Kingdom  ...        155        euro\n",
              "36261                  Isle of Man  United Kingdom  ...        312        euro\n",
              "36262                   Montserrat  United Kingdom  ...         10        euro\n",
              "36263                          NaN  United Kingdom  ...          0        euro\n",
              "36288                     Anguilla  United Kingdom  ...          3        euro\n",
              "36289       British Virgin Islands  United Kingdom  ...          7        euro\n",
              "36290     Turks and Caicos Islands  United Kingdom  ...         11        euro\n",
              "36296  Falkland Islands (Malvinas)  United Kingdom  ...         13        euro\n",
              "\n",
              "[15 rows x 9 columns]"
            ]
          },
          "metadata": {
            "tags": []
          },
          "execution_count": 134
        }
      ]
    },
    {
      "cell_type": "markdown",
      "metadata": {
        "id": "AsyLBNXWFEPu",
        "colab_type": "text"
      },
      "source": [
        "Plot Bar Graph"
      ]
    },
    {
      "cell_type": "code",
      "metadata": {
        "id": "oEJwU8E9FEgt",
        "colab_type": "code",
        "colab": {
          "base_uri": "https://localhost:8080/",
          "height": 542
        },
        "outputId": "aa697b79-c016-42c3-ff49-d9676d07aab8"
      },
      "source": [
        "import plotly.express as px\n",
        "\n",
        "px.bar(country_and_date_df, x = \"Country\", y = \"Confirmed\")\n"
      ],
      "execution_count": null,
      "outputs": [
        {
          "output_type": "display_data",
          "data": {
            "text/html": [
              "<html>\n",
              "<head><meta charset=\"utf-8\" /></head>\n",
              "<body>\n",
              "    <div>\n",
              "            <script src=\"https://cdnjs.cloudflare.com/ajax/libs/mathjax/2.7.5/MathJax.js?config=TeX-AMS-MML_SVG\"></script><script type=\"text/javascript\">if (window.MathJax) {MathJax.Hub.Config({SVG: {font: \"STIX-Web\"}});}</script>\n",
              "                <script type=\"text/javascript\">window.PlotlyConfig = {MathJaxConfig: 'local'};</script>\n",
              "        <script src=\"https://cdn.plot.ly/plotly-latest.min.js\"></script>    \n",
              "            <div id=\"44af90f5-fa1b-4f3d-833f-ca25049b35ff\" class=\"plotly-graph-div\" style=\"height:525px; width:100%;\"></div>\n",
              "            <script type=\"text/javascript\">\n",
              "                \n",
              "                    window.PLOTLYENV=window.PLOTLYENV || {};\n",
              "                    \n",
              "                if (document.getElementById(\"44af90f5-fa1b-4f3d-833f-ca25049b35ff\")) {\n",
              "                    Plotly.newPlot(\n",
              "                        '44af90f5-fa1b-4f3d-833f-ca25049b35ff',\n",
              "                        [{\"alignmentgroup\": \"True\", \"hoverlabel\": {\"namelength\": 0}, \"hovertemplate\": \"Country=%{x}<br>Confirmed=%{y}\", \"legendgroup\": \"\", \"marker\": {\"color\": \"#636efa\"}, \"name\": \"\", \"offsetgroup\": \"\", \"orientation\": \"v\", \"showlegend\": false, \"textposition\": \"auto\", \"type\": \"bar\", \"x\": [\"Italy\", \"Malaysia\", \"Singapore\", \"Spain\", \"United Kingdom\", \"United Kingdom\", \"United Kingdom\", \"United Kingdom\", \"United Kingdom\", \"United Kingdom\", \"United Kingdom\", \"United Kingdom\", \"United Kingdom\", \"United Kingdom\", \"United Kingdom\"], \"xaxis\": \"x\", \"y\": [234801, 8303, 37527, 241310, 141, 164, 563, 175, 336, 11, 284868, 3, 8, 12, 13], \"yaxis\": \"y\"}],\n",
              "                        {\"barmode\": \"relative\", \"legend\": {\"tracegroupgap\": 0}, \"margin\": {\"t\": 60}, \"template\": {\"data\": {\"bar\": [{\"error_x\": {\"color\": \"#2a3f5f\"}, \"error_y\": {\"color\": \"#2a3f5f\"}, \"marker\": {\"line\": {\"color\": \"#E5ECF6\", \"width\": 0.5}}, \"type\": \"bar\"}], \"barpolar\": [{\"marker\": {\"line\": {\"color\": \"#E5ECF6\", \"width\": 0.5}}, \"type\": \"barpolar\"}], \"carpet\": [{\"aaxis\": {\"endlinecolor\": \"#2a3f5f\", \"gridcolor\": \"white\", \"linecolor\": \"white\", \"minorgridcolor\": \"white\", \"startlinecolor\": \"#2a3f5f\"}, \"baxis\": {\"endlinecolor\": \"#2a3f5f\", \"gridcolor\": \"white\", \"linecolor\": \"white\", \"minorgridcolor\": \"white\", \"startlinecolor\": \"#2a3f5f\"}, \"type\": \"carpet\"}], \"choropleth\": [{\"colorbar\": {\"outlinewidth\": 0, \"ticks\": \"\"}, \"type\": \"choropleth\"}], \"contour\": [{\"colorbar\": {\"outlinewidth\": 0, \"ticks\": \"\"}, \"colorscale\": [[0.0, \"#0d0887\"], [0.1111111111111111, \"#46039f\"], [0.2222222222222222, \"#7201a8\"], [0.3333333333333333, \"#9c179e\"], [0.4444444444444444, \"#bd3786\"], [0.5555555555555556, \"#d8576b\"], [0.6666666666666666, \"#ed7953\"], [0.7777777777777778, \"#fb9f3a\"], [0.8888888888888888, \"#fdca26\"], [1.0, \"#f0f921\"]], \"type\": \"contour\"}], \"contourcarpet\": [{\"colorbar\": {\"outlinewidth\": 0, \"ticks\": \"\"}, \"type\": \"contourcarpet\"}], \"heatmap\": [{\"colorbar\": {\"outlinewidth\": 0, \"ticks\": \"\"}, \"colorscale\": [[0.0, \"#0d0887\"], [0.1111111111111111, \"#46039f\"], [0.2222222222222222, \"#7201a8\"], [0.3333333333333333, \"#9c179e\"], [0.4444444444444444, \"#bd3786\"], [0.5555555555555556, \"#d8576b\"], [0.6666666666666666, \"#ed7953\"], [0.7777777777777778, \"#fb9f3a\"], [0.8888888888888888, \"#fdca26\"], [1.0, \"#f0f921\"]], \"type\": \"heatmap\"}], \"heatmapgl\": [{\"colorbar\": {\"outlinewidth\": 0, \"ticks\": \"\"}, \"colorscale\": [[0.0, \"#0d0887\"], [0.1111111111111111, \"#46039f\"], [0.2222222222222222, \"#7201a8\"], [0.3333333333333333, \"#9c179e\"], [0.4444444444444444, \"#bd3786\"], [0.5555555555555556, \"#d8576b\"], [0.6666666666666666, \"#ed7953\"], [0.7777777777777778, \"#fb9f3a\"], [0.8888888888888888, \"#fdca26\"], [1.0, \"#f0f921\"]], \"type\": \"heatmapgl\"}], \"histogram\": [{\"marker\": {\"colorbar\": {\"outlinewidth\": 0, \"ticks\": \"\"}}, \"type\": \"histogram\"}], \"histogram2d\": [{\"colorbar\": {\"outlinewidth\": 0, \"ticks\": \"\"}, \"colorscale\": [[0.0, \"#0d0887\"], [0.1111111111111111, \"#46039f\"], [0.2222222222222222, \"#7201a8\"], [0.3333333333333333, \"#9c179e\"], [0.4444444444444444, \"#bd3786\"], [0.5555555555555556, \"#d8576b\"], [0.6666666666666666, \"#ed7953\"], [0.7777777777777778, \"#fb9f3a\"], [0.8888888888888888, \"#fdca26\"], [1.0, \"#f0f921\"]], \"type\": \"histogram2d\"}], \"histogram2dcontour\": [{\"colorbar\": {\"outlinewidth\": 0, \"ticks\": \"\"}, \"colorscale\": [[0.0, \"#0d0887\"], [0.1111111111111111, \"#46039f\"], [0.2222222222222222, \"#7201a8\"], [0.3333333333333333, \"#9c179e\"], [0.4444444444444444, \"#bd3786\"], [0.5555555555555556, \"#d8576b\"], [0.6666666666666666, \"#ed7953\"], [0.7777777777777778, \"#fb9f3a\"], [0.8888888888888888, \"#fdca26\"], [1.0, \"#f0f921\"]], \"type\": \"histogram2dcontour\"}], \"mesh3d\": [{\"colorbar\": {\"outlinewidth\": 0, \"ticks\": \"\"}, \"type\": \"mesh3d\"}], \"parcoords\": [{\"line\": {\"colorbar\": {\"outlinewidth\": 0, \"ticks\": \"\"}}, \"type\": \"parcoords\"}], \"pie\": [{\"automargin\": true, \"type\": \"pie\"}], \"scatter\": [{\"marker\": {\"colorbar\": {\"outlinewidth\": 0, \"ticks\": \"\"}}, \"type\": \"scatter\"}], \"scatter3d\": [{\"line\": {\"colorbar\": {\"outlinewidth\": 0, \"ticks\": \"\"}}, \"marker\": {\"colorbar\": {\"outlinewidth\": 0, \"ticks\": \"\"}}, \"type\": \"scatter3d\"}], \"scattercarpet\": [{\"marker\": {\"colorbar\": {\"outlinewidth\": 0, \"ticks\": \"\"}}, \"type\": \"scattercarpet\"}], \"scattergeo\": [{\"marker\": {\"colorbar\": {\"outlinewidth\": 0, \"ticks\": \"\"}}, \"type\": \"scattergeo\"}], \"scattergl\": [{\"marker\": {\"colorbar\": {\"outlinewidth\": 0, \"ticks\": \"\"}}, \"type\": \"scattergl\"}], \"scattermapbox\": [{\"marker\": {\"colorbar\": {\"outlinewidth\": 0, \"ticks\": \"\"}}, \"type\": \"scattermapbox\"}], \"scatterpolar\": [{\"marker\": {\"colorbar\": {\"outlinewidth\": 0, \"ticks\": \"\"}}, \"type\": \"scatterpolar\"}], \"scatterpolargl\": [{\"marker\": {\"colorbar\": {\"outlinewidth\": 0, \"ticks\": \"\"}}, \"type\": \"scatterpolargl\"}], \"scatterternary\": [{\"marker\": {\"colorbar\": {\"outlinewidth\": 0, \"ticks\": \"\"}}, \"type\": \"scatterternary\"}], \"surface\": [{\"colorbar\": {\"outlinewidth\": 0, \"ticks\": \"\"}, \"colorscale\": [[0.0, \"#0d0887\"], [0.1111111111111111, \"#46039f\"], [0.2222222222222222, \"#7201a8\"], [0.3333333333333333, \"#9c179e\"], [0.4444444444444444, \"#bd3786\"], [0.5555555555555556, \"#d8576b\"], [0.6666666666666666, \"#ed7953\"], [0.7777777777777778, \"#fb9f3a\"], [0.8888888888888888, \"#fdca26\"], [1.0, \"#f0f921\"]], \"type\": \"surface\"}], \"table\": [{\"cells\": {\"fill\": {\"color\": \"#EBF0F8\"}, \"line\": {\"color\": \"white\"}}, \"header\": {\"fill\": {\"color\": \"#C8D4E3\"}, \"line\": {\"color\": \"white\"}}, \"type\": \"table\"}]}, \"layout\": {\"annotationdefaults\": {\"arrowcolor\": \"#2a3f5f\", \"arrowhead\": 0, \"arrowwidth\": 1}, \"coloraxis\": {\"colorbar\": {\"outlinewidth\": 0, \"ticks\": \"\"}}, \"colorscale\": {\"diverging\": [[0, \"#8e0152\"], [0.1, \"#c51b7d\"], [0.2, \"#de77ae\"], [0.3, \"#f1b6da\"], [0.4, \"#fde0ef\"], [0.5, \"#f7f7f7\"], [0.6, \"#e6f5d0\"], [0.7, \"#b8e186\"], [0.8, \"#7fbc41\"], [0.9, \"#4d9221\"], [1, \"#276419\"]], \"sequential\": [[0.0, \"#0d0887\"], [0.1111111111111111, \"#46039f\"], [0.2222222222222222, \"#7201a8\"], [0.3333333333333333, \"#9c179e\"], [0.4444444444444444, \"#bd3786\"], [0.5555555555555556, \"#d8576b\"], [0.6666666666666666, \"#ed7953\"], [0.7777777777777778, \"#fb9f3a\"], [0.8888888888888888, \"#fdca26\"], [1.0, \"#f0f921\"]], \"sequentialminus\": [[0.0, \"#0d0887\"], [0.1111111111111111, \"#46039f\"], [0.2222222222222222, \"#7201a8\"], [0.3333333333333333, \"#9c179e\"], [0.4444444444444444, \"#bd3786\"], [0.5555555555555556, \"#d8576b\"], [0.6666666666666666, \"#ed7953\"], [0.7777777777777778, \"#fb9f3a\"], [0.8888888888888888, \"#fdca26\"], [1.0, \"#f0f921\"]]}, \"colorway\": [\"#636efa\", \"#EF553B\", \"#00cc96\", \"#ab63fa\", \"#FFA15A\", \"#19d3f3\", \"#FF6692\", \"#B6E880\", \"#FF97FF\", \"#FECB52\"], \"font\": {\"color\": \"#2a3f5f\"}, \"geo\": {\"bgcolor\": \"white\", \"lakecolor\": \"white\", \"landcolor\": \"#E5ECF6\", \"showlakes\": true, \"showland\": true, \"subunitcolor\": \"white\"}, \"hoverlabel\": {\"align\": \"left\"}, \"hovermode\": \"closest\", \"mapbox\": {\"style\": \"light\"}, \"paper_bgcolor\": \"white\", \"plot_bgcolor\": \"#E5ECF6\", \"polar\": {\"angularaxis\": {\"gridcolor\": \"white\", \"linecolor\": \"white\", \"ticks\": \"\"}, \"bgcolor\": \"#E5ECF6\", \"radialaxis\": {\"gridcolor\": \"white\", \"linecolor\": \"white\", \"ticks\": \"\"}}, \"scene\": {\"xaxis\": {\"backgroundcolor\": \"#E5ECF6\", \"gridcolor\": \"white\", \"gridwidth\": 2, \"linecolor\": \"white\", \"showbackground\": true, \"ticks\": \"\", \"zerolinecolor\": \"white\"}, \"yaxis\": {\"backgroundcolor\": \"#E5ECF6\", \"gridcolor\": \"white\", \"gridwidth\": 2, \"linecolor\": \"white\", \"showbackground\": true, \"ticks\": \"\", \"zerolinecolor\": \"white\"}, \"zaxis\": {\"backgroundcolor\": \"#E5ECF6\", \"gridcolor\": \"white\", \"gridwidth\": 2, \"linecolor\": \"white\", \"showbackground\": true, \"ticks\": \"\", \"zerolinecolor\": \"white\"}}, \"shapedefaults\": {\"line\": {\"color\": \"#2a3f5f\"}}, \"ternary\": {\"aaxis\": {\"gridcolor\": \"white\", \"linecolor\": \"white\", \"ticks\": \"\"}, \"baxis\": {\"gridcolor\": \"white\", \"linecolor\": \"white\", \"ticks\": \"\"}, \"bgcolor\": \"#E5ECF6\", \"caxis\": {\"gridcolor\": \"white\", \"linecolor\": \"white\", \"ticks\": \"\"}}, \"title\": {\"x\": 0.05}, \"xaxis\": {\"automargin\": true, \"gridcolor\": \"white\", \"linecolor\": \"white\", \"ticks\": \"\", \"title\": {\"standoff\": 15}, \"zerolinecolor\": \"white\", \"zerolinewidth\": 2}, \"yaxis\": {\"automargin\": true, \"gridcolor\": \"white\", \"linecolor\": \"white\", \"ticks\": \"\", \"title\": {\"standoff\": 15}, \"zerolinecolor\": \"white\", \"zerolinewidth\": 2}}}, \"xaxis\": {\"anchor\": \"y\", \"domain\": [0.0, 1.0], \"title\": {\"text\": \"Country\"}}, \"yaxis\": {\"anchor\": \"x\", \"domain\": [0.0, 1.0], \"title\": {\"text\": \"Confirmed\"}}},\n",
              "                        {\"responsive\": true}\n",
              "                    ).then(function(){\n",
              "                            \n",
              "var gd = document.getElementById('44af90f5-fa1b-4f3d-833f-ca25049b35ff');\n",
              "var x = new MutationObserver(function (mutations, observer) {{\n",
              "        var display = window.getComputedStyle(gd).display;\n",
              "        if (!display || display === 'none') {{\n",
              "            console.log([gd, 'removed!']);\n",
              "            Plotly.purge(gd);\n",
              "            observer.disconnect();\n",
              "        }}\n",
              "}});\n",
              "\n",
              "// Listen for the removal of the full notebook cells\n",
              "var notebookContainer = gd.closest('#notebook-container');\n",
              "if (notebookContainer) {{\n",
              "    x.observe(notebookContainer, {childList: true});\n",
              "}}\n",
              "\n",
              "// Listen for the clearing of the current output cell\n",
              "var outputEl = gd.closest('.output');\n",
              "if (outputEl) {{\n",
              "    x.observe(outputEl, {childList: true});\n",
              "}}\n",
              "\n",
              "                        })\n",
              "                };\n",
              "                \n",
              "            </script>\n",
              "        </div>\n",
              "</body>\n",
              "</html>"
            ]
          },
          "metadata": {
            "tags": []
          }
        }
      ]
    },
    {
      "cell_type": "code",
      "metadata": {
        "id": "vUCdbM6sFXRH",
        "colab_type": "code",
        "colab": {
          "base_uri": "https://localhost:8080/",
          "height": 542
        },
        "outputId": "c895fd4c-0a5d-4b66-ebb9-8bddaed12fb6"
      },
      "source": [
        "px.bar(country_and_date_df, x = \"Country\", y = \"Deaths\")"
      ],
      "execution_count": null,
      "outputs": [
        {
          "output_type": "display_data",
          "data": {
            "text/html": [
              "<html>\n",
              "<head><meta charset=\"utf-8\" /></head>\n",
              "<body>\n",
              "    <div>\n",
              "            <script src=\"https://cdnjs.cloudflare.com/ajax/libs/mathjax/2.7.5/MathJax.js?config=TeX-AMS-MML_SVG\"></script><script type=\"text/javascript\">if (window.MathJax) {MathJax.Hub.Config({SVG: {font: \"STIX-Web\"}});}</script>\n",
              "                <script type=\"text/javascript\">window.PlotlyConfig = {MathJaxConfig: 'local'};</script>\n",
              "        <script src=\"https://cdn.plot.ly/plotly-latest.min.js\"></script>    \n",
              "            <div id=\"321237f8-70f4-4986-b622-5ae63151b7c7\" class=\"plotly-graph-div\" style=\"height:525px; width:100%;\"></div>\n",
              "            <script type=\"text/javascript\">\n",
              "                \n",
              "                    window.PLOTLYENV=window.PLOTLYENV || {};\n",
              "                    \n",
              "                if (document.getElementById(\"321237f8-70f4-4986-b622-5ae63151b7c7\")) {\n",
              "                    Plotly.newPlot(\n",
              "                        '321237f8-70f4-4986-b622-5ae63151b7c7',\n",
              "                        [{\"alignmentgroup\": \"True\", \"hoverlabel\": {\"namelength\": 0}, \"hovertemplate\": \"Country=%{x}<br>Deaths=%{y}\", \"legendgroup\": \"\", \"marker\": {\"color\": \"#636efa\"}, \"name\": \"\", \"offsetgroup\": \"\", \"orientation\": \"v\", \"showlegend\": false, \"textposition\": \"auto\", \"type\": \"bar\", \"x\": [\"Italy\", \"Malaysia\", \"Singapore\", \"Spain\", \"United Kingdom\", \"United Kingdom\", \"United Kingdom\", \"United Kingdom\", \"United Kingdom\", \"United Kingdom\", \"United Kingdom\", \"United Kingdom\", \"United Kingdom\", \"United Kingdom\", \"United Kingdom\"], \"xaxis\": \"x\", \"y\": [33846, 117, 25, 27135, 9, 1, 46, 0, 24, 1, 40465, 0, 1, 1, 0], \"yaxis\": \"y\"}],\n",
              "                        {\"barmode\": \"relative\", \"legend\": {\"tracegroupgap\": 0}, \"margin\": {\"t\": 60}, \"template\": {\"data\": {\"bar\": [{\"error_x\": {\"color\": \"#2a3f5f\"}, \"error_y\": {\"color\": \"#2a3f5f\"}, \"marker\": {\"line\": {\"color\": \"#E5ECF6\", \"width\": 0.5}}, \"type\": \"bar\"}], \"barpolar\": [{\"marker\": {\"line\": {\"color\": \"#E5ECF6\", \"width\": 0.5}}, \"type\": \"barpolar\"}], \"carpet\": [{\"aaxis\": {\"endlinecolor\": \"#2a3f5f\", \"gridcolor\": \"white\", \"linecolor\": \"white\", \"minorgridcolor\": \"white\", \"startlinecolor\": \"#2a3f5f\"}, \"baxis\": {\"endlinecolor\": \"#2a3f5f\", \"gridcolor\": \"white\", \"linecolor\": \"white\", \"minorgridcolor\": \"white\", \"startlinecolor\": \"#2a3f5f\"}, \"type\": \"carpet\"}], \"choropleth\": [{\"colorbar\": {\"outlinewidth\": 0, \"ticks\": \"\"}, \"type\": \"choropleth\"}], \"contour\": [{\"colorbar\": {\"outlinewidth\": 0, \"ticks\": \"\"}, \"colorscale\": [[0.0, \"#0d0887\"], [0.1111111111111111, \"#46039f\"], [0.2222222222222222, \"#7201a8\"], [0.3333333333333333, \"#9c179e\"], [0.4444444444444444, \"#bd3786\"], [0.5555555555555556, \"#d8576b\"], [0.6666666666666666, \"#ed7953\"], [0.7777777777777778, \"#fb9f3a\"], [0.8888888888888888, \"#fdca26\"], [1.0, \"#f0f921\"]], \"type\": \"contour\"}], \"contourcarpet\": [{\"colorbar\": {\"outlinewidth\": 0, \"ticks\": \"\"}, \"type\": \"contourcarpet\"}], \"heatmap\": [{\"colorbar\": {\"outlinewidth\": 0, \"ticks\": \"\"}, \"colorscale\": [[0.0, \"#0d0887\"], [0.1111111111111111, \"#46039f\"], [0.2222222222222222, \"#7201a8\"], [0.3333333333333333, \"#9c179e\"], [0.4444444444444444, \"#bd3786\"], [0.5555555555555556, \"#d8576b\"], [0.6666666666666666, \"#ed7953\"], [0.7777777777777778, \"#fb9f3a\"], [0.8888888888888888, \"#fdca26\"], [1.0, \"#f0f921\"]], \"type\": \"heatmap\"}], \"heatmapgl\": [{\"colorbar\": {\"outlinewidth\": 0, \"ticks\": \"\"}, \"colorscale\": [[0.0, \"#0d0887\"], [0.1111111111111111, \"#46039f\"], [0.2222222222222222, \"#7201a8\"], [0.3333333333333333, \"#9c179e\"], [0.4444444444444444, \"#bd3786\"], [0.5555555555555556, \"#d8576b\"], [0.6666666666666666, \"#ed7953\"], [0.7777777777777778, \"#fb9f3a\"], [0.8888888888888888, \"#fdca26\"], [1.0, \"#f0f921\"]], \"type\": \"heatmapgl\"}], \"histogram\": [{\"marker\": {\"colorbar\": {\"outlinewidth\": 0, \"ticks\": \"\"}}, \"type\": \"histogram\"}], \"histogram2d\": [{\"colorbar\": {\"outlinewidth\": 0, \"ticks\": \"\"}, \"colorscale\": [[0.0, \"#0d0887\"], [0.1111111111111111, \"#46039f\"], [0.2222222222222222, \"#7201a8\"], [0.3333333333333333, \"#9c179e\"], [0.4444444444444444, \"#bd3786\"], [0.5555555555555556, \"#d8576b\"], [0.6666666666666666, \"#ed7953\"], [0.7777777777777778, \"#fb9f3a\"], [0.8888888888888888, \"#fdca26\"], [1.0, \"#f0f921\"]], \"type\": \"histogram2d\"}], \"histogram2dcontour\": [{\"colorbar\": {\"outlinewidth\": 0, \"ticks\": \"\"}, \"colorscale\": [[0.0, \"#0d0887\"], [0.1111111111111111, \"#46039f\"], [0.2222222222222222, \"#7201a8\"], [0.3333333333333333, \"#9c179e\"], [0.4444444444444444, \"#bd3786\"], [0.5555555555555556, \"#d8576b\"], [0.6666666666666666, \"#ed7953\"], [0.7777777777777778, \"#fb9f3a\"], [0.8888888888888888, \"#fdca26\"], [1.0, \"#f0f921\"]], \"type\": \"histogram2dcontour\"}], \"mesh3d\": [{\"colorbar\": {\"outlinewidth\": 0, \"ticks\": \"\"}, \"type\": \"mesh3d\"}], \"parcoords\": [{\"line\": {\"colorbar\": {\"outlinewidth\": 0, \"ticks\": \"\"}}, \"type\": \"parcoords\"}], \"pie\": [{\"automargin\": true, \"type\": \"pie\"}], \"scatter\": [{\"marker\": {\"colorbar\": {\"outlinewidth\": 0, \"ticks\": \"\"}}, \"type\": \"scatter\"}], \"scatter3d\": [{\"line\": {\"colorbar\": {\"outlinewidth\": 0, \"ticks\": \"\"}}, \"marker\": {\"colorbar\": {\"outlinewidth\": 0, \"ticks\": \"\"}}, \"type\": \"scatter3d\"}], \"scattercarpet\": [{\"marker\": {\"colorbar\": {\"outlinewidth\": 0, \"ticks\": \"\"}}, \"type\": \"scattercarpet\"}], \"scattergeo\": [{\"marker\": {\"colorbar\": {\"outlinewidth\": 0, \"ticks\": \"\"}}, \"type\": \"scattergeo\"}], \"scattergl\": [{\"marker\": {\"colorbar\": {\"outlinewidth\": 0, \"ticks\": \"\"}}, \"type\": \"scattergl\"}], \"scattermapbox\": [{\"marker\": {\"colorbar\": {\"outlinewidth\": 0, \"ticks\": \"\"}}, \"type\": \"scattermapbox\"}], \"scatterpolar\": [{\"marker\": {\"colorbar\": {\"outlinewidth\": 0, \"ticks\": \"\"}}, \"type\": \"scatterpolar\"}], \"scatterpolargl\": [{\"marker\": {\"colorbar\": {\"outlinewidth\": 0, \"ticks\": \"\"}}, \"type\": \"scatterpolargl\"}], \"scatterternary\": [{\"marker\": {\"colorbar\": {\"outlinewidth\": 0, \"ticks\": \"\"}}, \"type\": \"scatterternary\"}], \"surface\": [{\"colorbar\": {\"outlinewidth\": 0, \"ticks\": \"\"}, \"colorscale\": [[0.0, \"#0d0887\"], [0.1111111111111111, \"#46039f\"], [0.2222222222222222, \"#7201a8\"], [0.3333333333333333, \"#9c179e\"], [0.4444444444444444, \"#bd3786\"], [0.5555555555555556, \"#d8576b\"], [0.6666666666666666, \"#ed7953\"], [0.7777777777777778, \"#fb9f3a\"], [0.8888888888888888, \"#fdca26\"], [1.0, \"#f0f921\"]], \"type\": \"surface\"}], \"table\": [{\"cells\": {\"fill\": {\"color\": \"#EBF0F8\"}, \"line\": {\"color\": \"white\"}}, \"header\": {\"fill\": {\"color\": \"#C8D4E3\"}, \"line\": {\"color\": \"white\"}}, \"type\": \"table\"}]}, \"layout\": {\"annotationdefaults\": {\"arrowcolor\": \"#2a3f5f\", \"arrowhead\": 0, \"arrowwidth\": 1}, \"coloraxis\": {\"colorbar\": {\"outlinewidth\": 0, \"ticks\": \"\"}}, \"colorscale\": {\"diverging\": [[0, \"#8e0152\"], [0.1, \"#c51b7d\"], [0.2, \"#de77ae\"], [0.3, \"#f1b6da\"], [0.4, \"#fde0ef\"], [0.5, \"#f7f7f7\"], [0.6, \"#e6f5d0\"], [0.7, \"#b8e186\"], [0.8, \"#7fbc41\"], [0.9, \"#4d9221\"], [1, \"#276419\"]], \"sequential\": [[0.0, \"#0d0887\"], [0.1111111111111111, \"#46039f\"], [0.2222222222222222, \"#7201a8\"], [0.3333333333333333, \"#9c179e\"], [0.4444444444444444, \"#bd3786\"], [0.5555555555555556, \"#d8576b\"], [0.6666666666666666, \"#ed7953\"], [0.7777777777777778, \"#fb9f3a\"], [0.8888888888888888, \"#fdca26\"], [1.0, \"#f0f921\"]], \"sequentialminus\": [[0.0, \"#0d0887\"], [0.1111111111111111, \"#46039f\"], [0.2222222222222222, \"#7201a8\"], [0.3333333333333333, \"#9c179e\"], [0.4444444444444444, \"#bd3786\"], [0.5555555555555556, \"#d8576b\"], [0.6666666666666666, \"#ed7953\"], [0.7777777777777778, \"#fb9f3a\"], [0.8888888888888888, \"#fdca26\"], [1.0, \"#f0f921\"]]}, \"colorway\": [\"#636efa\", \"#EF553B\", \"#00cc96\", \"#ab63fa\", \"#FFA15A\", \"#19d3f3\", \"#FF6692\", \"#B6E880\", \"#FF97FF\", \"#FECB52\"], \"font\": {\"color\": \"#2a3f5f\"}, \"geo\": {\"bgcolor\": \"white\", \"lakecolor\": \"white\", \"landcolor\": \"#E5ECF6\", \"showlakes\": true, \"showland\": true, \"subunitcolor\": \"white\"}, \"hoverlabel\": {\"align\": \"left\"}, \"hovermode\": \"closest\", \"mapbox\": {\"style\": \"light\"}, \"paper_bgcolor\": \"white\", \"plot_bgcolor\": \"#E5ECF6\", \"polar\": {\"angularaxis\": {\"gridcolor\": \"white\", \"linecolor\": \"white\", \"ticks\": \"\"}, \"bgcolor\": \"#E5ECF6\", \"radialaxis\": {\"gridcolor\": \"white\", \"linecolor\": \"white\", \"ticks\": \"\"}}, \"scene\": {\"xaxis\": {\"backgroundcolor\": \"#E5ECF6\", \"gridcolor\": \"white\", \"gridwidth\": 2, \"linecolor\": \"white\", \"showbackground\": true, \"ticks\": \"\", \"zerolinecolor\": \"white\"}, \"yaxis\": {\"backgroundcolor\": \"#E5ECF6\", \"gridcolor\": \"white\", \"gridwidth\": 2, \"linecolor\": \"white\", \"showbackground\": true, \"ticks\": \"\", \"zerolinecolor\": \"white\"}, \"zaxis\": {\"backgroundcolor\": \"#E5ECF6\", \"gridcolor\": \"white\", \"gridwidth\": 2, \"linecolor\": \"white\", \"showbackground\": true, \"ticks\": \"\", \"zerolinecolor\": \"white\"}}, \"shapedefaults\": {\"line\": {\"color\": \"#2a3f5f\"}}, \"ternary\": {\"aaxis\": {\"gridcolor\": \"white\", \"linecolor\": \"white\", \"ticks\": \"\"}, \"baxis\": {\"gridcolor\": \"white\", \"linecolor\": \"white\", \"ticks\": \"\"}, \"bgcolor\": \"#E5ECF6\", \"caxis\": {\"gridcolor\": \"white\", \"linecolor\": \"white\", \"ticks\": \"\"}}, \"title\": {\"x\": 0.05}, \"xaxis\": {\"automargin\": true, \"gridcolor\": \"white\", \"linecolor\": \"white\", \"ticks\": \"\", \"title\": {\"standoff\": 15}, \"zerolinecolor\": \"white\", \"zerolinewidth\": 2}, \"yaxis\": {\"automargin\": true, \"gridcolor\": \"white\", \"linecolor\": \"white\", \"ticks\": \"\", \"title\": {\"standoff\": 15}, \"zerolinecolor\": \"white\", \"zerolinewidth\": 2}}}, \"xaxis\": {\"anchor\": \"y\", \"domain\": [0.0, 1.0], \"title\": {\"text\": \"Country\"}}, \"yaxis\": {\"anchor\": \"x\", \"domain\": [0.0, 1.0], \"title\": {\"text\": \"Deaths\"}}},\n",
              "                        {\"responsive\": true}\n",
              "                    ).then(function(){\n",
              "                            \n",
              "var gd = document.getElementById('321237f8-70f4-4986-b622-5ae63151b7c7');\n",
              "var x = new MutationObserver(function (mutations, observer) {{\n",
              "        var display = window.getComputedStyle(gd).display;\n",
              "        if (!display || display === 'none') {{\n",
              "            console.log([gd, 'removed!']);\n",
              "            Plotly.purge(gd);\n",
              "            observer.disconnect();\n",
              "        }}\n",
              "}});\n",
              "\n",
              "// Listen for the removal of the full notebook cells\n",
              "var notebookContainer = gd.closest('#notebook-container');\n",
              "if (notebookContainer) {{\n",
              "    x.observe(notebookContainer, {childList: true});\n",
              "}}\n",
              "\n",
              "// Listen for the clearing of the current output cell\n",
              "var outputEl = gd.closest('.output');\n",
              "if (outputEl) {{\n",
              "    x.observe(outputEl, {childList: true});\n",
              "}}\n",
              "\n",
              "                        })\n",
              "                };\n",
              "                \n",
              "            </script>\n",
              "        </div>\n",
              "</body>\n",
              "</html>"
            ]
          },
          "metadata": {
            "tags": []
          }
        }
      ]
    },
    {
      "cell_type": "markdown",
      "metadata": {
        "id": "5YL4eVrnMjXZ",
        "colab_type": "text"
      },
      "source": [
        "Viewing Covid Data from one Country over a range of dates"
      ]
    },
    {
      "cell_type": "code",
      "metadata": {
        "id": "VF5Cv47-Nyzn",
        "colab_type": "code",
        "colab": {
          "base_uri": "https://localhost:8080/",
          "height": 402
        },
        "outputId": "63701f5b-6b0f-4849-b944-487c0b64a58f"
      },
      "source": [
        "import pandas as pd\n",
        "\n",
        "data = pd.read_csv('covid_19_clean_complete.csv')\n",
        "df = pd.DataFrame(data)\n",
        "df = df.rename(columns={'Country/Region': 'Country'})\n",
        "df"
      ],
      "execution_count": null,
      "outputs": [
        {
          "output_type": "execute_result",
          "data": {
            "text/html": [
              "<div>\n",
              "<style scoped>\n",
              "    .dataframe tbody tr th:only-of-type {\n",
              "        vertical-align: middle;\n",
              "    }\n",
              "\n",
              "    .dataframe tbody tr th {\n",
              "        vertical-align: top;\n",
              "    }\n",
              "\n",
              "    .dataframe thead th {\n",
              "        text-align: right;\n",
              "    }\n",
              "</style>\n",
              "<table border=\"1\" class=\"dataframe\">\n",
              "  <thead>\n",
              "    <tr style=\"text-align: right;\">\n",
              "      <th></th>\n",
              "      <th>Province/State</th>\n",
              "      <th>Country</th>\n",
              "      <th>Lat</th>\n",
              "      <th>Long</th>\n",
              "      <th>Date</th>\n",
              "      <th>Confirmed</th>\n",
              "      <th>Deaths</th>\n",
              "      <th>Recovered</th>\n",
              "      <th>WHO Region</th>\n",
              "    </tr>\n",
              "  </thead>\n",
              "  <tbody>\n",
              "    <tr>\n",
              "      <th>0</th>\n",
              "      <td>NaN</td>\n",
              "      <td>Afghanistan</td>\n",
              "      <td>33.000000</td>\n",
              "      <td>65.000000</td>\n",
              "      <td>1/22/20</td>\n",
              "      <td>0</td>\n",
              "      <td>0</td>\n",
              "      <td>0</td>\n",
              "      <td>emro</td>\n",
              "    </tr>\n",
              "    <tr>\n",
              "      <th>1</th>\n",
              "      <td>NaN</td>\n",
              "      <td>Albania</td>\n",
              "      <td>41.153300</td>\n",
              "      <td>20.168300</td>\n",
              "      <td>1/22/20</td>\n",
              "      <td>0</td>\n",
              "      <td>0</td>\n",
              "      <td>0</td>\n",
              "      <td>euro</td>\n",
              "    </tr>\n",
              "    <tr>\n",
              "      <th>2</th>\n",
              "      <td>NaN</td>\n",
              "      <td>Algeria</td>\n",
              "      <td>28.033900</td>\n",
              "      <td>1.659600</td>\n",
              "      <td>1/22/20</td>\n",
              "      <td>0</td>\n",
              "      <td>0</td>\n",
              "      <td>0</td>\n",
              "      <td>afro</td>\n",
              "    </tr>\n",
              "    <tr>\n",
              "      <th>3</th>\n",
              "      <td>NaN</td>\n",
              "      <td>Andorra</td>\n",
              "      <td>42.506300</td>\n",
              "      <td>1.521800</td>\n",
              "      <td>1/22/20</td>\n",
              "      <td>0</td>\n",
              "      <td>0</td>\n",
              "      <td>0</td>\n",
              "      <td>euro</td>\n",
              "    </tr>\n",
              "    <tr>\n",
              "      <th>4</th>\n",
              "      <td>NaN</td>\n",
              "      <td>Angola</td>\n",
              "      <td>-11.202700</td>\n",
              "      <td>17.873900</td>\n",
              "      <td>1/22/20</td>\n",
              "      <td>0</td>\n",
              "      <td>0</td>\n",
              "      <td>0</td>\n",
              "      <td>afro</td>\n",
              "    </tr>\n",
              "    <tr>\n",
              "      <th>...</th>\n",
              "      <td>...</td>\n",
              "      <td>...</td>\n",
              "      <td>...</td>\n",
              "      <td>...</td>\n",
              "      <td>...</td>\n",
              "      <td>...</td>\n",
              "      <td>...</td>\n",
              "      <td>...</td>\n",
              "      <td>...</td>\n",
              "    </tr>\n",
              "    <tr>\n",
              "      <th>36300</th>\n",
              "      <td>NaN</td>\n",
              "      <td>Sao Tome and Principe</td>\n",
              "      <td>0.186360</td>\n",
              "      <td>6.613081</td>\n",
              "      <td>6/6/20</td>\n",
              "      <td>499</td>\n",
              "      <td>12</td>\n",
              "      <td>68</td>\n",
              "      <td>afro</td>\n",
              "    </tr>\n",
              "    <tr>\n",
              "      <th>36301</th>\n",
              "      <td>NaN</td>\n",
              "      <td>Yemen</td>\n",
              "      <td>15.552727</td>\n",
              "      <td>48.516388</td>\n",
              "      <td>6/6/20</td>\n",
              "      <td>482</td>\n",
              "      <td>111</td>\n",
              "      <td>0</td>\n",
              "      <td>emro</td>\n",
              "    </tr>\n",
              "    <tr>\n",
              "      <th>36302</th>\n",
              "      <td>NaN</td>\n",
              "      <td>Comoros</td>\n",
              "      <td>-11.645500</td>\n",
              "      <td>43.333300</td>\n",
              "      <td>6/6/20</td>\n",
              "      <td>141</td>\n",
              "      <td>2</td>\n",
              "      <td>67</td>\n",
              "      <td>afro</td>\n",
              "    </tr>\n",
              "    <tr>\n",
              "      <th>36303</th>\n",
              "      <td>NaN</td>\n",
              "      <td>Tajikistan</td>\n",
              "      <td>38.861034</td>\n",
              "      <td>71.276093</td>\n",
              "      <td>6/6/20</td>\n",
              "      <td>4453</td>\n",
              "      <td>48</td>\n",
              "      <td>0</td>\n",
              "      <td>euro</td>\n",
              "    </tr>\n",
              "    <tr>\n",
              "      <th>36304</th>\n",
              "      <td>NaN</td>\n",
              "      <td>Lesotho</td>\n",
              "      <td>-29.609988</td>\n",
              "      <td>28.233608</td>\n",
              "      <td>6/6/20</td>\n",
              "      <td>4</td>\n",
              "      <td>0</td>\n",
              "      <td>2</td>\n",
              "      <td>afro</td>\n",
              "    </tr>\n",
              "  </tbody>\n",
              "</table>\n",
              "<p>36305 rows × 9 columns</p>\n",
              "</div>"
            ],
            "text/plain": [
              "      Province/State                Country  ...  Recovered  WHO Region\n",
              "0                NaN            Afghanistan  ...          0        emro\n",
              "1                NaN                Albania  ...          0        euro\n",
              "2                NaN                Algeria  ...          0        afro\n",
              "3                NaN                Andorra  ...          0        euro\n",
              "4                NaN                 Angola  ...          0        afro\n",
              "...              ...                    ...  ...        ...         ...\n",
              "36300            NaN  Sao Tome and Principe  ...         68        afro\n",
              "36301            NaN                  Yemen  ...          0        emro\n",
              "36302            NaN                Comoros  ...         67        afro\n",
              "36303            NaN             Tajikistan  ...          0        euro\n",
              "36304            NaN                Lesotho  ...          2        afro\n",
              "\n",
              "[36305 rows x 9 columns]"
            ]
          },
          "metadata": {
            "tags": []
          },
          "execution_count": 132
        }
      ]
    },
    {
      "cell_type": "code",
      "metadata": {
        "id": "hIB0LTAHN6Rl",
        "colab_type": "code",
        "colab": {
          "base_uri": "https://localhost:8080/",
          "height": 452
        },
        "outputId": "69851eef-a2c9-48c3-8fd8-388652bfe96b"
      },
      "source": [
        "start_date = input(\"Select a start date in mm/dd/yy format: \")\n",
        "end_date = input(\"Select a start date in mm/dd/yy format: \")\n",
        "country = input(\"Select a country: \")\n",
        "df['Date'] = pd.to_datetime(df['Date'])\n",
        "date_range_df = df[(df['Date'] >= start_date) & (df['Date'] <= end_date)]\n",
        "country_date_range_df = date_range_df[date_range_df['Country'] == country]\n",
        "country_date_range_df"
      ],
      "execution_count": null,
      "outputs": [
        {
          "output_type": "stream",
          "text": [
            "Select a start date in mm/dd/yy format: 3/1/20\n",
            "Select a start date in mm/dd/yy format: 6/1/20\n",
            "Select a country: Singapore\n"
          ],
          "name": "stdout"
        },
        {
          "output_type": "execute_result",
          "data": {
            "text/html": [
              "<div>\n",
              "<style scoped>\n",
              "    .dataframe tbody tr th:only-of-type {\n",
              "        vertical-align: middle;\n",
              "    }\n",
              "\n",
              "    .dataframe tbody tr th {\n",
              "        vertical-align: top;\n",
              "    }\n",
              "\n",
              "    .dataframe thead th {\n",
              "        text-align: right;\n",
              "    }\n",
              "</style>\n",
              "<table border=\"1\" class=\"dataframe\">\n",
              "  <thead>\n",
              "    <tr style=\"text-align: right;\">\n",
              "      <th></th>\n",
              "      <th>Province/State</th>\n",
              "      <th>Country</th>\n",
              "      <th>Lat</th>\n",
              "      <th>Long</th>\n",
              "      <th>Date</th>\n",
              "      <th>Confirmed</th>\n",
              "      <th>Deaths</th>\n",
              "      <th>Recovered</th>\n",
              "      <th>WHO Region</th>\n",
              "    </tr>\n",
              "  </thead>\n",
              "  <tbody>\n",
              "    <tr>\n",
              "      <th>10531</th>\n",
              "      <td>NaN</td>\n",
              "      <td>Singapore</td>\n",
              "      <td>1.2833</td>\n",
              "      <td>103.8333</td>\n",
              "      <td>2020-03-01</td>\n",
              "      <td>106</td>\n",
              "      <td>0</td>\n",
              "      <td>72</td>\n",
              "      <td>wpro</td>\n",
              "    </tr>\n",
              "    <tr>\n",
              "      <th>10796</th>\n",
              "      <td>NaN</td>\n",
              "      <td>Singapore</td>\n",
              "      <td>1.2833</td>\n",
              "      <td>103.8333</td>\n",
              "      <td>2020-03-02</td>\n",
              "      <td>108</td>\n",
              "      <td>0</td>\n",
              "      <td>78</td>\n",
              "      <td>wpro</td>\n",
              "    </tr>\n",
              "    <tr>\n",
              "      <th>11061</th>\n",
              "      <td>NaN</td>\n",
              "      <td>Singapore</td>\n",
              "      <td>1.2833</td>\n",
              "      <td>103.8333</td>\n",
              "      <td>2020-03-03</td>\n",
              "      <td>110</td>\n",
              "      <td>0</td>\n",
              "      <td>78</td>\n",
              "      <td>wpro</td>\n",
              "    </tr>\n",
              "    <tr>\n",
              "      <th>11326</th>\n",
              "      <td>NaN</td>\n",
              "      <td>Singapore</td>\n",
              "      <td>1.2833</td>\n",
              "      <td>103.8333</td>\n",
              "      <td>2020-03-04</td>\n",
              "      <td>110</td>\n",
              "      <td>0</td>\n",
              "      <td>78</td>\n",
              "      <td>wpro</td>\n",
              "    </tr>\n",
              "    <tr>\n",
              "      <th>11591</th>\n",
              "      <td>NaN</td>\n",
              "      <td>Singapore</td>\n",
              "      <td>1.2833</td>\n",
              "      <td>103.8333</td>\n",
              "      <td>2020-03-05</td>\n",
              "      <td>117</td>\n",
              "      <td>0</td>\n",
              "      <td>78</td>\n",
              "      <td>wpro</td>\n",
              "    </tr>\n",
              "    <tr>\n",
              "      <th>...</th>\n",
              "      <td>...</td>\n",
              "      <td>...</td>\n",
              "      <td>...</td>\n",
              "      <td>...</td>\n",
              "      <td>...</td>\n",
              "      <td>...</td>\n",
              "      <td>...</td>\n",
              "      <td>...</td>\n",
              "      <td>...</td>\n",
              "    </tr>\n",
              "    <tr>\n",
              "      <th>33851</th>\n",
              "      <td>NaN</td>\n",
              "      <td>Singapore</td>\n",
              "      <td>1.2833</td>\n",
              "      <td>103.8333</td>\n",
              "      <td>2020-05-28</td>\n",
              "      <td>33249</td>\n",
              "      <td>23</td>\n",
              "      <td>18294</td>\n",
              "      <td>wpro</td>\n",
              "    </tr>\n",
              "    <tr>\n",
              "      <th>34116</th>\n",
              "      <td>NaN</td>\n",
              "      <td>Singapore</td>\n",
              "      <td>1.2833</td>\n",
              "      <td>103.8333</td>\n",
              "      <td>2020-05-29</td>\n",
              "      <td>33860</td>\n",
              "      <td>23</td>\n",
              "      <td>19631</td>\n",
              "      <td>wpro</td>\n",
              "    </tr>\n",
              "    <tr>\n",
              "      <th>34381</th>\n",
              "      <td>NaN</td>\n",
              "      <td>Singapore</td>\n",
              "      <td>1.2833</td>\n",
              "      <td>103.8333</td>\n",
              "      <td>2020-05-30</td>\n",
              "      <td>34366</td>\n",
              "      <td>23</td>\n",
              "      <td>20727</td>\n",
              "      <td>wpro</td>\n",
              "    </tr>\n",
              "    <tr>\n",
              "      <th>34646</th>\n",
              "      <td>NaN</td>\n",
              "      <td>Singapore</td>\n",
              "      <td>1.2833</td>\n",
              "      <td>103.8333</td>\n",
              "      <td>2020-05-31</td>\n",
              "      <td>34884</td>\n",
              "      <td>23</td>\n",
              "      <td>21699</td>\n",
              "      <td>wpro</td>\n",
              "    </tr>\n",
              "    <tr>\n",
              "      <th>34911</th>\n",
              "      <td>NaN</td>\n",
              "      <td>Singapore</td>\n",
              "      <td>1.2833</td>\n",
              "      <td>103.8333</td>\n",
              "      <td>2020-06-01</td>\n",
              "      <td>35292</td>\n",
              "      <td>24</td>\n",
              "      <td>22466</td>\n",
              "      <td>wpro</td>\n",
              "    </tr>\n",
              "  </tbody>\n",
              "</table>\n",
              "<p>93 rows × 9 columns</p>\n",
              "</div>"
            ],
            "text/plain": [
              "      Province/State    Country     Lat  ...  Deaths Recovered  WHO Region\n",
              "10531            NaN  Singapore  1.2833  ...       0        72        wpro\n",
              "10796            NaN  Singapore  1.2833  ...       0        78        wpro\n",
              "11061            NaN  Singapore  1.2833  ...       0        78        wpro\n",
              "11326            NaN  Singapore  1.2833  ...       0        78        wpro\n",
              "11591            NaN  Singapore  1.2833  ...       0        78        wpro\n",
              "...              ...        ...     ...  ...     ...       ...         ...\n",
              "33851            NaN  Singapore  1.2833  ...      23     18294        wpro\n",
              "34116            NaN  Singapore  1.2833  ...      23     19631        wpro\n",
              "34381            NaN  Singapore  1.2833  ...      23     20727        wpro\n",
              "34646            NaN  Singapore  1.2833  ...      23     21699        wpro\n",
              "34911            NaN  Singapore  1.2833  ...      24     22466        wpro\n",
              "\n",
              "[93 rows x 9 columns]"
            ]
          },
          "metadata": {
            "tags": []
          },
          "execution_count": 161
        }
      ]
    },
    {
      "cell_type": "markdown",
      "metadata": {
        "id": "Gr_f7KMlUPq1",
        "colab_type": "text"
      },
      "source": [
        "Line Graph"
      ]
    },
    {
      "cell_type": "code",
      "metadata": {
        "id": "16kloS35UCne",
        "colab_type": "code",
        "colab": {
          "base_uri": "https://localhost:8080/",
          "height": 542
        },
        "outputId": "0bad6e79-1ac9-405f-ba6d-4439cb1d30f8"
      },
      "source": [
        "import plotly.express as px\n",
        "graph = px.line(country_date_range_df, title = \"Number of confirmed Covid-19 Cases in Singapore\",x = \"Date\", y = \"Confirmed\")\n",
        "graph.show()"
      ],
      "execution_count": null,
      "outputs": [
        {
          "output_type": "display_data",
          "data": {
            "text/html": [
              "<html>\n",
              "<head><meta charset=\"utf-8\" /></head>\n",
              "<body>\n",
              "    <div>\n",
              "            <script src=\"https://cdnjs.cloudflare.com/ajax/libs/mathjax/2.7.5/MathJax.js?config=TeX-AMS-MML_SVG\"></script><script type=\"text/javascript\">if (window.MathJax) {MathJax.Hub.Config({SVG: {font: \"STIX-Web\"}});}</script>\n",
              "                <script type=\"text/javascript\">window.PlotlyConfig = {MathJaxConfig: 'local'};</script>\n",
              "        <script src=\"https://cdn.plot.ly/plotly-latest.min.js\"></script>    \n",
              "            <div id=\"975b63fc-8538-4967-910d-71a49bcd3a65\" class=\"plotly-graph-div\" style=\"height:525px; width:100%;\"></div>\n",
              "            <script type=\"text/javascript\">\n",
              "                \n",
              "                    window.PLOTLYENV=window.PLOTLYENV || {};\n",
              "                    \n",
              "                if (document.getElementById(\"975b63fc-8538-4967-910d-71a49bcd3a65\")) {\n",
              "                    Plotly.newPlot(\n",
              "                        '975b63fc-8538-4967-910d-71a49bcd3a65',\n",
              "                        [{\"hoverlabel\": {\"namelength\": 0}, \"hovertemplate\": \"Date=%{x}<br>Confirmed=%{y}\", \"legendgroup\": \"\", \"line\": {\"color\": \"#636efa\", \"dash\": \"solid\"}, \"mode\": \"lines\", \"name\": \"\", \"showlegend\": false, \"type\": \"scatter\", \"x\": [\"2020-03-01T00:00:00\", \"2020-03-02T00:00:00\", \"2020-03-03T00:00:00\", \"2020-03-04T00:00:00\", \"2020-03-05T00:00:00\", \"2020-03-06T00:00:00\", \"2020-03-07T00:00:00\", \"2020-03-08T00:00:00\", \"2020-03-09T00:00:00\", \"2020-03-10T00:00:00\", \"2020-03-11T00:00:00\", \"2020-03-12T00:00:00\", \"2020-03-13T00:00:00\", \"2020-03-14T00:00:00\", \"2020-03-15T00:00:00\", \"2020-03-16T00:00:00\", \"2020-03-17T00:00:00\", \"2020-03-18T00:00:00\", \"2020-03-19T00:00:00\", \"2020-03-20T00:00:00\", \"2020-03-21T00:00:00\", \"2020-03-22T00:00:00\", \"2020-03-23T00:00:00\", \"2020-03-24T00:00:00\", \"2020-03-25T00:00:00\", \"2020-03-26T00:00:00\", \"2020-03-27T00:00:00\", \"2020-03-28T00:00:00\", \"2020-03-29T00:00:00\", \"2020-03-30T00:00:00\", \"2020-03-31T00:00:00\", \"2020-04-01T00:00:00\", \"2020-04-02T00:00:00\", \"2020-04-03T00:00:00\", \"2020-04-04T00:00:00\", \"2020-04-05T00:00:00\", \"2020-04-06T00:00:00\", \"2020-04-07T00:00:00\", \"2020-04-08T00:00:00\", \"2020-04-09T00:00:00\", \"2020-04-10T00:00:00\", \"2020-04-11T00:00:00\", \"2020-04-12T00:00:00\", \"2020-04-13T00:00:00\", \"2020-04-14T00:00:00\", \"2020-04-15T00:00:00\", \"2020-04-16T00:00:00\", \"2020-04-17T00:00:00\", \"2020-04-18T00:00:00\", \"2020-04-19T00:00:00\", \"2020-04-20T00:00:00\", \"2020-04-21T00:00:00\", \"2020-04-22T00:00:00\", \"2020-04-23T00:00:00\", \"2020-04-24T00:00:00\", \"2020-04-25T00:00:00\", \"2020-04-26T00:00:00\", \"2020-04-27T00:00:00\", \"2020-04-28T00:00:00\", \"2020-04-29T00:00:00\", \"2020-04-30T00:00:00\", \"2020-05-01T00:00:00\", \"2020-05-02T00:00:00\", \"2020-05-03T00:00:00\", \"2020-05-04T00:00:00\", \"2020-05-05T00:00:00\", \"2020-05-06T00:00:00\", \"2020-05-07T00:00:00\", \"2020-05-08T00:00:00\", \"2020-05-09T00:00:00\", \"2020-05-10T00:00:00\", \"2020-05-11T00:00:00\", \"2020-05-12T00:00:00\", \"2020-05-13T00:00:00\", \"2020-05-14T00:00:00\", \"2020-05-15T00:00:00\", \"2020-05-16T00:00:00\", \"2020-05-17T00:00:00\", \"2020-05-18T00:00:00\", \"2020-05-19T00:00:00\", \"2020-05-20T00:00:00\", \"2020-05-21T00:00:00\", \"2020-05-22T00:00:00\", \"2020-05-23T00:00:00\", \"2020-05-24T00:00:00\", \"2020-05-25T00:00:00\", \"2020-05-26T00:00:00\", \"2020-05-27T00:00:00\", \"2020-05-28T00:00:00\", \"2020-05-29T00:00:00\", \"2020-05-30T00:00:00\", \"2020-05-31T00:00:00\", \"2020-06-01T00:00:00\"], \"xaxis\": \"x\", \"y\": [106, 108, 110, 110, 117, 130, 138, 150, 150, 160, 178, 178, 200, 212, 226, 243, 266, 313, 345, 385, 432, 455, 509, 558, 631, 683, 732, 802, 844, 879, 926, 1000, 1049, 1114, 1189, 1309, 1375, 1481, 1623, 1910, 2108, 2299, 2532, 2918, 3252, 3699, 4427, 5050, 5992, 6588, 8014, 9125, 10141, 11178, 12075, 12693, 13624, 14423, 14951, 15641, 16169, 17101, 17548, 18205, 18778, 19410, 20198, 20939, 21707, 22460, 23336, 23822, 24671, 25346, 26098, 26891, 27356, 28038, 28343, 28794, 29364, 29812, 30426, 31068, 31616, 31960, 32343, 32876, 33249, 33860, 34366, 34884, 35292], \"yaxis\": \"y\"}],\n",
              "                        {\"legend\": {\"tracegroupgap\": 0}, \"template\": {\"data\": {\"bar\": [{\"error_x\": {\"color\": \"#2a3f5f\"}, \"error_y\": {\"color\": \"#2a3f5f\"}, \"marker\": {\"line\": {\"color\": \"#E5ECF6\", \"width\": 0.5}}, \"type\": \"bar\"}], \"barpolar\": [{\"marker\": {\"line\": {\"color\": \"#E5ECF6\", \"width\": 0.5}}, \"type\": \"barpolar\"}], \"carpet\": [{\"aaxis\": {\"endlinecolor\": \"#2a3f5f\", \"gridcolor\": \"white\", \"linecolor\": \"white\", \"minorgridcolor\": \"white\", \"startlinecolor\": \"#2a3f5f\"}, \"baxis\": {\"endlinecolor\": \"#2a3f5f\", \"gridcolor\": \"white\", \"linecolor\": \"white\", \"minorgridcolor\": \"white\", \"startlinecolor\": \"#2a3f5f\"}, \"type\": \"carpet\"}], \"choropleth\": [{\"colorbar\": {\"outlinewidth\": 0, \"ticks\": \"\"}, \"type\": \"choropleth\"}], \"contour\": [{\"colorbar\": {\"outlinewidth\": 0, \"ticks\": \"\"}, \"colorscale\": [[0.0, \"#0d0887\"], [0.1111111111111111, \"#46039f\"], [0.2222222222222222, \"#7201a8\"], [0.3333333333333333, \"#9c179e\"], [0.4444444444444444, \"#bd3786\"], [0.5555555555555556, \"#d8576b\"], [0.6666666666666666, \"#ed7953\"], [0.7777777777777778, \"#fb9f3a\"], [0.8888888888888888, \"#fdca26\"], [1.0, \"#f0f921\"]], \"type\": \"contour\"}], \"contourcarpet\": [{\"colorbar\": {\"outlinewidth\": 0, \"ticks\": \"\"}, \"type\": \"contourcarpet\"}], \"heatmap\": [{\"colorbar\": {\"outlinewidth\": 0, \"ticks\": \"\"}, \"colorscale\": [[0.0, \"#0d0887\"], [0.1111111111111111, \"#46039f\"], [0.2222222222222222, \"#7201a8\"], [0.3333333333333333, \"#9c179e\"], [0.4444444444444444, \"#bd3786\"], [0.5555555555555556, \"#d8576b\"], [0.6666666666666666, \"#ed7953\"], [0.7777777777777778, \"#fb9f3a\"], [0.8888888888888888, \"#fdca26\"], [1.0, \"#f0f921\"]], \"type\": \"heatmap\"}], \"heatmapgl\": [{\"colorbar\": {\"outlinewidth\": 0, \"ticks\": \"\"}, \"colorscale\": [[0.0, \"#0d0887\"], [0.1111111111111111, \"#46039f\"], [0.2222222222222222, \"#7201a8\"], [0.3333333333333333, \"#9c179e\"], [0.4444444444444444, \"#bd3786\"], [0.5555555555555556, \"#d8576b\"], [0.6666666666666666, \"#ed7953\"], [0.7777777777777778, \"#fb9f3a\"], [0.8888888888888888, \"#fdca26\"], [1.0, \"#f0f921\"]], \"type\": \"heatmapgl\"}], \"histogram\": [{\"marker\": {\"colorbar\": {\"outlinewidth\": 0, \"ticks\": \"\"}}, \"type\": \"histogram\"}], \"histogram2d\": [{\"colorbar\": {\"outlinewidth\": 0, \"ticks\": \"\"}, \"colorscale\": [[0.0, \"#0d0887\"], [0.1111111111111111, \"#46039f\"], [0.2222222222222222, \"#7201a8\"], [0.3333333333333333, \"#9c179e\"], [0.4444444444444444, \"#bd3786\"], [0.5555555555555556, \"#d8576b\"], [0.6666666666666666, \"#ed7953\"], [0.7777777777777778, \"#fb9f3a\"], [0.8888888888888888, \"#fdca26\"], [1.0, \"#f0f921\"]], \"type\": \"histogram2d\"}], \"histogram2dcontour\": [{\"colorbar\": {\"outlinewidth\": 0, \"ticks\": \"\"}, \"colorscale\": [[0.0, \"#0d0887\"], [0.1111111111111111, \"#46039f\"], [0.2222222222222222, \"#7201a8\"], [0.3333333333333333, \"#9c179e\"], [0.4444444444444444, \"#bd3786\"], [0.5555555555555556, \"#d8576b\"], [0.6666666666666666, \"#ed7953\"], [0.7777777777777778, \"#fb9f3a\"], [0.8888888888888888, \"#fdca26\"], [1.0, \"#f0f921\"]], \"type\": \"histogram2dcontour\"}], \"mesh3d\": [{\"colorbar\": {\"outlinewidth\": 0, \"ticks\": \"\"}, \"type\": \"mesh3d\"}], \"parcoords\": [{\"line\": {\"colorbar\": {\"outlinewidth\": 0, \"ticks\": \"\"}}, \"type\": \"parcoords\"}], \"pie\": [{\"automargin\": true, \"type\": \"pie\"}], \"scatter\": [{\"marker\": {\"colorbar\": {\"outlinewidth\": 0, \"ticks\": \"\"}}, \"type\": \"scatter\"}], \"scatter3d\": [{\"line\": {\"colorbar\": {\"outlinewidth\": 0, \"ticks\": \"\"}}, \"marker\": {\"colorbar\": {\"outlinewidth\": 0, \"ticks\": \"\"}}, \"type\": \"scatter3d\"}], \"scattercarpet\": [{\"marker\": {\"colorbar\": {\"outlinewidth\": 0, \"ticks\": \"\"}}, \"type\": \"scattercarpet\"}], \"scattergeo\": [{\"marker\": {\"colorbar\": {\"outlinewidth\": 0, \"ticks\": \"\"}}, \"type\": \"scattergeo\"}], \"scattergl\": [{\"marker\": {\"colorbar\": {\"outlinewidth\": 0, \"ticks\": \"\"}}, \"type\": \"scattergl\"}], \"scattermapbox\": [{\"marker\": {\"colorbar\": {\"outlinewidth\": 0, \"ticks\": \"\"}}, \"type\": \"scattermapbox\"}], \"scatterpolar\": [{\"marker\": {\"colorbar\": {\"outlinewidth\": 0, \"ticks\": \"\"}}, \"type\": \"scatterpolar\"}], \"scatterpolargl\": [{\"marker\": {\"colorbar\": {\"outlinewidth\": 0, \"ticks\": \"\"}}, \"type\": \"scatterpolargl\"}], \"scatterternary\": [{\"marker\": {\"colorbar\": {\"outlinewidth\": 0, \"ticks\": \"\"}}, \"type\": \"scatterternary\"}], \"surface\": [{\"colorbar\": {\"outlinewidth\": 0, \"ticks\": \"\"}, \"colorscale\": [[0.0, \"#0d0887\"], [0.1111111111111111, \"#46039f\"], [0.2222222222222222, \"#7201a8\"], [0.3333333333333333, \"#9c179e\"], [0.4444444444444444, \"#bd3786\"], [0.5555555555555556, \"#d8576b\"], [0.6666666666666666, \"#ed7953\"], [0.7777777777777778, \"#fb9f3a\"], [0.8888888888888888, \"#fdca26\"], [1.0, \"#f0f921\"]], \"type\": \"surface\"}], \"table\": [{\"cells\": {\"fill\": {\"color\": \"#EBF0F8\"}, \"line\": {\"color\": \"white\"}}, \"header\": {\"fill\": {\"color\": \"#C8D4E3\"}, \"line\": {\"color\": \"white\"}}, \"type\": \"table\"}]}, \"layout\": {\"annotationdefaults\": {\"arrowcolor\": \"#2a3f5f\", \"arrowhead\": 0, \"arrowwidth\": 1}, \"coloraxis\": {\"colorbar\": {\"outlinewidth\": 0, \"ticks\": \"\"}}, \"colorscale\": {\"diverging\": [[0, \"#8e0152\"], [0.1, \"#c51b7d\"], [0.2, \"#de77ae\"], [0.3, \"#f1b6da\"], [0.4, \"#fde0ef\"], [0.5, \"#f7f7f7\"], [0.6, \"#e6f5d0\"], [0.7, \"#b8e186\"], [0.8, \"#7fbc41\"], [0.9, \"#4d9221\"], [1, \"#276419\"]], \"sequential\": [[0.0, \"#0d0887\"], [0.1111111111111111, \"#46039f\"], [0.2222222222222222, \"#7201a8\"], [0.3333333333333333, \"#9c179e\"], [0.4444444444444444, \"#bd3786\"], [0.5555555555555556, \"#d8576b\"], [0.6666666666666666, \"#ed7953\"], [0.7777777777777778, \"#fb9f3a\"], [0.8888888888888888, \"#fdca26\"], [1.0, \"#f0f921\"]], \"sequentialminus\": [[0.0, \"#0d0887\"], [0.1111111111111111, \"#46039f\"], [0.2222222222222222, \"#7201a8\"], [0.3333333333333333, \"#9c179e\"], [0.4444444444444444, \"#bd3786\"], [0.5555555555555556, \"#d8576b\"], [0.6666666666666666, \"#ed7953\"], [0.7777777777777778, \"#fb9f3a\"], [0.8888888888888888, \"#fdca26\"], [1.0, \"#f0f921\"]]}, \"colorway\": [\"#636efa\", \"#EF553B\", \"#00cc96\", \"#ab63fa\", \"#FFA15A\", \"#19d3f3\", \"#FF6692\", \"#B6E880\", \"#FF97FF\", \"#FECB52\"], \"font\": {\"color\": \"#2a3f5f\"}, \"geo\": {\"bgcolor\": \"white\", \"lakecolor\": \"white\", \"landcolor\": \"#E5ECF6\", \"showlakes\": true, \"showland\": true, \"subunitcolor\": \"white\"}, \"hoverlabel\": {\"align\": \"left\"}, \"hovermode\": \"closest\", \"mapbox\": {\"style\": \"light\"}, \"paper_bgcolor\": \"white\", \"plot_bgcolor\": \"#E5ECF6\", \"polar\": {\"angularaxis\": {\"gridcolor\": \"white\", \"linecolor\": \"white\", \"ticks\": \"\"}, \"bgcolor\": \"#E5ECF6\", \"radialaxis\": {\"gridcolor\": \"white\", \"linecolor\": \"white\", \"ticks\": \"\"}}, \"scene\": {\"xaxis\": {\"backgroundcolor\": \"#E5ECF6\", \"gridcolor\": \"white\", \"gridwidth\": 2, \"linecolor\": \"white\", \"showbackground\": true, \"ticks\": \"\", \"zerolinecolor\": \"white\"}, \"yaxis\": {\"backgroundcolor\": \"#E5ECF6\", \"gridcolor\": \"white\", \"gridwidth\": 2, \"linecolor\": \"white\", \"showbackground\": true, \"ticks\": \"\", \"zerolinecolor\": \"white\"}, \"zaxis\": {\"backgroundcolor\": \"#E5ECF6\", \"gridcolor\": \"white\", \"gridwidth\": 2, \"linecolor\": \"white\", \"showbackground\": true, \"ticks\": \"\", \"zerolinecolor\": \"white\"}}, \"shapedefaults\": {\"line\": {\"color\": \"#2a3f5f\"}}, \"ternary\": {\"aaxis\": {\"gridcolor\": \"white\", \"linecolor\": \"white\", \"ticks\": \"\"}, \"baxis\": {\"gridcolor\": \"white\", \"linecolor\": \"white\", \"ticks\": \"\"}, \"bgcolor\": \"#E5ECF6\", \"caxis\": {\"gridcolor\": \"white\", \"linecolor\": \"white\", \"ticks\": \"\"}}, \"title\": {\"x\": 0.05}, \"xaxis\": {\"automargin\": true, \"gridcolor\": \"white\", \"linecolor\": \"white\", \"ticks\": \"\", \"title\": {\"standoff\": 15}, \"zerolinecolor\": \"white\", \"zerolinewidth\": 2}, \"yaxis\": {\"automargin\": true, \"gridcolor\": \"white\", \"linecolor\": \"white\", \"ticks\": \"\", \"title\": {\"standoff\": 15}, \"zerolinecolor\": \"white\", \"zerolinewidth\": 2}}}, \"title\": {\"text\": \"Number of confirmed Covid-19 Cases in Singapore\"}, \"xaxis\": {\"anchor\": \"y\", \"domain\": [0.0, 1.0], \"title\": {\"text\": \"Date\"}}, \"yaxis\": {\"anchor\": \"x\", \"domain\": [0.0, 1.0], \"title\": {\"text\": \"Confirmed\"}}},\n",
              "                        {\"responsive\": true}\n",
              "                    ).then(function(){\n",
              "                            \n",
              "var gd = document.getElementById('975b63fc-8538-4967-910d-71a49bcd3a65');\n",
              "var x = new MutationObserver(function (mutations, observer) {{\n",
              "        var display = window.getComputedStyle(gd).display;\n",
              "        if (!display || display === 'none') {{\n",
              "            console.log([gd, 'removed!']);\n",
              "            Plotly.purge(gd);\n",
              "            observer.disconnect();\n",
              "        }}\n",
              "}});\n",
              "\n",
              "// Listen for the removal of the full notebook cells\n",
              "var notebookContainer = gd.closest('#notebook-container');\n",
              "if (notebookContainer) {{\n",
              "    x.observe(notebookContainer, {childList: true});\n",
              "}}\n",
              "\n",
              "// Listen for the clearing of the current output cell\n",
              "var outputEl = gd.closest('.output');\n",
              "if (outputEl) {{\n",
              "    x.observe(outputEl, {childList: true});\n",
              "}}\n",
              "\n",
              "                        })\n",
              "                };\n",
              "                \n",
              "            </script>\n",
              "        </div>\n",
              "</body>\n",
              "</html>"
            ]
          },
          "metadata": {
            "tags": []
          }
        }
      ]
    },
    {
      "cell_type": "markdown",
      "metadata": {
        "id": "Ubdsp8QrYZMu",
        "colab_type": "text"
      },
      "source": [
        "Multiple countries on one graph"
      ]
    },
    {
      "cell_type": "code",
      "metadata": {
        "id": "dJl77N7gYZaN",
        "colab_type": "code",
        "colab": {
          "base_uri": "https://localhost:8080/",
          "height": 452
        },
        "outputId": "3b94caf2-a318-46a2-bd18-7c81513d2441"
      },
      "source": [
        "start_date = input(\"Select a start date in mm/dd/yy format: \")\n",
        "end_date = input(\"Select a start date in mm/dd/yy format: \")\n",
        "country = input(\"Select countries, separated by commas: \")\n",
        "country_list = country.split(',')\n",
        "df['Date'] = pd.to_datetime(df['Date'])\n",
        "date_range_df = df[(df['Date'] >= start_date) & (df['Date'] <= end_date)]\n",
        "country_date_range_df = date_range_df[date_range_df.Country.isin(country_list)]\n",
        "country_date_range_df"
      ],
      "execution_count": null,
      "outputs": [
        {
          "output_type": "stream",
          "text": [
            "Select a start date in mm/dd/yy format: 3/1/20\n",
            "Select a start date in mm/dd/yy format: 6/1/20\n",
            "Select countries, separated by commas: Singapore,Malaysia,Vietnam,Thailand,Indonesia\n"
          ],
          "name": "stdout"
        },
        {
          "output_type": "execute_result",
          "data": {
            "text/html": [
              "<div>\n",
              "<style scoped>\n",
              "    .dataframe tbody tr th:only-of-type {\n",
              "        vertical-align: middle;\n",
              "    }\n",
              "\n",
              "    .dataframe tbody tr th {\n",
              "        vertical-align: top;\n",
              "    }\n",
              "\n",
              "    .dataframe thead th {\n",
              "        text-align: right;\n",
              "    }\n",
              "</style>\n",
              "<table border=\"1\" class=\"dataframe\">\n",
              "  <thead>\n",
              "    <tr style=\"text-align: right;\">\n",
              "      <th></th>\n",
              "      <th>Province/State</th>\n",
              "      <th>Country</th>\n",
              "      <th>Lat</th>\n",
              "      <th>Long</th>\n",
              "      <th>Date</th>\n",
              "      <th>Confirmed</th>\n",
              "      <th>Deaths</th>\n",
              "      <th>Recovered</th>\n",
              "      <th>WHO Region</th>\n",
              "    </tr>\n",
              "  </thead>\n",
              "  <tbody>\n",
              "    <tr>\n",
              "      <th>10467</th>\n",
              "      <td>NaN</td>\n",
              "      <td>Indonesia</td>\n",
              "      <td>-0.7893</td>\n",
              "      <td>113.9213</td>\n",
              "      <td>2020-03-01</td>\n",
              "      <td>0</td>\n",
              "      <td>0</td>\n",
              "      <td>0</td>\n",
              "      <td>searo</td>\n",
              "    </tr>\n",
              "    <tr>\n",
              "      <th>10488</th>\n",
              "      <td>NaN</td>\n",
              "      <td>Malaysia</td>\n",
              "      <td>2.5000</td>\n",
              "      <td>112.5000</td>\n",
              "      <td>2020-03-01</td>\n",
              "      <td>29</td>\n",
              "      <td>0</td>\n",
              "      <td>18</td>\n",
              "      <td>wpro</td>\n",
              "    </tr>\n",
              "    <tr>\n",
              "      <th>10531</th>\n",
              "      <td>NaN</td>\n",
              "      <td>Singapore</td>\n",
              "      <td>1.2833</td>\n",
              "      <td>103.8333</td>\n",
              "      <td>2020-03-01</td>\n",
              "      <td>106</td>\n",
              "      <td>0</td>\n",
              "      <td>72</td>\n",
              "      <td>wpro</td>\n",
              "    </tr>\n",
              "    <tr>\n",
              "      <th>10544</th>\n",
              "      <td>NaN</td>\n",
              "      <td>Thailand</td>\n",
              "      <td>15.0000</td>\n",
              "      <td>101.0000</td>\n",
              "      <td>2020-03-01</td>\n",
              "      <td>42</td>\n",
              "      <td>1</td>\n",
              "      <td>28</td>\n",
              "      <td>searo</td>\n",
              "    </tr>\n",
              "    <tr>\n",
              "      <th>10563</th>\n",
              "      <td>NaN</td>\n",
              "      <td>Vietnam</td>\n",
              "      <td>16.0000</td>\n",
              "      <td>108.0000</td>\n",
              "      <td>2020-03-01</td>\n",
              "      <td>16</td>\n",
              "      <td>0</td>\n",
              "      <td>16</td>\n",
              "      <td>wpro</td>\n",
              "    </tr>\n",
              "    <tr>\n",
              "      <th>...</th>\n",
              "      <td>...</td>\n",
              "      <td>...</td>\n",
              "      <td>...</td>\n",
              "      <td>...</td>\n",
              "      <td>...</td>\n",
              "      <td>...</td>\n",
              "      <td>...</td>\n",
              "      <td>...</td>\n",
              "      <td>...</td>\n",
              "    </tr>\n",
              "    <tr>\n",
              "      <th>34847</th>\n",
              "      <td>NaN</td>\n",
              "      <td>Indonesia</td>\n",
              "      <td>-0.7893</td>\n",
              "      <td>113.9213</td>\n",
              "      <td>2020-06-01</td>\n",
              "      <td>26940</td>\n",
              "      <td>1641</td>\n",
              "      <td>7637</td>\n",
              "      <td>searo</td>\n",
              "    </tr>\n",
              "    <tr>\n",
              "      <th>34868</th>\n",
              "      <td>NaN</td>\n",
              "      <td>Malaysia</td>\n",
              "      <td>2.5000</td>\n",
              "      <td>112.5000</td>\n",
              "      <td>2020-06-01</td>\n",
              "      <td>7857</td>\n",
              "      <td>115</td>\n",
              "      <td>6404</td>\n",
              "      <td>wpro</td>\n",
              "    </tr>\n",
              "    <tr>\n",
              "      <th>34911</th>\n",
              "      <td>NaN</td>\n",
              "      <td>Singapore</td>\n",
              "      <td>1.2833</td>\n",
              "      <td>103.8333</td>\n",
              "      <td>2020-06-01</td>\n",
              "      <td>35292</td>\n",
              "      <td>24</td>\n",
              "      <td>22466</td>\n",
              "      <td>wpro</td>\n",
              "    </tr>\n",
              "    <tr>\n",
              "      <th>34924</th>\n",
              "      <td>NaN</td>\n",
              "      <td>Thailand</td>\n",
              "      <td>15.0000</td>\n",
              "      <td>101.0000</td>\n",
              "      <td>2020-06-01</td>\n",
              "      <td>3082</td>\n",
              "      <td>57</td>\n",
              "      <td>2965</td>\n",
              "      <td>searo</td>\n",
              "    </tr>\n",
              "    <tr>\n",
              "      <th>34943</th>\n",
              "      <td>NaN</td>\n",
              "      <td>Vietnam</td>\n",
              "      <td>16.0000</td>\n",
              "      <td>108.0000</td>\n",
              "      <td>2020-06-01</td>\n",
              "      <td>328</td>\n",
              "      <td>0</td>\n",
              "      <td>293</td>\n",
              "      <td>wpro</td>\n",
              "    </tr>\n",
              "  </tbody>\n",
              "</table>\n",
              "<p>465 rows × 9 columns</p>\n",
              "</div>"
            ],
            "text/plain": [
              "      Province/State    Country      Lat  ...  Deaths Recovered  WHO Region\n",
              "10467            NaN  Indonesia  -0.7893  ...       0         0       searo\n",
              "10488            NaN   Malaysia   2.5000  ...       0        18        wpro\n",
              "10531            NaN  Singapore   1.2833  ...       0        72        wpro\n",
              "10544            NaN   Thailand  15.0000  ...       1        28       searo\n",
              "10563            NaN    Vietnam  16.0000  ...       0        16        wpro\n",
              "...              ...        ...      ...  ...     ...       ...         ...\n",
              "34847            NaN  Indonesia  -0.7893  ...    1641      7637       searo\n",
              "34868            NaN   Malaysia   2.5000  ...     115      6404        wpro\n",
              "34911            NaN  Singapore   1.2833  ...      24     22466        wpro\n",
              "34924            NaN   Thailand  15.0000  ...      57      2965       searo\n",
              "34943            NaN    Vietnam  16.0000  ...       0       293        wpro\n",
              "\n",
              "[465 rows x 9 columns]"
            ]
          },
          "metadata": {
            "tags": []
          },
          "execution_count": 159
        }
      ]
    },
    {
      "cell_type": "code",
      "metadata": {
        "id": "vyAoD55YYu1E",
        "colab_type": "code",
        "colab": {
          "base_uri": "https://localhost:8080/",
          "height": 542
        },
        "outputId": "39e5fb9f-fa71-4004-b538-07dc30d4d2c9"
      },
      "source": [
        "import plotly.express as px\n",
        "graph = px.line(country_date_range_df, title = \"Number of confirmed Covid-19 Cases by Country\",x = \"Date\", y = \"Confirmed\", color='Country')\n",
        "graph.show()"
      ],
      "execution_count": null,
      "outputs": [
        {
          "output_type": "display_data",
          "data": {
            "text/html": [
              "<html>\n",
              "<head><meta charset=\"utf-8\" /></head>\n",
              "<body>\n",
              "    <div>\n",
              "            <script src=\"https://cdnjs.cloudflare.com/ajax/libs/mathjax/2.7.5/MathJax.js?config=TeX-AMS-MML_SVG\"></script><script type=\"text/javascript\">if (window.MathJax) {MathJax.Hub.Config({SVG: {font: \"STIX-Web\"}});}</script>\n",
              "                <script type=\"text/javascript\">window.PlotlyConfig = {MathJaxConfig: 'local'};</script>\n",
              "        <script src=\"https://cdn.plot.ly/plotly-latest.min.js\"></script>    \n",
              "            <div id=\"6221b9f2-a5e5-49b9-bdc3-3d0ad53f3a24\" class=\"plotly-graph-div\" style=\"height:525px; width:100%;\"></div>\n",
              "            <script type=\"text/javascript\">\n",
              "                \n",
              "                    window.PLOTLYENV=window.PLOTLYENV || {};\n",
              "                    \n",
              "                if (document.getElementById(\"6221b9f2-a5e5-49b9-bdc3-3d0ad53f3a24\")) {\n",
              "                    Plotly.newPlot(\n",
              "                        '6221b9f2-a5e5-49b9-bdc3-3d0ad53f3a24',\n",
              "                        [{\"hoverlabel\": {\"namelength\": 0}, \"hovertemplate\": \"Country=Indonesia<br>Date=%{x}<br>Confirmed=%{y}\", \"legendgroup\": \"Country=Indonesia\", \"line\": {\"color\": \"#636efa\", \"dash\": \"solid\"}, \"mode\": \"lines\", \"name\": \"Country=Indonesia\", \"showlegend\": true, \"type\": \"scatter\", \"x\": [\"2020-03-01T00:00:00\", \"2020-03-02T00:00:00\", \"2020-03-03T00:00:00\", \"2020-03-04T00:00:00\", \"2020-03-05T00:00:00\", \"2020-03-06T00:00:00\", \"2020-03-07T00:00:00\", \"2020-03-08T00:00:00\", \"2020-03-09T00:00:00\", \"2020-03-10T00:00:00\", \"2020-03-11T00:00:00\", \"2020-03-12T00:00:00\", \"2020-03-13T00:00:00\", \"2020-03-14T00:00:00\", \"2020-03-15T00:00:00\", \"2020-03-16T00:00:00\", \"2020-03-17T00:00:00\", \"2020-03-18T00:00:00\", \"2020-03-19T00:00:00\", \"2020-03-20T00:00:00\", \"2020-03-21T00:00:00\", \"2020-03-22T00:00:00\", \"2020-03-23T00:00:00\", \"2020-03-24T00:00:00\", \"2020-03-25T00:00:00\", \"2020-03-26T00:00:00\", \"2020-03-27T00:00:00\", \"2020-03-28T00:00:00\", \"2020-03-29T00:00:00\", \"2020-03-30T00:00:00\", \"2020-03-31T00:00:00\", \"2020-04-01T00:00:00\", \"2020-04-02T00:00:00\", \"2020-04-03T00:00:00\", \"2020-04-04T00:00:00\", \"2020-04-05T00:00:00\", \"2020-04-06T00:00:00\", \"2020-04-07T00:00:00\", \"2020-04-08T00:00:00\", \"2020-04-09T00:00:00\", \"2020-04-10T00:00:00\", \"2020-04-11T00:00:00\", \"2020-04-12T00:00:00\", \"2020-04-13T00:00:00\", \"2020-04-14T00:00:00\", \"2020-04-15T00:00:00\", \"2020-04-16T00:00:00\", \"2020-04-17T00:00:00\", \"2020-04-18T00:00:00\", \"2020-04-19T00:00:00\", \"2020-04-20T00:00:00\", \"2020-04-21T00:00:00\", \"2020-04-22T00:00:00\", \"2020-04-23T00:00:00\", \"2020-04-24T00:00:00\", \"2020-04-25T00:00:00\", \"2020-04-26T00:00:00\", \"2020-04-27T00:00:00\", \"2020-04-28T00:00:00\", \"2020-04-29T00:00:00\", \"2020-04-30T00:00:00\", \"2020-05-01T00:00:00\", \"2020-05-02T00:00:00\", \"2020-05-03T00:00:00\", \"2020-05-04T00:00:00\", \"2020-05-05T00:00:00\", \"2020-05-06T00:00:00\", \"2020-05-07T00:00:00\", \"2020-05-08T00:00:00\", \"2020-05-09T00:00:00\", \"2020-05-10T00:00:00\", \"2020-05-11T00:00:00\", \"2020-05-12T00:00:00\", \"2020-05-13T00:00:00\", \"2020-05-14T00:00:00\", \"2020-05-15T00:00:00\", \"2020-05-16T00:00:00\", \"2020-05-17T00:00:00\", \"2020-05-18T00:00:00\", \"2020-05-19T00:00:00\", \"2020-05-20T00:00:00\", \"2020-05-21T00:00:00\", \"2020-05-22T00:00:00\", \"2020-05-23T00:00:00\", \"2020-05-24T00:00:00\", \"2020-05-25T00:00:00\", \"2020-05-26T00:00:00\", \"2020-05-27T00:00:00\", \"2020-05-28T00:00:00\", \"2020-05-29T00:00:00\", \"2020-05-30T00:00:00\", \"2020-05-31T00:00:00\", \"2020-06-01T00:00:00\"], \"xaxis\": \"x\", \"y\": [0, 2, 2, 2, 2, 4, 4, 6, 19, 27, 34, 34, 69, 96, 117, 134, 172, 227, 311, 369, 450, 514, 579, 686, 790, 893, 1046, 1155, 1285, 1414, 1528, 1677, 1790, 1986, 2092, 2273, 2491, 2738, 2956, 3293, 3512, 3842, 4241, 4557, 4839, 5136, 5516, 5923, 6248, 6575, 6760, 7135, 7418, 7775, 8211, 8607, 8882, 9096, 9511, 9771, 10118, 10551, 10843, 11192, 11587, 12071, 12438, 12776, 13112, 13645, 14032, 14265, 14749, 15438, 16006, 16496, 17025, 17514, 18010, 18496, 19189, 20162, 20796, 21745, 22271, 22750, 23165, 23851, 24538, 25216, 25773, 26473, 26940], \"yaxis\": \"y\"}, {\"hoverlabel\": {\"namelength\": 0}, \"hovertemplate\": \"Country=Malaysia<br>Date=%{x}<br>Confirmed=%{y}\", \"legendgroup\": \"Country=Malaysia\", \"line\": {\"color\": \"#EF553B\", \"dash\": \"solid\"}, \"mode\": \"lines\", \"name\": \"Country=Malaysia\", \"showlegend\": true, \"type\": \"scatter\", \"x\": [\"2020-03-01T00:00:00\", \"2020-03-02T00:00:00\", \"2020-03-03T00:00:00\", \"2020-03-04T00:00:00\", \"2020-03-05T00:00:00\", \"2020-03-06T00:00:00\", \"2020-03-07T00:00:00\", \"2020-03-08T00:00:00\", \"2020-03-09T00:00:00\", \"2020-03-10T00:00:00\", \"2020-03-11T00:00:00\", \"2020-03-12T00:00:00\", \"2020-03-13T00:00:00\", \"2020-03-14T00:00:00\", \"2020-03-15T00:00:00\", \"2020-03-16T00:00:00\", \"2020-03-17T00:00:00\", \"2020-03-18T00:00:00\", \"2020-03-19T00:00:00\", \"2020-03-20T00:00:00\", \"2020-03-21T00:00:00\", \"2020-03-22T00:00:00\", \"2020-03-23T00:00:00\", \"2020-03-24T00:00:00\", \"2020-03-25T00:00:00\", \"2020-03-26T00:00:00\", \"2020-03-27T00:00:00\", \"2020-03-28T00:00:00\", \"2020-03-29T00:00:00\", \"2020-03-30T00:00:00\", \"2020-03-31T00:00:00\", \"2020-04-01T00:00:00\", \"2020-04-02T00:00:00\", \"2020-04-03T00:00:00\", \"2020-04-04T00:00:00\", \"2020-04-05T00:00:00\", \"2020-04-06T00:00:00\", \"2020-04-07T00:00:00\", \"2020-04-08T00:00:00\", \"2020-04-09T00:00:00\", \"2020-04-10T00:00:00\", \"2020-04-11T00:00:00\", \"2020-04-12T00:00:00\", \"2020-04-13T00:00:00\", \"2020-04-14T00:00:00\", \"2020-04-15T00:00:00\", \"2020-04-16T00:00:00\", \"2020-04-17T00:00:00\", \"2020-04-18T00:00:00\", \"2020-04-19T00:00:00\", \"2020-04-20T00:00:00\", \"2020-04-21T00:00:00\", \"2020-04-22T00:00:00\", \"2020-04-23T00:00:00\", \"2020-04-24T00:00:00\", \"2020-04-25T00:00:00\", \"2020-04-26T00:00:00\", \"2020-04-27T00:00:00\", \"2020-04-28T00:00:00\", \"2020-04-29T00:00:00\", \"2020-04-30T00:00:00\", \"2020-05-01T00:00:00\", \"2020-05-02T00:00:00\", \"2020-05-03T00:00:00\", \"2020-05-04T00:00:00\", \"2020-05-05T00:00:00\", \"2020-05-06T00:00:00\", \"2020-05-07T00:00:00\", \"2020-05-08T00:00:00\", \"2020-05-09T00:00:00\", \"2020-05-10T00:00:00\", \"2020-05-11T00:00:00\", \"2020-05-12T00:00:00\", \"2020-05-13T00:00:00\", \"2020-05-14T00:00:00\", \"2020-05-15T00:00:00\", \"2020-05-16T00:00:00\", \"2020-05-17T00:00:00\", \"2020-05-18T00:00:00\", \"2020-05-19T00:00:00\", \"2020-05-20T00:00:00\", \"2020-05-21T00:00:00\", \"2020-05-22T00:00:00\", \"2020-05-23T00:00:00\", \"2020-05-24T00:00:00\", \"2020-05-25T00:00:00\", \"2020-05-26T00:00:00\", \"2020-05-27T00:00:00\", \"2020-05-28T00:00:00\", \"2020-05-29T00:00:00\", \"2020-05-30T00:00:00\", \"2020-05-31T00:00:00\", \"2020-06-01T00:00:00\"], \"xaxis\": \"x\", \"y\": [29, 29, 36, 50, 50, 83, 93, 99, 117, 129, 149, 149, 197, 238, 428, 566, 673, 790, 900, 1030, 1183, 1306, 1518, 1624, 1796, 2031, 2161, 2320, 2470, 2626, 2766, 2908, 3116, 3333, 3483, 3662, 3793, 3963, 4119, 4228, 4346, 4530, 4683, 4817, 4987, 5072, 5182, 5251, 5305, 5389, 5425, 5482, 5532, 5603, 5691, 5742, 5780, 5820, 5851, 5945, 6002, 6071, 6176, 6298, 6353, 6383, 6428, 6467, 6535, 6589, 6656, 6726, 6742, 6779, 6819, 6855, 6872, 6894, 6941, 6978, 7009, 7059, 7137, 7185, 7245, 7417, 7604, 7619, 7629, 7732, 7762, 7819, 7857], \"yaxis\": \"y\"}, {\"hoverlabel\": {\"namelength\": 0}, \"hovertemplate\": \"Country=Singapore<br>Date=%{x}<br>Confirmed=%{y}\", \"legendgroup\": \"Country=Singapore\", \"line\": {\"color\": \"#00cc96\", \"dash\": \"solid\"}, \"mode\": \"lines\", \"name\": \"Country=Singapore\", \"showlegend\": true, \"type\": \"scatter\", \"x\": [\"2020-03-01T00:00:00\", \"2020-03-02T00:00:00\", \"2020-03-03T00:00:00\", \"2020-03-04T00:00:00\", \"2020-03-05T00:00:00\", \"2020-03-06T00:00:00\", \"2020-03-07T00:00:00\", \"2020-03-08T00:00:00\", \"2020-03-09T00:00:00\", \"2020-03-10T00:00:00\", \"2020-03-11T00:00:00\", \"2020-03-12T00:00:00\", \"2020-03-13T00:00:00\", \"2020-03-14T00:00:00\", \"2020-03-15T00:00:00\", \"2020-03-16T00:00:00\", \"2020-03-17T00:00:00\", \"2020-03-18T00:00:00\", \"2020-03-19T00:00:00\", \"2020-03-20T00:00:00\", \"2020-03-21T00:00:00\", \"2020-03-22T00:00:00\", \"2020-03-23T00:00:00\", \"2020-03-24T00:00:00\", \"2020-03-25T00:00:00\", \"2020-03-26T00:00:00\", \"2020-03-27T00:00:00\", \"2020-03-28T00:00:00\", \"2020-03-29T00:00:00\", \"2020-03-30T00:00:00\", \"2020-03-31T00:00:00\", \"2020-04-01T00:00:00\", \"2020-04-02T00:00:00\", \"2020-04-03T00:00:00\", \"2020-04-04T00:00:00\", \"2020-04-05T00:00:00\", \"2020-04-06T00:00:00\", \"2020-04-07T00:00:00\", \"2020-04-08T00:00:00\", \"2020-04-09T00:00:00\", \"2020-04-10T00:00:00\", \"2020-04-11T00:00:00\", \"2020-04-12T00:00:00\", \"2020-04-13T00:00:00\", \"2020-04-14T00:00:00\", \"2020-04-15T00:00:00\", \"2020-04-16T00:00:00\", \"2020-04-17T00:00:00\", \"2020-04-18T00:00:00\", \"2020-04-19T00:00:00\", \"2020-04-20T00:00:00\", \"2020-04-21T00:00:00\", \"2020-04-22T00:00:00\", \"2020-04-23T00:00:00\", \"2020-04-24T00:00:00\", \"2020-04-25T00:00:00\", \"2020-04-26T00:00:00\", \"2020-04-27T00:00:00\", \"2020-04-28T00:00:00\", \"2020-04-29T00:00:00\", \"2020-04-30T00:00:00\", \"2020-05-01T00:00:00\", \"2020-05-02T00:00:00\", \"2020-05-03T00:00:00\", \"2020-05-04T00:00:00\", \"2020-05-05T00:00:00\", \"2020-05-06T00:00:00\", \"2020-05-07T00:00:00\", \"2020-05-08T00:00:00\", \"2020-05-09T00:00:00\", \"2020-05-10T00:00:00\", \"2020-05-11T00:00:00\", \"2020-05-12T00:00:00\", \"2020-05-13T00:00:00\", \"2020-05-14T00:00:00\", \"2020-05-15T00:00:00\", \"2020-05-16T00:00:00\", \"2020-05-17T00:00:00\", \"2020-05-18T00:00:00\", \"2020-05-19T00:00:00\", \"2020-05-20T00:00:00\", \"2020-05-21T00:00:00\", \"2020-05-22T00:00:00\", \"2020-05-23T00:00:00\", \"2020-05-24T00:00:00\", \"2020-05-25T00:00:00\", \"2020-05-26T00:00:00\", \"2020-05-27T00:00:00\", \"2020-05-28T00:00:00\", \"2020-05-29T00:00:00\", \"2020-05-30T00:00:00\", \"2020-05-31T00:00:00\", \"2020-06-01T00:00:00\"], \"xaxis\": \"x\", \"y\": [106, 108, 110, 110, 117, 130, 138, 150, 150, 160, 178, 178, 200, 212, 226, 243, 266, 313, 345, 385, 432, 455, 509, 558, 631, 683, 732, 802, 844, 879, 926, 1000, 1049, 1114, 1189, 1309, 1375, 1481, 1623, 1910, 2108, 2299, 2532, 2918, 3252, 3699, 4427, 5050, 5992, 6588, 8014, 9125, 10141, 11178, 12075, 12693, 13624, 14423, 14951, 15641, 16169, 17101, 17548, 18205, 18778, 19410, 20198, 20939, 21707, 22460, 23336, 23822, 24671, 25346, 26098, 26891, 27356, 28038, 28343, 28794, 29364, 29812, 30426, 31068, 31616, 31960, 32343, 32876, 33249, 33860, 34366, 34884, 35292], \"yaxis\": \"y\"}, {\"hoverlabel\": {\"namelength\": 0}, \"hovertemplate\": \"Country=Thailand<br>Date=%{x}<br>Confirmed=%{y}\", \"legendgroup\": \"Country=Thailand\", \"line\": {\"color\": \"#ab63fa\", \"dash\": \"solid\"}, \"mode\": \"lines\", \"name\": \"Country=Thailand\", \"showlegend\": true, \"type\": \"scatter\", \"x\": [\"2020-03-01T00:00:00\", \"2020-03-02T00:00:00\", \"2020-03-03T00:00:00\", \"2020-03-04T00:00:00\", \"2020-03-05T00:00:00\", \"2020-03-06T00:00:00\", \"2020-03-07T00:00:00\", \"2020-03-08T00:00:00\", \"2020-03-09T00:00:00\", \"2020-03-10T00:00:00\", \"2020-03-11T00:00:00\", \"2020-03-12T00:00:00\", \"2020-03-13T00:00:00\", \"2020-03-14T00:00:00\", \"2020-03-15T00:00:00\", \"2020-03-16T00:00:00\", \"2020-03-17T00:00:00\", \"2020-03-18T00:00:00\", \"2020-03-19T00:00:00\", \"2020-03-20T00:00:00\", \"2020-03-21T00:00:00\", \"2020-03-22T00:00:00\", \"2020-03-23T00:00:00\", \"2020-03-24T00:00:00\", \"2020-03-25T00:00:00\", \"2020-03-26T00:00:00\", \"2020-03-27T00:00:00\", \"2020-03-28T00:00:00\", \"2020-03-29T00:00:00\", \"2020-03-30T00:00:00\", \"2020-03-31T00:00:00\", \"2020-04-01T00:00:00\", \"2020-04-02T00:00:00\", \"2020-04-03T00:00:00\", \"2020-04-04T00:00:00\", \"2020-04-05T00:00:00\", \"2020-04-06T00:00:00\", \"2020-04-07T00:00:00\", \"2020-04-08T00:00:00\", \"2020-04-09T00:00:00\", \"2020-04-10T00:00:00\", \"2020-04-11T00:00:00\", \"2020-04-12T00:00:00\", \"2020-04-13T00:00:00\", \"2020-04-14T00:00:00\", \"2020-04-15T00:00:00\", \"2020-04-16T00:00:00\", \"2020-04-17T00:00:00\", \"2020-04-18T00:00:00\", \"2020-04-19T00:00:00\", \"2020-04-20T00:00:00\", \"2020-04-21T00:00:00\", \"2020-04-22T00:00:00\", \"2020-04-23T00:00:00\", \"2020-04-24T00:00:00\", \"2020-04-25T00:00:00\", \"2020-04-26T00:00:00\", \"2020-04-27T00:00:00\", \"2020-04-28T00:00:00\", \"2020-04-29T00:00:00\", \"2020-04-30T00:00:00\", \"2020-05-01T00:00:00\", \"2020-05-02T00:00:00\", \"2020-05-03T00:00:00\", \"2020-05-04T00:00:00\", \"2020-05-05T00:00:00\", \"2020-05-06T00:00:00\", \"2020-05-07T00:00:00\", \"2020-05-08T00:00:00\", \"2020-05-09T00:00:00\", \"2020-05-10T00:00:00\", \"2020-05-11T00:00:00\", \"2020-05-12T00:00:00\", \"2020-05-13T00:00:00\", \"2020-05-14T00:00:00\", \"2020-05-15T00:00:00\", \"2020-05-16T00:00:00\", \"2020-05-17T00:00:00\", \"2020-05-18T00:00:00\", \"2020-05-19T00:00:00\", \"2020-05-20T00:00:00\", \"2020-05-21T00:00:00\", \"2020-05-22T00:00:00\", \"2020-05-23T00:00:00\", \"2020-05-24T00:00:00\", \"2020-05-25T00:00:00\", \"2020-05-26T00:00:00\", \"2020-05-27T00:00:00\", \"2020-05-28T00:00:00\", \"2020-05-29T00:00:00\", \"2020-05-30T00:00:00\", \"2020-05-31T00:00:00\", \"2020-06-01T00:00:00\"], \"xaxis\": \"x\", \"y\": [42, 43, 43, 43, 47, 48, 50, 50, 50, 53, 59, 70, 75, 82, 114, 147, 177, 212, 272, 322, 411, 599, 721, 827, 934, 1045, 1136, 1245, 1388, 1524, 1651, 1771, 1875, 1978, 2067, 2169, 2220, 2258, 2369, 2423, 2473, 2518, 2551, 2579, 2613, 2643, 2672, 2700, 2733, 2765, 2792, 2811, 2826, 2839, 2907, 2907, 2922, 2931, 2938, 2947, 2954, 2960, 2966, 2969, 2987, 2988, 2989, 2992, 3000, 3004, 3009, 3015, 3017, 3017, 3018, 3025, 3025, 3028, 3031, 3033, 3034, 3037, 3037, 3040, 3040, 3042, 3045, 3054, 3065, 3076, 3077, 3081, 3082], \"yaxis\": \"y\"}, {\"hoverlabel\": {\"namelength\": 0}, \"hovertemplate\": \"Country=Vietnam<br>Date=%{x}<br>Confirmed=%{y}\", \"legendgroup\": \"Country=Vietnam\", \"line\": {\"color\": \"#FFA15A\", \"dash\": \"solid\"}, \"mode\": \"lines\", \"name\": \"Country=Vietnam\", \"showlegend\": true, \"type\": \"scatter\", \"x\": [\"2020-03-01T00:00:00\", \"2020-03-02T00:00:00\", \"2020-03-03T00:00:00\", \"2020-03-04T00:00:00\", \"2020-03-05T00:00:00\", \"2020-03-06T00:00:00\", \"2020-03-07T00:00:00\", \"2020-03-08T00:00:00\", \"2020-03-09T00:00:00\", \"2020-03-10T00:00:00\", \"2020-03-11T00:00:00\", \"2020-03-12T00:00:00\", \"2020-03-13T00:00:00\", \"2020-03-14T00:00:00\", \"2020-03-15T00:00:00\", \"2020-03-16T00:00:00\", \"2020-03-17T00:00:00\", \"2020-03-18T00:00:00\", \"2020-03-19T00:00:00\", \"2020-03-20T00:00:00\", \"2020-03-21T00:00:00\", \"2020-03-22T00:00:00\", \"2020-03-23T00:00:00\", \"2020-03-24T00:00:00\", \"2020-03-25T00:00:00\", \"2020-03-26T00:00:00\", \"2020-03-27T00:00:00\", \"2020-03-28T00:00:00\", \"2020-03-29T00:00:00\", \"2020-03-30T00:00:00\", \"2020-03-31T00:00:00\", \"2020-04-01T00:00:00\", \"2020-04-02T00:00:00\", \"2020-04-03T00:00:00\", \"2020-04-04T00:00:00\", \"2020-04-05T00:00:00\", \"2020-04-06T00:00:00\", \"2020-04-07T00:00:00\", \"2020-04-08T00:00:00\", \"2020-04-09T00:00:00\", \"2020-04-10T00:00:00\", \"2020-04-11T00:00:00\", \"2020-04-12T00:00:00\", \"2020-04-13T00:00:00\", \"2020-04-14T00:00:00\", \"2020-04-15T00:00:00\", \"2020-04-16T00:00:00\", \"2020-04-17T00:00:00\", \"2020-04-18T00:00:00\", \"2020-04-19T00:00:00\", \"2020-04-20T00:00:00\", \"2020-04-21T00:00:00\", \"2020-04-22T00:00:00\", \"2020-04-23T00:00:00\", \"2020-04-24T00:00:00\", \"2020-04-25T00:00:00\", \"2020-04-26T00:00:00\", \"2020-04-27T00:00:00\", \"2020-04-28T00:00:00\", \"2020-04-29T00:00:00\", \"2020-04-30T00:00:00\", \"2020-05-01T00:00:00\", \"2020-05-02T00:00:00\", \"2020-05-03T00:00:00\", \"2020-05-04T00:00:00\", \"2020-05-05T00:00:00\", \"2020-05-06T00:00:00\", \"2020-05-07T00:00:00\", \"2020-05-08T00:00:00\", \"2020-05-09T00:00:00\", \"2020-05-10T00:00:00\", \"2020-05-11T00:00:00\", \"2020-05-12T00:00:00\", \"2020-05-13T00:00:00\", \"2020-05-14T00:00:00\", \"2020-05-15T00:00:00\", \"2020-05-16T00:00:00\", \"2020-05-17T00:00:00\", \"2020-05-18T00:00:00\", \"2020-05-19T00:00:00\", \"2020-05-20T00:00:00\", \"2020-05-21T00:00:00\", \"2020-05-22T00:00:00\", \"2020-05-23T00:00:00\", \"2020-05-24T00:00:00\", \"2020-05-25T00:00:00\", \"2020-05-26T00:00:00\", \"2020-05-27T00:00:00\", \"2020-05-28T00:00:00\", \"2020-05-29T00:00:00\", \"2020-05-30T00:00:00\", \"2020-05-31T00:00:00\", \"2020-06-01T00:00:00\"], \"xaxis\": \"x\", \"y\": [16, 16, 16, 16, 16, 16, 18, 30, 30, 31, 38, 39, 47, 53, 56, 61, 66, 75, 85, 91, 94, 113, 123, 134, 141, 153, 163, 174, 188, 203, 212, 218, 233, 237, 240, 241, 245, 249, 251, 255, 257, 258, 262, 265, 266, 267, 268, 268, 268, 268, 268, 268, 268, 268, 270, 270, 270, 270, 270, 270, 270, 270, 270, 271, 271, 271, 271, 288, 288, 288, 288, 288, 288, 288, 312, 314, 318, 320, 324, 324, 324, 324, 324, 325, 325, 326, 327, 327, 327, 328, 328, 328, 328], \"yaxis\": \"y\"}],\n",
              "                        {\"legend\": {\"tracegroupgap\": 0}, \"template\": {\"data\": {\"bar\": [{\"error_x\": {\"color\": \"#2a3f5f\"}, \"error_y\": {\"color\": \"#2a3f5f\"}, \"marker\": {\"line\": {\"color\": \"#E5ECF6\", \"width\": 0.5}}, \"type\": \"bar\"}], \"barpolar\": [{\"marker\": {\"line\": {\"color\": \"#E5ECF6\", \"width\": 0.5}}, \"type\": \"barpolar\"}], \"carpet\": [{\"aaxis\": {\"endlinecolor\": \"#2a3f5f\", \"gridcolor\": \"white\", \"linecolor\": \"white\", \"minorgridcolor\": \"white\", \"startlinecolor\": \"#2a3f5f\"}, \"baxis\": {\"endlinecolor\": \"#2a3f5f\", \"gridcolor\": \"white\", \"linecolor\": \"white\", \"minorgridcolor\": \"white\", \"startlinecolor\": \"#2a3f5f\"}, \"type\": \"carpet\"}], \"choropleth\": [{\"colorbar\": {\"outlinewidth\": 0, \"ticks\": \"\"}, \"type\": \"choropleth\"}], \"contour\": [{\"colorbar\": {\"outlinewidth\": 0, \"ticks\": \"\"}, \"colorscale\": [[0.0, \"#0d0887\"], [0.1111111111111111, \"#46039f\"], [0.2222222222222222, \"#7201a8\"], [0.3333333333333333, \"#9c179e\"], [0.4444444444444444, \"#bd3786\"], [0.5555555555555556, \"#d8576b\"], [0.6666666666666666, \"#ed7953\"], [0.7777777777777778, \"#fb9f3a\"], [0.8888888888888888, \"#fdca26\"], [1.0, \"#f0f921\"]], \"type\": \"contour\"}], \"contourcarpet\": [{\"colorbar\": {\"outlinewidth\": 0, \"ticks\": \"\"}, \"type\": \"contourcarpet\"}], \"heatmap\": [{\"colorbar\": {\"outlinewidth\": 0, \"ticks\": \"\"}, \"colorscale\": [[0.0, \"#0d0887\"], [0.1111111111111111, \"#46039f\"], [0.2222222222222222, \"#7201a8\"], [0.3333333333333333, \"#9c179e\"], [0.4444444444444444, \"#bd3786\"], [0.5555555555555556, \"#d8576b\"], [0.6666666666666666, \"#ed7953\"], [0.7777777777777778, \"#fb9f3a\"], [0.8888888888888888, \"#fdca26\"], [1.0, \"#f0f921\"]], \"type\": \"heatmap\"}], \"heatmapgl\": [{\"colorbar\": {\"outlinewidth\": 0, \"ticks\": \"\"}, \"colorscale\": [[0.0, \"#0d0887\"], [0.1111111111111111, \"#46039f\"], [0.2222222222222222, \"#7201a8\"], [0.3333333333333333, \"#9c179e\"], [0.4444444444444444, \"#bd3786\"], [0.5555555555555556, \"#d8576b\"], [0.6666666666666666, \"#ed7953\"], [0.7777777777777778, \"#fb9f3a\"], [0.8888888888888888, \"#fdca26\"], [1.0, \"#f0f921\"]], \"type\": \"heatmapgl\"}], \"histogram\": [{\"marker\": {\"colorbar\": {\"outlinewidth\": 0, \"ticks\": \"\"}}, \"type\": \"histogram\"}], \"histogram2d\": [{\"colorbar\": {\"outlinewidth\": 0, \"ticks\": \"\"}, \"colorscale\": [[0.0, \"#0d0887\"], [0.1111111111111111, \"#46039f\"], [0.2222222222222222, \"#7201a8\"], [0.3333333333333333, \"#9c179e\"], [0.4444444444444444, \"#bd3786\"], [0.5555555555555556, \"#d8576b\"], [0.6666666666666666, \"#ed7953\"], [0.7777777777777778, \"#fb9f3a\"], [0.8888888888888888, \"#fdca26\"], [1.0, \"#f0f921\"]], \"type\": \"histogram2d\"}], \"histogram2dcontour\": [{\"colorbar\": {\"outlinewidth\": 0, \"ticks\": \"\"}, \"colorscale\": [[0.0, \"#0d0887\"], [0.1111111111111111, \"#46039f\"], [0.2222222222222222, \"#7201a8\"], [0.3333333333333333, \"#9c179e\"], [0.4444444444444444, \"#bd3786\"], [0.5555555555555556, \"#d8576b\"], [0.6666666666666666, \"#ed7953\"], [0.7777777777777778, \"#fb9f3a\"], [0.8888888888888888, \"#fdca26\"], [1.0, \"#f0f921\"]], \"type\": \"histogram2dcontour\"}], \"mesh3d\": [{\"colorbar\": {\"outlinewidth\": 0, \"ticks\": \"\"}, \"type\": \"mesh3d\"}], \"parcoords\": [{\"line\": {\"colorbar\": {\"outlinewidth\": 0, \"ticks\": \"\"}}, \"type\": \"parcoords\"}], \"pie\": [{\"automargin\": true, \"type\": \"pie\"}], \"scatter\": [{\"marker\": {\"colorbar\": {\"outlinewidth\": 0, \"ticks\": \"\"}}, \"type\": \"scatter\"}], \"scatter3d\": [{\"line\": {\"colorbar\": {\"outlinewidth\": 0, \"ticks\": \"\"}}, \"marker\": {\"colorbar\": {\"outlinewidth\": 0, \"ticks\": \"\"}}, \"type\": \"scatter3d\"}], \"scattercarpet\": [{\"marker\": {\"colorbar\": {\"outlinewidth\": 0, \"ticks\": \"\"}}, \"type\": \"scattercarpet\"}], \"scattergeo\": [{\"marker\": {\"colorbar\": {\"outlinewidth\": 0, \"ticks\": \"\"}}, \"type\": \"scattergeo\"}], \"scattergl\": [{\"marker\": {\"colorbar\": {\"outlinewidth\": 0, \"ticks\": \"\"}}, \"type\": \"scattergl\"}], \"scattermapbox\": [{\"marker\": {\"colorbar\": {\"outlinewidth\": 0, \"ticks\": \"\"}}, \"type\": \"scattermapbox\"}], \"scatterpolar\": [{\"marker\": {\"colorbar\": {\"outlinewidth\": 0, \"ticks\": \"\"}}, \"type\": \"scatterpolar\"}], \"scatterpolargl\": [{\"marker\": {\"colorbar\": {\"outlinewidth\": 0, \"ticks\": \"\"}}, \"type\": \"scatterpolargl\"}], \"scatterternary\": [{\"marker\": {\"colorbar\": {\"outlinewidth\": 0, \"ticks\": \"\"}}, \"type\": \"scatterternary\"}], \"surface\": [{\"colorbar\": {\"outlinewidth\": 0, \"ticks\": \"\"}, \"colorscale\": [[0.0, \"#0d0887\"], [0.1111111111111111, \"#46039f\"], [0.2222222222222222, \"#7201a8\"], [0.3333333333333333, \"#9c179e\"], [0.4444444444444444, \"#bd3786\"], [0.5555555555555556, \"#d8576b\"], [0.6666666666666666, \"#ed7953\"], [0.7777777777777778, \"#fb9f3a\"], [0.8888888888888888, \"#fdca26\"], [1.0, \"#f0f921\"]], \"type\": \"surface\"}], \"table\": [{\"cells\": {\"fill\": {\"color\": \"#EBF0F8\"}, \"line\": {\"color\": \"white\"}}, \"header\": {\"fill\": {\"color\": \"#C8D4E3\"}, \"line\": {\"color\": \"white\"}}, \"type\": \"table\"}]}, \"layout\": {\"annotationdefaults\": {\"arrowcolor\": \"#2a3f5f\", \"arrowhead\": 0, \"arrowwidth\": 1}, \"coloraxis\": {\"colorbar\": {\"outlinewidth\": 0, \"ticks\": \"\"}}, \"colorscale\": {\"diverging\": [[0, \"#8e0152\"], [0.1, \"#c51b7d\"], [0.2, \"#de77ae\"], [0.3, \"#f1b6da\"], [0.4, \"#fde0ef\"], [0.5, \"#f7f7f7\"], [0.6, \"#e6f5d0\"], [0.7, \"#b8e186\"], [0.8, \"#7fbc41\"], [0.9, \"#4d9221\"], [1, \"#276419\"]], \"sequential\": [[0.0, \"#0d0887\"], [0.1111111111111111, \"#46039f\"], [0.2222222222222222, \"#7201a8\"], [0.3333333333333333, \"#9c179e\"], [0.4444444444444444, \"#bd3786\"], [0.5555555555555556, \"#d8576b\"], [0.6666666666666666, \"#ed7953\"], [0.7777777777777778, \"#fb9f3a\"], [0.8888888888888888, \"#fdca26\"], [1.0, \"#f0f921\"]], \"sequentialminus\": [[0.0, \"#0d0887\"], [0.1111111111111111, \"#46039f\"], [0.2222222222222222, \"#7201a8\"], [0.3333333333333333, \"#9c179e\"], [0.4444444444444444, \"#bd3786\"], [0.5555555555555556, \"#d8576b\"], [0.6666666666666666, \"#ed7953\"], [0.7777777777777778, \"#fb9f3a\"], [0.8888888888888888, \"#fdca26\"], [1.0, \"#f0f921\"]]}, \"colorway\": [\"#636efa\", \"#EF553B\", \"#00cc96\", \"#ab63fa\", \"#FFA15A\", \"#19d3f3\", \"#FF6692\", \"#B6E880\", \"#FF97FF\", \"#FECB52\"], \"font\": {\"color\": \"#2a3f5f\"}, \"geo\": {\"bgcolor\": \"white\", \"lakecolor\": \"white\", \"landcolor\": \"#E5ECF6\", \"showlakes\": true, \"showland\": true, \"subunitcolor\": \"white\"}, \"hoverlabel\": {\"align\": \"left\"}, \"hovermode\": \"closest\", \"mapbox\": {\"style\": \"light\"}, \"paper_bgcolor\": \"white\", \"plot_bgcolor\": \"#E5ECF6\", \"polar\": {\"angularaxis\": {\"gridcolor\": \"white\", \"linecolor\": \"white\", \"ticks\": \"\"}, \"bgcolor\": \"#E5ECF6\", \"radialaxis\": {\"gridcolor\": \"white\", \"linecolor\": \"white\", \"ticks\": \"\"}}, \"scene\": {\"xaxis\": {\"backgroundcolor\": \"#E5ECF6\", \"gridcolor\": \"white\", \"gridwidth\": 2, \"linecolor\": \"white\", \"showbackground\": true, \"ticks\": \"\", \"zerolinecolor\": \"white\"}, \"yaxis\": {\"backgroundcolor\": \"#E5ECF6\", \"gridcolor\": \"white\", \"gridwidth\": 2, \"linecolor\": \"white\", \"showbackground\": true, \"ticks\": \"\", \"zerolinecolor\": \"white\"}, \"zaxis\": {\"backgroundcolor\": \"#E5ECF6\", \"gridcolor\": \"white\", \"gridwidth\": 2, \"linecolor\": \"white\", \"showbackground\": true, \"ticks\": \"\", \"zerolinecolor\": \"white\"}}, \"shapedefaults\": {\"line\": {\"color\": \"#2a3f5f\"}}, \"ternary\": {\"aaxis\": {\"gridcolor\": \"white\", \"linecolor\": \"white\", \"ticks\": \"\"}, \"baxis\": {\"gridcolor\": \"white\", \"linecolor\": \"white\", \"ticks\": \"\"}, \"bgcolor\": \"#E5ECF6\", \"caxis\": {\"gridcolor\": \"white\", \"linecolor\": \"white\", \"ticks\": \"\"}}, \"title\": {\"x\": 0.05}, \"xaxis\": {\"automargin\": true, \"gridcolor\": \"white\", \"linecolor\": \"white\", \"ticks\": \"\", \"title\": {\"standoff\": 15}, \"zerolinecolor\": \"white\", \"zerolinewidth\": 2}, \"yaxis\": {\"automargin\": true, \"gridcolor\": \"white\", \"linecolor\": \"white\", \"ticks\": \"\", \"title\": {\"standoff\": 15}, \"zerolinecolor\": \"white\", \"zerolinewidth\": 2}}}, \"title\": {\"text\": \"Number of confirmed Covid-19 Cases by Country\"}, \"xaxis\": {\"anchor\": \"y\", \"domain\": [0.0, 1.0], \"title\": {\"text\": \"Date\"}}, \"yaxis\": {\"anchor\": \"x\", \"domain\": [0.0, 1.0], \"title\": {\"text\": \"Confirmed\"}}},\n",
              "                        {\"responsive\": true}\n",
              "                    ).then(function(){\n",
              "                            \n",
              "var gd = document.getElementById('6221b9f2-a5e5-49b9-bdc3-3d0ad53f3a24');\n",
              "var x = new MutationObserver(function (mutations, observer) {{\n",
              "        var display = window.getComputedStyle(gd).display;\n",
              "        if (!display || display === 'none') {{\n",
              "            console.log([gd, 'removed!']);\n",
              "            Plotly.purge(gd);\n",
              "            observer.disconnect();\n",
              "        }}\n",
              "}});\n",
              "\n",
              "// Listen for the removal of the full notebook cells\n",
              "var notebookContainer = gd.closest('#notebook-container');\n",
              "if (notebookContainer) {{\n",
              "    x.observe(notebookContainer, {childList: true});\n",
              "}}\n",
              "\n",
              "// Listen for the clearing of the current output cell\n",
              "var outputEl = gd.closest('.output');\n",
              "if (outputEl) {{\n",
              "    x.observe(outputEl, {childList: true});\n",
              "}}\n",
              "\n",
              "                        })\n",
              "                };\n",
              "                \n",
              "            </script>\n",
              "        </div>\n",
              "</body>\n",
              "</html>"
            ]
          },
          "metadata": {
            "tags": []
          }
        }
      ]
    },
    {
      "cell_type": "markdown",
      "metadata": {
        "id": "ipKzDRSQcj07",
        "colab_type": "text"
      },
      "source": [
        "Installing Wikipedia API"
      ]
    },
    {
      "cell_type": "code",
      "metadata": {
        "id": "7rYlbyPccj8s",
        "colab_type": "code",
        "colab": {
          "base_uri": "https://localhost:8080/",
          "height": 269
        },
        "outputId": "f392cee7-12c7-4513-ed75-b0f6880ffa3a"
      },
      "source": [
        "pip install wikipedia"
      ],
      "execution_count": null,
      "outputs": [
        {
          "output_type": "stream",
          "text": [
            "Collecting wikipedia\n",
            "  Downloading https://files.pythonhosted.org/packages/67/35/25e68fbc99e672127cc6fbb14b8ec1ba3dfef035bf1e4c90f78f24a80b7d/wikipedia-1.4.0.tar.gz\n",
            "Requirement already satisfied: beautifulsoup4 in /usr/local/lib/python3.6/dist-packages (from wikipedia) (4.6.3)\n",
            "Requirement already satisfied: requests<3.0.0,>=2.0.0 in /usr/local/lib/python3.6/dist-packages (from wikipedia) (2.23.0)\n",
            "Requirement already satisfied: chardet<4,>=3.0.2 in /usr/local/lib/python3.6/dist-packages (from requests<3.0.0,>=2.0.0->wikipedia) (3.0.4)\n",
            "Requirement already satisfied: certifi>=2017.4.17 in /usr/local/lib/python3.6/dist-packages (from requests<3.0.0,>=2.0.0->wikipedia) (2020.4.5.1)\n",
            "Requirement already satisfied: idna<3,>=2.5 in /usr/local/lib/python3.6/dist-packages (from requests<3.0.0,>=2.0.0->wikipedia) (2.9)\n",
            "Requirement already satisfied: urllib3!=1.25.0,!=1.25.1,<1.26,>=1.21.1 in /usr/local/lib/python3.6/dist-packages (from requests<3.0.0,>=2.0.0->wikipedia) (1.24.3)\n",
            "Building wheels for collected packages: wikipedia\n",
            "  Building wheel for wikipedia (setup.py) ... \u001b[?25l\u001b[?25hdone\n",
            "  Created wheel for wikipedia: filename=wikipedia-1.4.0-cp36-none-any.whl size=11686 sha256=c484cb862278486d17c00ad26824252bf81b47d74c26a13b710a4e1ca6f33082\n",
            "  Stored in directory: /root/.cache/pip/wheels/87/2a/18/4e471fd96d12114d16fe4a446d00c3b38fb9efcb744bd31f4a\n",
            "Successfully built wikipedia\n",
            "Installing collected packages: wikipedia\n",
            "Successfully installed wikipedia-1.4.0\n"
          ],
          "name": "stdout"
        }
      ]
    },
    {
      "cell_type": "markdown",
      "metadata": {
        "id": "2kP9MxCKcxKY",
        "colab_type": "text"
      },
      "source": [
        ""
      ]
    },
    {
      "cell_type": "code",
      "metadata": {
        "id": "mAHgIM0icxTN",
        "colab_type": "code",
        "colab": {
          "base_uri": "https://localhost:8080/",
          "height": 269
        },
        "outputId": "85e8c43f-f162-475f-d73a-5e765ac12676"
      },
      "source": [
        "import wikipedia\n",
        "\n",
        "resultList = wikipedia.search('Harry Potter', results = 15)\n",
        "resultList"
      ],
      "execution_count": null,
      "outputs": [
        {
          "output_type": "execute_result",
          "data": {
            "text/plain": [
              "['Harry Potter',\n",
              " 'Harry Potter (film series)',\n",
              " \"Harry Potter and the Philosopher's Stone\",\n",
              " 'Harry Potter (character)',\n",
              " 'Places in Harry Potter',\n",
              " 'Harry Potter and the Deathly Hallows',\n",
              " 'Harry Potter and the Cursed Child',\n",
              " \"Harry Potter and the Philosopher's Stone (film)\",\n",
              " 'List of supporting Harry Potter characters',\n",
              " 'Magic in Harry Potter',\n",
              " 'List of Harry Potter characters',\n",
              " 'Harry Potter and the Chamber of Secrets (film)',\n",
              " 'Harry Potter and the Goblet of Fire (film)',\n",
              " 'List of Harry Potter cast members',\n",
              " 'Harry Potter and the Order of the Phoenix (film)']"
            ]
          },
          "metadata": {
            "tags": []
          },
          "execution_count": 164
        }
      ]
    },
    {
      "cell_type": "markdown",
      "metadata": {
        "id": "u0Jh72Ezc3Ee",
        "colab_type": "text"
      },
      "source": [
        "Getting a Wikipedia Page\n"
      ]
    },
    {
      "cell_type": "code",
      "metadata": {
        "id": "B5gRctk3c3Or",
        "colab_type": "code",
        "colab": {
          "base_uri": "https://localhost:8080/",
          "height": 1000
        },
        "outputId": "00629e19-4736-41ae-bac2-f086fecd143d"
      },
      "source": [
        "import pandas as pd\n",
        "wikiPage = 'Harry Potter'\n",
        "pages = (wikipedia.WikipediaPage(wikiPage).categories)\n",
        "df = pd.DataFrame(pages) # stores the pages in a dataframe\n",
        "df"
      ],
      "execution_count": null,
      "outputs": [
        {
          "output_type": "execute_result",
          "data": {
            "text/html": [
              "<div>\n",
              "<style scoped>\n",
              "    .dataframe tbody tr th:only-of-type {\n",
              "        vertical-align: middle;\n",
              "    }\n",
              "\n",
              "    .dataframe tbody tr th {\n",
              "        vertical-align: top;\n",
              "    }\n",
              "\n",
              "    .dataframe thead th {\n",
              "        text-align: right;\n",
              "    }\n",
              "</style>\n",
              "<table border=\"1\" class=\"dataframe\">\n",
              "  <thead>\n",
              "    <tr style=\"text-align: right;\">\n",
              "      <th></th>\n",
              "      <th>0</th>\n",
              "    </tr>\n",
              "  </thead>\n",
              "  <tbody>\n",
              "    <tr>\n",
              "      <th>0</th>\n",
              "      <td>20th-century British children's literature</td>\n",
              "    </tr>\n",
              "    <tr>\n",
              "      <th>1</th>\n",
              "      <td>21st-century British children's literature</td>\n",
              "    </tr>\n",
              "    <tr>\n",
              "      <th>2</th>\n",
              "      <td>All articles containing potentially dated stat...</td>\n",
              "    </tr>\n",
              "    <tr>\n",
              "      <th>3</th>\n",
              "      <td>All articles with dead external links</td>\n",
              "    </tr>\n",
              "    <tr>\n",
              "      <th>4</th>\n",
              "      <td>All pages needing factual verification</td>\n",
              "    </tr>\n",
              "    <tr>\n",
              "      <th>5</th>\n",
              "      <td>Articles containing potentially dated statemen...</td>\n",
              "    </tr>\n",
              "    <tr>\n",
              "      <th>6</th>\n",
              "      <td>Articles containing potentially dated statemen...</td>\n",
              "    </tr>\n",
              "    <tr>\n",
              "      <th>7</th>\n",
              "      <td>Articles containing potentially dated statemen...</td>\n",
              "    </tr>\n",
              "    <tr>\n",
              "      <th>8</th>\n",
              "      <td>Articles with dead external links from June 2016</td>\n",
              "    </tr>\n",
              "    <tr>\n",
              "      <th>9</th>\n",
              "      <td>Articles with hAudio microformats</td>\n",
              "    </tr>\n",
              "    <tr>\n",
              "      <th>10</th>\n",
              "      <td>Articles with short description</td>\n",
              "    </tr>\n",
              "    <tr>\n",
              "      <th>11</th>\n",
              "      <td>BILBY Award-winning works</td>\n",
              "    </tr>\n",
              "    <tr>\n",
              "      <th>12</th>\n",
              "      <td>Book franchises</td>\n",
              "    </tr>\n",
              "    <tr>\n",
              "      <th>13</th>\n",
              "      <td>Book series introduced in 1997</td>\n",
              "    </tr>\n",
              "    <tr>\n",
              "      <th>14</th>\n",
              "      <td>British bildungsromans</td>\n",
              "    </tr>\n",
              "    <tr>\n",
              "      <th>15</th>\n",
              "      <td>British novels adapted into films</td>\n",
              "    </tr>\n",
              "    <tr>\n",
              "      <th>16</th>\n",
              "      <td>CS1 maint: archived copy as title</td>\n",
              "    </tr>\n",
              "    <tr>\n",
              "      <th>17</th>\n",
              "      <td>Commons category link from Wikidata</td>\n",
              "    </tr>\n",
              "    <tr>\n",
              "      <th>18</th>\n",
              "      <td>Contemporary fantasy novels</td>\n",
              "    </tr>\n",
              "    <tr>\n",
              "      <th>19</th>\n",
              "      <td>Dragons in popular culture</td>\n",
              "    </tr>\n",
              "    <tr>\n",
              "      <th>20</th>\n",
              "      <td>Elves in popular culture</td>\n",
              "    </tr>\n",
              "    <tr>\n",
              "      <th>21</th>\n",
              "      <td>Family in fiction</td>\n",
              "    </tr>\n",
              "    <tr>\n",
              "      <th>22</th>\n",
              "      <td>Fantasy novel series</td>\n",
              "    </tr>\n",
              "    <tr>\n",
              "      <th>23</th>\n",
              "      <td>Fiction about curses</td>\n",
              "    </tr>\n",
              "    <tr>\n",
              "      <th>24</th>\n",
              "      <td>Fiction about giants</td>\n",
              "    </tr>\n",
              "    <tr>\n",
              "      <th>25</th>\n",
              "      <td>Fiction about invisibility</td>\n",
              "    </tr>\n",
              "    <tr>\n",
              "      <th>26</th>\n",
              "      <td>Fiction about magic</td>\n",
              "    </tr>\n",
              "    <tr>\n",
              "      <th>27</th>\n",
              "      <td>Ghosts in popular culture</td>\n",
              "    </tr>\n",
              "    <tr>\n",
              "      <th>28</th>\n",
              "      <td>Good articles</td>\n",
              "    </tr>\n",
              "    <tr>\n",
              "      <th>29</th>\n",
              "      <td>Harry Potter</td>\n",
              "    </tr>\n",
              "    <tr>\n",
              "      <th>30</th>\n",
              "      <td>Novels adapted into video games</td>\n",
              "    </tr>\n",
              "    <tr>\n",
              "      <th>31</th>\n",
              "      <td>Novels by J. K. Rowling</td>\n",
              "    </tr>\n",
              "    <tr>\n",
              "      <th>32</th>\n",
              "      <td>Pages with editnotices</td>\n",
              "    </tr>\n",
              "    <tr>\n",
              "      <th>33</th>\n",
              "      <td>Prosthetics in fiction</td>\n",
              "    </tr>\n",
              "    <tr>\n",
              "      <th>34</th>\n",
              "      <td>Schools in fiction</td>\n",
              "    </tr>\n",
              "    <tr>\n",
              "      <th>35</th>\n",
              "      <td>Secret societies in popular culture</td>\n",
              "    </tr>\n",
              "    <tr>\n",
              "      <th>36</th>\n",
              "      <td>Spoken articles</td>\n",
              "    </tr>\n",
              "    <tr>\n",
              "      <th>37</th>\n",
              "      <td>Use British English from April 2012</td>\n",
              "    </tr>\n",
              "    <tr>\n",
              "      <th>38</th>\n",
              "      <td>Use dmy dates from March 2017</td>\n",
              "    </tr>\n",
              "    <tr>\n",
              "      <th>39</th>\n",
              "      <td>Webarchive template wayback links</td>\n",
              "    </tr>\n",
              "    <tr>\n",
              "      <th>40</th>\n",
              "      <td>Webarchive template webcite links</td>\n",
              "    </tr>\n",
              "    <tr>\n",
              "      <th>41</th>\n",
              "      <td>Wikipedia articles needing factual verificatio...</td>\n",
              "    </tr>\n",
              "    <tr>\n",
              "      <th>42</th>\n",
              "      <td>Wikipedia articles with BNF identifiers</td>\n",
              "    </tr>\n",
              "    <tr>\n",
              "      <th>43</th>\n",
              "      <td>Wikipedia articles with GND identifiers</td>\n",
              "    </tr>\n",
              "    <tr>\n",
              "      <th>44</th>\n",
              "      <td>Wikipedia articles with NLI identifiers</td>\n",
              "    </tr>\n",
              "    <tr>\n",
              "      <th>45</th>\n",
              "      <td>Wikipedia articles with SUDOC identifiers</td>\n",
              "    </tr>\n",
              "    <tr>\n",
              "      <th>46</th>\n",
              "      <td>Wikipedia indefinitely semi-protected pages</td>\n",
              "    </tr>\n",
              "    <tr>\n",
              "      <th>47</th>\n",
              "      <td>Witchcraft in written fiction</td>\n",
              "    </tr>\n",
              "    <tr>\n",
              "      <th>48</th>\n",
              "      <td>Wizarding World</td>\n",
              "    </tr>\n",
              "    <tr>\n",
              "      <th>49</th>\n",
              "      <td>Wizards in fiction</td>\n",
              "    </tr>\n",
              "  </tbody>\n",
              "</table>\n",
              "</div>"
            ],
            "text/plain": [
              "                                                    0\n",
              "0          20th-century British children's literature\n",
              "1          21st-century British children's literature\n",
              "2   All articles containing potentially dated stat...\n",
              "3               All articles with dead external links\n",
              "4              All pages needing factual verification\n",
              "5   Articles containing potentially dated statemen...\n",
              "6   Articles containing potentially dated statemen...\n",
              "7   Articles containing potentially dated statemen...\n",
              "8    Articles with dead external links from June 2016\n",
              "9                   Articles with hAudio microformats\n",
              "10                    Articles with short description\n",
              "11                          BILBY Award-winning works\n",
              "12                                    Book franchises\n",
              "13                     Book series introduced in 1997\n",
              "14                             British bildungsromans\n",
              "15                  British novels adapted into films\n",
              "16                  CS1 maint: archived copy as title\n",
              "17                Commons category link from Wikidata\n",
              "18                        Contemporary fantasy novels\n",
              "19                         Dragons in popular culture\n",
              "20                           Elves in popular culture\n",
              "21                                  Family in fiction\n",
              "22                               Fantasy novel series\n",
              "23                               Fiction about curses\n",
              "24                               Fiction about giants\n",
              "25                         Fiction about invisibility\n",
              "26                                Fiction about magic\n",
              "27                          Ghosts in popular culture\n",
              "28                                      Good articles\n",
              "29                                       Harry Potter\n",
              "30                    Novels adapted into video games\n",
              "31                            Novels by J. K. Rowling\n",
              "32                             Pages with editnotices\n",
              "33                             Prosthetics in fiction\n",
              "34                                 Schools in fiction\n",
              "35                Secret societies in popular culture\n",
              "36                                    Spoken articles\n",
              "37                Use British English from April 2012\n",
              "38                      Use dmy dates from March 2017\n",
              "39                  Webarchive template wayback links\n",
              "40                  Webarchive template webcite links\n",
              "41  Wikipedia articles needing factual verificatio...\n",
              "42            Wikipedia articles with BNF identifiers\n",
              "43            Wikipedia articles with GND identifiers\n",
              "44            Wikipedia articles with NLI identifiers\n",
              "45          Wikipedia articles with SUDOC identifiers\n",
              "46        Wikipedia indefinitely semi-protected pages\n",
              "47                      Witchcraft in written fiction\n",
              "48                                    Wizarding World\n",
              "49                                 Wizards in fiction"
            ]
          },
          "metadata": {
            "tags": []
          },
          "execution_count": 165
        }
      ]
    },
    {
      "cell_type": "markdown",
      "metadata": {
        "id": "DMHYhDRJc_fr",
        "colab_type": "text"
      },
      "source": [
        "Intelligent Guess"
      ]
    },
    {
      "cell_type": "code",
      "metadata": {
        "id": "q-EdGpGQc_mq",
        "colab_type": "code",
        "colab": {
          "base_uri": "https://localhost:8080/",
          "height": 34
        },
        "outputId": "eb15c4fd-701d-4189-aae6-a31f2da08243"
      },
      "source": [
        "guess = 'goggle'\n",
        "print(wikipedia.suggest(guess))"
      ],
      "execution_count": null,
      "outputs": [
        {
          "output_type": "stream",
          "text": [
            "google\n"
          ],
          "name": "stdout"
        }
      ]
    },
    {
      "cell_type": "markdown",
      "metadata": {
        "id": "D21wr_47dQm4",
        "colab_type": "text"
      },
      "source": [
        "Summary of Page\n"
      ]
    },
    {
      "cell_type": "code",
      "metadata": {
        "id": "I5IQVaSrdQwV",
        "colab_type": "code",
        "colab": {
          "base_uri": "https://localhost:8080/",
          "height": 70
        },
        "outputId": "a8665841-ea2d-4d8e-eb0c-669ea24da526"
      },
      "source": [
        "page = 'Google'\n",
        "\n",
        "#returns only 2 sentences of summary\n",
        "print(wikipedia.summary(page, sentences=2)) \n",
        "# Print a 200 character summary\n",
        "print(wikipedia.summary(page)[0:200])"
      ],
      "execution_count": null,
      "outputs": [
        {
          "output_type": "stream",
          "text": [
            "Google LLC is an American multinational technology company that specializes in Internet-related services and products, which include online advertising technologies, a search engine, cloud computing, software, and hardware. It is considered one of the Big Four technology companies alongside Amazon, Apple, and Microsoft.Google was founded in September 1998 by Larry Page and Sergey Brin while they were Ph.D. students at Stanford University in California.\n",
            "Google LLC is an American multinational technology company that specializes in Internet-related services and products, which include online advertising technologies, a search engine, cloud computing, \n"
          ],
          "name": "stdout"
        }
      ]
    },
    {
      "cell_type": "markdown",
      "metadata": {
        "id": "LP7sRxa5db0h",
        "colab_type": "text"
      },
      "source": [
        "Checkpoint 7: Search and Summary"
      ]
    },
    {
      "cell_type": "code",
      "metadata": {
        "id": "mZgqwNfXdg9L",
        "colab_type": "code",
        "colab": {
          "base_uri": "https://localhost:8080/",
          "height": 70
        },
        "outputId": "760659cc-30c5-4302-eedf-84388f667ac7"
      },
      "source": [
        "page = input('What page do you want to find?')\n",
        "\n",
        "summary = wikipedia.summary(wikipedia.suggest(page))\n",
        "summary"
      ],
      "execution_count": null,
      "outputs": [
        {
          "output_type": "stream",
          "text": [
            "What page do you want to find?goggle\n"
          ],
          "name": "stdout"
        },
        {
          "output_type": "execute_result",
          "data": {
            "text/plain": [
              "\"Google LLC is an American multinational technology company that specializes in Internet-related services and products, which include online advertising technologies, a search engine, cloud computing, software, and hardware. It is considered one of the Big Four technology companies alongside Amazon, Apple, and Microsoft.Google was founded in September 1998 by Larry Page and Sergey Brin while they were Ph.D. students at Stanford University in California. Together they own about 14 percent of its shares and control 56 percent of the stockholder voting power through supervoting stock. They incorporated Google as a California privately held company on September 4, 1998, in California. Google was then reincorporated in Delaware on October 22, 2002. An initial public offering (IPO) took place on August 19, 2004, and Google moved to its headquarters in Mountain View, California, nicknamed the  Googleplex. In August 2015, Google announced plans to reorganize its various interests as a conglomerate called Alphabet Inc. Google is Alphabet's leading subsidiary and will continue to be the umbrella company for Alphabet's Internet interests. Sundar Pichai was appointed CEO of Google, replacing Larry Page who became the CEO of Alphabet.\\nThe company's rapid growth since incorporation has triggered a chain of products, acquisitions, and partnerships beyond Google's core search engine (Google Search). It offers services designed for work and productivity (Google Docs, Google Sheets, and Google Slides), email (Gmail), scheduling and time management (Google Calendar), cloud storage (Google Drive), instant messaging and video chat (Duo, Hangouts, Meet), language translation (Google Translate), mapping and navigation (Google Maps, Waze, Google Earth, Street View), video sharing (YouTube), note-taking (Google Keep), and photo organizing and editing (Google Photos). The company leads the development of the Android mobile operating system, the Google Chrome web browser, and Chrome OS, a lightweight operating system based on the Chrome browser. Google has moved increasingly into hardware; from 2010 to 2015, it partnered with major electronics manufacturers in the production of its Nexus devices, and it released multiple hardware products in October 2016, including the Google Pixel smartphone, Google Home smart speaker, Google Wifi mesh wireless router, and Google Daydream virtual reality headset. Google has also experimented with becoming an Internet carrier (Google Fiber, Google Fi, and Google Station).Google.com is the most visited website in the world. Several other Google services also figure in the top 100 most visited websites, including YouTube and Blogger. Google was the most valuable brand in the world in 2017 (surpassed by Amazon), but has received significant criticism involving issues such as privacy concerns, tax avoidance, antitrust, censorship, and search neutrality.\""
            ]
          },
          "metadata": {
            "tags": []
          },
          "execution_count": 174
        }
      ]
    },
    {
      "cell_type": "markdown",
      "metadata": {
        "id": "4dfHaylSdvDx",
        "colab_type": "text"
      },
      "source": [
        "Random Pages\n"
      ]
    },
    {
      "cell_type": "code",
      "metadata": {
        "id": "qyGo_QKDdvr2",
        "colab_type": "code",
        "colab": {
          "base_uri": "https://localhost:8080/",
          "height": 50
        },
        "outputId": "edb3dfa3-5587-4e21-f0c4-1f7630ddd772"
      },
      "source": [
        "def randomKnowledge():\n",
        "    page = wikipedia.random(pages = 1)\n",
        "    print(wikipedia.summary(page, sentences = 10))\n",
        "print(randomKnowledge())"
      ],
      "execution_count": null,
      "outputs": [
        {
          "output_type": "stream",
          "text": [
            "Tang (Persian: تنگ‎) is a village in Ani Rural District, in the Central District of Germi County, Ardabil Province, Iran. At the 2006 census, its population was 187, in 42 families.\n",
            "None\n"
          ],
          "name": "stdout"
        }
      ]
    },
    {
      "cell_type": "markdown",
      "metadata": {
        "id": "3VNhPanXd0dF",
        "colab_type": "text"
      },
      "source": [
        "Wikipedia Languages\n"
      ]
    },
    {
      "cell_type": "code",
      "metadata": {
        "id": "QqVZrfgxd05Y",
        "colab_type": "code",
        "colab": {
          "base_uri": "https://localhost:8080/",
          "height": 54
        },
        "outputId": "f924e5fc-86c3-4003-d5bb-4e52a1705787"
      },
      "source": [
        "wikipedia.set_lang('fr')\n",
        "print(wikipedia.summary('google',sentences=1))"
      ],
      "execution_count": null,
      "outputs": [
        {
          "output_type": "stream",
          "text": [
            "Google LLC /ˈguːgəl/ est une entreprise américaine de services technologiques fondée en 1998 dans la Silicon Valley, en Californie, par Larry Page et Sergey Brin, créateurs du moteur de recherche Google.\n"
          ],
          "name": "stdout"
        }
      ]
    },
    {
      "cell_type": "markdown",
      "metadata": {
        "id": "P6wE8g-Ld3GG",
        "colab_type": "text"
      },
      "source": [
        "Wikipedia URL\n"
      ]
    },
    {
      "cell_type": "code",
      "metadata": {
        "id": "zYjq1jz0d5RO",
        "colab_type": "code",
        "colab": {
          "base_uri": "https://localhost:8080/",
          "height": 34
        },
        "outputId": "51d3612c-8858-4eef-c588-6a66d014c6f2"
      },
      "source": [
        "complete_url = wikipedia.page('facebook')\n",
        "print(complete_url.url)"
      ],
      "execution_count": null,
      "outputs": [
        {
          "output_type": "stream",
          "text": [
            "https://fr.wikipedia.org/wiki/Facebook\n"
          ],
          "name": "stdout"
        }
      ]
    },
    {
      "cell_type": "code",
      "metadata": {
        "id": "4lPaYrUrd8o5",
        "colab_type": "code",
        "colab": {
          "base_uri": "https://localhost:8080/",
          "height": 34
        },
        "outputId": "c8b98b60-6e56-4bf5-ea71-3db61004e739"
      },
      "source": [
        "#translates back to english\n",
        "wikipedia.set_lang('en')\n",
        "complete_url = wikipedia.page('facebook')\n",
        "print(complete_url.url)"
      ],
      "execution_count": null,
      "outputs": [
        {
          "output_type": "stream",
          "text": [
            "https://en.wikipedia.org/wiki/Facebook\n"
          ],
          "name": "stdout"
        }
      ]
    },
    {
      "cell_type": "markdown",
      "metadata": {
        "id": "Ngjy6DDJd_MQ",
        "colab_type": "text"
      },
      "source": [
        "Extraction of section\n"
      ]
    },
    {
      "cell_type": "code",
      "metadata": {
        "id": "43nbpOTad_ld",
        "colab_type": "code",
        "colab": {
          "base_uri": "https://localhost:8080/",
          "height": 54
        },
        "outputId": "3f83e9bf-cb39-47af-88d6-a5c0f81dd15e"
      },
      "source": [
        "wikipedia.set_lang('en')\n",
        "#print(wikipedia.WikipediaPage(title = 'Harry Potter and the Philosopher\\'s Stone (film)').summary)\n",
        "\n",
        "# get the section of a page. In this case the Plot description of Metropolis\n",
        "section = wikipedia.WikipediaPage('Harry Potter and the Philosopher\\'s Stone (film)').section('Plot')\n",
        "\n",
        "# that will return fairly clean text, but the next line of code\n",
        "# will help clean that up.\n",
        "section = section.replace('\\n','').replace(\"\\'\",\"\")\n",
        "section"
      ],
      "execution_count": null,
      "outputs": [
        {
          "output_type": "execute_result",
          "data": {
            "text/plain": [
              "'Late one night, Albus Dumbledore and Minerva McGonagall, professors at the Hogwarts School of Witchcraft and Wizardry, along with the schools groundskeeper Rubeus Hagrid, deliver a recently orphaned infant named Harry Potter to his only remaining relatives, the Dursleys. Ten years later, Harry has been battling a disjointing life with the Dursleys. After inadvertently causing an accident during a family trip to the zoo, Harry begins receiving unsolicited letters by owls. After the Dursleys escape to an island to avoid more letters, Hagrid re-appears and informs Harry that he is actually a wizard and has been accepted into Hogwarts against the Dursleys wishes. After taking Harry to Diagon Alley to buy his supplies for Hogwarts and a pet owl named Hedwig as a birthday present, Hagrid informs him of his past: Harrys parents James and Lily Potter died due to a Killing Curse at the hands of the malevolent and all-powerful wizard: Lord Voldemort. Harry, the only survivor in the chaos, thus becomes well-known in the wizarding world as \"The Boy Who Lived\".Harry enters the Kings Cross station to board a train to Hogwarts, where he meets three other students: Ron Weasley, whom he quickly befriends; Hermione Granger, an intelligent witch born to Muggle parents; and Draco Malfoy, a boy from a wealthy wizarding family, with whom he immediately forms a rivalry. After arriving at school the students assemble in the Great Hall, where all the first-years are sorted by the Sorting Hat among four houses: Gryffindor, Hufflepuff, Ravenclaw, and Slytherin. Although the Sorting Hat considers putting Harry in Slytherin with Draco, he is placed into Gryffindor alongside with Ron and Hermione.At Hogwarts, Harry begins learning magic spells and discovers more about his past and parents. After recovering the Remembrall of Gryffindor student Neville Longbottom, Harry is recruited for Gryffindors Quidditch team as a Seeker, an extremely rare feat for rookie students. On their way to the dorms one night the stair cases change paths leading Harry, Ron, and Hermione to the forbidden floor of Hogwarts. The three discover a giant three-headed dog named Fluffy in a restricted area of the school. Ron then insults Hermione after being embarrassed by her in a Charms lesson, causing Hermione to lock herself in the girls bathroom. She is attacked by a marauding troll, but Harry and Ron save her, befriending her in the process.The children later find out that Fluffy is guarding the Philosophers Stone, an object that has the power to turn any metal into gold and produce a potion that grants immortality. Harry suspects that Potions teacher and head of Slytherin House Severus Snape is trying to obtain the stone in order to return Voldemort to physical form. Hagrid accidentally reveals to the trio that Fluffy will fall asleep if played music. Harry, Ron, and Hermione decide that night to try and find the stone before Snape does. They discover an already asleep Fluffy and face a series of safeguards, including a deadly plant known as Devils Snare, a room filled with aggressive flying keys that bruise Harry, and a giant chess game that knocks out Ron.After getting past the tasks, Harry discovers that it was Defence Against the Dark Arts teacher Quirinus Quirrell who was trying to claim the stone: Snape had actually been protecting Harry all along. Quirrell removes his turban and reveals a weak Voldemort living on the back of his head. Through an enchantment placed by Dumbledore, Harry finds the stone in his possession. Voldemort attempts to bargain the stone from Harry in exchange for reviving his parents, but Harry refuses. Quirrell attempts to kill Harry in response; however, he is instead killed after Harry ends up burning his skin, reducing Quirrell to dust and causing Voldemorts soul to rise from his ashes. Harry is knocked unconscious in the process.Harry recovers in the schools hospital wing with Dumbledore at his side. Dumbledore explains that the stone has been destroyed and that Ron and Hermione are safe. Dumbledore also reveals how Harry was able to defeat Quirrell: When Harrys mother died to save him, her death gave Harry a love-based protection against Voldemort. Harry, Ron, and Hermione are rewarded with house points for their heroic performances, tying them for first place with Slytherin. Dumbledore then awards ten points to Neville for attempting to stop the trio, granting Gryffindor the House Cup. Harry returns home for the summer, happy to finally have a real home in Hogwarts.'"
            ]
          },
          "metadata": {
            "tags": []
          },
          "execution_count": 179
        }
      ]
    },
    {
      "cell_type": "markdown",
      "metadata": {
        "id": "8SsC9JeueDBt",
        "colab_type": "text"
      },
      "source": [
        "Return of section"
      ]
    },
    {
      "cell_type": "code",
      "metadata": {
        "id": "5tb8dMzbeE7o",
        "colab_type": "code",
        "colab": {
          "base_uri": "https://localhost:8080/",
          "height": 138
        },
        "outputId": "e0670cd1-7fb5-4364-ec00-676624b49fe0"
      },
      "source": [
        "#Ask the user for his/her interested page\n",
        "InterestedPage = input('What page do you want to find?')\n",
        "\n",
        "#Make sure of .search() method which returns user one page based on the input\n",
        "result = wikipedia.search(InterestedPage , results = 1)\n",
        "\n",
        "#Filter out the page and retrive the interested section\n",
        "section = wikipedia.WikipediaPage (result).section('Plot')\n",
        "\n",
        "print(section)"
      ],
      "execution_count": null,
      "outputs": [
        {
          "output_type": "stream",
          "text": [
            "What page do you want to find?Spider-Man: Far From Home\n",
            "In Ixtenco, Mexico, Nick Fury and Maria Hill investigate an unnatural storm and encounter the Earth Elemental. Quentin Beck, a super-powered individual, arrives to defeat the creature. Beck subsequently defeats the Air Elemental and recruits Fury and Hill. Meanwhile, in New York City, the Midtown School of Science and Technology completes its academic year, which was restarted to accommodate the students who previously disintegrated five years ago as a result of Thanos' actions. They had reappeared un-aged, thanks to the actions of the Avengers. The school organizes a two-week summer field trip to Europe, where Peter Parker — who is still mourning the death of his mentor and father figure Tony Stark — plans to reveal to classmate MJ his attraction to her. Happy Hogan informs Parker that Fury intends to contact him, but Parker ignores Fury's phone call.\n",
            "Parker and his classmates travel to Venice, Italy, where the Water Elemental attacks. Parker helps protect his classmates, while Beck arrives and destroys the creature. Fury meets with Parker and gives him Stark's glasses, which were meant for his successor. The glasses enable him to communicate with and take command of the artificial intelligence E.D.I.T.H., which has access to Stark Industries' databases and commands a large orbital weapons supply. Beck claims to hail from an alternate reality within the Multiverse, where the four Elementals killed his family and destroyed his civilization. He predicts that the Fire Elemental will appear in Prague. Parker declines Fury's invitation to join the fight and returns to his class trip.\n",
            "Fury secretly changes the class's itinerary to divert the students to Prague. There, Parker is forced to help Beck fight the Fire Elemental to again protect his friends. Beck manages to destroy the creature with Parker's help. Fury and Hill invite Parker and Beck to Berlin to discuss the formation of a new superhero team, but Parker decides that Beck should go alone and transfers control of E.D.I.T.H. to him. In actuality, Beck is secretly a former holographic-illusions specialist at Stark Industries who was fired for his unstable nature. He now leads a team of disgruntled ex-Stark employees, using advanced projector drones to simulate the Elemental attacks and masquerade as a hero; their goal was to gain control of E.D.I.T.H. They use the orbital weapons drones to increase the scale of their illusions.\n",
            "MJ tells Parker she knows he is Spider-Man. They discover that a piece of debris she retrieved during the battle is a projector that shows part of the Air Elemental's attack, leading them to realize Beck is a fraud. Parker travels to Berlin to warn Fury, but \"Fury\" is actually one of Beck's illusions. Parker accidentally reveals that he told some of his friends about Beck's plan. Beck distracts him with illusions and maneuvers him into the path of a speeding train. Beck assumes he has been killed, but he is merely knocked unconscious. Parker contacts Hogan, who flies him to London, where his classmates are.  Beck uses E.D.I.T.H. to orchestrate his biggest illusion yet, a fusion of all four Elementals, as a cover to kill Parker's friends. Parker is able to disrupt the illusions, so Beck attacks him with drones. Parker defeats Beck and takes back control of E.D.I.T.H. Beck dies from wounds sustained from misfired drone gunshots. One of Beck's assistants escapes with data from the drones. After returning to New York City, Parker begins a relationship with MJ.\n",
            "In a mid-credits scene, J. Jonah Jameson of TheDailyBugle.net broadcasts doctored footage of the London incident in which Beck frames Spider-Man for the drone attack and his death, before exposing his secret identity to the world. In a post-credits scene, Fury and Hill are revealed to be the Skrulls Talos and Soren in disguise, under orders from the real Fury, who is seen commanding a Skrull spaceship.\n"
          ],
          "name": "stdout"
        }
      ]
    },
    {
      "cell_type": "markdown",
      "metadata": {
        "id": "7JTc0XjGePkF",
        "colab_type": "text"
      },
      "source": [
        "Installing NewsAPI on Google Colab\n"
      ]
    },
    {
      "cell_type": "code",
      "metadata": {
        "id": "kQlRSLtBeSme",
        "colab_type": "code",
        "colab": {
          "base_uri": "https://localhost:8080/",
          "height": 168
        },
        "outputId": "859e6d59-1cec-40b0-b33a-02d2afd5cde7"
      },
      "source": [
        "pip install newsapi-python"
      ],
      "execution_count": null,
      "outputs": [
        {
          "output_type": "stream",
          "text": [
            "Collecting newsapi-python\n",
            "  Downloading https://files.pythonhosted.org/packages/de/9e/9050199ac7cbc755d1c49577fdaa5517901124b574264b3602a8b8028440/newsapi_python-0.2.6-py2.py3-none-any.whl\n",
            "Requirement already satisfied: requests<3.0.0 in /usr/local/lib/python3.6/dist-packages (from newsapi-python) (2.23.0)\n",
            "Requirement already satisfied: idna<3,>=2.5 in /usr/local/lib/python3.6/dist-packages (from requests<3.0.0->newsapi-python) (2.9)\n",
            "Requirement already satisfied: urllib3!=1.25.0,!=1.25.1,<1.26,>=1.21.1 in /usr/local/lib/python3.6/dist-packages (from requests<3.0.0->newsapi-python) (1.24.3)\n",
            "Requirement already satisfied: certifi>=2017.4.17 in /usr/local/lib/python3.6/dist-packages (from requests<3.0.0->newsapi-python) (2020.4.5.1)\n",
            "Requirement already satisfied: chardet<4,>=3.0.2 in /usr/local/lib/python3.6/dist-packages (from requests<3.0.0->newsapi-python) (3.0.4)\n",
            "Installing collected packages: newsapi-python\n",
            "Successfully installed newsapi-python-0.2.6\n"
          ],
          "name": "stdout"
        }
      ]
    },
    {
      "cell_type": "markdown",
      "metadata": {
        "id": "U9a806_JeUNv",
        "colab_type": "text"
      },
      "source": [
        "News Extraction"
      ]
    },
    {
      "cell_type": "code",
      "metadata": {
        "id": "kiTCTx_4eW2_",
        "colab_type": "code",
        "colab": {
          "base_uri": "https://localhost:8080/",
          "height": 1000
        },
        "outputId": "1d1f1872-f3da-49ae-d52d-6d2a6668f71b"
      },
      "source": [
        "from newsapi import NewsApiClient\n",
        "\n",
        "api = NewsApiClient(api_key ='06d3d3817f3e4dba8a0591a3f34f0b79' )\n",
        "\n",
        "top_articles = api.get_top_headlines(sources = 'cnn')\n",
        "top_articles"
      ],
      "execution_count": null,
      "outputs": [
        {
          "output_type": "execute_result",
          "data": {
            "text/plain": [
              "{'articles': [{'author': None,\n",
              "   'content': \"Chat with us in Facebook Messenger. Find out what's happening in the world as it unfolds.\",\n",
              "   'description': \"Leading up to the death of George Floyd, long-simmering anger over enduring racial inequality helped bring the US to a boiling point. CNN's Tom Foreman takes a closer look.\",\n",
              "   'publishedAt': '2020-06-08T05:37:28.1353435Z',\n",
              "   'source': {'id': 'cnn', 'name': 'CNN'},\n",
              "   'title': 'How can ingrained attitudes result in racial injustice? - CNN Video',\n",
              "   'url': 'http://us.cnn.com/videos/us/2020/06/08/implicit-bias-unconscious-attitude-racial-injustice-foreman-pkg-vpx.cnn',\n",
              "   'urlToImage': 'https://cdn.cnn.com/cnnnext/dam/assets/200607231339-implicit-bias-unconscious-attitude-racial-injustice-foreman-pkg-vpx-00005007-super-tease.jpg'},\n",
              "  {'author': None,\n",
              "   'content': \"Chat with us in Facebook Messenger. Find out what's happening in the world as it unfolds.\",\n",
              "   'description': \"Activists in Bristol, England, tore down a statue of 17th century slave owner Edward Colston as protests around the world continued in the wake of the killing of George Floyd. CNN's Max Foster reports.\",\n",
              "   'publishedAt': '2020-06-08T04:52:33.522872Z',\n",
              "   'source': {'id': 'cnn', 'name': 'CNN'},\n",
              "   'title': 'Statue of colonial slave trader torn down amid global George Floyd protests - CNN Video',\n",
              "   'url': 'http://us.cnn.com/videos/world/2020/06/07/max-foster-global-protests-george-floyd-pkg-vpx.cnn',\n",
              "   'urlToImage': 'https://cdn.cnn.com/cnnnext/dam/assets/200608081851-edward-colston-statue-bristol-splash-super-tease.jpg'},\n",
              "  {'author': None,\n",
              "   'content': \"Chat with us in Facebook Messenger. Find out what's happening in the world as it unfolds.\",\n",
              "   'description': \"CNN's Tom Foreman speaks to protesters in small towns across America - from Boise, Idaho, to Brockton, Massachusetts.\",\n",
              "   'publishedAt': '2020-06-08T04:52:25.540483Z',\n",
              "   'source': {'id': 'cnn', 'name': 'CNN'},\n",
              "   'title': 'Protests spread to small town communities across US - CNN Video',\n",
              "   'url': 'http://us.cnn.com/videos/us/2020/06/05/small-town-protests-foreman-pkg-lead-vpx.cnn',\n",
              "   'urlToImage': 'https://cdn.cnn.com/cnnnext/dam/assets/200605183442-small-town-protests-foreman-pkg-super-tease.jpg'},\n",
              "  {'author': 'Analysis by Stephen Collinson, CNN',\n",
              "   'content': None,\n",
              "   'description': 'President Donald Trump, appearing badly out of touch with a national outpouring of support for racial justice and shedding political support just five months before the election, is edging toward a belated call for national unity.',\n",
              "   'publishedAt': '2020-06-08T04:06:22Z',\n",
              "   'source': {'id': 'cnn', 'name': 'CNN'},\n",
              "   'title': 'Pressure mounts on Trump to project unity',\n",
              "   'url': 'http://us.cnn.com/2020/06/08/politics/donald-trump-unity-joe-biden-2020-election-race/index.html',\n",
              "   'urlToImage': 'https://cdn.cnn.com/cnnnext/dam/assets/200605114250-trump-presser-0601-super-tease.jpg'},\n",
              "  {'author': 'Analysis by Ronald Brownstein, CNN',\n",
              "   'content': \"We have had this partisan sorting along the lines of race happening for a really long time ... but what's happening today is kind of unprecedented.\\r\\nAshley Jardina, Duke University political scientist\",\n",
              "   'description': 'The throngs of protesters demanding systemic changes in policing are marching directly into one of the deepest chasms between the two political parties.',\n",
              "   'publishedAt': '2020-06-08T04:01:31Z',\n",
              "   'source': {'id': 'cnn', 'name': 'CNN'},\n",
              "   'title': \"The partisan chasm over 'systemic racism' is on full display\",\n",
              "   'url': 'http://us.cnn.com/2020/06/08/politics/2020-election-racism-partisan-view/index.html',\n",
              "   'urlToImage': 'https://cdn.cnn.com/cnnnext/dam/assets/200607013324-0606-protests-washington-dc-super-tease.jpg'},\n",
              "  {'author': 'Leyla Santiago, CNN',\n",
              "   'content': '(CNN)Confronted by an angry mob hurling rocks and death threats, 15-year-old Minnijean Brown-Trickey pushed her way through the crowd, only to be stopped by National Guardsmen.\\r\\nThe year was 1957. An… [+4844 chars]',\n",
              "   'description': 'Confronted by an angry mob hurling rocks and death threats, 15-year-old Minnijean Brown-Trickey pushed her way through the crowd, only to be stopped by National Guardsmen.',\n",
              "   'publishedAt': '2020-06-08T02:51:29Z',\n",
              "   'source': {'id': 'cnn', 'name': 'CNN'},\n",
              "   'title': \"'Isn't it supposed to be better than this?' Civil rights pioneers question how far we've come\",\n",
              "   'url': 'http://us.cnn.com/2020/06/07/us/little-rock-nine-question-progress-after-george-floyd/index.html',\n",
              "   'urlToImage': 'https://cdn.cnn.com/cnnnext/dam/assets/200607194431-03-little-rock-nine-members-question-progress-super-tease.jpg'},\n",
              "  {'author': 'Paul LeBlanc and Ted Barrett, CNN',\n",
              "   'content': 'This is my father, George Romney, participating in a Civil Rights march in the Detroit suburbs during the late 1960s\"Force alone will not eliminate riots,\" he said. \"We must eliminate the problems fr… [+88 chars]',\n",
              "   'description': \"Republican Sen. Mitt Romney on Sunday marched in a Washington, DC, protest after the death of George Floyd in a break from other GOP lawmakers who have largely aligned behind President Donald Trump's militarized response to nationwide unrest.\",\n",
              "   'publishedAt': '2020-06-08T01:05:37Z',\n",
              "   'source': {'id': 'cnn', 'name': 'CNN'},\n",
              "   'title': \"Romney marches in Floyd protest 'to make sure people understand that black lives matter'\",\n",
              "   'url': 'http://us.cnn.com/2020/06/07/politics/mitt-romney-black-lives-matter-protest/index.html',\n",
              "   'urlToImage': 'https://cdn.cnn.com/cnnnext/dam/assets/200607200816-mitt-romney-black-lives-matter-march-super-tease.jpg'},\n",
              "  {'author': 'Analysis by Chris Cillizza, CNN Editor-at-large',\n",
              "   'content': 'THE POINT -- NOW ON YOUTUBE! \\r\\nIn each episode of his weekly YouTube show, Chris Cillizza will delve a little deeper into the surreal world of politics. Click to subscribe!',\n",
              "   'description': \"With just 149 days until the 2020 election, it will be here before you know it. Every Sunday, I outline the 5 BIG storylines you need to know to understand the upcoming week on the campaign trail. And they're ranked -- so the No. 1 story is the most important…\",\n",
              "   'publishedAt': '2020-06-07T23:44:27Z',\n",
              "   'source': {'id': 'cnn', 'name': 'CNN'},\n",
              "   'title': \"Donald Trump's chaos presidency has turned on him\",\n",
              "   'url': 'http://us.cnn.com/2020/06/07/politics/us-election-2020-week-ahead/index.html',\n",
              "   'urlToImage': 'https://cdn.cnn.com/cnnnext/dam/assets/200605173301-01-trump-photo-for-facts-first-super-tease.jpg'},\n",
              "  {'author': 'Opinion by Dean Obeidallah',\n",
              "   'content': 'Dean Obeidallah, a former attorney, is the host of SiriusXM radio\\'s daily program \"The Dean Obeidallah Show\" and a columnist for The Daily Beast. Follow him @DeanObeidallah. The opinions expressed in… [+5238 chars]',\n",
              "   'description': 'Dean Obeidallah writes that President Donald Trump has yet to praise or even utter \"Black Lives Matter\" in the wake of George Floyd\\'s death at the hands of the police. Instead, the president has been tweeting \"Law & Order!\" and threatening to shut down protes…',\n",
              "   'publishedAt': '2020-06-07T23:26:15Z',\n",
              "   'source': {'id': 'cnn', 'name': 'CNN'},\n",
              "   'title': 'If only Trump would say these words',\n",
              "   'url': 'http://us.cnn.com/2020/06/07/opinions/if-only-trump-would-say-black-lives-matter-obeidallah/index.html',\n",
              "   'urlToImage': 'https://cdn.cnn.com/cnnnext/dam/assets/200605223253-trump-rose-garden-june-5-super-tease.jpg'},\n",
              "  {'author': 'By <a href=\"/profiles/jessie-yeung\">Jessie Yeung</a>, <a href=\"/profiles/jenni-marsh-profile\">Jenni Marsh</a>, Rob Picheta, <a href=\"/profiles/peter-wilkinson\">Peter Wilkinson</a>, <a href=\"/profiles/fernando-alfonso-iii\">Fernando Alfonso III</a> and <a href=\"/profiles/amir-vera\">Amir Vera</a>, CNN',\n",
              "   'content': 'Pittsburgh Post-Gazette leadership is being accused of removing a black journalist from protest coverage after she posted a tweet about looting last Sunday, the\\xa0Newspaper Guild of Pittsburgh said in … [+3069 chars]',\n",
              "   'description': \"Protests following the death of George Floyd, a black man who pleaded that he couldn't breathe while he was held down with a knee by a former Minneapolis police officer, continue. Follow here for the latest updates.\",\n",
              "   'publishedAt': '2020-06-07T04:34:40Z',\n",
              "   'source': {'id': 'cnn', 'name': 'CNN'},\n",
              "   'title': 'George Floyd protests across the US: Live updates',\n",
              "   'url': 'https://www.cnn.com/us/live-news/george-floyd-protests-06-07-20/h_3b6e2a8db4c023ed5b2f52a2f200a15e',\n",
              "   'urlToImage': 'https://dynaimage.cdn.cnn.com/cnn/digital-images/org/a9329e4d-c04f-4979-a3be-9167d0eeca53.jpg'}],\n",
              " 'status': 'ok',\n",
              " 'totalResults': 10}"
            ]
          },
          "metadata": {
            "tags": []
          },
          "execution_count": 182
        }
      ]
    },
    {
      "cell_type": "code",
      "metadata": {
        "id": "GTkUcggEedsX",
        "colab_type": "code",
        "colab": {
          "base_uri": "https://localhost:8080/",
          "height": 1000
        },
        "outputId": "34b3f613-7022-4751-e76a-4478f1ad6886"
      },
      "source": [
        "for i in top_articles['articles']:\n",
        "  print(i['title'])\n",
        "  print(i['description'])\n",
        "  print(i['url'])\n",
        "  print(i['publishedAt'])\n",
        "  print('\\n\\n')"
      ],
      "execution_count": null,
      "outputs": [
        {
          "output_type": "stream",
          "text": [
            "How can ingrained attitudes result in racial injustice? - CNN Video\n",
            "Leading up to the death of George Floyd, long-simmering anger over enduring racial inequality helped bring the US to a boiling point. CNN's Tom Foreman takes a closer look.\n",
            "http://us.cnn.com/videos/us/2020/06/08/implicit-bias-unconscious-attitude-racial-injustice-foreman-pkg-vpx.cnn\n",
            "2020-06-08T05:37:28.1353435Z\n",
            "\n",
            "\n",
            "\n",
            "Statue of colonial slave trader torn down amid global George Floyd protests - CNN Video\n",
            "Activists in Bristol, England, tore down a statue of 17th century slave owner Edward Colston as protests around the world continued in the wake of the killing of George Floyd. CNN's Max Foster reports.\n",
            "http://us.cnn.com/videos/world/2020/06/07/max-foster-global-protests-george-floyd-pkg-vpx.cnn\n",
            "2020-06-08T04:52:33.522872Z\n",
            "\n",
            "\n",
            "\n",
            "Protests spread to small town communities across US - CNN Video\n",
            "CNN's Tom Foreman speaks to protesters in small towns across America - from Boise, Idaho, to Brockton, Massachusetts.\n",
            "http://us.cnn.com/videos/us/2020/06/05/small-town-protests-foreman-pkg-lead-vpx.cnn\n",
            "2020-06-08T04:52:25.540483Z\n",
            "\n",
            "\n",
            "\n",
            "Pressure mounts on Trump to project unity\n",
            "President Donald Trump, appearing badly out of touch with a national outpouring of support for racial justice and shedding political support just five months before the election, is edging toward a belated call for national unity.\n",
            "http://us.cnn.com/2020/06/08/politics/donald-trump-unity-joe-biden-2020-election-race/index.html\n",
            "2020-06-08T04:06:22Z\n",
            "\n",
            "\n",
            "\n",
            "The partisan chasm over 'systemic racism' is on full display\n",
            "The throngs of protesters demanding systemic changes in policing are marching directly into one of the deepest chasms between the two political parties.\n",
            "http://us.cnn.com/2020/06/08/politics/2020-election-racism-partisan-view/index.html\n",
            "2020-06-08T04:01:31Z\n",
            "\n",
            "\n",
            "\n",
            "'Isn't it supposed to be better than this?' Civil rights pioneers question how far we've come\n",
            "Confronted by an angry mob hurling rocks and death threats, 15-year-old Minnijean Brown-Trickey pushed her way through the crowd, only to be stopped by National Guardsmen.\n",
            "http://us.cnn.com/2020/06/07/us/little-rock-nine-question-progress-after-george-floyd/index.html\n",
            "2020-06-08T02:51:29Z\n",
            "\n",
            "\n",
            "\n",
            "Romney marches in Floyd protest 'to make sure people understand that black lives matter'\n",
            "Republican Sen. Mitt Romney on Sunday marched in a Washington, DC, protest after the death of George Floyd in a break from other GOP lawmakers who have largely aligned behind President Donald Trump's militarized response to nationwide unrest.\n",
            "http://us.cnn.com/2020/06/07/politics/mitt-romney-black-lives-matter-protest/index.html\n",
            "2020-06-08T01:05:37Z\n",
            "\n",
            "\n",
            "\n",
            "Donald Trump's chaos presidency has turned on him\n",
            "With just 149 days until the 2020 election, it will be here before you know it. Every Sunday, I outline the 5 BIG storylines you need to know to understand the upcoming week on the campaign trail. And they're ranked -- so the No. 1 story is the most important…\n",
            "http://us.cnn.com/2020/06/07/politics/us-election-2020-week-ahead/index.html\n",
            "2020-06-07T23:44:27Z\n",
            "\n",
            "\n",
            "\n",
            "If only Trump would say these words\n",
            "Dean Obeidallah writes that President Donald Trump has yet to praise or even utter \"Black Lives Matter\" in the wake of George Floyd's death at the hands of the police. Instead, the president has been tweeting \"Law & Order!\" and threatening to shut down protes…\n",
            "http://us.cnn.com/2020/06/07/opinions/if-only-trump-would-say-black-lives-matter-obeidallah/index.html\n",
            "2020-06-07T23:26:15Z\n",
            "\n",
            "\n",
            "\n",
            "George Floyd protests across the US: Live updates\n",
            "Protests following the death of George Floyd, a black man who pleaded that he couldn't breathe while he was held down with a knee by a former Minneapolis police officer, continue. Follow here for the latest updates.\n",
            "https://www.cnn.com/us/live-news/george-floyd-protests-06-07-20/h_3b6e2a8db4c023ed5b2f52a2f200a15e\n",
            "2020-06-07T04:34:40Z\n",
            "\n",
            "\n",
            "\n"
          ],
          "name": "stdout"
        }
      ]
    },
    {
      "cell_type": "markdown",
      "metadata": {
        "id": "VM2K62NNemkk",
        "colab_type": "text"
      },
      "source": [
        "Bitcoin Headlines"
      ]
    },
    {
      "cell_type": "code",
      "metadata": {
        "id": "xdmbUqqaem5q",
        "colab_type": "code",
        "colab": {
          "base_uri": "https://localhost:8080/",
          "height": 1000
        },
        "outputId": "15f5963c-4794-48e1-b6f1-9932156bc18b"
      },
      "source": [
        "from newsapi import NewsApiClient\n",
        "\n",
        "api = NewsApiClient(api_key ='06d3d3817f3e4dba8a0591a3f34f0b79' )\n",
        "\n",
        "all_articles = api.get_everything(q='bitcoin',sources = \"bbc-news,cnn,reuters\", from_param=\"2020-05-09\", to='2020-06-08',language='en', sort_by='relevancy',page=1)\n",
        "for i in all_articles['articles']:\n",
        "  print(i['title'])\n",
        "  print(i['description'])\n",
        "  print(i['url'])\n",
        "  print(i['publishedAt'])\n",
        "  print('\\n\\n')\n"
      ],
      "execution_count": null,
      "outputs": [
        {
          "output_type": "stream",
          "text": [
            "Hackers hit A-list law firm of Lady Gaga, Drake and Madonna\n",
            "Grubman Shire Meiselas & Sacks hit by hackers who claim to have contracts and personal emails of stars.\n",
            "https://www.bbc.co.uk/news/technology-52632729\n",
            "2020-05-12T11:38:17Z\n",
            "\n",
            "\n",
            "\n",
            "Bitcoin undergoes third 'halving', falls vs U.S. dollar\n",
            "Bitcoin slid on Monday in volatile trading, after it went through a technical adjustment that reduced the rate at which new coins are created, but the outlook remained upbeat as the increase in supply slows down.\n",
            "https://www.reuters.com/article/us-crypto-currencies-bitcoin-halving-idUSKBN22N2X8\n",
            "2020-05-11T21:44:12Z\n",
            "\n",
            "\n",
            "\n",
            "Expecting a spike in bitcoin? Investors say it may take time\n",
            "Investors expecting a sudden surge in bitcoin's price, after it underwent a technical adjustment three weeks ago that reduced the rate at which new coins are generated, may have to wait a few months, or perhaps a few years.\n",
            "https://www.reuters.com/article/us-crypto-currencies-bitcoin-analysis-idUSKBN23C0KS\n",
            "2020-06-05T05:41:46Z\n",
            "\n",
            "\n",
            "\n",
            "Bitcoin 'halving': What does the much-hyped event mean?\n",
            "Investors are debating what impact the adjustment will have on the cryptocurrency market.\n",
            "https://www.bbc.co.uk/news/business-52628034\n",
            "2020-05-12T05:00:31Z\n",
            "\n",
            "\n",
            "\n",
            "GLOBAL MARKETS-Stocks, euro rise on massive EU stimulus plan - Reuters\n",
            "<ol><li>GLOBAL MARKETS-Stocks, euro rise on massive EU stimulus plan  Reuters\r\n",
            "</li><li>SpaceX, Boeing and Google - 5 Things You Must Know Wednesday  TheStreet\r\n",
            "</li><li>Government stimulus plans fuel further gains in global stocks  Financial Times\r\n",
            "</li><li>…\n",
            "https://www.reuters.com/article/global-markets-idUSL8N2D93E3\n",
            "2020-05-27T11:30:00Z\n",
            "\n",
            "\n",
            "\n",
            "Amid pandemic, crypto crime surges in first 5 months: CipherTrace\n",
            "Crypto intelligence company CipherTrace, which started tracking cryptocurrency crime a few years ago, said it has started to see coronavirus-related frauds that require some form of digital currency payment.\n",
            "https://www.reuters.com/article/us-crypto-currencies-crime-idUSKBN2391N2\n",
            "2020-06-02T12:19:48Z\n",
            "\n",
            "\n",
            "\n",
            "Dark web scammers exploit Covid-19 fear and doubt\n",
            "From miracle cures to co-ordinated hacking the dark web is a hive of coronavirus scamming.\n",
            "https://www.bbc.co.uk/news/business-52577776\n",
            "2020-05-18T23:03:52Z\n",
            "\n",
            "\n",
            "\n",
            "Telegram messaging shuts blockchain project after battle with U.S. authorities\n",
            "Messaging app Telegram has shelved its blockchain project called Telegram Open Network (TON) after a protracted legal battle with U.S. legal authorities, founder Pavel Durov said in his blog posted on his channel on Tuesday.\n",
            "https://www.reuters.com/article/us-crypto-currencies-telegram-idUSKBN22O313\n",
            "2020-05-12T19:55:24Z\n",
            "\n",
            "\n",
            "\n",
            "GRAPHIC-Take Five: Trade War II\n",
            "1/THIRD LAW OF TARIFFS\n",
            "China's exports rebound has been quickly overshadowed by dire\n",
            "predictions of Trade War II between the world's two biggest\n",
            "economies.\n",
            "https://www.reuters.com/article/us-global-markets-themes-idUSKBN22N0NG\n",
            "2020-05-11T06:00:00Z\n",
            "\n",
            "\n",
            "\n",
            "Expecting a spike in bitcoin? Investors say it may take time\n",
            "Investors expecting a sudden surge in bitcoin's price, after it underwent a technical adjustment three weeks ago that reduced the rate at which new coins are generated, may have to wait a few months, or perhaps a few years.\n",
            "https://in.reuters.com/article/us-crypto-currencies-bitcoin-analysis-idINKBN23C0KS\n",
            "2020-06-05T05:13:33Z\n",
            "\n",
            "\n",
            "\n",
            "Bitcoin goes through third 'halving', falls vs U.S. dollar\n",
            "Bitcoin slid on Monday in volatile trading, after it went through a technical adjustment that reduced the rate at which new coins are created, but the outlook remained upbeat as the increase in supply slows down.\n",
            "https://in.reuters.com/article/crypto-currencies-bitcoin-halving-idINKBN22O0DM\n",
            "2020-05-12T03:49:27Z\n",
            "\n",
            "\n",
            "\n",
            "Coronavirus sows doubt over bitcoin's rally after third 'halving'\n",
            "As bitcoin investors brace for a long-awaited technical adjustment that will halve new supply of the cryptocurrency, the coronavirus pandemic has cast uncertainty over the expected rally that has historically accompanied such events.\n",
            "https://in.reuters.com/article/us-crypto-currencies-bitcoin-idINKBN22K2KW\n",
            "2020-05-11T05:37:14Z\n",
            "\n",
            "\n",
            "\n",
            "As pandemic rages, anything goes for bitcoin's third 'halving'\n",
            "Bitcoin is about to undergo a scheduled technical adjustment as the number of new coins awarded the computer wizards who \"mine\" the cryptocurrency will be cut in half, but forecasting which way its price will move afterward is more complicated now.\n",
            "https://in.reuters.com/article/crypto-currencies-bitcoin-idINKBN22L092\n",
            "2020-05-09T04:35:28Z\n",
            "\n",
            "\n",
            "\n",
            "Gold nears an eight-year high\n",
            "Gold prices have soared this year, and some experts think they could eventually pass the all-time high north of $1,900 an ounce.\n",
            "https://www.cnn.com/2020/05/18/investing/gold-prices/index.html\n",
            "2020-05-18T17:34:08Z\n",
            "\n",
            "\n",
            "\n",
            "Blockchain group says pilot test shows promise for oil and gas operators\n",
            "An oil and gas consortium testing\n",
            "blockchain distributed ledger software said results of its pilot\n",
            "were promising, paving way for the group's members to start\n",
            "using the technology at production sites.\n",
            "https://www.reuters.com/article/us-oil-global-blockchain-idUSKBN2392XB\n",
            "2020-06-02T20:05:18Z\n",
            "\n",
            "\n",
            "\n",
            "Amid pandemic, crypto crime surges in first 5 months - CipherTrace\n",
            "Crypto intelligence company CipherTrace, which started tracking cryptocurrency crime a few years ago, said it has started to see coronavirus-related frauds that require some form of digital currency payment.\n",
            "https://in.reuters.com/article/crypto-currencies-crime-idINKBN2391GD\n",
            "2020-06-02T11:11:21Z\n",
            "\n",
            "\n",
            "\n",
            "Bitcoin undergoes third 'halving', falls vs U.S. dollar\n",
            "Bitcoin slid on Monday in volatile trading, after it went through a technical adjustment that reduced the rate at which new coins are created, but the outlook remained upbeat as the increase in supply slows down.\n",
            "https://ca.reuters.com/article/technologyNews/idCAKBN22N2X8-OCATC\n",
            "2020-05-11T21:44:12Z\n",
            "\n",
            "\n",
            "\n",
            "RPT-ANALYSIS-Expecting a spike in bitcoin? Investors say it may take time\n",
            "Investors expecting a sudden surge in bitcoin's price, after it underwent a technical adjustment three weeks ago that reduced the rate at which new coins are generated, may have to wait a few months, or perhaps a few years.\n",
            "https://uk.reuters.com/article/crypto-currencies-bitcoin-idUKL1N2DH2QC\n",
            "2020-06-05T11:00:00Z\n",
            "\n",
            "\n",
            "\n",
            "UPDATE 2-Bitcoin goes through third 'halving', falls vs U.S. dollar\n",
            "Bitcoin slid on Monday in volatile trading, after it went through a technical adjustment that reduced the rate at which new coins are created, but the outlook remained upbeat as the increase in supply slows down.\n",
            "https://uk.reuters.com/article/us-crypto-currencies-bitcoin-halving-idUKKBN22N2X8\n",
            "2020-05-11T21:42:26Z\n",
            "\n",
            "\n",
            "\n",
            "Breakingviews - Icky cash gets shove towards eventual obsolescence\n",
            "(Reuters Breakingviews) - Cash was already unhygienic before Covid-19. Now in addition to being icky, it’s also irrelevant for many. Quarantined shoppers around the world have ditched grubby bills for more practical contactless purchases. Central banks won’t …\n",
            "https://www.reuters.com/article/us-health-coronavirus-cash-breakingviews-idUSKBN22W292\n",
            "2020-05-20T14:53:31Z\n",
            "\n",
            "\n",
            "\n"
          ],
          "name": "stdout"
        }
      ]
    },
    {
      "cell_type": "markdown",
      "metadata": {
        "id": "cvdSe-4SfQUF",
        "colab_type": "text"
      },
      "source": [
        ""
      ]
    }
  ]
}