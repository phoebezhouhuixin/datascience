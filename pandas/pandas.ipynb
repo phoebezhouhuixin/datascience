{
 "cells": [
  {
   "cell_type": "code",
   "execution_count": 4,
   "metadata": {},
   "outputs": [
    {
     "output_type": "stream",
     "name": "stdout",
     "text": "Collecting pandas\n  Using cached https://files.pythonhosted.org/packages/52/ff/912fe03a623a70bcf297d466013a0b4f4c68c3b60f86bf226682d061fc09/pandas-0.24.2-cp27-cp27m-macosx_10_6_intel.macosx_10_9_intel.macosx_10_9_x86_64.macosx_10_10_intel.macosx_10_10_x86_64.whl\nRequirement already satisfied: pytz>=2011k in /System/Library/Frameworks/Python.framework/Versions/2.7/Extras/lib/python (from pandas) (2013.7)\nCollecting numpy>=1.12.0 (from pandas)\n  Using cached https://files.pythonhosted.org/packages/09/96/84cf406fe7d589f3dba9fc0f737e65985a3526c6d8c783f02d4b5a10825d/numpy-1.16.6-cp27-cp27m-macosx_10_9_x86_64.whl\nCollecting python-dateutil>=2.5.0 (from pandas)\n  Using cached https://files.pythonhosted.org/packages/d4/70/d60450c3dd48ef87586924207ae8907090de0b306af2bce5d134d78615cb/python_dateutil-2.8.1-py2.py3-none-any.whl\nRequirement already satisfied: six>=1.5 in /System/Library/Frameworks/Python.framework/Versions/2.7/Extras/lib/python (from python-dateutil>=2.5.0->pandas) (1.12.0)\n\u001b[31mmatplotlib 1.3.1 requires nose, which is not installed.\u001b[0m\n\u001b[31mmatplotlib 1.3.1 requires tornado, which is not installed.\u001b[0m\nInstalling collected packages: numpy, python-dateutil, pandas\n  Found existing installation: numpy 1.8.0rc1\n\u001b[31mCannot uninstall 'numpy'. It is a distutils installed project and thus we cannot accurately determine which files belong to it which would lead to only a partial uninstall.\u001b[0m\n\u001b[33mYou are using pip version 10.0.1, however version 20.1b1 is available.\nYou should consider upgrading via the 'pip install --upgrade pip' command.\u001b[0m\n"
    }
   ],
   "source": [
    "!pip install pandas"
   ]
  },
  {
   "cell_type": "code",
   "execution_count": 8,
   "metadata": {},
   "outputs": [
    {
     "output_type": "stream",
     "name": "stdout",
     "text": "/Users/phoebezhouhuixin/Desktop/python test\nFish.py\nScreenshot 2020-04-28 at 1.32.07 PM.png\nScreenshot 2020-04-28 at 12.00.19 PM.png\nScreenshot 2020-04-28 at 2.32.12 PM.png\nrun.ipynb\nrun.py\ntest.ipynb\n"
    }
   ],
   "source": [
    "%cd /Users/phoebezhouhuixin/Desktop/python\\ test\n",
    "%ls"
   ]
  },
  {
   "cell_type": "code",
   "execution_count": null,
   "metadata": {},
   "outputs": [],
   "source": [
    "import pandas as pd\n",
    "import numpy as np"
   ]
  },
  {
   "cell_type": "code",
   "execution_count": 9,
   "metadata": {},
   "outputs": [
    {
     "output_type": "execute_result",
     "data": {
      "text/plain": "array([1, 3])"
     },
     "metadata": {},
     "execution_count": 9
    }
   ],
   "source": [
    "pd.Series([1,2,3]).values # arr = np.array([1,2,3])\n",
    "arr = np.array([1,2,3])\n",
    "\n",
    "# Element-wise operations\n",
    "arr != 2 # array([ True, False,  True], dtype=bool)\n",
    "df[\"CreditScore\"]+1 # all values in the series will be increased by 1\n",
    "\n",
    "# array masking\n",
    "arr[arr != 2] # array([1, 3])"
   ]
  },
  {
   "cell_type": "code",
   "execution_count": null,
   "metadata": {},
   "outputs": [],
   "source": [
    "# IMPORTING and basic dataframe info\n",
    "\n",
    "df = pd.read_csv(\"/Users/phoebezhouhuixin/Downloads/Churn_Modelling.csv\")\n",
    "\n",
    "# Convert df to dictionary of dictionaries (keys are columns)\n",
    "for key in df.to_dict().keys():\n",
    "    print(key) # CustomerId Surname CreditScore ...\n",
    "df.set_index(\"CustomerId\")\n",
    "df.to_dict()[\"Geography\"] # {15682355: 'Germany', 15628319: 'France', ...}\n",
    "\n",
    "pkmndata = pd.read_csv('./pokemonData.csv')\n",
    "pkmndata.head()\n",
    "print(\"Data dims : \", pkmndata.shape)\n",
    "type(pkmndata) # <class 'pandas.core.frame.DataFrame'>\n",
    "print(pkmndata.dtypes)\n",
    "pkmndata.info() \n",
    "pkmndata.columns # # .columns doesnt need a bracket at the end. Returns an Index of column variable names"
   ]
  },
  {
   "cell_type": "code",
   "execution_count": null,
   "metadata": {},
   "outputs": [],
   "source": [
    "# SUMMARY STATISTICS (mean, std etc)\n",
    "\n",
    "pkmndata.describe() # calculated for numeric columns\n",
    "pkmndata_clean.sort_values(by = 'TOTAL', ascending=False).head(10) # Strongest Pokemons -- the Top 10\n",
    "pkmndata_clean.groupby([\"TYPE_1\", \"TYPE_2\"]).mean() # calculated for numerical data columns. Returns a df\n",
    "\n",
    "weather_description = weather_2012['Weather'] # index is the datetime\n",
    "is_snowing = weather_description.str.contains('Snow')\n",
    "is_snowing.plot() # series.plot()\n",
    "# Median temp each month\n",
    "weather_2012['Temp (C)'].resample('M').apply(np.median).plot(kind='bar') # dataframe.plot()\n",
    "# resample() is a way to change the size of the bin in time series\n",
    "snowiness = is_snowing.astype(float).resample('M').apply(np.mean)\n",
    "stats = pd.concat([temperature, snowiness], axis=1) # can plot both aligned"
   ]
  },
  {
   "cell_type": "code",
   "execution_count": null,
   "metadata": {},
   "outputs": [],
   "source": [
    "# COUNTING\n",
    "\n",
    "len(pkmndata) # len() can be used for df or for series\n",
    "# Pokemons with dual Types\n",
    "print(\"Type 2 len:\", len(pkmndata[\"Type 2\"])) # len includes NaN\n",
    "print(\"Type 2 count:\", pkmndata[\"Type 2\"].count()) # count excludes NaN\n",
    "dualtype_data = pkmndata[pkmndata[\"Type 2\"].notnull()] # or isnull() == False\n",
    "dualtype_data.groupby([\"Type 1\", \"Type 2\"]).size() # size includes NaN but we alr filtered NaNs out\n",
    "# no of pokemons in each generation\n",
    "print(pkmndata[\"Generation\"].value_counts())\n",
    "\n",
    "# NaNs\n",
    "\n",
    "# no of NaNs in each column\n",
    "pkmndata.isnull().sum()\n",
    "# no of pokemons of each secondary type\n",
    "print(pkmndata[\"Type 2\"].dropna().value_counts()) # but value_counts already excludes NaN by default"
   ]
  },
  {
   "cell_type": "code",
   "execution_count": null,
   "metadata": {},
   "outputs": [],
   "source": [
    "# MASKING AND SELECTING \n",
    "\n",
    "# df[boolean series] --> by row\n",
    "# df[startindex:endindex] --> by row\n",
    "# df[\"string\"] --> by column name\n",
    "# df.iloc[0] --> row\n",
    "# df.iloc[0,[3,4]] --> row,col\n",
    "# df.loc[0,\"colname\"] --> row, col\n",
    "\n",
    "is_noise = complaints['Complaint Type'] == \"Noise - Street/Sidewalk\" #  series of True/False for all rows\n",
    "in_brooklyn = complaints['Borough'] == \"BROOKLYN\"\n",
    "complaints[is_noise & in_brooklyn][['Complaint Type', 'Borough', 'Created Date', 'Descriptor']][:10]\n",
    "\n",
    "\n",
    "# Duplicated vs unique\n",
    "\n",
    "# no of unique generations in the dataset\n",
    "print(\"Number of Generations :\", len(pkmndata[\"Generation\"].unique())) # .unique() returns an array of unique values\n",
    "# Pokemons with Duplicate IDs\n",
    "dupid_data = pkmndata[pkmndata.duplicated(\"#\", keep = False)]\n",
    "# duplicated(\"column name\", keep)\n",
    "# keep = False means that all duplicated values are marked as True. This lets you do masking."
   ]
  },
  {
   "cell_type": "code",
   "execution_count": null,
   "metadata": {},
   "outputs": [],
   "source": [
    "# EDITING STRINGS\n",
    "\n",
    "df.columns = df.columns.str.upper()\n",
    "pkmndata_clean = pkmndata.copy()\n",
    "pkmndata_clean.columns = pkmndata_clean.columns.str.replace(\" \",\"_\")\n",
    "\n",
    "# .apply() invokes a function on all the values of a series or dataframe.\n",
    "# Each name in the series will automatically be taken as the x that is passed into lambda\n",
    "# Remove Blanks from all the Names\n",
    "pkmndata_clean[\"NAME\"] = pkmndata_clean[\"NAME\"].apply(lambda x: re.sub(r'\\s+','', x)) # \\s is a character class representing \"whitespace\", and + means one or more\n",
    "pkmndata_clean[\"NAME\"] = pkmndata_clean[\"NAME\"].apply(lambda x: re.sub(r'(.+)(Cloak)',r'\\1', x)) # (lambda x: x + 1)(2) --> 3\n",
    "\n",
    "# change individual cell \n",
    "pkmndata_clean.loc[164,\"NAME\"] = \"MewtwoMegaY\""
   ]
  },
  {
   "cell_type": "code",
   "execution_count": 1,
   "metadata": {},
   "outputs": [
    {
     "output_type": "stream",
     "name": "stdout",
     "text": "hi\nabcdhiefg\nabcd\nwoi\nefg\na bcD\nabcD\n"
    }
   ],
   "source": [
    "import re\n",
    "# re.sub(\"pattern to replace\", \"what it should be replaced by\", string to search within)\n",
    "print(re.sub(r'(.+)(woi)(.+)', r'hi', \"abcdwoiefg\"))\n",
    "print(re.sub(r'woi', r'hi', \"abcdwoiefg\"))\n",
    "\n",
    "print(re.sub(r'(.+)(woi)(.+)', r'\\1', \"abcdwoiefg\"))\n",
    "print(re.sub(r'(.+)(woi)(.+)', r'\\2', \"abcdwoiefg\"))\n",
    "print(re.sub(r'(.+)(woi)(.+)', r'\\3', \"abcdwoiefg\"))\n",
    "\n",
    "print(re.sub('[^a-zA-Z ]', '', \"a1 b.cD\")) # not a to z, and not A to Z. spacebars in the \"pattern to replace\" argument make a difference\n",
    "print(re.sub('[^a-zA-Z]', '', \"a1 b.cD\")) "
   ]
  },
  {
   "cell_type": "code",
   "execution_count": null,
   "metadata": {},
   "outputs": [],
   "source": []
  }
 ],
 "metadata": {
  "language_info": {
   "codemirror_mode": {
    "name": "ipython",
    "version": 3
   },
   "file_extension": ".py",
   "mimetype": "text/x-python",
   "name": "python",
   "nbconvert_exporter": "python",
   "pygments_lexer": "ipython3",
   "version": "3.8.2-final"
  },
  "orig_nbformat": 2,
  "kernelspec": {
   "name": "python38264bit7d7914f827dc458abf1783009fe4dcbc",
   "display_name": "Python 3.8.2 64-bit"
  }
 },
 "nbformat": 4,
 "nbformat_minor": 2
}