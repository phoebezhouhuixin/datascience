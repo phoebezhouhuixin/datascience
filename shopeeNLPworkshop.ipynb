{
  "cells": [
    {
      "cell_type": "markdown",
      "metadata": {
        "id": "huur4qtNNBf4",
        "colab_type": "text"
      },
      "source": [
        "# Natural Language Understanding "
      ]
    },
    {
      "cell_type": "markdown",
      "metadata": {
        "id": "zgljHFUUNBf5",
        "colab_type": "text"
      },
      "source": [
        "## Data Cleaning"
      ]
    },
    {
      "cell_type": "markdown",
      "metadata": {
        "id": "5vQ2p8xlNBf7",
        "colab_type": "text"
      },
      "source": [
        "*Generic Data cleaning steps to take:*\n",
        "\n",
        "**1. Converting text to lower case** \n",
        "* if your data is case insensitive, you'll need to consider your usecase as well\n",
        "* some exceptions, if there're acronyms, which may lose their meaning if converted to word, e.g. in german language, MIT (university) vs mit (german for with)\n",
        "\n",
        "**2. Removing punctuations**\n",
        "* exceptions, twitter data, where punctuations may be good in showing sentiment\n",
        "\n",
        "**3. Removing any numerical values**\n",
        "\n",
        "**4. Tokenize text**\n",
        "* different ways to tokenize the text\n",
        "\n",
        "**5. Remove stop words**\n",
        "* stop words can be altered to be usecase specific, \n",
        "* e.g. adding restaurant name to list of stopwords for restaurant review, as the people will usually give the restaurant name in the review\n",
        "* e.g. twitter you may want to add words like 'RT' 'Retweet' etc for tweets\n",
        "\n",
        "\n",
        "**6. Stemming / lemmatization** \n",
        "* different variation of words due to suffix, but the meaning of the word is the same, use of the word is identical, to prevent duplication of words being stored and improve efficiency\n",
        "* lemmatization result is a proper word, unlike stemming\n",
        "\n",
        "\n",
        "**7. Parts of speech tagging**\n",
        "* good for identifying, summarising, to get e.g. retrieval of nouns from large pieces of texts (NNP)\n",
        "\n",
        "**8. Create bi-grams or tri-grams**\n",
        "\n",
        "**9. Deal with typos and spelling mistakes**"
      ]
    },
    {
      "cell_type": "markdown",
      "metadata": {
        "id": "X0Bd3DvcNBf8",
        "colab_type": "text"
      },
      "source": [
        "Natural Language Toolkit (nltk) : https://www.nltk.org/index.html"
      ]
    },
    {
      "cell_type": "code",
      "metadata": {
        "id": "DKZKv2NhNBf-",
        "colab_type": "code",
        "colab": {
          "base_uri": "https://localhost:8080/",
          "height": 1000
        },
        "outputId": "a1e6bc8c-5680-4a34-d9df-3e153811299b",
        "tags": []
      },
      "source": [
        "!pip install nltk\n",
        "nltk.download()"
      ],
      "execution_count": 47,
      "outputs": [
        {
          "output_type": "stream",
          "name": "stdout",
          "text": "Requirement already satisfied: nltk in /opt/anaconda3/lib/python3.7/site-packages (3.5)\nRequirement already satisfied: click in /opt/anaconda3/lib/python3.7/site-packages (from nltk) (7.1.2)\nRequirement already satisfied: regex in /opt/anaconda3/lib/python3.7/site-packages (from nltk) (2020.5.14)\nRequirement already satisfied: tqdm in /opt/anaconda3/lib/python3.7/site-packages (from nltk) (4.46.1)\nRequirement already satisfied: joblib in /opt/anaconda3/lib/python3.7/site-packages (from nltk) (0.15.1)\nshowing info https://raw.githubusercontent.com/nltk/nltk_data/gh-pages/index.xml\n"
        },
        {
          "output_type": "error",
          "ename": "KeyboardInterrupt",
          "evalue": "",
          "traceback": [
            "\u001b[0;31m---------------------------------------------------------------------------\u001b[0m",
            "\u001b[0;31mKeyboardInterrupt\u001b[0m                         Traceback (most recent call last)",
            "\u001b[0;32m<ipython-input-47-e45f016e96ce>\u001b[0m in \u001b[0;36m<module>\u001b[0;34m\u001b[0m\n\u001b[1;32m      1\u001b[0m \u001b[0mget_ipython\u001b[0m\u001b[0;34m(\u001b[0m\u001b[0;34m)\u001b[0m\u001b[0;34m.\u001b[0m\u001b[0msystem\u001b[0m\u001b[0;34m(\u001b[0m\u001b[0;34m'pip install nltk'\u001b[0m\u001b[0;34m)\u001b[0m\u001b[0;34m\u001b[0m\u001b[0;34m\u001b[0m\u001b[0m\n\u001b[0;32m----> 2\u001b[0;31m \u001b[0mnltk\u001b[0m\u001b[0;34m.\u001b[0m\u001b[0mdownload\u001b[0m\u001b[0;34m(\u001b[0m\u001b[0;34m)\u001b[0m\u001b[0;34m\u001b[0m\u001b[0;34m\u001b[0m\u001b[0m\n\u001b[0m",
            "\u001b[0;32m/opt/anaconda3/lib/python3.7/site-packages/nltk/downloader.py\u001b[0m in \u001b[0;36mdownload\u001b[0;34m(self, info_or_id, download_dir, quiet, force, prefix, halt_on_error, raise_on_error, print_error_to)\u001b[0m\n\u001b[1;32m    763\u001b[0m             \u001b[0;32mif\u001b[0m \u001b[0mdownload_dir\u001b[0m \u001b[0;32mis\u001b[0m \u001b[0;32mnot\u001b[0m \u001b[0;32mNone\u001b[0m\u001b[0;34m:\u001b[0m\u001b[0;34m\u001b[0m\u001b[0;34m\u001b[0m\u001b[0m\n\u001b[1;32m    764\u001b[0m                 \u001b[0mself\u001b[0m\u001b[0;34m.\u001b[0m\u001b[0m_download_dir\u001b[0m \u001b[0;34m=\u001b[0m \u001b[0mdownload_dir\u001b[0m\u001b[0;34m\u001b[0m\u001b[0;34m\u001b[0m\u001b[0m\n\u001b[0;32m--> 765\u001b[0;31m             \u001b[0mself\u001b[0m\u001b[0;34m.\u001b[0m\u001b[0m_interactive_download\u001b[0m\u001b[0;34m(\u001b[0m\u001b[0;34m)\u001b[0m\u001b[0;34m\u001b[0m\u001b[0;34m\u001b[0m\u001b[0m\n\u001b[0m\u001b[1;32m    766\u001b[0m             \u001b[0;32mreturn\u001b[0m \u001b[0;32mTrue\u001b[0m\u001b[0;34m\u001b[0m\u001b[0;34m\u001b[0m\u001b[0m\n\u001b[1;32m    767\u001b[0m \u001b[0;34m\u001b[0m\u001b[0m\n",
            "\u001b[0;32m/opt/anaconda3/lib/python3.7/site-packages/nltk/downloader.py\u001b[0m in \u001b[0;36m_interactive_download\u001b[0;34m(self)\u001b[0m\n\u001b[1;32m   1113\u001b[0m         \u001b[0;32mif\u001b[0m \u001b[0mTKINTER\u001b[0m\u001b[0;34m:\u001b[0m\u001b[0;34m\u001b[0m\u001b[0;34m\u001b[0m\u001b[0m\n\u001b[1;32m   1114\u001b[0m             \u001b[0;32mtry\u001b[0m\u001b[0;34m:\u001b[0m\u001b[0;34m\u001b[0m\u001b[0;34m\u001b[0m\u001b[0m\n\u001b[0;32m-> 1115\u001b[0;31m                 \u001b[0mDownloaderGUI\u001b[0m\u001b[0;34m(\u001b[0m\u001b[0mself\u001b[0m\u001b[0;34m)\u001b[0m\u001b[0;34m.\u001b[0m\u001b[0mmainloop\u001b[0m\u001b[0;34m(\u001b[0m\u001b[0;34m)\u001b[0m\u001b[0;34m\u001b[0m\u001b[0;34m\u001b[0m\u001b[0m\n\u001b[0m\u001b[1;32m   1116\u001b[0m             \u001b[0;32mexcept\u001b[0m \u001b[0mTclError\u001b[0m\u001b[0;34m:\u001b[0m\u001b[0;34m\u001b[0m\u001b[0;34m\u001b[0m\u001b[0m\n\u001b[1;32m   1117\u001b[0m                 \u001b[0mDownloaderShell\u001b[0m\u001b[0;34m(\u001b[0m\u001b[0mself\u001b[0m\u001b[0;34m)\u001b[0m\u001b[0;34m.\u001b[0m\u001b[0mrun\u001b[0m\u001b[0;34m(\u001b[0m\u001b[0;34m)\u001b[0m\u001b[0;34m\u001b[0m\u001b[0;34m\u001b[0m\u001b[0m\n",
            "\u001b[0;32m/opt/anaconda3/lib/python3.7/site-packages/nltk/downloader.py\u001b[0m in \u001b[0;36mmainloop\u001b[0;34m(self, *args, **kwargs)\u001b[0m\n\u001b[1;32m   1932\u001b[0m \u001b[0;34m\u001b[0m\u001b[0m\n\u001b[1;32m   1933\u001b[0m     \u001b[0;32mdef\u001b[0m \u001b[0mmainloop\u001b[0m\u001b[0;34m(\u001b[0m\u001b[0mself\u001b[0m\u001b[0;34m,\u001b[0m \u001b[0;34m*\u001b[0m\u001b[0margs\u001b[0m\u001b[0;34m,\u001b[0m \u001b[0;34m**\u001b[0m\u001b[0mkwargs\u001b[0m\u001b[0;34m)\u001b[0m\u001b[0;34m:\u001b[0m\u001b[0;34m\u001b[0m\u001b[0;34m\u001b[0m\u001b[0m\n\u001b[0;32m-> 1934\u001b[0;31m         \u001b[0mself\u001b[0m\u001b[0;34m.\u001b[0m\u001b[0mtop\u001b[0m\u001b[0;34m.\u001b[0m\u001b[0mmainloop\u001b[0m\u001b[0;34m(\u001b[0m\u001b[0;34m*\u001b[0m\u001b[0margs\u001b[0m\u001b[0;34m,\u001b[0m \u001b[0;34m**\u001b[0m\u001b[0mkwargs\u001b[0m\u001b[0;34m)\u001b[0m\u001b[0;34m\u001b[0m\u001b[0;34m\u001b[0m\u001b[0m\n\u001b[0m\u001b[1;32m   1935\u001b[0m \u001b[0;34m\u001b[0m\u001b[0m\n\u001b[1;32m   1936\u001b[0m     \u001b[0;31m# /////////////////////////////////////////////////////////////////\u001b[0m\u001b[0;34m\u001b[0m\u001b[0;34m\u001b[0m\u001b[0;34m\u001b[0m\u001b[0m\n",
            "\u001b[0;32m/opt/anaconda3/lib/python3.7/tkinter/__init__.py\u001b[0m in \u001b[0;36mmainloop\u001b[0;34m(self, n)\u001b[0m\n\u001b[1;32m   1281\u001b[0m     \u001b[0;32mdef\u001b[0m \u001b[0mmainloop\u001b[0m\u001b[0;34m(\u001b[0m\u001b[0mself\u001b[0m\u001b[0;34m,\u001b[0m \u001b[0mn\u001b[0m\u001b[0;34m=\u001b[0m\u001b[0;36m0\u001b[0m\u001b[0;34m)\u001b[0m\u001b[0;34m:\u001b[0m\u001b[0;34m\u001b[0m\u001b[0;34m\u001b[0m\u001b[0m\n\u001b[1;32m   1282\u001b[0m         \u001b[0;34m\"\"\"Call the mainloop of Tk.\"\"\"\u001b[0m\u001b[0;34m\u001b[0m\u001b[0;34m\u001b[0m\u001b[0m\n\u001b[0;32m-> 1283\u001b[0;31m         \u001b[0mself\u001b[0m\u001b[0;34m.\u001b[0m\u001b[0mtk\u001b[0m\u001b[0;34m.\u001b[0m\u001b[0mmainloop\u001b[0m\u001b[0;34m(\u001b[0m\u001b[0mn\u001b[0m\u001b[0;34m)\u001b[0m\u001b[0;34m\u001b[0m\u001b[0;34m\u001b[0m\u001b[0m\n\u001b[0m\u001b[1;32m   1284\u001b[0m     \u001b[0;32mdef\u001b[0m \u001b[0mquit\u001b[0m\u001b[0;34m(\u001b[0m\u001b[0mself\u001b[0m\u001b[0;34m)\u001b[0m\u001b[0;34m:\u001b[0m\u001b[0;34m\u001b[0m\u001b[0;34m\u001b[0m\u001b[0m\n\u001b[1;32m   1285\u001b[0m         \u001b[0;34m\"\"\"Quit the Tcl interpreter. All widgets will be destroyed.\"\"\"\u001b[0m\u001b[0;34m\u001b[0m\u001b[0;34m\u001b[0m\u001b[0m\n",
            "\u001b[0;31mKeyboardInterrupt\u001b[0m: "
          ]
        }
      ]
    },
    {
      "cell_type": "code",
      "metadata": {
        "id": "vUh39diSNBgE",
        "colab_type": "code",
        "colab": {},
        "tags": []
      },
      "source": [
        "import nltk\n",
        "from nltk.book import *"
      ],
      "execution_count": 4,
      "outputs": []
    },
    {
      "cell_type": "markdown",
      "metadata": {},
      "source": [
        "The nltk.book collection is actually just a collection of all the packages that are used in the official nltk tutorials. The following functions are actually from the nltk.corpus package. We can import objects from the nltk.corpus package https://www.nltk.org/api/nltk.corpus.html?highlight=sents"
      ]
    },
    {
      "cell_type": "code",
      "metadata": {
        "id": "37bKqQXWNBgJ",
        "colab_type": "code",
        "colab": {},
        "outputId": "335e1a95-a33f-4acd-f089-de6daff73481",
        "tags": []
      },
      "source": [
        "texts() "
      ],
      "execution_count": 5,
      "outputs": [
        {
          "output_type": "stream",
          "name": "stdout",
          "text": "text1: Moby Dick by Herman Melville 1851\ntext2: Sense and Sensibility by Jane Austen 1811\ntext3: The Book of Genesis\ntext4: Inaugural Address Corpus\ntext5: Chat Corpus\ntext6: Monty Python and the Holy Grail\ntext7: Wall Street Journal\ntext8: Personals Corpus\ntext9: The Man Who Was Thursday by G . K . Chesterton 1908\n"
        }
      ]
    },
    {
      "cell_type": "markdown",
      "metadata": {},
      "source": [
        "The nltk.corpus package has submodules. Each submodule (\"corpus module\") has one or more corpus reader functions that let you read the documents from the corpus"
      ]
    },
    {
      "cell_type": "code",
      "execution_count": 10,
      "metadata": {
        "colab": {},
        "colab_type": "code",
        "id": "jjPTjbdGNBgP",
        "outputId": "894bbf83-bcc7-49b0-cf47-93bf61c2db9e",
        "tags": []
      },
      "outputs": [
        {
          "output_type": "stream",
          "name": "stdout",
          "text": "sent1: Call me Ishmael .\nsent2: The family of Dashwood had long been settled in Sussex .\nsent3: In the beginning God created the heaven and the earth .\nsent4: Fellow - Citizens of the Senate and of the House of Representatives :\nsent5: I have a problem with people PMing me to lol JOIN\nsent6: SCENE 1 : [ wind ] [ clop clop clop ] KING ARTHUR : Whoa there !\nsent7: Pierre Vinken , 61 years old , will join the board as a nonexecutive director Nov. 29 .\nsent8: 25 SEXY MALE , seeks attrac older single lady , for discreet encounters .\nsent9: THE suburb of Saffron Park lay on the sunset side of London , as red and ragged as a cloud of sunset .\n"
        }
      ],
      "source": [
        "sents() # corpus reader function"
      ]
    },
    {
      "cell_type": "code",
      "metadata": {
        "id": "v8L5wPA9NBgT",
        "colab_type": "code",
        "colab": {},
        "outputId": "66b78bcc-59bd-49ce-de5b-3737155f3c25"
      },
      "source": [
        "text1"
      ],
      "execution_count": null,
      "outputs": [
        {
          "output_type": "execute_result",
          "data": {
            "text/plain": [
              "<Text: Moby Dick by Herman Melville 1851>"
            ]
          },
          "metadata": {
            "tags": []
          },
          "execution_count": 77
        }
      ]
    },
    {
      "cell_type": "code",
      "metadata": {
        "id": "jy8F1OwlNBgX",
        "colab_type": "code",
        "colab": {},
        "outputId": "dcfd60f0-1a9f-43c9-f4dd-65e0821df5fa",
        "tags": []
      },
      "source": [
        "text1.similar(\"monstrous\") # Distributional similarity: find other words which appear in the same contexts as the specified word; list most similar words first."
      ],
      "execution_count": 11,
      "outputs": [
        {
          "output_type": "stream",
          "name": "stdout",
          "text": "true contemptible christian abundant few part mean careful puzzled\nmystifying passing curious loving wise doleful gamesome singular\ndelightfully perilous fearless\n"
        }
      ]
    },
    {
      "cell_type": "code",
      "metadata": {
        "ExecuteTime": {
          "end_time": "2020-06-06T19:11:54.602174Z",
          "start_time": "2020-06-06T19:07:02.820069Z"
        },
        "id": "I2fCtk6aNBgh",
        "colab_type": "code",
        "colab": {}
      },
      "source": [
        "from nltk.tokenize import sent_tokenize, word_tokenize, wordpunct_tokenize, TweetTokenizer, RegexpTokenizer\n",
        "from nltk.probability import FreqDist\n",
        "from nltk.corpus import stopwords\n",
        "from nltk.stem.wordnet import WordNetLemmatizer\n",
        "from nltk.stem.porter import PorterStemmer\n",
        "import matplotlib.pyplot as plt\n",
        "import pandas as pd\n",
        "from sklearn.feature_extraction.text import CountVectorizer\n",
        "from sklearn.model_selection import train_test_split\n",
        "from sklearn.naive_bayes import MultinomialNB\n",
        "from sklearn import metrics #accuracy calculation\n",
        "from sklearn.feature_extraction.text import TfidfVectorizer\n",
        "from sklearn.model_selection import train_test_split"
      ],
      "execution_count": 13,
      "outputs": []
    },
    {
      "cell_type": "markdown",
      "metadata": {
        "id": "iUIVeSiONBgj",
        "colab_type": "text"
      },
      "source": [
        "## Tokenisation"
      ]
    },
    {
      "cell_type": "markdown",
      "metadata": {
        "id": "kNgZ2SghNBgk",
        "colab_type": "text"
      },
      "source": [
        "Taking a text or set of text and breaking it up into smaller tokens, this could be a sentence,  bigram (n-grams), word, character etc. A token is a single entity.\n",
        "\n",
        "There are different methods to tokenise text:\n",
        "\n",
        "https://www.nltk.org/api/nltk.tokenize.html"
      ]
    },
    {
      "cell_type": "markdown",
      "metadata": {
        "id": "PB1stvRDNBgl",
        "colab_type": "text"
      },
      "source": [
        "### Sentence Tokeniser\n",
        "Split a multi-sentence long string into a list of substrings, where each substring is one sentence"
      ]
    },
    {
      "cell_type": "code",
      "metadata": {
        "ExecuteTime": {
          "end_time": "2020-06-06T18:48:18.103352Z",
          "start_time": "2020-06-06T18:48:18.098808Z"
        },
        "id": "jBQlLXoTNBgl",
        "colab_type": "code",
        "colab": {},
        "outputId": "f5c21024-2fbc-486e-9669-9e5720bcbb3f",
        "tags": []
      },
      "source": [
        "text=\"\"\"'Welcome Mr. Smith' she said. 'I had not heard that folk of the Shire were so sweet-tongued. \n",
        "But I see that you are an Elf-friend; the light in your eyes and the ring in your voice tells it. \n",
        "This is a merry meeting! Sit now, and wait for the Master of the house! He will not be long. \n",
        "He is tending your tired beasts.'\"\"\"\n",
        "\n",
        "#excerpt taken from Lord of the Rings\n",
        "tokenized_text = sent_tokenize(text)\n",
        "for i in tokenized_text:\n",
        "    print(i)"
      ],
      "execution_count": 14,
      "outputs": [
        {
          "output_type": "stream",
          "name": "stdout",
          "text": "'Welcome Mr. Smith' she said.\n'I had not heard that folk of the Shire were so sweet-tongued.\nBut I see that you are an Elf-friend; the light in your eyes and the ring in your voice tells it.\nThis is a merry meeting!\nSit now, and wait for the Master of the house!\nHe will not be long.\nHe is tending your tired beasts.'\n"
        }
      ]
    },
    {
      "cell_type": "code",
      "execution_count": 16,
      "metadata": {},
      "outputs": [
        {
          "output_type": "execute_result",
          "data": {
            "text/plain": "[\"'Welcome Mr. Smith' she said.\",\n \"'I had not heard that folk of the Shire were so sweet-tongued.\",\n 'But I see that you are an Elf-friend; the light in your eyes and the ring in your voice tells it.',\n 'This is a merry meeting!',\n 'Sit now, and wait for the Master of the house!',\n 'He will not be long.',\n \"He is tending your tired beasts.'\"]"
          },
          "metadata": {},
          "execution_count": 16
        }
      ],
      "source": [
        "tokenized_text"
      ]
    },
    {
      "cell_type": "markdown",
      "metadata": {
        "id": "9Zd2a5ygNBgo",
        "colab_type": "text"
      },
      "source": [
        "### Word Tokeniser\n",
        "Split a string into a list such that each element is a word (or a punctuation)"
      ]
    },
    {
      "cell_type": "code",
      "metadata": {
        "ExecuteTime": {
          "end_time": "2020-06-06T18:48:20.843526Z",
          "start_time": "2020-06-06T18:48:20.836979Z"
        },
        "id": "Rmj6iSeDNBgo",
        "colab_type": "code",
        "colab": {},
        "outputId": "f6601d50-4753-4e26-cb8d-d911853d61c6",
        "tags": []
      },
      "source": [
        "tokenized_words = word_tokenize(text)\n",
        "for i in tokenized_words:\n",
        "    print(i)"
      ],
      "execution_count": 23,
      "outputs": [
        {
          "output_type": "stream",
          "name": "stdout",
          "text": "'Welcome\nMr.\nSmith\n'\nshe\nsaid\n.\n'\nI\nhad\nnot\nheard\nthat\nfolk\nof\nthe\nShire\nwere\nso\nsweet-tongued\n.\nBut\nI\nsee\nthat\nyou\nare\nan\nElf-friend\n;\nthe\nlight\nin\nyour\neyes\nand\nthe\nring\nin\nyour\nvoice\ntells\nit\n.\nThis\nis\na\nmerry\nmeeting\n!\nSit\nnow\n,\nand\nwait\nfor\nthe\nMaster\nof\nthe\nhouse\n!\nHe\nwill\nnot\nbe\nlong\n.\nHe\nis\ntending\nyour\ntired\nbeasts\n.\n'\n"
        }
      ]
    },
    {
      "cell_type": "code",
      "execution_count": null,
      "metadata": {},
      "outputs": [],
      "source": [
        "#!pip install wikipedia\n",
        "import wikipedia as wiki\n",
        "shopee = wiki.summary('Shopee')\n",
        "shopee_tok = word_tokenize(shopee)"
      ]
    },
    {
      "cell_type": "markdown",
      "metadata": {
        "id": "j9ht_PIlNBgt",
        "colab_type": "text"
      },
      "source": [
        "### Tweet Tokeniser\n",
        "Recognize emojis and arrows and mentions and hashtags (instead of all just punctuation)"
      ]
    },
    {
      "cell_type": "code",
      "metadata": {
        "id": "x-btvhG8NBgu",
        "colab_type": "code",
        "colab": {},
        "outputId": "f7508a88-e309-4e29-9e2c-6e8d5b2da8e3",
        "tags": []
      },
      "source": [
        "tokeniser = TweetTokenizer()\n",
        "tweet = \"This is a cooool #hashtag1 @someone #dummysmiley: :) :-) :-P <3 and some arrows < > -> <--\"\n",
        "tokenized_tweet = tokeniser.tokenize(tweet)\n",
        "for i in tokenized_tweet:\n",
        "    print(i)"
      ],
      "execution_count": 18,
      "outputs": [
        {
          "output_type": "stream",
          "name": "stdout",
          "text": "This\nis\na\ncooool\n#hashtag1\n@someone\n#dummysmiley\n:\n:)\n:-)\n:-P\n<3\nand\nsome\narrows\n<\n>\n->\n<--\n"
        }
      ]
    },
    {
      "cell_type": "code",
      "metadata": {
        "id": "d6sHWYRQNBgw",
        "colab_type": "code",
        "colab": {},
        "outputId": "95b61710-5558-4ffc-b8be-0a2de5df1dcd",
        "tags": []
      },
      "source": [
        "# versus word_tokenize() will just be punctuation\n",
        "tokenized_tweet_v2 = word_tokenize(tweet)\n",
        "for i in tokenized_tweet_v2:\n",
        "    print(i)"
      ],
      "execution_count": 19,
      "outputs": [
        {
          "output_type": "stream",
          "name": "stdout",
          "text": "This\nis\na\ncooool\n#\nhashtag1\n@\nsomeone\n#\ndummysmiley\n:\n:\n)\n:\n-\n)\n:\n-P\n<\n3\nand\nsome\narrows\n<\n>\n-\n>\n<\n--\n"
        }
      ]
    },
    {
      "cell_type": "markdown",
      "metadata": {
        "id": "W0CDiyEtNBgz",
        "colab_type": "text"
      },
      "source": [
        "# Basic Exploratory Data Analysis (EDA)"
      ]
    },
    {
      "cell_type": "markdown",
      "metadata": {
        "id": "NkVguY9KNBg0",
        "colab_type": "text"
      },
      "source": [
        "### Frequency Distribution\n",
        "From nltk, this runs on an array of tokens (created by the tokeniser above)\n",
        "The purpose is to find the frequency of the tokens across the document"
      ]
    },
    {
      "cell_type": "code",
      "metadata": {
        "scrolled": true,
        "id": "xcaayo_mNBg0",
        "colab_type": "code",
        "colab": {},
        "outputId": "f7f0265e-8c94-4f20-8a9a-b5a5981d8edf"
      },
      "source": [
        "len(tokenized_word)"
      ],
      "execution_count": null,
      "outputs": [
        {
          "output_type": "execute_result",
          "data": {
            "text/plain": [
              "76"
            ]
          },
          "metadata": {
            "tags": []
          },
          "execution_count": 84
        }
      ]
    },
    {
      "cell_type": "code",
      "metadata": {
        "id": "BSkkJDe5NBg3",
        "colab_type": "code",
        "colab": {},
        "outputId": "8895dddd-28fc-442c-c478-61d2e87272dc"
      },
      "source": [
        "len(set(tokenized_word))"
      ],
      "execution_count": null,
      "outputs": [
        {
          "output_type": "execute_result",
          "data": {
            "text/plain": [
              "55"
            ]
          },
          "metadata": {
            "tags": []
          },
          "execution_count": 85
        }
      ]
    },
    {
      "cell_type": "code",
      "metadata": {
        "id": "t-m3zVPoNBg6",
        "colab_type": "code",
        "colab": {},
        "outputId": "3d79450b-2dc2-4935-ab55-4e5e3451278c"
      },
      "source": [
        "freqdist = FreqDist(tokenized_word)\n",
        "print(freqdist)"
      ],
      "execution_count": null,
      "outputs": [
        {
          "output_type": "stream",
          "text": [
            "<FreqDist with 55 samples and 76 outcomes>\n"
          ],
          "name": "stdout"
        }
      ]
    },
    {
      "cell_type": "code",
      "metadata": {
        "id": "k5ren8CvNBg9",
        "colab_type": "code",
        "colab": {},
        "outputId": "80fd4410-d56e-4c90-ec0a-76b371f07978"
      },
      "source": [
        "freqdist.keys()"
      ],
      "execution_count": null,
      "outputs": [
        {
          "output_type": "execute_result",
          "data": {
            "text/plain": [
              "dict_keys([\"'Welcome\", 'Mr.', 'Smith', \"'\", 'she', 'said', '.', 'I', 'had', 'not', 'heard', 'that', 'folk', 'of', 'the', 'Shire', 'were', 'so', 'sweet-tongued', 'But', 'see', 'you', 'are', 'an', 'Elf-friend', ';', 'light', 'in', 'your', 'eyes', 'and', 'ring', 'voice', 'tells', 'it', 'This', 'is', 'a', 'merry', 'meeting', '!', 'Sit', 'now', ',', 'wait', 'for', 'Master', 'house', 'He', 'will', 'be', 'long', 'tending', 'tired', 'beasts'])"
            ]
          },
          "metadata": {
            "tags": []
          },
          "execution_count": 87
        }
      ]
    },
    {
      "cell_type": "code",
      "metadata": {
        "id": "YYSfyC79NBhC",
        "colab_type": "code",
        "colab": {},
        "outputId": "bec3bb8b-c674-41be-d73a-40582fe6ca7c"
      },
      "source": [
        "freqdist.values()"
      ],
      "execution_count": null,
      "outputs": [
        {
          "output_type": "execute_result",
          "data": {
            "text/plain": [
              "dict_values([1, 1, 1, 3, 1, 1, 5, 2, 1, 2, 1, 2, 1, 2, 5, 1, 1, 1, 1, 1, 1, 1, 1, 1, 1, 1, 1, 2, 3, 1, 2, 1, 1, 1, 1, 1, 2, 1, 1, 1, 2, 1, 1, 1, 1, 1, 1, 1, 2, 1, 1, 1, 1, 1, 1])"
            ]
          },
          "metadata": {
            "tags": []
          },
          "execution_count": 88
        }
      ]
    },
    {
      "cell_type": "code",
      "metadata": {
        "id": "cugOwjsoNBhF",
        "colab_type": "code",
        "colab": {},
        "outputId": "e0a17ccc-d5b0-4787-a8b7-940a8eee4a3e"
      },
      "source": [
        "freqdist['merry']"
      ],
      "execution_count": null,
      "outputs": [
        {
          "output_type": "execute_result",
          "data": {
            "text/plain": [
              "1"
            ]
          },
          "metadata": {
            "tags": []
          },
          "execution_count": 89
        }
      ]
    },
    {
      "cell_type": "code",
      "metadata": {
        "id": "D0Qt6lUHNBhI",
        "colab_type": "code",
        "colab": {},
        "outputId": "e9735c89-a0d1-4d8e-e5de-af8f66f327b6"
      },
      "source": [
        "freqdist.most_common(10)"
      ],
      "execution_count": null,
      "outputs": [
        {
          "output_type": "execute_result",
          "data": {
            "text/plain": [
              "[('.', 5),\n",
              " ('the', 5),\n",
              " (\"'\", 3),\n",
              " ('your', 3),\n",
              " ('I', 2),\n",
              " ('not', 2),\n",
              " ('that', 2),\n",
              " ('of', 2),\n",
              " ('in', 2),\n",
              " ('and', 2)]"
            ]
          },
          "metadata": {
            "tags": []
          },
          "execution_count": 90
        }
      ]
    },
    {
      "cell_type": "code",
      "metadata": {
        "id": "19xQgv6HNBhK",
        "colab_type": "code",
        "colab": {},
        "outputId": "78bb73e8-2f21-447a-c2a5-503ed2ced0ba"
      },
      "source": [
        "# Frequency Distribution Plot\n",
        "freqdist.plot(30,cumulative=False)\n",
        "plt.show()"
      ],
      "execution_count": null,
      "outputs": [
        {
          "output_type": "display_data",
          "data": {
            "image/png": "[encoded data removed]",
            "text/plain": [
              "<Figure size 720x576 with 1 Axes>"
            ]
          },
          "metadata": {
            "tags": [],
            "needs_background": "light"
          }
        }
      ]
    },
    {
      "cell_type": "markdown",
      "metadata": {
        "id": "AgNT_XrQNBhM",
        "colab_type": "text"
      },
      "source": [
        "## Stopwords"
      ]
    },
    {
      "cell_type": "code",
      "metadata": {
        "scrolled": true,
        "id": "Jk8rNS2lNBhN",
        "colab_type": "code",
        "colab": {},
        "outputId": "e77f696a-5cd7-4bbb-988d-e2cbb787f374",
        "tags": []
      },
      "source": [
        "stop_words = stopwords.words(\"english\")\n",
        "#/Users/laishumin/nltk_data/corpora/stopwords/english\n",
        "\n",
        "print(stop_words)\n",
        "stop_words.append('Retweet')\n",
        "\n",
        "print(stop_words)"
      ],
      "execution_count": 24,
      "outputs": [
        {
          "output_type": "stream",
          "name": "stdout",
          "text": "['i', 'me', 'my', 'myself', 'we', 'our', 'ours', 'ourselves', 'you', \"you're\", \"you've\", \"you'll\", \"you'd\", 'your', 'yours', 'yourself', 'yourselves', 'he', 'him', 'his', 'himself', 'she', \"she's\", 'her', 'hers', 'herself', 'it', \"it's\", 'its', 'itself', 'they', 'them', 'their', 'theirs', 'themselves', 'what', 'which', 'who', 'whom', 'this', 'that', \"that'll\", 'these', 'those', 'am', 'is', 'are', 'was', 'were', 'be', 'been', 'being', 'have', 'has', 'had', 'having', 'do', 'does', 'did', 'doing', 'a', 'an', 'the', 'and', 'but', 'if', 'or', 'because', 'as', 'until', 'while', 'of', 'at', 'by', 'for', 'with', 'about', 'against', 'between', 'into', 'through', 'during', 'before', 'after', 'above', 'below', 'to', 'from', 'up', 'down', 'in', 'out', 'on', 'off', 'over', 'under', 'again', 'further', 'then', 'once', 'here', 'there', 'when', 'where', 'why', 'how', 'all', 'any', 'both', 'each', 'few', 'more', 'most', 'other', 'some', 'such', 'no', 'nor', 'not', 'only', 'own', 'same', 'so', 'than', 'too', 'very', 's', 't', 'can', 'will', 'just', 'don', \"don't\", 'should', \"should've\", 'now', 'd', 'll', 'm', 'o', 're', 've', 'y', 'ain', 'aren', \"aren't\", 'couldn', \"couldn't\", 'didn', \"didn't\", 'doesn', \"doesn't\", 'hadn', \"hadn't\", 'hasn', \"hasn't\", 'haven', \"haven't\", 'isn', \"isn't\", 'ma', 'mightn', \"mightn't\", 'mustn', \"mustn't\", 'needn', \"needn't\", 'shan', \"shan't\", 'shouldn', \"shouldn't\", 'wasn', \"wasn't\", 'weren', \"weren't\", 'won', \"won't\", 'wouldn', \"wouldn't\"]\n['i', 'me', 'my', 'myself', 'we', 'our', 'ours', 'ourselves', 'you', \"you're\", \"you've\", \"you'll\", \"you'd\", 'your', 'yours', 'yourself', 'yourselves', 'he', 'him', 'his', 'himself', 'she', \"she's\", 'her', 'hers', 'herself', 'it', \"it's\", 'its', 'itself', 'they', 'them', 'their', 'theirs', 'themselves', 'what', 'which', 'who', 'whom', 'this', 'that', \"that'll\", 'these', 'those', 'am', 'is', 'are', 'was', 'were', 'be', 'been', 'being', 'have', 'has', 'had', 'having', 'do', 'does', 'did', 'doing', 'a', 'an', 'the', 'and', 'but', 'if', 'or', 'because', 'as', 'until', 'while', 'of', 'at', 'by', 'for', 'with', 'about', 'against', 'between', 'into', 'through', 'during', 'before', 'after', 'above', 'below', 'to', 'from', 'up', 'down', 'in', 'out', 'on', 'off', 'over', 'under', 'again', 'further', 'then', 'once', 'here', 'there', 'when', 'where', 'why', 'how', 'all', 'any', 'both', 'each', 'few', 'more', 'most', 'other', 'some', 'such', 'no', 'nor', 'not', 'only', 'own', 'same', 'so', 'than', 'too', 'very', 's', 't', 'can', 'will', 'just', 'don', \"don't\", 'should', \"should've\", 'now', 'd', 'll', 'm', 'o', 're', 've', 'y', 'ain', 'aren', \"aren't\", 'couldn', \"couldn't\", 'didn', \"didn't\", 'doesn', \"doesn't\", 'hadn', \"hadn't\", 'hasn', \"hasn't\", 'haven', \"haven't\", 'isn', \"isn't\", 'ma', 'mightn', \"mightn't\", 'mustn', \"mustn't\", 'needn', \"needn't\", 'shan', \"shan't\", 'shouldn', \"shouldn't\", 'wasn', \"wasn't\", 'weren', \"weren't\", 'won', \"won't\", 'wouldn', \"wouldn't\", 'Retweet']\n"
        }
      ]
    },
    {
      "cell_type": "code",
      "metadata": {
        "id": "dKp-PV3KNBhP",
        "colab_type": "code",
        "colab": {},
        "outputId": "e2aed211-be24-4595-86f2-e1858053e1e2",
        "tags": []
      },
      "source": [
        "filtered_sent=[]\n",
        "\n",
        "for w in tokenized_words:\n",
        "    if w not in stop_words:\n",
        "        filtered_sent.append(w)\n",
        "        \n",
        "print(\"Tokenized Sentence:\",tokenized_words)\n",
        "print('\\n')\n",
        "print(\"Filterd Sentence:\",filtered_sent)"
      ],
      "execution_count": 25,
      "outputs": [
        {
          "output_type": "stream",
          "name": "stdout",
          "text": "Tokenized Sentence: [\"'Welcome\", 'Mr.', 'Smith', \"'\", 'she', 'said', '.', \"'\", 'I', 'had', 'not', 'heard', 'that', 'folk', 'of', 'the', 'Shire', 'were', 'so', 'sweet-tongued', '.', 'But', 'I', 'see', 'that', 'you', 'are', 'an', 'Elf-friend', ';', 'the', 'light', 'in', 'your', 'eyes', 'and', 'the', 'ring', 'in', 'your', 'voice', 'tells', 'it', '.', 'This', 'is', 'a', 'merry', 'meeting', '!', 'Sit', 'now', ',', 'and', 'wait', 'for', 'the', 'Master', 'of', 'the', 'house', '!', 'He', 'will', 'not', 'be', 'long', '.', 'He', 'is', 'tending', 'your', 'tired', 'beasts', '.', \"'\"]\n\n\nFilterd Sentence: [\"'Welcome\", 'Mr.', 'Smith', \"'\", 'said', '.', \"'\", 'I', 'heard', 'folk', 'Shire', 'sweet-tongued', '.', 'But', 'I', 'see', 'Elf-friend', ';', 'light', 'eyes', 'ring', 'voice', 'tells', '.', 'This', 'merry', 'meeting', '!', 'Sit', ',', 'wait', 'Master', 'house', '!', 'He', 'long', '.', 'He', 'tending', 'tired', 'beasts', '.', \"'\"]\n"
        }
      ]
    },
    {
      "cell_type": "markdown",
      "metadata": {
        "id": "g304Hi4eNBhS",
        "colab_type": "text"
      },
      "source": [
        "## Stemming & Lemmatization"
      ]
    },
    {
      "cell_type": "code",
      "metadata": {
        "id": "FHzP9cgaNBhS",
        "colab_type": "code",
        "colab": {}
      },
      "source": [
        "#Porter Stemmer (simple + speed), fast recall and fetching queries; 5 main rules, step by step, no lookup table, but follows algorithmic rules\n",
        "#snowball stemmers \n",
        "#lancaster stemmer; iterative algorithms, and over stemming may occur;\n",
        "#faster than lemmatization\n",
        "\n",
        "#lemma, detailed dictionaries to link form back to lemma; \n",
        "# needs lookup + pos\n",
        "#language impt, use this, as corpus used to map root forms\n",
        "\n",
        "#applications --> sentiment analysis (text preparation),information retrieval, to map documents to topics"
      ],
      "execution_count": null,
      "outputs": []
    },
    {
      "cell_type": "code",
      "metadata": {
        "ExecuteTime": {
          "end_time": "2020-06-06T19:17:34.285973Z",
          "start_time": "2020-06-06T19:17:32.692035Z"
        },
        "id": "sflZ9ajpNBhV",
        "colab_type": "code",
        "colab": {},
        "outputId": "eb94a55e-ff92-468c-a72b-c2c241a7dbec"
      },
      "source": [
        "#Lexicon Normalization\n",
        "#performing stemming and Lemmatization\n",
        "\n",
        "lem = WordNetLemmatizer()\n",
        "#wordnet database to lookup words, lemma needs to have part of speech provided\n",
        "\n",
        "stem = PorterStemmer()\n",
        "\n",
        "word = \"flying\"\n",
        "print(\"Lemmatized Word:\",lem.lemmatize(word,\"v\"))\n",
        "print(\"Stemmed Word:\",stem.stem(word))"
      ],
      "execution_count": null,
      "outputs": [
        {
          "output_type": "stream",
          "text": [
            "Lemmatized Word: fly\n",
            "Stemmed Word: fli\n"
          ],
          "name": "stdout"
        }
      ]
    },
    {
      "cell_type": "code",
      "metadata": {
        "ExecuteTime": {
          "end_time": "2020-06-06T19:20:33.164977Z",
          "start_time": "2020-06-06T19:20:33.161159Z"
        },
        "id": "KiLgrOGzNBhZ",
        "colab_type": "code",
        "colab": {},
        "outputId": "5dc396d6-7d25-4bae-a8f5-a003a2115cde"
      },
      "source": [
        "print(\"Lemmatized Word:\",lem.lemmatize('better',\"a\"))\n",
        "# default pos = noun\n",
        "# better than stemming? group more words together, better job than stemming\n"
      ],
      "execution_count": null,
      "outputs": [
        {
          "output_type": "stream",
          "text": [
            "Lemmatized Word: good\n"
          ],
          "name": "stdout"
        }
      ]
    },
    {
      "cell_type": "code",
      "metadata": {
        "id": "av-pH_3sNBhc",
        "colab_type": "code",
        "colab": {}
      },
      "source": [
        ""
      ],
      "execution_count": null,
      "outputs": []
    },
    {
      "cell_type": "code",
      "metadata": {
        "id": "uWXsnruSNBhf",
        "colab_type": "code",
        "colab": {},
        "outputId": "9144b2c7-3b3e-45d7-8539-bb48b9e1e645"
      },
      "source": [
        "words = ['application', 'applying', 'applies', 'applied', 'apply', 'apples', 'apple']\n",
        "\n",
        "for i in words:\n",
        "    print(i, '\\n','Stemming:', stem.stem(i), 'Lemmatizing:', lem.lemmatize(i, 'v'))"
      ],
      "execution_count": null,
      "outputs": [
        {
          "output_type": "stream",
          "text": [
            "application \n",
            " Stemming: applic Lemmatizing: application\n",
            "applying \n",
            " Stemming: appli Lemmatizing: apply\n",
            "applies \n",
            " Stemming: appli Lemmatizing: apply\n",
            "applied \n",
            " Stemming: appli Lemmatizing: apply\n",
            "apply \n",
            " Stemming: appli Lemmatizing: apply\n",
            "apples \n",
            " Stemming: appl Lemmatizing: apples\n",
            "apple \n",
            " Stemming: appl Lemmatizing: apple\n"
          ],
          "name": "stdout"
        }
      ]
    },
    {
      "cell_type": "code",
      "metadata": {
        "ExecuteTime": {
          "end_time": "2020-06-06T19:17:35.774646Z",
          "start_time": "2020-06-06T19:17:35.770956Z"
        },
        "id": "Ysu4yMRrNBhp",
        "colab_type": "code",
        "colab": {}
      },
      "source": [
        "word_list = ['python', 'pythoned', 'pythoner', 'pythonly', 'pythoning']"
      ],
      "execution_count": null,
      "outputs": []
    },
    {
      "cell_type": "code",
      "metadata": {
        "ExecuteTime": {
          "end_time": "2020-06-06T19:18:02.953544Z",
          "start_time": "2020-06-06T19:18:02.949711Z"
        },
        "id": "p6z17P0zNBhr",
        "colab_type": "code",
        "colab": {},
        "outputId": "c55a7046-fb99-42c4-892c-03b53ad2dfc2"
      },
      "source": [
        "for i in word_list:\n",
        "    print(stem.stem(i), lem.lemmatize(i))\n"
      ],
      "execution_count": null,
      "outputs": [
        {
          "output_type": "stream",
          "text": [
            "python python\n",
            "python pythoned\n",
            "python pythoner\n",
            "pythonli pythonly\n",
            "python pythoning\n"
          ],
          "name": "stdout"
        }
      ]
    },
    {
      "cell_type": "markdown",
      "metadata": {
        "id": "LFsa4WqtNBhv",
        "colab_type": "text"
      },
      "source": [
        "## Lemmatization with part-of-speech tagging "
      ]
    },
    {
      "cell_type": "code",
      "execution_count": null,
      "metadata": {},
      "outputs": [],
      "source": [
        "sent = \"Albert Einstein was born in Ulm, Germany in 1879.\"\n",
        "tokens = nltk.word_tokenize(sent)\n",
        "print(tokens)"
      ]
    },
    {
      "cell_type": "code",
      "execution_count": null,
      "metadata": {},
      "outputs": [],
      "source": [
        "nltk.pos_tag(tokens)"
      ]
    },
    {
      "cell_type": "code",
      "execution_count": null,
      "metadata": {},
      "outputs": [],
      "source": [
        "nltk.help.upenn_tagset('PRP$') # understand the meaning of a certain tag"
      ]
    },
    {
      "cell_type": "markdown",
      "metadata": {},
      "source": [
        "Why should we use pos_tag before lemmatization? See example below:"
      ]
    },
    {
      "cell_type": "code",
      "execution_count": 19,
      "metadata": {
        "tags": []
      },
      "outputs": [
        {
          "output_type": "stream",
          "name": "stdout",
          "text": "The bat be hang on their foot \nThe bat are hanging on their foot"
        }
      ],
      "source": [
        "from nltk.stem.wordnet import WordNetLemmatizer\n",
        "from nltk import pos_tag\n",
        "from nltk import word_tokenize\n",
        "\n",
        "lemmatizer = WordNetLemmatizer()\n",
        "tokenized = word_tokenize(\"The bats are hanging on their feet\")\n",
        "for word, pos in pos_tag(tokenized):\n",
        "    if pos[0].lower() in ['n', 'v']:  # if the first letter of the tag indicates noun, verb (i.e. part-of-speech tagging)\n",
        "        print(lemmatizer.lemmatize(word, pos[0].lower()), end = \" \")\n",
        "    else:\n",
        "        print(lemmatizer.lemmatize(word), end = \" \")\n",
        "print()\n",
        "for word in tokenized:  \n",
        "    print(lemmatizer.lemmatize(word), end = \" \") # hanging and are did not change to root form"
      ]
    },
    {
      "cell_type": "markdown",
      "metadata": {},
      "source": [
        "Trying with pandas series"
      ]
    },
    {
      "cell_type": "code",
      "execution_count": 26,
      "metadata": {},
      "outputs": [],
      "source": [
        "import pandas as pd\n",
        "game_df = pd.read_csv(\"~/Downloads/vgsales.csv\").head() \n",
        "# or \"/Users/phoebezhouhuixin/Downloads/vgsales.csv\""
      ]
    },
    {
      "cell_type": "code",
      "execution_count": 27,
      "metadata": {
        "tags": []
      },
      "outputs": [
        {
          "output_type": "stream",
          "name": "stdout",
          "text": "<class 'pandas.core.frame.DataFrame'>\nRangeIndex: 5 entries, 0 to 4\nData columns (total 11 columns):\n #   Column        Non-Null Count  Dtype  \n---  ------        --------------  -----  \n 0   Rank          5 non-null      int64  \n 1   Name          5 non-null      object \n 2   Platform      5 non-null      object \n 3   Year          5 non-null      float64\n 4   Genre         5 non-null      object \n 5   Publisher     5 non-null      object \n 6   NA_Sales      5 non-null      float64\n 7   EU_Sales      5 non-null      float64\n 8   JP_Sales      5 non-null      float64\n 9   Other_Sales   5 non-null      float64\n 10  Global_Sales  5 non-null      float64\ndtypes: float64(6), int64(1), object(4)\nmemory usage: 568.0+ bytes\n"
        }
      ],
      "source": [
        "game_df.info()"
      ]
    },
    {
      "cell_type": "code",
      "execution_count": null,
      "metadata": {},
      "outputs": [],
      "source": [
        "def lemmatize(word):\n",
        "    tagged_word_list = pos_tag([word])\n",
        "    tokenstr, tag = tagged_word_list[0][0], tagged_word_list[0][1]\n",
        "    if tag[0].lower() in ['n', 'v']:  # if noun/verb\n",
        "        return lemmatizer.lemmatize(tokenstr, tag[0].lower()) # returns the root word string\n",
        "    else:\n",
        "        return lemmatizer.lemmatize(tokenstr) # returns the root word string\n",
        "# series.apply(lambda x: [lemmatize(word) for word in x])"
      ]
    },
    {
      "cell_type": "code",
      "execution_count": null,
      "metadata": {},
      "outputs": [],
      "source": [
        "df[\"Name\"] = df[\"Name\"] .str.apply"
      ]
    },
    {
      "cell_type": "markdown",
      "metadata": {},
      "source": [
        "## Named entity recognition"
      ]
    },
    {
      "cell_type": "markdown",
      "metadata": {},
      "source": []
    },
    {
      "cell_type": "code",
      "metadata": {
        "ExecuteTime": {
          "end_time": "2020-06-06T19:06:47.670680Z",
          "start_time": "2020-06-06T19:06:47.517854Z"
        },
        "id": "gdS292T6NBiX",
        "colab_type": "code",
        "colab": {}
      },
      "source": [
        "namedEnt = nltk.ne_chunk(nltk.pos_tag(shopee_tok))\n",
        "namedEnt.draw()"
      ],
      "execution_count": null,
      "outputs": []
    },
    {
      "cell_type": "markdown",
      "metadata": {
        "id": "lc18_7ZNNBij",
        "colab_type": "text"
      },
      "source": [
        "# Sentiment Analysis - Scikit Learn"
      ]
    },
    {
      "cell_type": "markdown",
      "metadata": {
        "id": "kaiUuUEkNBik",
        "colab_type": "text"
      },
      "source": [
        "Data Source: https://www.kaggle.com/c/sentiment-analysis-on-movie-reviews\n",
        "\n",
        "\n",
        "The dataset is comprised of tab-separated files with phrases from the Rotten Tomatoes dataset. The train/test split has been preserved for the purposes of benchmarking, but the sentences have been shuffled from their original order. Each Sentence has been parsed into many phrases by the Stanford parser. Each phrase has a PhraseId. Each sentence has a SentenceId. Phrases that are repeated (such as short/common words) are only included once in the data.\n",
        "\n",
        "train.tsv contains the phrases and their associated sentiment labels. We have additionally provided a SentenceId so that you can track which phrases belong to a single sentence.\n",
        "test.tsv contains just phrases. You must assign a sentiment label to each phrase.\n",
        "The sentiment labels are:\n",
        "\n",
        "0 - negative\n",
        "1 - somewhat negative\n",
        "2 - neutral\n",
        "3 - somewhat positive\n",
        "4 - positive"
      ]
    },
    {
      "cell_type": "code",
      "metadata": {
        "id": "VcG7YZ-YNBik",
        "colab_type": "code",
        "colab": {}
      },
      "source": [
        "df = pd.read_csv('train.tsv', sep='\\t')"
      ],
      "execution_count": null,
      "outputs": []
    },
    {
      "cell_type": "code",
      "metadata": {
        "id": "SZjv2nGANBim",
        "colab_type": "code",
        "colab": {}
      },
      "source": [
        "df.shape"
      ],
      "execution_count": null,
      "outputs": []
    },
    {
      "cell_type": "code",
      "metadata": {
        "id": "3YgcUZtRNBip",
        "colab_type": "code",
        "colab": {}
      },
      "source": [
        "df.info()"
      ],
      "execution_count": null,
      "outputs": []
    },
    {
      "cell_type": "code",
      "metadata": {
        "id": "Kp7g0hkzNBir",
        "colab_type": "code",
        "colab": {}
      },
      "source": [
        "df"
      ],
      "execution_count": null,
      "outputs": []
    },
    {
      "cell_type": "code",
      "metadata": {
        "id": "o_QLYiyoNBi1",
        "colab_type": "code",
        "colab": {}
      },
      "source": [
        "df['Phrase']"
      ],
      "execution_count": null,
      "outputs": []
    },
    {
      "cell_type": "markdown",
      "metadata": {
        "id": "qjXnAwTKNBi3",
        "colab_type": "text"
      },
      "source": [
        "As was mentioned in the original competition description, there are no individual movie reviews but rather phrases taken out of context and split into smaller parts, each with an assigned sentiment category. The competition is evaluated based on scoring results of each test phrase, so the context of the whole review does not matter here. "
      ]
    },
    {
      "cell_type": "code",
      "metadata": {
        "id": "mdqjjl6VNBi3",
        "colab_type": "code",
        "colab": {}
      },
      "source": [
        "df['Sentiment'].describe()"
      ],
      "execution_count": null,
      "outputs": []
    },
    {
      "cell_type": "code",
      "metadata": {
        "id": "7CKBik4KNBjA",
        "colab_type": "code",
        "colab": {}
      },
      "source": [
        "df.Sentiment.value_counts()"
      ],
      "execution_count": null,
      "outputs": []
    },
    {
      "cell_type": "code",
      "metadata": {
        "id": "YHgrtkbsNBjE",
        "colab_type": "code",
        "colab": {}
      },
      "source": [
        "Sentiment_count = df.groupby('Sentiment').count()\n",
        "\n",
        "plt.bar(Sentiment_count.index.values, Sentiment_count['Phrase'])\n",
        "plt.xlabel('Review Sentiments')\n",
        "plt.ylabel('Number of Review')\n",
        "plt.show()"
      ],
      "execution_count": null,
      "outputs": []
    },
    {
      "cell_type": "markdown",
      "metadata": {
        "id": "NyDMzmAeNBjI",
        "colab_type": "text"
      },
      "source": [
        "## Count Vectorizer"
      ]
    },
    {
      "cell_type": "code",
      "metadata": {
        "id": "ItaPBBCRNBjI",
        "colab_type": "code",
        "colab": {}
      },
      "source": [
        "#tokenizer to remove unwanted elements from out data like symbols and numbers\n",
        "token = RegexpTokenizer(r'[a-zA-Z0-9]+')\n",
        "\n",
        "cv = CountVectorizer(lowercase=True, stop_words='english', ngram_range = (1,1), tokenizer = token.tokenize)\n",
        "\n",
        "text_counts= cv.fit_transform(df['Phrase'])"
      ],
      "execution_count": null,
      "outputs": []
    },
    {
      "cell_type": "code",
      "metadata": {
        "id": "Kes5UZ-BNBjK",
        "colab_type": "code",
        "colab": {}
      },
      "source": [
        "df.shape"
      ],
      "execution_count": null,
      "outputs": []
    },
    {
      "cell_type": "code",
      "metadata": {
        "id": "hzAH-2ruNBjM",
        "colab_type": "code",
        "colab": {}
      },
      "source": [
        "print(text_counts)"
      ],
      "execution_count": null,
      "outputs": []
    },
    {
      "cell_type": "code",
      "metadata": {
        "id": "KMzJs8rcNBjR",
        "colab_type": "code",
        "colab": {}
      },
      "source": [
        "X_train, X_test, y_train, y_test = train_test_split(text_counts, df['Sentiment'], test_size=0.3, random_state=1)"
      ],
      "execution_count": null,
      "outputs": []
    },
    {
      "cell_type": "code",
      "metadata": {
        "id": "HN2QXhjLNBjT",
        "colab_type": "code",
        "colab": {}
      },
      "source": [
        "# Model Generation Using Multinomial Naive Bayes\n",
        "clf = MultinomialNB().fit(X_train, y_train)\n",
        "predicted = clf.predict(X_test)\n",
        "\n",
        "print(\"MultinomialNB Accuracy:\",metrics.accuracy_score(y_test, predicted))"
      ],
      "execution_count": null,
      "outputs": []
    },
    {
      "cell_type": "markdown",
      "metadata": {
        "id": "0FlGTaYGNBjW",
        "colab_type": "text"
      },
      "source": [
        "## TFIDF Vectorizer"
      ]
    },
    {
      "cell_type": "code",
      "metadata": {
        "id": "oP1wNRa6NBjX",
        "colab_type": "code",
        "colab": {}
      },
      "source": [
        "tf = TfidfVectorizer()\n",
        "\n",
        "text_tf = tf.fit_transform(df['Phrase'])"
      ],
      "execution_count": null,
      "outputs": []
    },
    {
      "cell_type": "code",
      "metadata": {
        "id": "C9f_K3oqNBja",
        "colab_type": "code",
        "colab": {}
      },
      "source": [
        "print(text_tf)"
      ],
      "execution_count": null,
      "outputs": []
    },
    {
      "cell_type": "code",
      "metadata": {
        "id": "XeldTtyINBjc",
        "colab_type": "code",
        "colab": {}
      },
      "source": [
        "X_train, X_test, y_train, y_test = train_test_split(text_tf, df['Sentiment'], test_size=0.3, random_state=123)"
      ],
      "execution_count": null,
      "outputs": []
    },
    {
      "cell_type": "code",
      "metadata": {
        "id": "euLSBwgMNBje",
        "colab_type": "code",
        "colab": {}
      },
      "source": [
        "# Model Generation Using Multinomial Naive Bayes\n",
        "clf = MultinomialNB().fit(X_train, y_train)\n",
        "predicted= clf.predict(X_test)\n",
        "\n",
        "print(\"MultinomialNB Accuracy:\",metrics.accuracy_score(y_test, predicted))"
      ],
      "execution_count": null,
      "outputs": []
    },
    {
      "cell_type": "code",
      "metadata": {
        "id": "k6tiF6saNBjh",
        "colab_type": "code",
        "colab": {}
      },
      "source": [
        ""
      ],
      "execution_count": null,
      "outputs": []
    },
    {
      "cell_type": "markdown",
      "metadata": {
        "id": "czXH8kMVNBjk",
        "colab_type": "text"
      },
      "source": [
        "## *Sentiment Analysis - Textblob"
      ]
    },
    {
      "cell_type": "markdown",
      "metadata": {
        "id": "m0PpnLE-NBjl",
        "colab_type": "text"
      },
      "source": [
        "\n",
        "\n",
        "1. **TextBlob Module:** Linguistic researchers have labeled the sentiment of words based on their domain expertise. Sentiment of words can vary based on where it is in a sentence. The TextBlob module allows us to take advantage of these labels.\n",
        "2. **Sentiment Labels:** Each word in a corpus is labeled in terms of polarity and subjectivity (there are more labels as well, but we're going to ignore them for now). A corpus' sentiment is the average of these.\n",
        "   * **Polarity**: How positive or negative a word is. -1 is very negative. +1 is very positive.\n",
        "   * **Subjectivity**: How subjective, or opinionated a word is. 0 is fact. +1 is very much an opinion.\n",
        "\n",
        "For more info on how TextBlob coded up its [sentiment function](https://planspace.org/20150607-textblob_sentiment/).\n",
        "\n",
        "Let's take a look at the sentiment of the various transcripts, both overall and throughout the comedy routine."
      ]
    },
    {
      "cell_type": "code",
      "metadata": {
        "ExecuteTime": {
          "end_time": "2020-06-06T14:45:00.569678Z",
          "start_time": "2020-06-06T14:44:59.920420Z"
        },
        "id": "KPzeBNlGNBjl",
        "colab_type": "code",
        "colab": {}
      },
      "source": [
        "#!pip install textblob\n",
        "from textblob import TextBlob\n",
        "from bs4 import BeautifulSoup\n",
        "import requests\n",
        "import matplotlib.pyplot as plt\n",
        "import pandas as pd"
      ],
      "execution_count": null,
      "outputs": []
    },
    {
      "cell_type": "code",
      "metadata": {
        "id": "i4sAE-cKNBjn",
        "colab_type": "code",
        "colab": {}
      },
      "source": [
        " TextBlob('the weather today is bad :)').sentiment"
      ],
      "execution_count": null,
      "outputs": []
    },
    {
      "cell_type": "code",
      "metadata": {
        "id": "lRuXM_8cNBjp",
        "colab_type": "code",
        "colab": {}
      },
      "source": [
        " TextBlob('the weather today is bad :(').sentiment"
      ],
      "execution_count": null,
      "outputs": []
    },
    {
      "cell_type": "code",
      "metadata": {
        "id": "NmwY8hKDNBjr",
        "colab_type": "code",
        "colab": {}
      },
      "source": [
        " TextBlob('the weather is good').sentiment"
      ],
      "execution_count": null,
      "outputs": []
    },
    {
      "cell_type": "code",
      "metadata": {
        "id": "YG4FuuxENBjv",
        "colab_type": "code",
        "colab": {}
      },
      "source": [
        " TextBlob('it rained today').sentiment"
      ],
      "execution_count": null,
      "outputs": []
    },
    {
      "cell_type": "markdown",
      "metadata": {
        "id": "B8qFptokNBjw",
        "colab_type": "text"
      },
      "source": [
        "### Sentiment Analysis on Music Lyrics"
      ]
    },
    {
      "cell_type": "code",
      "metadata": {
        "ExecuteTime": {
          "end_time": "2020-06-06T14:44:50.256142Z",
          "start_time": "2020-06-06T14:44:17.077315Z"
        },
        "id": "HMGJQfMKNBjw",
        "colab_type": "code",
        "colab": {}
      },
      "source": [
        "def scrape_lyrics(url):\n",
        "    page = requests.get(url)\n",
        "    html = BeautifulSoup(page.text, \"html.parser\")\n",
        "    lyrics = html.find(\"pre\", class_=\"lyric-body\").get_text()\n",
        "    print(url)\n",
        "    #print(lyrics)\n",
        "    return lyrics.replace(\"\\n\",\" \")\n",
        "\n",
        "\n",
        "links = ['https://www.lyrics.com/lyric/36863481/Justin+Bieber/Yummy',\n",
        "     'https://www.lyrics.com/lyric/35362456/Ed+Sheeran/Castle+on+the+Hill',\n",
        "     'https://www.lyrics.com/lyric/35342586/Taylor+Swift/22',\n",
        "     'https://www.lyrics.com/lyric/36147543/Kygo/Happy+Now',\n",
        "     'https://www.lyrics.com/sublyric/58125/Lauv/Superhero',\n",
        "     'https://www.lyrics.com/lyric/30514737/Fix+You',\n",
        "     'https://www.lyrics.com/lyric/32981724/One+Direction/Perfect',\n",
        "     'https://www.lyrics.com/lyric/36489666/Bahari/Crashing',\n",
        "     'https://www.lyrics.com/lyric/33787626/ROZES/Matches',\n",
        "     'https://www.lyrics.com/lyric/36341880/Maroon+5/She+Will+Be+Loved',\n",
        "     'https://www.lyrics.com/lyric/25306933/Queen/Dont+Stop+Me+Now',\n",
        "     'https://www.lyrics.com/lyric/31781320/Eric+Clapton/Tears+In+Heaven']\n",
        "\n",
        "\n",
        "lyrics = [scrape_lyrics(link) for link in links]\n",
        "\n",
        "artists = ['JustinBieber', 'EdSheeran', 'TaylorSwift', 'Kygo', 'Lauv', 'Coldplay', 'OneDirection','Bahari','Rozes','Maroon5', 'Queen', 'EricClapton']\n",
        "\n",
        "#fun fact: queen dont stop me now is apparently the happiest song, and eric clapton is supposedly a sad song\n",
        "# https://www.indy100.com/article/dont-stop-me-now-is-the-happiest-song-in-the-world-according-to-a-neuroscientist-7318321\n",
        "#but there's more to the what affects the sentiment of the song, not just the lyrics, e.g. tempo"
      ],
      "execution_count": null,
      "outputs": []
    },
    {
      "cell_type": "code",
      "metadata": {
        "ExecuteTime": {
          "end_time": "2020-06-06T14:46:37.336217Z",
          "start_time": "2020-06-06T14:46:37.104772Z"
        },
        "id": "1RZnd9xWNBjy",
        "colab_type": "code",
        "colab": {}
      },
      "source": [
        "df = pd.DataFrame({'Lyrics':lyrics}, index=artists)\n",
        "\n",
        "pol = lambda x: TextBlob(x).sentiment.polarity\n",
        "sub = lambda x: TextBlob(x).sentiment.subjectivity\n",
        "df['polarity'] = df['Lyrics'].apply(pol)\n",
        "df['subjectivity'] = df['Lyrics'].apply(sub)\n",
        "\n",
        "plt.rcParams['figure.figsize'] = [10, 8]\n",
        "\n",
        "for artist in df.index:\n",
        "    x = df.polarity.loc[artist]\n",
        "    y = df.subjectivity.loc[artist]\n",
        "    plt.scatter(x, y, color='green')\n",
        "    plt.text(x+.001, y+.001, artist, fontsize=10)\n",
        "    plt.xlim(-.7, .7) \n",
        "    plt.ylim(0,1) \n",
        "    \n",
        "plt.title('Sentiment Analysis', fontsize=20)\n",
        "plt.xlabel('<-- Negative ---------- Positive -->', fontsize=15)\n",
        "plt.ylabel('<-- Facts -------- Opinions -->', fontsize=15)\n",
        "\n",
        "plt.show()"
      ],
      "execution_count": null,
      "outputs": []
    },
    {
      "cell_type": "markdown",
      "metadata": {
        "id": "t0Q0NNNDNBj0",
        "colab_type": "text"
      },
      "source": [
        "# Natural Language Generation"
      ]
    },
    {
      "cell_type": "code",
      "metadata": {
        "ExecuteTime": {
          "end_time": "2020-06-06T15:20:05.272076Z",
          "start_time": "2020-06-06T15:20:01.349398Z"
        },
        "id": "xORvoUlANBj0",
        "colab_type": "code",
        "colab": {}
      },
      "source": [
        "import pandas as pd\n",
        "import markovify \n",
        "import ipywidgets as widgets\n",
        "from transformers import pipeline"
      ],
      "execution_count": null,
      "outputs": []
    },
    {
      "cell_type": "markdown",
      "metadata": {
        "id": "yvRAZst7NBj2",
        "colab_type": "text"
      },
      "source": [
        "## Markov Chains"
      ]
    },
    {
      "cell_type": "code",
      "metadata": {
        "ExecuteTime": {
          "end_time": "2020-06-06T15:10:39.454538Z",
          "start_time": "2020-06-06T15:10:30.282305Z"
        },
        "id": "-OV3gjjKNBj3",
        "colab_type": "code",
        "colab": {}
      },
      "source": [
        "#!pip install markovify"
      ],
      "execution_count": null,
      "outputs": []
    },
    {
      "cell_type": "code",
      "metadata": {
        "ExecuteTime": {
          "end_time": "2020-06-06T15:10:51.679026Z",
          "start_time": "2020-06-06T15:10:51.668789Z"
        },
        "id": "CJ0pDweiNBkB",
        "colab_type": "code",
        "colab": {}
      },
      "source": [
        "import pandas as pd\n",
        "import markovify \n"
      ],
      "execution_count": null,
      "outputs": []
    },
    {
      "cell_type": "code",
      "metadata": {
        "ExecuteTime": {
          "end_time": "2020-06-06T15:10:55.736510Z",
          "start_time": "2020-06-06T15:10:55.697323Z"
        },
        "id": "FaR6ICyENBkD",
        "colab_type": "code",
        "colab": {}
      },
      "source": [
        "df_news_headlines = pd.read_csv('abcnews-date-text.csv')\n",
        "df_news_headlines.head()"
      ],
      "execution_count": null,
      "outputs": []
    },
    {
      "cell_type": "code",
      "metadata": {
        "id": "ruDhlEs2NBkG",
        "colab_type": "code",
        "colab": {}
      },
      "source": [
        "text_model = markovify.NewlineText(df_news_headlines.headline_text, state_size = 2)"
      ],
      "execution_count": null,
      "outputs": []
    },
    {
      "cell_type": "code",
      "metadata": {
        "ExecuteTime": {
          "end_time": "2020-06-06T15:18:12.880781Z",
          "start_time": "2020-06-06T15:18:12.862721Z"
        },
        "id": "PZFnCpZnNBkH",
        "colab_type": "code",
        "colab": {}
      },
      "source": [
        "# Print ten randomly-generated sentences using the built model\n",
        "for i in range(10):\n",
        "    print(text_model.make_sentence())"
      ],
      "execution_count": null,
      "outputs": []
    },
    {
      "cell_type": "code",
      "metadata": {
        "ExecuteTime": {
          "end_time": "2020-06-06T15:18:37.071873Z",
          "start_time": "2020-06-06T15:18:37.058490Z"
        },
        "id": "l6LrocTgNBkI",
        "colab_type": "code",
        "colab": {}
      },
      "source": [
        "for i in range(10):\n",
        "    print(text_model.make_short_sentence(1000))"
      ],
      "execution_count": null,
      "outputs": []
    },
    {
      "cell_type": "code",
      "metadata": {
        "id": "UabfGi-iNBkK",
        "colab_type": "code",
        "colab": {}
      },
      "source": [
        ""
      ],
      "execution_count": null,
      "outputs": []
    },
    {
      "cell_type": "markdown",
      "metadata": {
        "id": "GU4TOBlrNBkO",
        "colab_type": "text"
      },
      "source": [
        "# References and other links"
      ]
    },
    {
      "cell_type": "markdown",
      "metadata": {
        "id": "1zsUJ8XrNBkO",
        "colab_type": "text"
      },
      "source": [
        "1. https://www.nltk.org/index.html\n",
        "2. https://github.com/adashofdata\n",
        "3. https://github.com/adashofdata/nlp-in-python-tutorial\n",
        "4. https://github.com/jsvine/markovify\n",
        "5. https://www.twilio.com/blog/2016/09/fun-with-markov-chains-python-and-twilio-sms.html\n",
        "6. https://github.com/huggingface\n",
        "7. http://jalammar.github.io/illustrated-transformer/\n",
        "8. https://papers.nips.cc/paper/7181-attention-is-all-you-need.pdf\n",
        "9. https://www.ling.upenn.edu/courses/Fall_2003/ling001/penn_treebank_pos.html\n",
        "10. https://mccormickml.com/2019/07/22/BERT-fine-tuning/\n",
        "11. https://huggingface.co/transformers/pretrained_models.html\n",
        "12. https://huggingface.co/transformers/usage.html\n",
        "13. https://scikit-learn.org/stable/auto_examples/classification/plot_classifier_comparison.html"
      ]
    },
    {
      "cell_type": "code",
      "metadata": {
        "id": "rq6LHD18NBkO",
        "colab_type": "code",
        "colab": {}
      },
      "source": [
        ""
      ],
      "execution_count": null,
      "outputs": []
    }
  ],
  "metadata": {
    "kernelspec": {
      "display_name": "Python 3",
      "language": "python",
      "name": "python3"
    },
    "language_info": {
      "codemirror_mode": {
        "name": "ipython",
        "version": 3
      },
      "file_extension": ".py",
      "mimetype": "text/x-python",
      "name": "python",
      "nbconvert_exporter": "python",
      "pygments_lexer": "ipython3",
      "version": "3.7.6-final"
    },
    "toc": {
      "base_numbering": 1,
      "nav_menu": {},
      "number_sections": true,
      "sideBar": true,
      "skip_h1_title": false,
      "title_cell": "Table of Contents",
      "title_sidebar": "Contents",
      "toc_cell": false,
      "toc_position": {},
      "toc_section_display": true,
      "toc_window_display": false
    },
    "colab": {
      "name": "Copy of NLU - Final.ipynb",
      "provenance": [],
      "collapsed_sections": [
        "9Zd2a5ygNBgo",
        "j9ht_PIlNBgt",
        "NkVguY9KNBg0",
        "AgNT_XrQNBhM",
        "g304Hi4eNBhS",
        "LFsa4WqtNBhv",
        "juXR81OQNBiV",
        "NyDMzmAeNBjI",
        "0FlGTaYGNBjW",
        "czXH8kMVNBjk",
        "B8qFptokNBjw",
        "yvRAZst7NBj2"
      ],
      "toc_visible": true
    }
  },
  "nbformat": 4,
  "nbformat_minor": 0
}